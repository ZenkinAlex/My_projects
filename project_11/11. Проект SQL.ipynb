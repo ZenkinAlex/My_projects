{
 "cells": [
  {
   "cell_type": "markdown",
   "metadata": {},
   "source": [
    "#### Подгрузка  данных"
   ]
  },
  {
   "cell_type": "code",
   "execution_count": null,
   "metadata": {},
   "outputs": [],
   "source": [
    "# импортируем библиотеки\n",
    "import pandas as pd\n",
    "from sqlalchemy import text, create_engine\n",
    "\n",
    "# устанавливаем параметры\n",
    "db_config = {'user': 'praktikum_student', # имя пользователя\n",
    "'pwd': 'Sdf4$2;d-d30pp', # пароль\n",
    "'host': 'rc1b-wcoijxj3yxfsf3fs.mdb.yandexcloud.net',\n",
    "'port': 6432, # порт подключения\n",
    "'db': 'data-analyst-final-project-db'} # название базы данных\n",
    "connection_string = 'postgresql://{user}:{pwd}@{host}:{port}/{db}'.format(**db_config)\n",
    "\n",
    "# сохраняем коннектор\n",
    "engine = create_engine(connection_string, connect_args={'sslmode':'require'})\n",
    "\n",
    "# чтобы выполнить SQL-запрос, используем Pandas"
   ]
  },
  {
   "cell_type": "code",
   "execution_count": 15,
   "metadata": {},
   "outputs": [],
   "source": [
    "datasets = ['books','authors', 'publishers', 'ratings', 'reviews']\n",
    "def head_5 (df):\n",
    "    \n",
    "    query = '''SELECT * FROM {} LIMIT 5'''.format(df)\n",
    "    df = pd.io.sql.read_sql(query, con = engine)\n",
    "    display (df)"
   ]
  },
  {
   "cell_type": "code",
   "execution_count": 16,
   "metadata": {},
   "outputs": [
    {
     "data": {
      "text/html": [
       "<div>\n",
       "<style scoped>\n",
       "    .dataframe tbody tr th:only-of-type {\n",
       "        vertical-align: middle;\n",
       "    }\n",
       "\n",
       "    .dataframe tbody tr th {\n",
       "        vertical-align: top;\n",
       "    }\n",
       "\n",
       "    .dataframe thead th {\n",
       "        text-align: right;\n",
       "    }\n",
       "</style>\n",
       "<table border=\"1\" class=\"dataframe\">\n",
       "  <thead>\n",
       "    <tr style=\"text-align: right;\">\n",
       "      <th></th>\n",
       "      <th>book_id</th>\n",
       "      <th>author_id</th>\n",
       "      <th>title</th>\n",
       "      <th>num_pages</th>\n",
       "      <th>publication_date</th>\n",
       "      <th>publisher_id</th>\n",
       "    </tr>\n",
       "  </thead>\n",
       "  <tbody>\n",
       "    <tr>\n",
       "      <th>0</th>\n",
       "      <td>1</td>\n",
       "      <td>546</td>\n",
       "      <td>'Salem's Lot</td>\n",
       "      <td>594</td>\n",
       "      <td>2005-11-01</td>\n",
       "      <td>93</td>\n",
       "    </tr>\n",
       "    <tr>\n",
       "      <th>1</th>\n",
       "      <td>2</td>\n",
       "      <td>465</td>\n",
       "      <td>1 000 Places to See Before You Die</td>\n",
       "      <td>992</td>\n",
       "      <td>2003-05-22</td>\n",
       "      <td>336</td>\n",
       "    </tr>\n",
       "    <tr>\n",
       "      <th>2</th>\n",
       "      <td>3</td>\n",
       "      <td>407</td>\n",
       "      <td>13 Little Blue Envelopes (Little Blue Envelope...</td>\n",
       "      <td>322</td>\n",
       "      <td>2010-12-21</td>\n",
       "      <td>135</td>\n",
       "    </tr>\n",
       "    <tr>\n",
       "      <th>3</th>\n",
       "      <td>4</td>\n",
       "      <td>82</td>\n",
       "      <td>1491: New Revelations of the Americas Before C...</td>\n",
       "      <td>541</td>\n",
       "      <td>2006-10-10</td>\n",
       "      <td>309</td>\n",
       "    </tr>\n",
       "    <tr>\n",
       "      <th>4</th>\n",
       "      <td>5</td>\n",
       "      <td>125</td>\n",
       "      <td>1776</td>\n",
       "      <td>386</td>\n",
       "      <td>2006-07-04</td>\n",
       "      <td>268</td>\n",
       "    </tr>\n",
       "  </tbody>\n",
       "</table>\n",
       "</div>"
      ],
      "text/plain": [
       "   book_id  author_id                                              title  \\\n",
       "0        1        546                                       'Salem's Lot   \n",
       "1        2        465                 1 000 Places to See Before You Die   \n",
       "2        3        407  13 Little Blue Envelopes (Little Blue Envelope...   \n",
       "3        4         82  1491: New Revelations of the Americas Before C...   \n",
       "4        5        125                                               1776   \n",
       "\n",
       "   num_pages publication_date  publisher_id  \n",
       "0        594       2005-11-01            93  \n",
       "1        992       2003-05-22           336  \n",
       "2        322       2010-12-21           135  \n",
       "3        541       2006-10-10           309  \n",
       "4        386       2006-07-04           268  "
      ]
     },
     "metadata": {},
     "output_type": "display_data"
    },
    {
     "data": {
      "text/html": [
       "<div>\n",
       "<style scoped>\n",
       "    .dataframe tbody tr th:only-of-type {\n",
       "        vertical-align: middle;\n",
       "    }\n",
       "\n",
       "    .dataframe tbody tr th {\n",
       "        vertical-align: top;\n",
       "    }\n",
       "\n",
       "    .dataframe thead th {\n",
       "        text-align: right;\n",
       "    }\n",
       "</style>\n",
       "<table border=\"1\" class=\"dataframe\">\n",
       "  <thead>\n",
       "    <tr style=\"text-align: right;\">\n",
       "      <th></th>\n",
       "      <th>author_id</th>\n",
       "      <th>author</th>\n",
       "    </tr>\n",
       "  </thead>\n",
       "  <tbody>\n",
       "    <tr>\n",
       "      <th>0</th>\n",
       "      <td>1</td>\n",
       "      <td>A.S. Byatt</td>\n",
       "    </tr>\n",
       "    <tr>\n",
       "      <th>1</th>\n",
       "      <td>2</td>\n",
       "      <td>Aesop/Laura Harris/Laura Gibbs</td>\n",
       "    </tr>\n",
       "    <tr>\n",
       "      <th>2</th>\n",
       "      <td>3</td>\n",
       "      <td>Agatha Christie</td>\n",
       "    </tr>\n",
       "    <tr>\n",
       "      <th>3</th>\n",
       "      <td>4</td>\n",
       "      <td>Alan Brennert</td>\n",
       "    </tr>\n",
       "    <tr>\n",
       "      <th>4</th>\n",
       "      <td>5</td>\n",
       "      <td>Alan Moore/David   Lloyd</td>\n",
       "    </tr>\n",
       "  </tbody>\n",
       "</table>\n",
       "</div>"
      ],
      "text/plain": [
       "   author_id                          author\n",
       "0          1                      A.S. Byatt\n",
       "1          2  Aesop/Laura Harris/Laura Gibbs\n",
       "2          3                 Agatha Christie\n",
       "3          4                   Alan Brennert\n",
       "4          5        Alan Moore/David   Lloyd"
      ]
     },
     "metadata": {},
     "output_type": "display_data"
    },
    {
     "data": {
      "text/html": [
       "<div>\n",
       "<style scoped>\n",
       "    .dataframe tbody tr th:only-of-type {\n",
       "        vertical-align: middle;\n",
       "    }\n",
       "\n",
       "    .dataframe tbody tr th {\n",
       "        vertical-align: top;\n",
       "    }\n",
       "\n",
       "    .dataframe thead th {\n",
       "        text-align: right;\n",
       "    }\n",
       "</style>\n",
       "<table border=\"1\" class=\"dataframe\">\n",
       "  <thead>\n",
       "    <tr style=\"text-align: right;\">\n",
       "      <th></th>\n",
       "      <th>publisher_id</th>\n",
       "      <th>publisher</th>\n",
       "    </tr>\n",
       "  </thead>\n",
       "  <tbody>\n",
       "    <tr>\n",
       "      <th>0</th>\n",
       "      <td>1</td>\n",
       "      <td>Ace</td>\n",
       "    </tr>\n",
       "    <tr>\n",
       "      <th>1</th>\n",
       "      <td>2</td>\n",
       "      <td>Ace Book</td>\n",
       "    </tr>\n",
       "    <tr>\n",
       "      <th>2</th>\n",
       "      <td>3</td>\n",
       "      <td>Ace Books</td>\n",
       "    </tr>\n",
       "    <tr>\n",
       "      <th>3</th>\n",
       "      <td>4</td>\n",
       "      <td>Ace Hardcover</td>\n",
       "    </tr>\n",
       "    <tr>\n",
       "      <th>4</th>\n",
       "      <td>5</td>\n",
       "      <td>Addison Wesley Publishing Company</td>\n",
       "    </tr>\n",
       "  </tbody>\n",
       "</table>\n",
       "</div>"
      ],
      "text/plain": [
       "   publisher_id                          publisher\n",
       "0             1                                Ace\n",
       "1             2                           Ace Book\n",
       "2             3                          Ace Books\n",
       "3             4                      Ace Hardcover\n",
       "4             5  Addison Wesley Publishing Company"
      ]
     },
     "metadata": {},
     "output_type": "display_data"
    },
    {
     "data": {
      "text/html": [
       "<div>\n",
       "<style scoped>\n",
       "    .dataframe tbody tr th:only-of-type {\n",
       "        vertical-align: middle;\n",
       "    }\n",
       "\n",
       "    .dataframe tbody tr th {\n",
       "        vertical-align: top;\n",
       "    }\n",
       "\n",
       "    .dataframe thead th {\n",
       "        text-align: right;\n",
       "    }\n",
       "</style>\n",
       "<table border=\"1\" class=\"dataframe\">\n",
       "  <thead>\n",
       "    <tr style=\"text-align: right;\">\n",
       "      <th></th>\n",
       "      <th>rating_id</th>\n",
       "      <th>book_id</th>\n",
       "      <th>username</th>\n",
       "      <th>rating</th>\n",
       "    </tr>\n",
       "  </thead>\n",
       "  <tbody>\n",
       "    <tr>\n",
       "      <th>0</th>\n",
       "      <td>1</td>\n",
       "      <td>1</td>\n",
       "      <td>ryanfranco</td>\n",
       "      <td>4</td>\n",
       "    </tr>\n",
       "    <tr>\n",
       "      <th>1</th>\n",
       "      <td>2</td>\n",
       "      <td>1</td>\n",
       "      <td>grantpatricia</td>\n",
       "      <td>2</td>\n",
       "    </tr>\n",
       "    <tr>\n",
       "      <th>2</th>\n",
       "      <td>3</td>\n",
       "      <td>1</td>\n",
       "      <td>brandtandrea</td>\n",
       "      <td>5</td>\n",
       "    </tr>\n",
       "    <tr>\n",
       "      <th>3</th>\n",
       "      <td>4</td>\n",
       "      <td>2</td>\n",
       "      <td>lorichen</td>\n",
       "      <td>3</td>\n",
       "    </tr>\n",
       "    <tr>\n",
       "      <th>4</th>\n",
       "      <td>5</td>\n",
       "      <td>2</td>\n",
       "      <td>mariokeller</td>\n",
       "      <td>2</td>\n",
       "    </tr>\n",
       "  </tbody>\n",
       "</table>\n",
       "</div>"
      ],
      "text/plain": [
       "   rating_id  book_id       username  rating\n",
       "0          1        1     ryanfranco       4\n",
       "1          2        1  grantpatricia       2\n",
       "2          3        1   brandtandrea       5\n",
       "3          4        2       lorichen       3\n",
       "4          5        2    mariokeller       2"
      ]
     },
     "metadata": {},
     "output_type": "display_data"
    },
    {
     "data": {
      "text/html": [
       "<div>\n",
       "<style scoped>\n",
       "    .dataframe tbody tr th:only-of-type {\n",
       "        vertical-align: middle;\n",
       "    }\n",
       "\n",
       "    .dataframe tbody tr th {\n",
       "        vertical-align: top;\n",
       "    }\n",
       "\n",
       "    .dataframe thead th {\n",
       "        text-align: right;\n",
       "    }\n",
       "</style>\n",
       "<table border=\"1\" class=\"dataframe\">\n",
       "  <thead>\n",
       "    <tr style=\"text-align: right;\">\n",
       "      <th></th>\n",
       "      <th>review_id</th>\n",
       "      <th>book_id</th>\n",
       "      <th>username</th>\n",
       "      <th>text</th>\n",
       "    </tr>\n",
       "  </thead>\n",
       "  <tbody>\n",
       "    <tr>\n",
       "      <th>0</th>\n",
       "      <td>1</td>\n",
       "      <td>1</td>\n",
       "      <td>brandtandrea</td>\n",
       "      <td>Mention society tell send professor analysis. ...</td>\n",
       "    </tr>\n",
       "    <tr>\n",
       "      <th>1</th>\n",
       "      <td>2</td>\n",
       "      <td>1</td>\n",
       "      <td>ryanfranco</td>\n",
       "      <td>Foot glass pretty audience hit themselves. Amo...</td>\n",
       "    </tr>\n",
       "    <tr>\n",
       "      <th>2</th>\n",
       "      <td>3</td>\n",
       "      <td>2</td>\n",
       "      <td>lorichen</td>\n",
       "      <td>Listen treat keep worry. Miss husband tax but ...</td>\n",
       "    </tr>\n",
       "    <tr>\n",
       "      <th>3</th>\n",
       "      <td>4</td>\n",
       "      <td>3</td>\n",
       "      <td>johnsonamanda</td>\n",
       "      <td>Finally month interesting blue could nature cu...</td>\n",
       "    </tr>\n",
       "    <tr>\n",
       "      <th>4</th>\n",
       "      <td>5</td>\n",
       "      <td>3</td>\n",
       "      <td>scotttamara</td>\n",
       "      <td>Nation purpose heavy give wait song will. List...</td>\n",
       "    </tr>\n",
       "  </tbody>\n",
       "</table>\n",
       "</div>"
      ],
      "text/plain": [
       "   review_id  book_id       username  \\\n",
       "0          1        1   brandtandrea   \n",
       "1          2        1     ryanfranco   \n",
       "2          3        2       lorichen   \n",
       "3          4        3  johnsonamanda   \n",
       "4          5        3    scotttamara   \n",
       "\n",
       "                                                text  \n",
       "0  Mention society tell send professor analysis. ...  \n",
       "1  Foot glass pretty audience hit themselves. Amo...  \n",
       "2  Listen treat keep worry. Miss husband tax but ...  \n",
       "3  Finally month interesting blue could nature cu...  \n",
       "4  Nation purpose heavy give wait song will. List...  "
      ]
     },
     "metadata": {},
     "output_type": "display_data"
    }
   ],
   "source": [
    "for i in datasets:\n",
    "    head_5(i)"
   ]
  },
  {
   "cell_type": "markdown",
   "metadata": {},
   "source": [
    "Данные отоброжаются корректно во всех пяти датасетах, приступим к выполнению SQL-запросов."
   ]
  },
  {
   "cell_type": "markdown",
   "metadata": {},
   "source": [
    "\n",
    "- Посчитаем, сколько книг вышло после 1 января 2000 года;\n",
    "- Для каждой книги посчитаемколичество обзоров и среднюю оценку;\n",
    "- Определим издательство, которое выпустило наибольшее число книг толще 50 страниц — так мы исключим из анализа брошюры;\n",
    "- Определим автора с самой высокой средней оценкой книг — будем учитывать только книги с 50 и более оценками;\n",
    "- Посчитаем среднее количество обзоров от пользователей, которые поставили больше 48 оценок."
   ]
  },
  {
   "cell_type": "code",
   "execution_count": 23,
   "metadata": {},
   "outputs": [
    {
     "name": "stdout",
     "output_type": "stream",
     "text": [
      "   books\n",
      "0    821\n"
     ]
    }
   ],
   "source": [
    "query = '''\n",
    "\n",
    "SELECT COUNT(*) AS books\n",
    "FROM books\n",
    "WHERE CAST(publication_date AS TIMESTAMP) >= CAST('2000-01-01' AS TIMESTAMP)\n",
    "\n",
    "        '''\n",
    "\n",
    "df = pd.io.sql.read_sql(query, con = engine)\n",
    "print(df)"
   ]
  },
  {
   "cell_type": "markdown",
   "metadata": {},
   "source": [
    "После 1 января 2000 года вышло более 800 книг."
   ]
  },
  {
   "cell_type": "code",
   "execution_count": 24,
   "metadata": {},
   "outputs": [
    {
     "name": "stdout",
     "output_type": "stream",
     "text": [
      "                                                 title  reviews  rating\n",
      "940               Welcome to Temptation (Dempseys  #1)        2    5.00\n",
      "300            School's Out—Forever (Maximum Ride  #2)        3    5.00\n",
      "943  Wherever You Go  There You Are: Mindfulness Me...        2    5.00\n",
      "709                                              March        2    5.00\n",
      "710                                        Marvel 1602        2    5.00\n",
      "..                                                 ...      ...     ...\n",
      "497  The World Is Flat: A Brief History of the Twen...        3    2.25\n",
      "685                                              Junky        2    2.00\n",
      "510                                      Drowning Ruth        3    2.00\n",
      "659                  His Excellency: George Washington        2    2.00\n",
      "651                               Harvesting the Heart        2    1.50\n",
      "\n",
      "[1000 rows x 3 columns]\n",
      "          count      mean       std  min  25%  50%       75%  max\n",
      "reviews  1000.0  2.793000  1.074852  0.0  2.0  3.0  3.000000  7.0\n",
      "rating   1000.0  3.898973  0.562376  1.5  3.5  4.0  4.333333  5.0\n"
     ]
    }
   ],
   "source": [
    "query = '''                              \n",
    "\n",
    "SELECT b.title AS title,\n",
    "        COUNT(DISTINCT rw.review_id) AS reviews,\n",
    "        AVG(r.rating) AS rating\n",
    "FROM books AS b\n",
    "INNER JOIN ratings AS r ON r.book_id = b.book_id\n",
    "LEFT JOIN reviews AS rw ON rw.book_id = b.book_id\n",
    "GROUP BY b.title,\n",
    "         b.book_id\n",
    "ORDER BY reviews DESC\n",
    "\n",
    "        ''' \n",
    "df = pd.io.sql.read_sql(query, con = engine)\n",
    "print(df.sort_values(by='rating',ascending=False))\n",
    "print(df.describe().T)"
   ]
  },
  {
   "cell_type": "markdown",
   "metadata": {},
   "source": [
    "В среднем на каждую книгу приходится по 3 обзора, а оценка сосатвляет 4.0. Оценку менее 3.5 имеют не больше 250 книг."
   ]
  },
  {
   "cell_type": "code",
   "execution_count": 25,
   "metadata": {},
   "outputs": [
    {
     "name": "stdout",
     "output_type": "stream",
     "text": [
      "                  publisher  books\n",
      "0             Penguin Books     42\n",
      "1                   Vintage     31\n",
      "2  Grand Central Publishing     25\n",
      "3          Penguin Classics     24\n",
      "4                    Bantam     19\n"
     ]
    }
   ],
   "source": [
    "query = '''\n",
    "\n",
    "SELECT p.publisher,\n",
    "       COUNT(b.book_id) AS books\n",
    "FROM publishers AS p\n",
    "JOIN books AS b ON p.publisher_id=b.publisher_id\n",
    "WHERE b.num_pages > 50\n",
    "GROUP BY p.publisher_id\n",
    "ORDER BY COUNT(b.book_id) DESC\n",
    "LIMIT 5\n",
    "\n",
    "       '''\n",
    "df = pd.io.sql.read_sql(query, con = engine)\n",
    "print(df)"
   ]
  },
  {
   "cell_type": "markdown",
   "metadata": {},
   "source": [
    " Издательство Penguin Books выпустило 42 книги толщиной более 50 страниц."
   ]
  },
  {
   "cell_type": "code",
   "execution_count": 26,
   "metadata": {},
   "outputs": [
    {
     "name": "stdout",
     "output_type": "stream",
     "text": [
      "    id                      author  count_rating  avg_rating\n",
      "0  236  J.K. Rowling/Mary GrandPré           312    4.288462\n"
     ]
    }
   ],
   "source": [
    "query = '''\n",
    "\n",
    "SELECT a.author_id AS id,\n",
    "       a.author AS author,\n",
    "       COUNT(r.rating) AS count_rating,\n",
    "       AVG(r.rating) AS avg_rating\n",
    "FROM authors AS a\n",
    "INNER JOIN books AS b ON b.author_id = a.author_id\n",
    "INNER JOIN ratings AS r ON r.book_id = b.book_id\n",
    "GROUP BY id,\n",
    "         author\n",
    "HAVING COUNT(r.rating) >= 50 \n",
    "ORDER BY count_rating DESC\n",
    "LIMIT 1\n",
    "                        \n",
    "        '''\n",
    "df = pd.io.sql.read_sql(query, con = engine)\n",
    "print(df)"
   ]
  },
  {
   "cell_type": "markdown",
   "metadata": {},
   "source": [
    "Самые высокие оценки за свои книги получал J.K. Rowling/Mary GrandPré   "
   ]
  },
  {
   "cell_type": "code",
   "execution_count": 29,
   "metadata": {},
   "outputs": [
    {
     "name": "stdout",
     "output_type": "stream",
     "text": [
      "     avg\n",
      "0  24.33\n"
     ]
    }
   ],
   "source": [
    "query = '''\n",
    "\n",
    "WITH T AS (SELECT username,\n",
    "          COUNT(review_id) as rewiew\n",
    "          FROM reviews\n",
    "          WHERE username IN (SELECT username\n",
    "                            FROM ratings\n",
    "                            GROUP BY username\n",
    "                            HAVING COUNT(rating_id)>50)\n",
    "          GROUP BY username)\n",
    "SELECT ROUND(SUM(rewiew)/COUNT(rewiew), 2) AS avg\n",
    "FROM T\n",
    "\n",
    "        '''\n",
    "df = pd.io.sql.read_sql(query, con = engine)\n",
    "print(df)"
   ]
  },
  {
   "cell_type": "markdown",
   "metadata": {},
   "source": [
    "Среднее количество обзоров от пользователей, которые поставили больше 48 оценок: 24"
   ]
  },
  {
   "cell_type": "markdown",
   "metadata": {},
   "source": [
    "#### Вывод и рекомендации"
   ]
  },
  {
   "cell_type": "markdown",
   "metadata": {},
   "source": [
    "После 1 января 2000 года вышло более 800 книг.\n",
    "* В среднем на каждую книгу приходится по 3 обзора, а оценка сосатвляет 4.0. Оценку менее 3.5 имеют не больше 250 книг.\n",
    "* Издательство Penguin Books выпустило 42 книги толщиной более 50 страниц.\n",
    "* Самые высокие оценки за свои книги получала J.K. Rowling/Mary GrandPré.\n",
    "* Среднее количество обзоров от пользователей, которые поставили больше 48 оценок: 24.\n",
    "\n",
    "Рекомендации: \n",
    "* Для привлечения новых клиентов можно предоставлять одну из книг автора J.K. Rowling/Mary GrandPré к прочтению бесплатно. Так как автор получал хорошие оценки от действующих клиентов это может стимулировать покупку подписки для дальнейшего чтения.\n",
    "* Для удержания текущих пользователей можно разработать алгоритм,предлагающий к прочтению книгип , которые высоко оценили другие пользователи.\n",
    "* Для улучшения сервиса можно также подписать с издательствами, которые выпускают большее количество книг, соглашение, дабы новинки появлялись на сервисе раньше, чем у конкурентов.\n",
    "\n",
    "\n",
    " "
   ]
  },
  {
   "cell_type": "markdown",
   "metadata": {},
   "source": [
    "## Дополнительные запросы"
   ]
  },
  {
   "cell_type": "markdown",
   "metadata": {},
   "source": [
    "А) Выведем таблицу, которая будет содержать по году публикации:\n",
    " количество издательств,\n",
    " выпущенных книг и\n",
    " сколько всего тысяч страниц было в изданных книгах\n",
    " (отобразить только те года, в которых издано более 30 книг)"
   ]
  },
  {
   "cell_type": "code",
   "execution_count": 112,
   "metadata": {},
   "outputs": [
    {
     "name": "stdout",
     "output_type": "stream",
     "text": [
      "        year  count_publishers  count_books  sum_pages\n",
      "0 1999-01-01                26           41         15\n",
      "1 2000-01-01                35           38         13\n",
      "2 2001-01-01                41           60         21\n",
      "3 2002-01-01                62           94         38\n",
      "4 2003-01-01                65          105         41\n",
      "5 2004-01-01                88          124         46\n",
      "6 2005-01-01                89          139         55\n",
      "7 2006-01-01               109          184         68\n",
      "8 2007-01-01                38           50         18\n"
     ]
    }
   ],
   "source": [
    "query = '''\n",
    "\n",
    "SELECT DATE_TRUNC('year',CAST(b.publication_date AS TIMESTAMP)) AS year,\n",
    "       COUNT(DISTINCT(b.publisher_id)) AS count_publishers,\n",
    "       COUNT(b.book_id) AS count_books,\n",
    "       SUM(b.num_pages)/1000 AS sum_pages\n",
    "FROM books AS b \n",
    "GROUP BY DATE_TRUNC('year',CAST(b.publication_date AS TIMESTAMP))\n",
    "HAVING COUNT(b.book_id) > 30 \n",
    "        '''\n",
    "df = pd.io.sql.read_sql(query, con = engine)\n",
    "print(df)"
   ]
  },
  {
   "cell_type": "markdown",
   "metadata": {},
   "source": [
    "Б) Выведем в одной таблице два числа — среднюю оценку тех книг, на которые написало отзывов более 3 человек и отдельно среднюю оценку остальных книг, сделаем выводы какой рейтинг больше"
   ]
  },
  {
   "cell_type": "code",
   "execution_count": 63,
   "metadata": {},
   "outputs": [
    {
     "name": "stdout",
     "output_type": "stream",
     "text": [
      "        avg\n",
      "0  3.949505\n",
      "1  3.890191\n"
     ]
    }
   ],
   "source": [
    "query = '''\n",
    "\n",
    "SELECT AVG(rating)\n",
    "          FROM ratings AS r\n",
    "          WHERE r.book_id IN(SELECT rw.book_id\n",
    "                             FROM reviews AS rw\n",
    "                             GROUP BY rw.book_id\n",
    "                             HAVING COUNT(DISTINCT(rw.username))>3)\n",
    "\n",
    "UNION ALL\n",
    "\n",
    "SELECT AVG(rating)\n",
    "          FROM ratings AS r\n",
    "          WHERE r.book_id IN(SELECT rw.book_id\n",
    "                             FROM reviews AS rw\n",
    "                             GROUP BY rw.book_id\n",
    "                             HAVING COUNT(DISTINCT(rw.username))<=3)\n",
    "\n",
    "\n",
    "        '''\n",
    "df = pd.io.sql.read_sql(query, con = engine)\n",
    "print(df)"
   ]
  },
  {
   "cell_type": "markdown",
   "metadata": {},
   "source": [
    "Средний рейтинг книг на которые написало отзывов более 3 человек выше, чем у  остальных"
   ]
  },
  {
   "cell_type": "markdown",
   "metadata": {},
   "source": [
    "В) Выведем топ пять пользователей по суммарному показателю написанных ревью и поставленных оценок"
   ]
  },
  {
   "cell_type": "code",
   "execution_count": 106,
   "metadata": {},
   "outputs": [
    {
     "name": "stdout",
     "output_type": "stream",
     "text": [
      "             name  sum\n",
      "0     sfitzgerald   83\n",
      "1      martinadam   83\n",
      "2       richard89   81\n",
      "3  jennifermiller   78\n",
      "4          paul88   78\n"
     ]
    }
   ],
   "source": [
    "query = '''\n",
    "\n",
    "WITH D AS (SElECT r.username AS name,\n",
    "                  rw.review_id AS review,\n",
    "                  r.rating_id AS rating\n",
    "           FROM ratings r\n",
    "           JOIN reviews AS rw ON r.username=rw.username\n",
    "           )\n",
    "SELECT name,\n",
    "       COUNT(DISTINCT(review)) + COUNT(DISTINCT(rating)) AS sum\n",
    "\n",
    "FROM D\n",
    "GROUP BY name\n",
    "ORDER BY sum DESC\n",
    "LIMIT 5\n",
    "        '''\n",
    "df = pd.io.sql.read_sql(query, con = engine)\n",
    "print(df)"
   ]
  }
 ],
 "metadata": {
  "ExecuteTimeLog": [
   {
    "duration": 53,
    "start_time": "2023-06-16T11:37:41.722Z"
   },
   {
    "duration": 12045,
    "start_time": "2023-06-16T11:39:07.254Z"
   },
   {
    "duration": 4,
    "start_time": "2023-06-16T11:39:19.301Z"
   },
   {
    "duration": 650,
    "start_time": "2023-06-16T11:39:19.306Z"
   },
   {
    "duration": 69,
    "start_time": "2023-06-16T11:39:19.957Z"
   },
   {
    "duration": 139,
    "start_time": "2023-06-16T11:39:23.921Z"
   },
   {
    "duration": 96,
    "start_time": "2023-06-16T11:39:24.805Z"
   },
   {
    "duration": 104,
    "start_time": "2023-06-16T11:39:25.661Z"
   },
   {
    "duration": 96,
    "start_time": "2023-06-16T11:39:26.101Z"
   },
   {
    "duration": 450,
    "start_time": "2023-06-16T11:39:32.399Z"
   },
   {
    "duration": 224,
    "start_time": "2023-06-16T11:40:13.209Z"
   },
   {
    "duration": 179,
    "start_time": "2023-06-16T11:40:28.247Z"
   },
   {
    "duration": 165,
    "start_time": "2023-06-16T11:41:36.724Z"
   },
   {
    "duration": 220,
    "start_time": "2023-06-16T11:42:23.131Z"
   },
   {
    "duration": 92,
    "start_time": "2023-06-16T11:43:33.726Z"
   },
   {
    "duration": 186,
    "start_time": "2023-06-16T11:44:31.326Z"
   },
   {
    "duration": 81,
    "start_time": "2023-06-16T11:46:07.181Z"
   },
   {
    "duration": 77,
    "start_time": "2023-06-16T11:47:05.395Z"
   },
   {
    "duration": 216,
    "start_time": "2023-06-16T11:50:16.056Z"
   },
   {
    "duration": 215,
    "start_time": "2023-06-16T11:50:47.660Z"
   },
   {
    "duration": 255,
    "start_time": "2023-06-16T11:50:55.040Z"
   },
   {
    "duration": 240,
    "start_time": "2023-06-16T11:54:39.202Z"
   },
   {
    "duration": 233,
    "start_time": "2023-06-16T11:57:16.263Z"
   },
   {
    "duration": 224,
    "start_time": "2023-06-16T11:58:54.981Z"
   },
   {
    "duration": 237,
    "start_time": "2023-06-16T11:59:08.447Z"
   },
   {
    "duration": 294,
    "start_time": "2023-06-16T12:00:10.990Z"
   },
   {
    "duration": 95,
    "start_time": "2023-06-16T13:58:27.074Z"
   },
   {
    "duration": 209,
    "start_time": "2023-06-16T14:00:33.979Z"
   },
   {
    "duration": 82,
    "start_time": "2023-06-16T14:00:58.726Z"
   },
   {
    "duration": 475,
    "start_time": "2023-06-16T14:03:03.720Z"
   },
   {
    "duration": 196,
    "start_time": "2023-06-16T14:03:43.201Z"
   },
   {
    "duration": 76,
    "start_time": "2023-06-16T14:04:18.878Z"
   },
   {
    "duration": 3,
    "start_time": "2023-06-16T14:14:12.518Z"
   },
   {
    "duration": 450,
    "start_time": "2023-06-16T14:14:12.876Z"
   },
   {
    "duration": 209,
    "start_time": "2023-06-16T14:16:32.709Z"
   },
   {
    "duration": 239,
    "start_time": "2023-06-16T14:18:02.616Z"
   },
   {
    "duration": 110,
    "start_time": "2023-06-16T14:18:31.800Z"
   },
   {
    "duration": 154,
    "start_time": "2023-06-16T14:20:10.040Z"
   },
   {
    "duration": 111,
    "start_time": "2023-06-16T14:20:27.642Z"
   },
   {
    "duration": 109,
    "start_time": "2023-06-16T14:21:35.403Z"
   },
   {
    "duration": 97,
    "start_time": "2023-06-16T14:26:04.701Z"
   },
   {
    "duration": 143,
    "start_time": "2023-06-16T14:26:06.311Z"
   },
   {
    "duration": 78,
    "start_time": "2023-06-16T14:26:10.782Z"
   },
   {
    "duration": 109,
    "start_time": "2023-06-16T14:26:12.520Z"
   },
   {
    "duration": 248,
    "start_time": "2023-06-16T14:26:14.247Z"
   },
   {
    "duration": 237,
    "start_time": "2023-06-16T14:28:07.921Z"
   },
   {
    "duration": 98,
    "start_time": "2023-06-16T14:28:42.820Z"
   },
   {
    "duration": 208,
    "start_time": "2023-06-16T14:28:49.394Z"
   },
   {
    "duration": 233,
    "start_time": "2023-06-16T14:30:49.695Z"
   },
   {
    "duration": 220,
    "start_time": "2023-06-16T14:31:11.215Z"
   },
   {
    "duration": 238,
    "start_time": "2023-06-16T14:34:48.401Z"
   },
   {
    "duration": 211,
    "start_time": "2023-06-16T14:41:21.278Z"
   },
   {
    "duration": 95,
    "start_time": "2023-06-16T14:41:41.622Z"
   },
   {
    "duration": 89,
    "start_time": "2023-06-16T14:42:00.740Z"
   },
   {
    "duration": 195,
    "start_time": "2023-06-16T14:42:14.778Z"
   },
   {
    "duration": 82,
    "start_time": "2023-06-16T14:42:20.477Z"
   },
   {
    "duration": 201,
    "start_time": "2023-06-16T14:42:49.022Z"
   },
   {
    "duration": 95,
    "start_time": "2023-06-16T14:43:02.590Z"
   },
   {
    "duration": 112,
    "start_time": "2023-06-16T14:43:55.294Z"
   },
   {
    "duration": 105,
    "start_time": "2023-06-16T14:44:57.078Z"
   },
   {
    "duration": 230,
    "start_time": "2023-06-16T14:45:48.328Z"
   },
   {
    "duration": 122,
    "start_time": "2023-06-16T14:45:57.778Z"
   },
   {
    "duration": 229,
    "start_time": "2023-06-16T14:48:42.035Z"
   },
   {
    "duration": 212,
    "start_time": "2023-06-16T14:48:54.591Z"
   },
   {
    "duration": 95,
    "start_time": "2023-06-16T14:49:02.413Z"
   },
   {
    "duration": 81,
    "start_time": "2023-06-16T14:49:16.779Z"
   },
   {
    "duration": 112,
    "start_time": "2023-06-16T14:49:59.904Z"
   },
   {
    "duration": 77,
    "start_time": "2023-06-16T14:51:20.401Z"
   },
   {
    "duration": 94,
    "start_time": "2023-06-16T14:52:12.091Z"
   },
   {
    "duration": 103,
    "start_time": "2023-06-16T14:52:25.492Z"
   },
   {
    "duration": 93,
    "start_time": "2023-06-16T14:52:46.533Z"
   },
   {
    "duration": 108,
    "start_time": "2023-06-16T14:53:28.605Z"
   },
   {
    "duration": 78,
    "start_time": "2023-06-16T14:55:47.473Z"
   },
   {
    "duration": 100,
    "start_time": "2023-06-16T14:56:10.640Z"
   },
   {
    "duration": 77,
    "start_time": "2023-06-16T14:56:27.870Z"
   },
   {
    "duration": 76,
    "start_time": "2023-06-16T14:56:32.674Z"
   },
   {
    "duration": 99,
    "start_time": "2023-06-16T14:58:41.092Z"
   },
   {
    "duration": 107,
    "start_time": "2023-06-16T14:59:08.894Z"
   },
   {
    "duration": 90,
    "start_time": "2023-06-16T14:59:15.948Z"
   },
   {
    "duration": 101,
    "start_time": "2023-06-16T15:00:12.281Z"
   },
   {
    "duration": 94,
    "start_time": "2023-06-16T15:00:52.647Z"
   },
   {
    "duration": 886,
    "start_time": "2023-06-16T15:05:14.545Z"
   },
   {
    "duration": 233,
    "start_time": "2023-06-16T15:06:08.729Z"
   },
   {
    "duration": 191,
    "start_time": "2023-06-16T15:06:19.993Z"
   },
   {
    "duration": 261,
    "start_time": "2023-06-16T15:06:28.466Z"
   },
   {
    "duration": 188,
    "start_time": "2023-06-16T15:06:43.065Z"
   },
   {
    "duration": 813,
    "start_time": "2023-06-16T15:06:59.520Z"
   },
   {
    "duration": 209,
    "start_time": "2023-06-16T15:08:35.816Z"
   },
   {
    "duration": 211,
    "start_time": "2023-06-16T15:08:56.619Z"
   },
   {
    "duration": 183,
    "start_time": "2023-06-16T15:09:05.270Z"
   },
   {
    "duration": 192,
    "start_time": "2023-06-16T15:09:17.870Z"
   },
   {
    "duration": 213,
    "start_time": "2023-06-16T15:09:49.689Z"
   },
   {
    "duration": 867,
    "start_time": "2023-06-16T15:09:55.777Z"
   },
   {
    "duration": 275,
    "start_time": "2023-06-16T15:11:08.427Z"
   },
   {
    "duration": 239,
    "start_time": "2023-06-16T15:11:49.191Z"
   },
   {
    "duration": 219,
    "start_time": "2023-06-16T15:11:59.226Z"
   },
   {
    "duration": 196,
    "start_time": "2023-06-16T15:12:54.895Z"
   },
   {
    "duration": 840,
    "start_time": "2023-06-16T15:14:53.599Z"
   },
   {
    "duration": 597,
    "start_time": "2023-06-16T15:15:54.214Z"
   },
   {
    "duration": 207,
    "start_time": "2023-06-16T15:16:18.831Z"
   },
   {
    "duration": 248,
    "start_time": "2023-06-16T15:16:28.456Z"
   },
   {
    "duration": 221,
    "start_time": "2023-06-16T15:17:03.498Z"
   },
   {
    "duration": 668,
    "start_time": "2023-06-16T15:17:08.004Z"
   },
   {
    "duration": 184,
    "start_time": "2023-06-16T15:17:47.619Z"
   },
   {
    "duration": 193,
    "start_time": "2023-06-16T15:18:03.742Z"
   },
   {
    "duration": 291,
    "start_time": "2023-06-16T15:18:23.280Z"
   },
   {
    "duration": 166,
    "start_time": "2023-06-16T15:18:47.413Z"
   },
   {
    "duration": 131,
    "start_time": "2023-06-16T15:19:25.072Z"
   },
   {
    "duration": 165,
    "start_time": "2023-06-16T15:19:37.931Z"
   },
   {
    "duration": 321,
    "start_time": "2023-06-16T15:20:05.001Z"
   },
   {
    "duration": 492,
    "start_time": "2023-06-16T15:20:09.878Z"
   },
   {
    "duration": 186,
    "start_time": "2023-06-16T15:21:52.650Z"
   },
   {
    "duration": 188,
    "start_time": "2023-06-16T15:22:09.891Z"
   },
   {
    "duration": 197,
    "start_time": "2023-06-16T15:23:38.935Z"
   },
   {
    "duration": 177,
    "start_time": "2023-06-16T15:23:49.091Z"
   },
   {
    "duration": 175,
    "start_time": "2023-06-16T15:24:33.644Z"
   },
   {
    "duration": 172,
    "start_time": "2023-06-16T15:25:45.171Z"
   },
   {
    "duration": 180,
    "start_time": "2023-06-16T15:26:43.044Z"
   },
   {
    "duration": 181,
    "start_time": "2023-06-16T15:27:02.249Z"
   },
   {
    "duration": 180,
    "start_time": "2023-06-16T15:27:10.790Z"
   },
   {
    "duration": 179,
    "start_time": "2023-06-16T15:27:37.529Z"
   },
   {
    "duration": 180,
    "start_time": "2023-06-16T15:27:53.793Z"
   },
   {
    "duration": 176,
    "start_time": "2023-06-16T15:28:00.038Z"
   },
   {
    "duration": 745,
    "start_time": "2023-06-16T15:28:08.931Z"
   },
   {
    "duration": 94,
    "start_time": "2023-06-16T15:46:37.353Z"
   },
   {
    "duration": 99,
    "start_time": "2023-06-16T15:46:49.199Z"
   },
   {
    "duration": 99,
    "start_time": "2023-06-16T15:47:00.552Z"
   },
   {
    "duration": 88,
    "start_time": "2023-06-16T15:47:09.937Z"
   },
   {
    "duration": 98,
    "start_time": "2023-06-16T15:47:16.633Z"
   },
   {
    "duration": 101,
    "start_time": "2023-06-16T15:47:28.713Z"
   }
  ],
  "kernelspec": {
   "display_name": "Python 3 (ipykernel)",
   "language": "python",
   "name": "python3"
  },
  "language_info": {
   "codemirror_mode": {
    "name": "ipython",
    "version": 3
   },
   "file_extension": ".py",
   "mimetype": "text/x-python",
   "name": "python",
   "nbconvert_exporter": "python",
   "pygments_lexer": "ipython3",
   "version": "3.9.5"
  },
  "toc": {
   "base_numbering": 1,
   "nav_menu": {},
   "number_sections": true,
   "sideBar": true,
   "skip_h1_title": true,
   "title_cell": "Table of Contents",
   "title_sidebar": "Contents",
   "toc_cell": false,
   "toc_position": {},
   "toc_section_display": true,
   "toc_window_display": false
  }
 },
 "nbformat": 4,
 "nbformat_minor": 2
}
