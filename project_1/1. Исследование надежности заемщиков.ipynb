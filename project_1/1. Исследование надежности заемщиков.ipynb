{
 "cells": [
  {
   "cell_type": "code",
   "execution_count": 1,
   "id": "831e816a",
   "metadata": {
    "deletable": false,
    "id": "7bcf75c9"
   },
   "outputs": [],
   "source": [
    "import pandas as pd\n",
    "\n",
    "try:\n",
    "    data = pd.read_csv('/datasets/data.csv')\n",
    "except:\n",
    "    data = pd.read_csv('https://code.s3.yandex.net/datasets/data.csv')"
   ]
  },
  {
   "cell_type": "code",
   "execution_count": 2,
   "id": "402eb7a7",
   "metadata": {
    "deletable": false,
    "id": "2a7cab99",
    "outputId": "1a8f3ef2-d323-4ec2-ddf7-89670b5944c4"
   },
   "outputs": [
    {
     "data": {
      "text/html": [
       "<div>\n",
       "<style scoped>\n",
       "    .dataframe tbody tr th:only-of-type {\n",
       "        vertical-align: middle;\n",
       "    }\n",
       "\n",
       "    .dataframe tbody tr th {\n",
       "        vertical-align: top;\n",
       "    }\n",
       "\n",
       "    .dataframe thead th {\n",
       "        text-align: right;\n",
       "    }\n",
       "</style>\n",
       "<table border=\"1\" class=\"dataframe\">\n",
       "  <thead>\n",
       "    <tr style=\"text-align: right;\">\n",
       "      <th></th>\n",
       "      <th>children</th>\n",
       "      <th>days_employed</th>\n",
       "      <th>dob_years</th>\n",
       "      <th>education</th>\n",
       "      <th>education_id</th>\n",
       "      <th>family_status</th>\n",
       "      <th>family_status_id</th>\n",
       "      <th>gender</th>\n",
       "      <th>income_type</th>\n",
       "      <th>debt</th>\n",
       "      <th>total_income</th>\n",
       "      <th>purpose</th>\n",
       "    </tr>\n",
       "  </thead>\n",
       "  <tbody>\n",
       "    <tr>\n",
       "      <th>0</th>\n",
       "      <td>1</td>\n",
       "      <td>-8437.673028</td>\n",
       "      <td>42</td>\n",
       "      <td>высшее</td>\n",
       "      <td>0</td>\n",
       "      <td>женат / замужем</td>\n",
       "      <td>0</td>\n",
       "      <td>F</td>\n",
       "      <td>сотрудник</td>\n",
       "      <td>0</td>\n",
       "      <td>253875.639453</td>\n",
       "      <td>покупка жилья</td>\n",
       "    </tr>\n",
       "    <tr>\n",
       "      <th>1</th>\n",
       "      <td>1</td>\n",
       "      <td>-4024.803754</td>\n",
       "      <td>36</td>\n",
       "      <td>среднее</td>\n",
       "      <td>1</td>\n",
       "      <td>женат / замужем</td>\n",
       "      <td>0</td>\n",
       "      <td>F</td>\n",
       "      <td>сотрудник</td>\n",
       "      <td>0</td>\n",
       "      <td>112080.014102</td>\n",
       "      <td>приобретение автомобиля</td>\n",
       "    </tr>\n",
       "    <tr>\n",
       "      <th>2</th>\n",
       "      <td>0</td>\n",
       "      <td>-5623.422610</td>\n",
       "      <td>33</td>\n",
       "      <td>Среднее</td>\n",
       "      <td>1</td>\n",
       "      <td>женат / замужем</td>\n",
       "      <td>0</td>\n",
       "      <td>M</td>\n",
       "      <td>сотрудник</td>\n",
       "      <td>0</td>\n",
       "      <td>145885.952297</td>\n",
       "      <td>покупка жилья</td>\n",
       "    </tr>\n",
       "    <tr>\n",
       "      <th>3</th>\n",
       "      <td>3</td>\n",
       "      <td>-4124.747207</td>\n",
       "      <td>32</td>\n",
       "      <td>среднее</td>\n",
       "      <td>1</td>\n",
       "      <td>женат / замужем</td>\n",
       "      <td>0</td>\n",
       "      <td>M</td>\n",
       "      <td>сотрудник</td>\n",
       "      <td>0</td>\n",
       "      <td>267628.550329</td>\n",
       "      <td>дополнительное образование</td>\n",
       "    </tr>\n",
       "    <tr>\n",
       "      <th>4</th>\n",
       "      <td>0</td>\n",
       "      <td>340266.072047</td>\n",
       "      <td>53</td>\n",
       "      <td>среднее</td>\n",
       "      <td>1</td>\n",
       "      <td>гражданский брак</td>\n",
       "      <td>1</td>\n",
       "      <td>F</td>\n",
       "      <td>пенсионер</td>\n",
       "      <td>0</td>\n",
       "      <td>158616.077870</td>\n",
       "      <td>сыграть свадьбу</td>\n",
       "    </tr>\n",
       "    <tr>\n",
       "      <th>5</th>\n",
       "      <td>0</td>\n",
       "      <td>-926.185831</td>\n",
       "      <td>27</td>\n",
       "      <td>высшее</td>\n",
       "      <td>0</td>\n",
       "      <td>гражданский брак</td>\n",
       "      <td>1</td>\n",
       "      <td>M</td>\n",
       "      <td>компаньон</td>\n",
       "      <td>0</td>\n",
       "      <td>255763.565419</td>\n",
       "      <td>покупка жилья</td>\n",
       "    </tr>\n",
       "    <tr>\n",
       "      <th>6</th>\n",
       "      <td>0</td>\n",
       "      <td>-2879.202052</td>\n",
       "      <td>43</td>\n",
       "      <td>высшее</td>\n",
       "      <td>0</td>\n",
       "      <td>женат / замужем</td>\n",
       "      <td>0</td>\n",
       "      <td>F</td>\n",
       "      <td>компаньон</td>\n",
       "      <td>0</td>\n",
       "      <td>240525.971920</td>\n",
       "      <td>операции с жильем</td>\n",
       "    </tr>\n",
       "    <tr>\n",
       "      <th>7</th>\n",
       "      <td>0</td>\n",
       "      <td>-152.779569</td>\n",
       "      <td>50</td>\n",
       "      <td>СРЕДНЕЕ</td>\n",
       "      <td>1</td>\n",
       "      <td>женат / замужем</td>\n",
       "      <td>0</td>\n",
       "      <td>M</td>\n",
       "      <td>сотрудник</td>\n",
       "      <td>0</td>\n",
       "      <td>135823.934197</td>\n",
       "      <td>образование</td>\n",
       "    </tr>\n",
       "    <tr>\n",
       "      <th>8</th>\n",
       "      <td>2</td>\n",
       "      <td>-6929.865299</td>\n",
       "      <td>35</td>\n",
       "      <td>ВЫСШЕЕ</td>\n",
       "      <td>0</td>\n",
       "      <td>гражданский брак</td>\n",
       "      <td>1</td>\n",
       "      <td>F</td>\n",
       "      <td>сотрудник</td>\n",
       "      <td>0</td>\n",
       "      <td>95856.832424</td>\n",
       "      <td>на проведение свадьбы</td>\n",
       "    </tr>\n",
       "    <tr>\n",
       "      <th>9</th>\n",
       "      <td>0</td>\n",
       "      <td>-2188.756445</td>\n",
       "      <td>41</td>\n",
       "      <td>среднее</td>\n",
       "      <td>1</td>\n",
       "      <td>женат / замужем</td>\n",
       "      <td>0</td>\n",
       "      <td>M</td>\n",
       "      <td>сотрудник</td>\n",
       "      <td>0</td>\n",
       "      <td>144425.938277</td>\n",
       "      <td>покупка жилья для семьи</td>\n",
       "    </tr>\n",
       "    <tr>\n",
       "      <th>10</th>\n",
       "      <td>2</td>\n",
       "      <td>-4171.483647</td>\n",
       "      <td>36</td>\n",
       "      <td>высшее</td>\n",
       "      <td>0</td>\n",
       "      <td>женат / замужем</td>\n",
       "      <td>0</td>\n",
       "      <td>M</td>\n",
       "      <td>компаньон</td>\n",
       "      <td>0</td>\n",
       "      <td>113943.491460</td>\n",
       "      <td>покупка недвижимости</td>\n",
       "    </tr>\n",
       "    <tr>\n",
       "      <th>11</th>\n",
       "      <td>0</td>\n",
       "      <td>-792.701887</td>\n",
       "      <td>40</td>\n",
       "      <td>среднее</td>\n",
       "      <td>1</td>\n",
       "      <td>женат / замужем</td>\n",
       "      <td>0</td>\n",
       "      <td>F</td>\n",
       "      <td>сотрудник</td>\n",
       "      <td>0</td>\n",
       "      <td>77069.234271</td>\n",
       "      <td>покупка коммерческой недвижимости</td>\n",
       "    </tr>\n",
       "    <tr>\n",
       "      <th>12</th>\n",
       "      <td>0</td>\n",
       "      <td>NaN</td>\n",
       "      <td>65</td>\n",
       "      <td>среднее</td>\n",
       "      <td>1</td>\n",
       "      <td>гражданский брак</td>\n",
       "      <td>1</td>\n",
       "      <td>M</td>\n",
       "      <td>пенсионер</td>\n",
       "      <td>0</td>\n",
       "      <td>NaN</td>\n",
       "      <td>сыграть свадьбу</td>\n",
       "    </tr>\n",
       "    <tr>\n",
       "      <th>13</th>\n",
       "      <td>0</td>\n",
       "      <td>-1846.641941</td>\n",
       "      <td>54</td>\n",
       "      <td>неоконченное высшее</td>\n",
       "      <td>2</td>\n",
       "      <td>женат / замужем</td>\n",
       "      <td>0</td>\n",
       "      <td>F</td>\n",
       "      <td>сотрудник</td>\n",
       "      <td>0</td>\n",
       "      <td>130458.228857</td>\n",
       "      <td>приобретение автомобиля</td>\n",
       "    </tr>\n",
       "    <tr>\n",
       "      <th>14</th>\n",
       "      <td>0</td>\n",
       "      <td>-1844.956182</td>\n",
       "      <td>56</td>\n",
       "      <td>высшее</td>\n",
       "      <td>0</td>\n",
       "      <td>гражданский брак</td>\n",
       "      <td>1</td>\n",
       "      <td>F</td>\n",
       "      <td>компаньон</td>\n",
       "      <td>1</td>\n",
       "      <td>165127.911772</td>\n",
       "      <td>покупка жилой недвижимости</td>\n",
       "    </tr>\n",
       "    <tr>\n",
       "      <th>15</th>\n",
       "      <td>1</td>\n",
       "      <td>-972.364419</td>\n",
       "      <td>26</td>\n",
       "      <td>среднее</td>\n",
       "      <td>1</td>\n",
       "      <td>женат / замужем</td>\n",
       "      <td>0</td>\n",
       "      <td>F</td>\n",
       "      <td>сотрудник</td>\n",
       "      <td>0</td>\n",
       "      <td>116820.904450</td>\n",
       "      <td>строительство собственной недвижимости</td>\n",
       "    </tr>\n",
       "    <tr>\n",
       "      <th>16</th>\n",
       "      <td>0</td>\n",
       "      <td>-1719.934226</td>\n",
       "      <td>35</td>\n",
       "      <td>среднее</td>\n",
       "      <td>1</td>\n",
       "      <td>женат / замужем</td>\n",
       "      <td>0</td>\n",
       "      <td>F</td>\n",
       "      <td>сотрудник</td>\n",
       "      <td>0</td>\n",
       "      <td>289202.704229</td>\n",
       "      <td>недвижимость</td>\n",
       "    </tr>\n",
       "    <tr>\n",
       "      <th>17</th>\n",
       "      <td>0</td>\n",
       "      <td>-2369.999720</td>\n",
       "      <td>33</td>\n",
       "      <td>высшее</td>\n",
       "      <td>0</td>\n",
       "      <td>гражданский брак</td>\n",
       "      <td>1</td>\n",
       "      <td>M</td>\n",
       "      <td>сотрудник</td>\n",
       "      <td>0</td>\n",
       "      <td>90410.586745</td>\n",
       "      <td>строительство недвижимости</td>\n",
       "    </tr>\n",
       "    <tr>\n",
       "      <th>18</th>\n",
       "      <td>0</td>\n",
       "      <td>400281.136913</td>\n",
       "      <td>53</td>\n",
       "      <td>среднее</td>\n",
       "      <td>1</td>\n",
       "      <td>вдовец / вдова</td>\n",
       "      <td>2</td>\n",
       "      <td>F</td>\n",
       "      <td>пенсионер</td>\n",
       "      <td>0</td>\n",
       "      <td>56823.777243</td>\n",
       "      <td>на покупку подержанного автомобиля</td>\n",
       "    </tr>\n",
       "    <tr>\n",
       "      <th>19</th>\n",
       "      <td>0</td>\n",
       "      <td>-10038.818549</td>\n",
       "      <td>48</td>\n",
       "      <td>СРЕДНЕЕ</td>\n",
       "      <td>1</td>\n",
       "      <td>в разводе</td>\n",
       "      <td>3</td>\n",
       "      <td>F</td>\n",
       "      <td>сотрудник</td>\n",
       "      <td>0</td>\n",
       "      <td>242831.107982</td>\n",
       "      <td>на покупку своего автомобиля</td>\n",
       "    </tr>\n",
       "  </tbody>\n",
       "</table>\n",
       "</div>"
      ],
      "text/plain": [
       "    children  days_employed  dob_years            education  education_id  \\\n",
       "0          1   -8437.673028         42               высшее             0   \n",
       "1          1   -4024.803754         36              среднее             1   \n",
       "2          0   -5623.422610         33              Среднее             1   \n",
       "3          3   -4124.747207         32              среднее             1   \n",
       "4          0  340266.072047         53              среднее             1   \n",
       "5          0    -926.185831         27               высшее             0   \n",
       "6          0   -2879.202052         43               высшее             0   \n",
       "7          0    -152.779569         50              СРЕДНЕЕ             1   \n",
       "8          2   -6929.865299         35               ВЫСШЕЕ             0   \n",
       "9          0   -2188.756445         41              среднее             1   \n",
       "10         2   -4171.483647         36               высшее             0   \n",
       "11         0    -792.701887         40              среднее             1   \n",
       "12         0            NaN         65              среднее             1   \n",
       "13         0   -1846.641941         54  неоконченное высшее             2   \n",
       "14         0   -1844.956182         56               высшее             0   \n",
       "15         1    -972.364419         26              среднее             1   \n",
       "16         0   -1719.934226         35              среднее             1   \n",
       "17         0   -2369.999720         33               высшее             0   \n",
       "18         0  400281.136913         53              среднее             1   \n",
       "19         0  -10038.818549         48              СРЕДНЕЕ             1   \n",
       "\n",
       "       family_status  family_status_id gender income_type  debt  \\\n",
       "0    женат / замужем                 0      F   сотрудник     0   \n",
       "1    женат / замужем                 0      F   сотрудник     0   \n",
       "2    женат / замужем                 0      M   сотрудник     0   \n",
       "3    женат / замужем                 0      M   сотрудник     0   \n",
       "4   гражданский брак                 1      F   пенсионер     0   \n",
       "5   гражданский брак                 1      M   компаньон     0   \n",
       "6    женат / замужем                 0      F   компаньон     0   \n",
       "7    женат / замужем                 0      M   сотрудник     0   \n",
       "8   гражданский брак                 1      F   сотрудник     0   \n",
       "9    женат / замужем                 0      M   сотрудник     0   \n",
       "10   женат / замужем                 0      M   компаньон     0   \n",
       "11   женат / замужем                 0      F   сотрудник     0   \n",
       "12  гражданский брак                 1      M   пенсионер     0   \n",
       "13   женат / замужем                 0      F   сотрудник     0   \n",
       "14  гражданский брак                 1      F   компаньон     1   \n",
       "15   женат / замужем                 0      F   сотрудник     0   \n",
       "16   женат / замужем                 0      F   сотрудник     0   \n",
       "17  гражданский брак                 1      M   сотрудник     0   \n",
       "18    вдовец / вдова                 2      F   пенсионер     0   \n",
       "19         в разводе                 3      F   сотрудник     0   \n",
       "\n",
       "     total_income                                 purpose  \n",
       "0   253875.639453                           покупка жилья  \n",
       "1   112080.014102                 приобретение автомобиля  \n",
       "2   145885.952297                           покупка жилья  \n",
       "3   267628.550329              дополнительное образование  \n",
       "4   158616.077870                         сыграть свадьбу  \n",
       "5   255763.565419                           покупка жилья  \n",
       "6   240525.971920                       операции с жильем  \n",
       "7   135823.934197                             образование  \n",
       "8    95856.832424                   на проведение свадьбы  \n",
       "9   144425.938277                 покупка жилья для семьи  \n",
       "10  113943.491460                    покупка недвижимости  \n",
       "11   77069.234271       покупка коммерческой недвижимости  \n",
       "12            NaN                         сыграть свадьбу  \n",
       "13  130458.228857                 приобретение автомобиля  \n",
       "14  165127.911772              покупка жилой недвижимости  \n",
       "15  116820.904450  строительство собственной недвижимости  \n",
       "16  289202.704229                            недвижимость  \n",
       "17   90410.586745              строительство недвижимости  \n",
       "18   56823.777243      на покупку подержанного автомобиля  \n",
       "19  242831.107982            на покупку своего автомобиля  "
      ]
     },
     "execution_count": 2,
     "metadata": {},
     "output_type": "execute_result"
    }
   ],
   "source": [
    "data.head(20)"
   ]
  },
  {
   "cell_type": "code",
   "execution_count": 3,
   "id": "75efa047",
   "metadata": {
    "deletable": false,
    "id": "2b757bca",
    "outputId": "15376089-8dad-46c9-b520-c05248d43158"
   },
   "outputs": [
    {
     "data": {
      "text/html": [
       "<div>\n",
       "<style scoped>\n",
       "    .dataframe tbody tr th:only-of-type {\n",
       "        vertical-align: middle;\n",
       "    }\n",
       "\n",
       "    .dataframe tbody tr th {\n",
       "        vertical-align: top;\n",
       "    }\n",
       "\n",
       "    .dataframe thead th {\n",
       "        text-align: right;\n",
       "    }\n",
       "</style>\n",
       "<table border=\"1\" class=\"dataframe\">\n",
       "  <thead>\n",
       "    <tr style=\"text-align: right;\">\n",
       "      <th></th>\n",
       "      <th>count</th>\n",
       "      <th>mean</th>\n",
       "      <th>std</th>\n",
       "      <th>min</th>\n",
       "      <th>25%</th>\n",
       "      <th>50%</th>\n",
       "      <th>75%</th>\n",
       "      <th>max</th>\n",
       "    </tr>\n",
       "  </thead>\n",
       "  <tbody>\n",
       "    <tr>\n",
       "      <th>children</th>\n",
       "      <td>21525.0</td>\n",
       "      <td>0.538908</td>\n",
       "      <td>1.381587</td>\n",
       "      <td>-1.000000</td>\n",
       "      <td>0.000000</td>\n",
       "      <td>0.000000</td>\n",
       "      <td>1.000000</td>\n",
       "      <td>2.000000e+01</td>\n",
       "    </tr>\n",
       "    <tr>\n",
       "      <th>days_employed</th>\n",
       "      <td>19351.0</td>\n",
       "      <td>63046.497661</td>\n",
       "      <td>140827.311974</td>\n",
       "      <td>-18388.949901</td>\n",
       "      <td>-2747.423625</td>\n",
       "      <td>-1203.369529</td>\n",
       "      <td>-291.095954</td>\n",
       "      <td>4.017554e+05</td>\n",
       "    </tr>\n",
       "    <tr>\n",
       "      <th>dob_years</th>\n",
       "      <td>21525.0</td>\n",
       "      <td>43.293380</td>\n",
       "      <td>12.574584</td>\n",
       "      <td>0.000000</td>\n",
       "      <td>33.000000</td>\n",
       "      <td>42.000000</td>\n",
       "      <td>53.000000</td>\n",
       "      <td>7.500000e+01</td>\n",
       "    </tr>\n",
       "    <tr>\n",
       "      <th>education_id</th>\n",
       "      <td>21525.0</td>\n",
       "      <td>0.817236</td>\n",
       "      <td>0.548138</td>\n",
       "      <td>0.000000</td>\n",
       "      <td>1.000000</td>\n",
       "      <td>1.000000</td>\n",
       "      <td>1.000000</td>\n",
       "      <td>4.000000e+00</td>\n",
       "    </tr>\n",
       "    <tr>\n",
       "      <th>family_status_id</th>\n",
       "      <td>21525.0</td>\n",
       "      <td>0.972544</td>\n",
       "      <td>1.420324</td>\n",
       "      <td>0.000000</td>\n",
       "      <td>0.000000</td>\n",
       "      <td>0.000000</td>\n",
       "      <td>1.000000</td>\n",
       "      <td>4.000000e+00</td>\n",
       "    </tr>\n",
       "    <tr>\n",
       "      <th>debt</th>\n",
       "      <td>21525.0</td>\n",
       "      <td>0.080883</td>\n",
       "      <td>0.272661</td>\n",
       "      <td>0.000000</td>\n",
       "      <td>0.000000</td>\n",
       "      <td>0.000000</td>\n",
       "      <td>0.000000</td>\n",
       "      <td>1.000000e+00</td>\n",
       "    </tr>\n",
       "    <tr>\n",
       "      <th>total_income</th>\n",
       "      <td>19351.0</td>\n",
       "      <td>167422.302208</td>\n",
       "      <td>102971.566448</td>\n",
       "      <td>20667.263793</td>\n",
       "      <td>103053.152913</td>\n",
       "      <td>145017.937533</td>\n",
       "      <td>203435.067663</td>\n",
       "      <td>2.265604e+06</td>\n",
       "    </tr>\n",
       "  </tbody>\n",
       "</table>\n",
       "</div>"
      ],
      "text/plain": [
       "                    count           mean            std           min  \\\n",
       "children          21525.0       0.538908       1.381587     -1.000000   \n",
       "days_employed     19351.0   63046.497661  140827.311974 -18388.949901   \n",
       "dob_years         21525.0      43.293380      12.574584      0.000000   \n",
       "education_id      21525.0       0.817236       0.548138      0.000000   \n",
       "family_status_id  21525.0       0.972544       1.420324      0.000000   \n",
       "debt              21525.0       0.080883       0.272661      0.000000   \n",
       "total_income      19351.0  167422.302208  102971.566448  20667.263793   \n",
       "\n",
       "                            25%            50%            75%           max  \n",
       "children               0.000000       0.000000       1.000000  2.000000e+01  \n",
       "days_employed      -2747.423625   -1203.369529    -291.095954  4.017554e+05  \n",
       "dob_years             33.000000      42.000000      53.000000  7.500000e+01  \n",
       "education_id           1.000000       1.000000       1.000000  4.000000e+00  \n",
       "family_status_id       0.000000       0.000000       1.000000  4.000000e+00  \n",
       "debt                   0.000000       0.000000       0.000000  1.000000e+00  \n",
       "total_income      103053.152913  145017.937533  203435.067663  2.265604e+06  "
      ]
     },
     "metadata": {},
     "output_type": "display_data"
    },
    {
     "name": "stdout",
     "output_type": "stream",
     "text": [
      "<class 'pandas.core.frame.DataFrame'>\n",
      "RangeIndex: 21525 entries, 0 to 21524\n",
      "Data columns (total 12 columns):\n",
      " #   Column            Non-Null Count  Dtype  \n",
      "---  ------            --------------  -----  \n",
      " 0   children          21525 non-null  int64  \n",
      " 1   days_employed     19351 non-null  float64\n",
      " 2   dob_years         21525 non-null  int64  \n",
      " 3   education         21525 non-null  object \n",
      " 4   education_id      21525 non-null  int64  \n",
      " 5   family_status     21525 non-null  object \n",
      " 6   family_status_id  21525 non-null  int64  \n",
      " 7   gender            21525 non-null  object \n",
      " 8   income_type       21525 non-null  object \n",
      " 9   debt              21525 non-null  int64  \n",
      " 10  total_income      19351 non-null  float64\n",
      " 11  purpose           21525 non-null  object \n",
      "dtypes: float64(2), int64(5), object(5)\n",
      "memory usage: 2.0+ MB\n"
     ]
    },
    {
     "data": {
      "text/plain": [
       "None"
      ]
     },
     "metadata": {},
     "output_type": "display_data"
    }
   ],
   "source": [
    "display(data.describe().T)\n",
    "display(data.info())"
   ]
  },
  {
   "cell_type": "markdown",
   "id": "5b6df44a",
   "metadata": {},
   "source": [
    "<div class=\"alert alert-block alert-info\">\n",
    "    \n",
    "**Промежуточный вывод:** Тип данных в датасете в нужном формате, так же видим, что в 1 и 10 столбце есть пустые строки. Для дальнейшей работы с данными необходимо провести предобработку(избавимся от пропущенных значений, проверим данные на дубликаты и аномальные значения)"
   ]
  },
  {
   "cell_type": "markdown",
   "id": "d1c030b3",
   "metadata": {
    "deletable": false,
    "editable": false,
    "id": "333ec665"
   },
   "source": [
    "## Предобработка данных"
   ]
  },
  {
   "cell_type": "markdown",
   "id": "d46089b0",
   "metadata": {
    "deletable": false,
    "editable": false,
    "id": "02d92d53"
   },
   "source": [
    "### Удаление пропусков"
   ]
  },
  {
   "cell_type": "code",
   "execution_count": 4,
   "id": "ceab1167",
   "metadata": {
    "deletable": false,
    "id": "7f9b2309",
    "outputId": "81f4d817-781c-465c-ed15-91ce4446810d"
   },
   "outputs": [
    {
     "data": {
      "text/plain": [
       "children               0\n",
       "days_employed       2174\n",
       "dob_years              0\n",
       "education              0\n",
       "education_id           0\n",
       "family_status          0\n",
       "family_status_id       0\n",
       "gender                 0\n",
       "income_type            0\n",
       "debt                   0\n",
       "total_income        2174\n",
       "purpose                0\n",
       "dtype: int64"
      ]
     },
     "execution_count": 4,
     "metadata": {},
     "output_type": "execute_result"
    }
   ],
   "source": [
    "data.isna().sum()"
   ]
  },
  {
   "cell_type": "code",
   "execution_count": 5,
   "id": "f3154476",
   "metadata": {
    "deletable": false,
    "id": "42006a93"
   },
   "outputs": [],
   "source": [
    "for t in data['income_type'].unique():\n",
    "    data.loc[(data['income_type'] == t) & (data['total_income'].isna()), 'total_income'] = \\\n",
    "    data.loc[(data['income_type'] == t), 'total_income'].median()\n",
    "    \n",
    "\n"
   ]
  },
  {
   "cell_type": "markdown",
   "id": "3ad1a7a3",
   "metadata": {
    "deletable": false,
    "editable": false,
    "id": "89da5ece"
   },
   "source": [
    "### Обработка аномальных значений"
   ]
  },
  {
   "cell_type": "code",
   "execution_count": 6,
   "id": "76cb408a",
   "metadata": {
    "deletable": false,
    "id": "f6f055bf"
   },
   "outputs": [],
   "source": [
    "data['days_employed'] = data['days_employed'].abs()"
   ]
  },
  {
   "cell_type": "code",
   "execution_count": 7,
   "id": "d05cc529",
   "metadata": {
    "deletable": false,
    "id": "85a5faf6",
    "outputId": "801ef80e-522b-4668-f34e-565af7432bcf"
   },
   "outputs": [
    {
     "data": {
      "text/plain": [
       "income_type\n",
       "безработный        366413.652744\n",
       "в декрете            3296.759962\n",
       "госслужащий          2689.368353\n",
       "компаньон            1547.382223\n",
       "пенсионер          365213.306266\n",
       "предприниматель       520.848083\n",
       "сотрудник            1574.202821\n",
       "студент               578.751554\n",
       "Name: days_employed, dtype: float64"
      ]
     },
     "execution_count": 7,
     "metadata": {},
     "output_type": "execute_result"
    }
   ],
   "source": [
    "data.groupby('income_type')['days_employed'].agg('median')"
   ]
  },
  {
   "cell_type": "markdown",
   "id": "5e97e8ad",
   "metadata": {
    "deletable": false,
    "editable": false,
    "id": "38d1a030"
   },
   "source": [
    "У двух типов (безработные и пенсионеры) получатся аномально большие значения. Исправить такие значения сложно, поэтому оставьте их как есть. Тем более этот столбец не понадобится вам для исследования."
   ]
  },
  {
   "cell_type": "code",
   "execution_count": 8,
   "id": "c1577242",
   "metadata": {
    "deletable": false,
    "id": "ef5056eb",
    "outputId": "6975b15c-7f95-4697-d16d-a0c79b657b03"
   },
   "outputs": [
    {
     "data": {
      "text/plain": [
       "array([ 1,  0,  3,  2, -1,  4, 20,  5])"
      ]
     },
     "execution_count": 8,
     "metadata": {},
     "output_type": "execute_result"
    }
   ],
   "source": [
    "data['children'].unique()"
   ]
  },
  {
   "cell_type": "code",
   "execution_count": 9,
   "id": "711b2e93",
   "metadata": {
    "deletable": false,
    "id": "3ff9801d"
   },
   "outputs": [],
   "source": [
    "data = data[(data['children'] != -1) & (data['children'] != 20)]"
   ]
  },
  {
   "cell_type": "code",
   "execution_count": 10,
   "id": "37bc106f",
   "metadata": {
    "deletable": false,
    "id": "ad4fa8b7",
    "outputId": "b2097101-d49d-44d9-901b-32a65c9463d1"
   },
   "outputs": [
    {
     "data": {
      "text/plain": [
       "array([1, 0, 3, 2, 4, 5])"
      ]
     },
     "execution_count": 10,
     "metadata": {},
     "output_type": "execute_result"
    }
   ],
   "source": [
    "data['children'].unique()"
   ]
  },
  {
   "cell_type": "markdown",
   "id": "7dee0f31",
   "metadata": {
    "deletable": false,
    "editable": false,
    "id": "75440b63"
   },
   "source": [
    "### Удаление пропусков (продолжение)"
   ]
  },
  {
   "cell_type": "code",
   "execution_count": 11,
   "id": "d083267f",
   "metadata": {
    "deletable": false,
    "id": "af6b1a7e"
   },
   "outputs": [],
   "source": [
    "for t in data['income_type'].unique():\n",
    "    data.loc[(data['income_type'] == t) & (data['days_employed'].isna()), 'days_employed'] = \\\n",
    "    data.loc[(data['income_type'] == t), 'days_employed'].median()"
   ]
  },
  {
   "cell_type": "code",
   "execution_count": 12,
   "id": "a929dc62",
   "metadata": {
    "deletable": false,
    "id": "55f78bc2",
    "outputId": "8da1e4e1-358e-4e87-98c9-f261bce0a7b2"
   },
   "outputs": [
    {
     "data": {
      "text/plain": [
       "children            0\n",
       "days_employed       0\n",
       "dob_years           0\n",
       "education           0\n",
       "education_id        0\n",
       "family_status       0\n",
       "family_status_id    0\n",
       "gender              0\n",
       "income_type         0\n",
       "debt                0\n",
       "total_income        0\n",
       "purpose             0\n",
       "dtype: int64"
      ]
     },
     "execution_count": 12,
     "metadata": {},
     "output_type": "execute_result"
    }
   ],
   "source": [
    "data.isna().sum()"
   ]
  },
  {
   "cell_type": "markdown",
   "id": "00e25119",
   "metadata": {
    "deletable": false,
    "editable": false,
    "id": "ddc81e43"
   },
   "source": [
    "### Изменение типов данных"
   ]
  },
  {
   "cell_type": "code",
   "execution_count": 13,
   "id": "9e43c359",
   "metadata": {
    "deletable": false,
    "id": "920b65ad"
   },
   "outputs": [
    {
     "name": "stdout",
     "output_type": "stream",
     "text": [
      "<class 'pandas.core.frame.DataFrame'>\n",
      "Int64Index: 21402 entries, 0 to 21524\n",
      "Data columns (total 12 columns):\n",
      " #   Column            Non-Null Count  Dtype  \n",
      "---  ------            --------------  -----  \n",
      " 0   children          21402 non-null  uint8  \n",
      " 1   days_employed     21402 non-null  float32\n",
      " 2   dob_years         21402 non-null  uint8  \n",
      " 3   education         21402 non-null  object \n",
      " 4   education_id      21402 non-null  uint8  \n",
      " 5   family_status     21402 non-null  object \n",
      " 6   family_status_id  21402 non-null  uint8  \n",
      " 7   gender            21402 non-null  object \n",
      " 8   income_type       21402 non-null  object \n",
      " 9   debt              21402 non-null  uint8  \n",
      " 10  total_income      21402 non-null  uint32 \n",
      " 11  purpose           21402 non-null  object \n",
      "dtypes: float32(1), object(5), uint32(1), uint8(5)\n",
      "memory usage: 1.2+ MB\n"
     ]
    }
   ],
   "source": [
    "data['total_income'] = data['total_income'].astype('uint32')\n",
    "data['children'] = data['children'].astype('uint8')\n",
    "data['days_employed'] = data['days_employed'].astype('float32')\n",
    "data['dob_years'] = data['dob_years'].astype('uint8')\n",
    "data['education_id'] = data['education_id'].astype('uint8')\n",
    "data['family_status_id'] = data['family_status_id'].astype('uint8')\n",
    "data['debt'] = data['debt'].astype('uint8')\n",
    "data.info()"
   ]
  },
  {
   "cell_type": "markdown",
   "id": "502120b3",
   "metadata": {},
   "source": [
    "Получилось сэкономить больше 66% памяти, указав более точно типы данных."
   ]
  },
  {
   "cell_type": "markdown",
   "id": "af75f520",
   "metadata": {
    "deletable": false,
    "editable": false,
    "id": "80c420ba"
   },
   "source": [
    "### Обработка дубликатов"
   ]
  },
  {
   "cell_type": "code",
   "execution_count": 14,
   "id": "be1db971",
   "metadata": {
    "deletable": false
   },
   "outputs": [],
   "source": [
    "data['education'] = data['education'].str.lower()"
   ]
  },
  {
   "cell_type": "code",
   "execution_count": 15,
   "id": "e0f1f838",
   "metadata": {
    "deletable": false,
    "id": "3ee445e4",
    "outputId": "9684deba-1934-42d1-99e1-cda61740f822"
   },
   "outputs": [
    {
     "data": {
      "text/plain": [
       "71"
      ]
     },
     "execution_count": 15,
     "metadata": {},
     "output_type": "execute_result"
    }
   ],
   "source": [
    "data.duplicated().sum()"
   ]
  },
  {
   "cell_type": "code",
   "execution_count": 16,
   "id": "d179b12a",
   "metadata": {
    "deletable": false,
    "id": "8575fe05"
   },
   "outputs": [],
   "source": [
    "data = data.drop_duplicates()"
   ]
  },
  {
   "cell_type": "markdown",
   "id": "5eb6dfc1",
   "metadata": {
    "deletable": false,
    "editable": false,
    "id": "9904cf55"
   },
   "source": [
    "### Категоризация данных"
   ]
  },
  {
   "cell_type": "markdown",
   "id": "baf234f9",
   "metadata": {
    "deletable": false,
    "editable": false,
    "id": "72fcc8a2"
   },
   "source": [
    "На основании диапазонов, указанных ниже, создадим в датафрейме `data` столбец `total_income_category` с категориями:**\n",
    "\n",
    "- 0–30000 — `'E'`;\n",
    "- 30001–50000 — `'D'`;\n",
    "- 50001–200000 — `'C'`;\n",
    "- 200001–1000000 — `'B'`;\n",
    "- 1000001 и выше — `'A'`.\n",
    "\n",
    "\n",
    "**Например, кредитополучателю с доходом 25000 нужно назначить категорию `'E'`, а клиенту, получающему 235000, — `'B'`. Используем  функцию с именем `categorize_income()` и метод `apply()`.**"
   ]
  },
  {
   "cell_type": "code",
   "execution_count": 17,
   "id": "24fb9507",
   "metadata": {
    "deletable": false,
    "id": "e1771346"
   },
   "outputs": [],
   "source": [
    "def categorize_income(income):\n",
    "    try:\n",
    "        if 0 <= income <= 30000:\n",
    "            return 'E'\n",
    "        elif 30001 <= income <= 50000:\n",
    "            return 'D'\n",
    "        elif 50001 <= income <= 200000:\n",
    "            return 'C'\n",
    "        elif 200001 <= income <= 1000000:\n",
    "            return 'B'\n",
    "        elif income >= 1000001:\n",
    "            return 'A'\n",
    "    except:\n",
    "        pass"
   ]
  },
  {
   "cell_type": "code",
   "execution_count": 18,
   "id": "3e132118",
   "metadata": {
    "deletable": false,
    "id": "d5f3586d"
   },
   "outputs": [],
   "source": [
    "data['total_income_category'] = data['total_income'].apply(categorize_income)"
   ]
  },
  {
   "cell_type": "code",
   "execution_count": 19,
   "id": "3f93d807",
   "metadata": {
    "deletable": false,
    "id": "f67ce9b3",
    "outputId": "673c12d9-7d7e-4ae0-9812-c622c89dd244"
   },
   "outputs": [
    {
     "data": {
      "text/plain": [
       "array(['покупка жилья', 'приобретение автомобиля',\n",
       "       'дополнительное образование', 'сыграть свадьбу',\n",
       "       'операции с жильем', 'образование', 'на проведение свадьбы',\n",
       "       'покупка жилья для семьи', 'покупка недвижимости',\n",
       "       'покупка коммерческой недвижимости', 'покупка жилой недвижимости',\n",
       "       'строительство собственной недвижимости', 'недвижимость',\n",
       "       'строительство недвижимости', 'на покупку подержанного автомобиля',\n",
       "       'на покупку своего автомобиля',\n",
       "       'операции с коммерческой недвижимостью',\n",
       "       'строительство жилой недвижимости', 'жилье',\n",
       "       'операции со своей недвижимостью', 'автомобили',\n",
       "       'заняться образованием', 'сделка с подержанным автомобилем',\n",
       "       'получение образования', 'автомобиль', 'свадьба',\n",
       "       'получение дополнительного образования', 'покупка своего жилья',\n",
       "       'операции с недвижимостью', 'получение высшего образования',\n",
       "       'свой автомобиль', 'сделка с автомобилем',\n",
       "       'профильное образование', 'высшее образование',\n",
       "       'покупка жилья для сдачи', 'на покупку автомобиля', 'ремонт жилью',\n",
       "       'заняться высшим образованием'], dtype=object)"
      ]
     },
     "execution_count": 19,
     "metadata": {},
     "output_type": "execute_result"
    }
   ],
   "source": [
    "data['purpose'].unique()"
   ]
  },
  {
   "cell_type": "markdown",
   "id": "001c023e",
   "metadata": {
    "deletable": false,
    "editable": false,
    "id": "85d0aef0"
   },
   "source": [
    "**Создаим функцию, которая на основании данных из столбца `purpose` сформирует новый столбец `purpose_category`, в который войдут следующие категории:**\n",
    "\n",
    "- `'операции с автомобилем'`,\n",
    "- `'операции с недвижимостью'`,\n",
    "- `'проведение свадьбы'`,\n",
    "- `'получение образования'`.\n",
    "\n",
    "**Например, если в столбце `purpose` находится подстрока `'на покупку автомобиля'`, то в столбце `purpose_category` должна появиться строка `'операции с автомобилем'`.**\n",
    "\n",
    "**Используем функцию с именем `categorize_purpose()` и метод `apply()`. Изучим данные в столбце `purpose` и определим, какие подстроки помогут правильно определить категорию.**"
   ]
  },
  {
   "cell_type": "code",
   "execution_count": 20,
   "id": "2883a317",
   "metadata": {
    "deletable": false,
    "id": "e149fab4"
   },
   "outputs": [],
   "source": [
    "def categorize_purpose(row):\n",
    "    try:\n",
    "        \n",
    "        if 'образовани' in row:\n",
    "            return 'получение образования'\n",
    "        elif 'свадь' in row:\n",
    "            return 'проведение свадьбы'\n",
    "        elif 'недвижим' in row:\n",
    "            return 'операции с недвижимостью' \n",
    "        elif 'жил' in row:\n",
    "            return 'операции с недвижимостью'\n",
    "        elif 'автомоб' in row:\n",
    "            return 'операции с автомобилем'\n",
    "\n",
    "    except:\n",
    "        return 'нет категории'"
   ]
  },
  {
   "cell_type": "code",
   "execution_count": 21,
   "id": "d0d010f3",
   "metadata": {
    "deletable": false,
    "id": "bf36e69b"
   },
   "outputs": [],
   "source": [
    "data['purpose_category'] = data['purpose'].apply(categorize_purpose)"
   ]
  },
  {
   "cell_type": "markdown",
   "id": "cc4ea9cc",
   "metadata": {
    "deletable": false,
    "editable": false,
    "id": "09b242bf"
   },
   "source": [
    "### Шаг 3. Исследуование данных "
   ]
  },
  {
   "cell_type": "markdown",
   "id": "9fe8bafb",
   "metadata": {
    "deletable": false,
    "editable": false,
    "id": "c5d66278"
   },
   "source": [
    "#### 3.1 Есть ли зависимость между количеством детей и возвратом кредита в срок?"
   ]
  },
  {
   "cell_type": "code",
   "execution_count": 22,
   "id": "9fce7a43",
   "metadata": {
    "deletable": false,
    "id": "2cacfc4a"
   },
   "outputs": [
    {
     "data": {
      "text/plain": [
       "children\n",
       "0    14091\n",
       "1     4808\n",
       "2     2052\n",
       "3      330\n",
       "4       41\n",
       "5        9\n",
       "Name: debt, dtype: int64"
      ]
     },
     "metadata": {},
     "output_type": "display_data"
    },
    {
     "data": {
      "text/plain": [
       "children\n",
       "0    0.075438\n",
       "1    0.092346\n",
       "2    0.094542\n",
       "3    0.081818\n",
       "4    0.097561\n",
       "5    0.000000\n",
       "Name: debt, dtype: float64"
      ]
     },
     "metadata": {},
     "output_type": "display_data"
    }
   ],
   "source": [
    "display(data.groupby('children')['debt'].count())\n",
    "display(data.groupby('children')['debt'].mean())\n",
    "# Ваш код будет здесь. Вы можете создавать новые ячейки.\n"
   ]
  },
  {
   "cell_type": "markdown",
   "id": "22297844",
   "metadata": {},
   "source": [
    "**Вывод:** Зависимость между количеством детей в случае, когда их 4 и 5, не стоит учитывать. Так как данных по этой категории не достаточно.Но исходя из категории, где количество детей 0-3, можно утверждать, что зависимость есть: чем больше детей,тем больше вероятность невозврата."
   ]
  },
  {
   "cell_type": "code",
   "execution_count": 23,
   "id": "9d5b33b7",
   "metadata": {},
   "outputs": [],
   "source": [
    "def categorize_children(quantity):\n",
    "    try:\n",
    "        if quantity>0:\n",
    "            return 'с детьми'\n",
    "        elif quantity==0:\n",
    "            return 'без детей'\n",
    "    except:\n",
    "        return 'нет категории'"
   ]
  },
  {
   "cell_type": "code",
   "execution_count": 30,
   "id": "1deaecb4",
   "metadata": {},
   "outputs": [
    {
     "data": {
      "text/plain": [
       "children_category\n",
       "без детей    0.075438\n",
       "с детьми     0.092403\n",
       "Name: debt, dtype: float64"
      ]
     },
     "metadata": {},
     "output_type": "display_data"
    }
   ],
   "source": [
    "# data['children_category'] = data['children'].apply(categorize_children)\n",
    "display(data.groupby('children_category')['debt'].mean())"
   ]
  },
  {
   "cell_type": "markdown",
   "id": "5b561d88",
   "metadata": {
    "deletable": false,
    "id": "3a6b99ec"
   },
   "source": [
    "<div class=\"alert alert-block alert-info\">\n",
    "    \n",
    "**Вывод:** Зависимость невозврат/дети в данном случае на лицо."
   ]
  },
  {
   "cell_type": "markdown",
   "id": "118ea151",
   "metadata": {
    "deletable": false,
    "editable": false,
    "id": "97be82ca"
   },
   "source": [
    "#### 3.2 Есть ли зависимость между семейным положением и возвратом кредита в срок?"
   ]
  },
  {
   "cell_type": "code",
   "execution_count": 25,
   "id": "23df39d5",
   "metadata": {
    "deletable": false,
    "id": "dc3f7ee8"
   },
   "outputs": [
    {
     "data": {
      "text/plain": [
       "family_status\n",
       "Не женат / не замужем    0.097639\n",
       "в разводе                0.070648\n",
       "вдовец / вдова           0.066246\n",
       "гражданский брак         0.093130\n",
       "женат / замужем          0.075606\n",
       "Name: debt, dtype: float64"
      ]
     },
     "execution_count": 25,
     "metadata": {},
     "output_type": "execute_result"
    }
   ],
   "source": [
    "data.groupby('family_status')['debt'].mean()# Ваш код будет здесь. Вы можете создавать новые ячейки."
   ]
  },
  {
   "cell_type": "markdown",
   "id": "3fb546cd",
   "metadata": {
    "deletable": false,
    "id": "1cef7837"
   },
   "source": [
    "**Вывод:** Риск невозврата выше в категориях: не женат/не замужем, гражданский брак. Наименьший риск невзозврата в категории вдовец/вдова. "
   ]
  },
  {
   "cell_type": "markdown",
   "id": "226b9f73",
   "metadata": {
    "deletable": false,
    "editable": false,
    "id": "1e8b2fca"
   },
   "source": [
    "#### 3.3 Есть ли зависимость между уровнем дохода и возвратом кредита в срок?"
   ]
  },
  {
   "cell_type": "code",
   "execution_count": 26,
   "id": "1e77fee7",
   "metadata": {
    "deletable": false,
    "id": "cd7e3720"
   },
   "outputs": [
    {
     "data": {
      "text/plain": [
       "total_income_category\n",
       "A       25\n",
       "B     5014\n",
       "C    15921\n",
       "D      349\n",
       "E       22\n",
       "Name: debt, dtype: int64"
      ]
     },
     "metadata": {},
     "output_type": "display_data"
    },
    {
     "data": {
      "text/plain": [
       "total_income_category\n",
       "A    0.080000\n",
       "B    0.070602\n",
       "C    0.084982\n",
       "D    0.060172\n",
       "E    0.090909\n",
       "Name: debt, dtype: float64"
      ]
     },
     "metadata": {},
     "output_type": "display_data"
    }
   ],
   "source": [
    "display(data.groupby('total_income_category')['debt'].count())\n",
    "display(data.groupby('total_income_category')['debt'].mean())# Ваш код будет здесь. Вы можете создавать новые ячейки."
   ]
  },
  {
   "cell_type": "markdown",
   "id": "594dc5f0",
   "metadata": {
    "deletable": false,
    "id": "e8593def"
   },
   "source": [
    "<div class=\"alert alert-block alert-info\">\n",
    "    \n",
    "**Вывод:** Данных в категории А и Е недостаточно для точной оценки(25 и 24 строки). К тому же нет прямой зависимости в категориях В-D, исходя из этого делаем вывод, что явной зависимости между уровнем дохода и возвратом кредита-нет."
   ]
  },
  {
   "cell_type": "markdown",
   "id": "0002fc69",
   "metadata": {
    "deletable": false,
    "editable": false,
    "id": "99ecbd1f"
   },
   "source": [
    "#### 3.4 Как разные цели кредита влияют на его возврат в срок?"
   ]
  },
  {
   "cell_type": "code",
   "execution_count": 27,
   "id": "d77ada6c",
   "metadata": {
    "deletable": false,
    "id": "2b687290"
   },
   "outputs": [
    {
     "data": {
      "text/plain": [
       "purpose_category\n",
       "операции с автомобилем      0.093480\n",
       "операции с недвижимостью    0.072551\n",
       "получение образования       0.092528\n",
       "проведение свадьбы          0.079118\n",
       "Name: debt, dtype: float64"
      ]
     },
     "execution_count": 27,
     "metadata": {},
     "output_type": "execute_result"
    }
   ],
   "source": [
    "data.groupby('purpose_category')['debt'].mean()# Ваш код будет здесь. Вы можете создавать новые ячейки."
   ]
  },
  {
   "cell_type": "markdown",
   "id": "27ee8d94",
   "metadata": {
    "deletable": false,
    "id": "b4bb2ce6"
   },
   "source": [
    "**Вывод:** Высок риск невозврата в категориях: операции с автомобилем и получение образования. В двух других категориях данные риски заметно ниже."
   ]
  },
  {
   "cell_type": "markdown",
   "id": "36abd277",
   "metadata": {
    "deletable": false,
    "editable": false,
    "id": "09c3ac4c"
   },
   "source": [
    "#### 3.5 Возможные причины появления пропусков в исходных данных."
   ]
  },
  {
   "cell_type": "markdown",
   "id": "45ec9864",
   "metadata": {
    "deletable": false,
    "id": "9da2ceda"
   },
   "source": [
    "Пропуски в колонке о доходах скорее всего связаны с нежеланием клиентов отвечать на данный вопрос (тип MCAR), либо программа не учитывает сведения о доходах, если они не официальные(тип MAR).Эти же причины, на мой взгляд, подоходят и для колонки days_employed"
   ]
  },
  {
   "cell_type": "markdown",
   "id": "61b62af3",
   "metadata": {
    "deletable": false,
    "editable": false,
    "id": "7b0487d6"
   },
   "source": [
    "#### 3.6 Почему заполнить пропуски медианным значением — лучшее решение для количественных переменных."
   ]
  },
  {
   "cell_type": "markdown",
   "id": "4da4e0b4",
   "metadata": {
    "deletable": false,
    "id": "7ecf2b8e"
   },
   "source": [
    "В данных часто всречаются аномальные значения, которые могут исказить итоговое значение, если мы возьмем среднее, поэтому использовать медиану-лучшее решение."
   ]
  },
  {
   "cell_type": "markdown",
   "id": "757e5985",
   "metadata": {
    "deletable": false,
    "editable": false,
    "id": "6db5255a"
   },
   "source": [
    "### Шаг 4: общий вывод."
   ]
  },
  {
   "cell_type": "markdown",
   "id": "803a9496",
   "metadata": {
    "deletable": false,
    "id": "bad65432"
   },
   "source": [
    "**Наибольшие риски для выдачи кредита представляют следущие критерии:**\n",
    "1. Люди с бОльшим количеством детей;\n",
    "2. Не женатые( не замужем) или в гражданском браке;\n",
    "3. кредиты выданные на авто или образование.\n",
    "\n",
    "**Наименьший риск представляют:**\n",
    "1. Люди с меньшим количеством детей;\n",
    "2. вдовы/вдовцы;\n",
    "3. кредиты выданные на свадьбу и недвижимость.\n",
    "\n",
    "Для полной оценки платежоспособности клиента в зависимости от его дохода, необоходимо провести анализ в разрезе других критериев."
   ]
  },
  {
   "cell_type": "markdown",
   "id": "76fd6f2d",
   "metadata": {},
   "source": [
    "<div class=\"alert alert-block alert-info\">\n",
    "    \n",
    "**Вывод:** Вопросы на которые требовалось ответить:\n",
    "    \n",
    "1. Есть ли зависимость между количеством детей и возвратом кредита в срок?\n",
    "2. Есть ли зависимость между семейным положением и возвратом кредита в срок?\n",
    "3. Есть ли зависимость между уровнем дохода и возвратом кредита в срок?\n",
    "4. Как разные цели кредита влияют на его возврат в срок?\n",
    "   \n",
    "    \n",
    "    1)Отвечая на первый вопрос, уточню что данных по некоторым категориям количества детей недостаточно. Для объективной оценки разобьем клиентов на группы с детьми и без. \n",
    "\n",
    "                                            без детей    7,5 %\n",
    "\n",
    "                                            с детьми     9,2 %\n",
    "\n",
    "**Зависомость очевидна, риск невозврата выше во втором случае.**\n",
    "    \n",
    "    2)Данные о зависимости по второму вопросу выглядят так\n",
    "\n",
    "                                    Не женат / не замужем    9,7 %\n",
    "\n",
    "                                    гражданский брак         9,3 %\n",
    "\n",
    "                                    женат / замужем          7,6 %\n",
    "\n",
    "                                    в разводе                7,1 %\n",
    "\n",
    "                                    вдовец / вдова           6,6 %\n",
    "    \n",
    "**Минимальный риск представляют вдовы и вдовцы**\n",
    "    \n",
    "    3)Для удобства сделаем разбивку клиентов на категории в зависимости от заработной платы, где \n",
    "    \n",
    "категория Е- зарплата до 30000 тыс.рублей\n",
    "    \n",
    "категория D- зарплата до 50000 тыс.рублей \n",
    "    \n",
    "категория C- зарплата до 200000 тыс.рублей \n",
    "    \n",
    "категория B- зарплата до 1000000 тыс.рублей \n",
    "    \n",
    "категория A- зарплата от 1000001 и выше тыс.рублей \n",
    "\n",
    "Получим:\n",
    "\n",
    "                                            E    9,1 %\n",
    "\n",
    "                                            C    8,5 %\n",
    "\n",
    "                                            A    8,0 %\n",
    "\n",
    "                                            B    7,1 %\n",
    "\n",
    "                                            D    6,0 %\n",
    "\n",
    "**Как ни странно,прямопропорциональой зависимости невозврата кредита от суммы заработной платы не прослеживается**\n",
    "    \n",
    "    4)Взглянeм на таблицу зависимости невозврата от цели кредита\n",
    "\n",
    "                                    операции с автомобилем      9,3 %\n",
    "    \n",
    "                                    получение образования       9,3 %\n",
    "    \n",
    "                                    проведение свадьбы          7,9 %\n",
    "    \n",
    "                                    операции с недвижимостью    7,3 %\n",
    "    \n",
    "**Кредиты на автомобиль и образование являются самыми рисковыми среди остальных**\n",
    "\n"
   ]
  }
 ],
 "metadata": {
  "ExecuteTimeLog": [
   {
    "duration": 530,
    "start_time": "2022-11-26T09:23:43.649Z"
   },
   {
    "duration": 36,
    "start_time": "2022-11-26T09:23:59.037Z"
   },
   {
    "duration": 16,
    "start_time": "2022-11-26T09:31:52.265Z"
   },
   {
    "duration": 14,
    "start_time": "2022-11-26T09:32:04.443Z"
   },
   {
    "duration": 37,
    "start_time": "2022-11-26T09:32:35.782Z"
   },
   {
    "duration": 4,
    "start_time": "2022-11-26T09:32:58.081Z"
   },
   {
    "duration": 9,
    "start_time": "2022-11-26T09:34:05.639Z"
   },
   {
    "duration": 5,
    "start_time": "2022-11-26T09:34:08.716Z"
   },
   {
    "duration": 7,
    "start_time": "2022-11-26T09:34:33.192Z"
   },
   {
    "duration": 5,
    "start_time": "2022-11-26T09:34:34.207Z"
   },
   {
    "duration": 45,
    "start_time": "2022-11-26T09:34:52.920Z"
   },
   {
    "duration": 12,
    "start_time": "2022-11-26T09:34:54.096Z"
   },
   {
    "duration": 4,
    "start_time": "2022-11-26T09:36:02.663Z"
   },
   {
    "duration": 16,
    "start_time": "2022-11-26T09:36:03.919Z"
   },
   {
    "duration": 28,
    "start_time": "2022-11-26T09:36:06.207Z"
   },
   {
    "duration": 18,
    "start_time": "2022-11-26T09:36:06.699Z"
   },
   {
    "duration": 3,
    "start_time": "2022-11-26T09:36:09.656Z"
   },
   {
    "duration": 10,
    "start_time": "2022-11-26T09:36:10.600Z"
   },
   {
    "duration": 6,
    "start_time": "2022-11-26T09:36:14.903Z"
   },
   {
    "duration": 3,
    "start_time": "2022-11-26T09:36:19.570Z"
   },
   {
    "duration": 9,
    "start_time": "2022-11-26T09:36:20.168Z"
   },
   {
    "duration": 23,
    "start_time": "2022-11-26T09:36:49.796Z"
   },
   {
    "duration": 5,
    "start_time": "2022-11-26T09:38:53.743Z"
   },
   {
    "duration": 7,
    "start_time": "2022-11-26T09:40:10.783Z"
   },
   {
    "duration": 7,
    "start_time": "2022-11-26T09:41:33.272Z"
   },
   {
    "duration": 8,
    "start_time": "2022-11-26T09:42:41.988Z"
   },
   {
    "duration": 18,
    "start_time": "2022-11-26T09:44:21.273Z"
   },
   {
    "duration": 65,
    "start_time": "2022-11-26T09:44:32.247Z"
   },
   {
    "duration": 17,
    "start_time": "2022-11-26T09:44:42.297Z"
   },
   {
    "duration": 11,
    "start_time": "2022-11-26T09:45:54.038Z"
   },
   {
    "duration": 8,
    "start_time": "2022-11-26T09:46:09.998Z"
   },
   {
    "duration": 10,
    "start_time": "2022-11-26T09:46:34.742Z"
   },
   {
    "duration": 7,
    "start_time": "2022-11-26T09:56:51.889Z"
   },
   {
    "duration": 7,
    "start_time": "2022-11-26T09:57:06.700Z"
   },
   {
    "duration": 480,
    "start_time": "2022-11-28T16:07:47.016Z"
   },
   {
    "duration": 23,
    "start_time": "2022-11-28T16:07:49.304Z"
   },
   {
    "duration": 15,
    "start_time": "2022-11-28T16:07:52.194Z"
   },
   {
    "duration": 10,
    "start_time": "2022-11-28T16:09:09.006Z"
   },
   {
    "duration": 31,
    "start_time": "2022-11-28T16:09:10.261Z"
   },
   {
    "duration": 4,
    "start_time": "2022-11-28T16:09:50.198Z"
   },
   {
    "duration": 9,
    "start_time": "2022-11-28T16:09:51.419Z"
   },
   {
    "duration": 5,
    "start_time": "2022-11-28T16:09:56.407Z"
   },
   {
    "duration": 8,
    "start_time": "2022-11-28T16:09:57.178Z"
   },
   {
    "duration": 5,
    "start_time": "2022-11-28T16:09:58.125Z"
   },
   {
    "duration": 33,
    "start_time": "2022-11-28T16:10:01.676Z"
   },
   {
    "duration": 10,
    "start_time": "2022-11-28T16:10:02.665Z"
   },
   {
    "duration": 4,
    "start_time": "2022-11-28T16:10:13.764Z"
   },
   {
    "duration": 11,
    "start_time": "2022-11-28T16:10:25.696Z"
   },
   {
    "duration": 20,
    "start_time": "2022-11-28T16:10:31.947Z"
   },
   {
    "duration": 22,
    "start_time": "2022-11-28T16:10:32.763Z"
   },
   {
    "duration": 4,
    "start_time": "2022-11-28T16:10:37.598Z"
   },
   {
    "duration": 10,
    "start_time": "2022-11-28T16:10:39.669Z"
   },
   {
    "duration": 6,
    "start_time": "2022-11-28T16:10:45.133Z"
   },
   {
    "duration": 4,
    "start_time": "2022-11-28T16:10:48.265Z"
   },
   {
    "duration": 8,
    "start_time": "2022-11-28T16:10:50.428Z"
   },
   {
    "duration": 7,
    "start_time": "2022-11-28T16:11:32.513Z"
   },
   {
    "duration": 7,
    "start_time": "2022-11-28T16:12:03.118Z"
   },
   {
    "duration": 10,
    "start_time": "2022-11-28T16:12:49.618Z"
   },
   {
    "duration": 9,
    "start_time": "2022-11-28T16:13:15.185Z"
   },
   {
    "duration": 8,
    "start_time": "2022-11-28T16:13:33.690Z"
   },
   {
    "duration": 9,
    "start_time": "2022-11-28T16:14:22.076Z"
   },
   {
    "duration": 8,
    "start_time": "2022-11-28T16:15:12.793Z"
   },
   {
    "duration": 9,
    "start_time": "2022-11-28T16:15:27.919Z"
   },
   {
    "duration": 10,
    "start_time": "2022-11-28T16:15:33.863Z"
   },
   {
    "duration": 7,
    "start_time": "2022-11-28T16:23:17.856Z"
   },
   {
    "duration": 8,
    "start_time": "2022-11-28T16:23:31.518Z"
   },
   {
    "duration": 8,
    "start_time": "2022-11-28T16:23:38.062Z"
   },
   {
    "duration": 43,
    "start_time": "2022-11-29T17:21:14.202Z"
   },
   {
    "duration": 5,
    "start_time": "2022-11-29T17:21:29.285Z"
   },
   {
    "duration": 5,
    "start_time": "2022-11-29T17:21:38.014Z"
   },
   {
    "duration": 484,
    "start_time": "2022-11-29T17:21:41.849Z"
   },
   {
    "duration": 21,
    "start_time": "2022-11-29T17:21:44.262Z"
   },
   {
    "duration": 35,
    "start_time": "2022-11-29T17:21:48.226Z"
   },
   {
    "duration": 30,
    "start_time": "2022-11-29T17:23:32.053Z"
   },
   {
    "duration": 78,
    "start_time": "2022-11-29T17:28:09.652Z"
   },
   {
    "duration": 68,
    "start_time": "2022-11-29T17:28:18.976Z"
   },
   {
    "duration": 4,
    "start_time": "2022-11-29T17:28:46.858Z"
   },
   {
    "duration": 4,
    "start_time": "2022-11-29T17:28:54.401Z"
   },
   {
    "duration": 83,
    "start_time": "2022-11-29T17:37:20.464Z"
   },
   {
    "duration": 35,
    "start_time": "2022-11-29T17:37:50.441Z"
   },
   {
    "duration": 33,
    "start_time": "2022-11-29T17:38:39.316Z"
   },
   {
    "duration": 32,
    "start_time": "2022-11-29T17:38:42.433Z"
   },
   {
    "duration": 41,
    "start_time": "2022-11-29T17:38:57.277Z"
   },
   {
    "duration": 88,
    "start_time": "2022-11-29T17:42:14.448Z"
   },
   {
    "duration": 37,
    "start_time": "2022-11-29T18:15:40.574Z"
   },
   {
    "duration": 72,
    "start_time": "2022-11-29T18:18:01.634Z"
   },
   {
    "duration": 15,
    "start_time": "2022-11-29T18:18:05.185Z"
   },
   {
    "duration": 45,
    "start_time": "2022-11-29T18:18:09.964Z"
   },
   {
    "duration": 11,
    "start_time": "2022-11-29T18:18:20.344Z"
   },
   {
    "duration": 34,
    "start_time": "2022-11-29T18:18:23.499Z"
   },
   {
    "duration": 8,
    "start_time": "2022-11-29T18:23:20.816Z"
   },
   {
    "duration": 33,
    "start_time": "2022-11-29T18:23:49.464Z"
   },
   {
    "duration": 31,
    "start_time": "2022-11-29T18:23:51.657Z"
   },
   {
    "duration": 5,
    "start_time": "2022-11-29T18:27:42.180Z"
   },
   {
    "duration": 20,
    "start_time": "2022-11-29T18:27:47.861Z"
   },
   {
    "duration": 19,
    "start_time": "2022-11-29T18:28:01.128Z"
   },
   {
    "duration": 15,
    "start_time": "2022-11-29T18:28:28.840Z"
   },
   {
    "duration": 14,
    "start_time": "2022-11-29T18:28:45.222Z"
   },
   {
    "duration": 3,
    "start_time": "2022-11-29T18:29:29.084Z"
   },
   {
    "duration": 12,
    "start_time": "2022-11-29T18:29:37.161Z"
   },
   {
    "duration": 15,
    "start_time": "2022-11-29T18:29:42.691Z"
   },
   {
    "duration": 45,
    "start_time": "2022-11-29T18:30:08.709Z"
   },
   {
    "duration": 14,
    "start_time": "2022-11-29T18:30:49.826Z"
   },
   {
    "duration": 14,
    "start_time": "2022-11-29T18:31:08.265Z"
   },
   {
    "duration": 31,
    "start_time": "2022-11-29T18:31:28.910Z"
   },
   {
    "duration": 4,
    "start_time": "2022-11-29T18:33:16.782Z"
   },
   {
    "duration": 7,
    "start_time": "2022-11-29T18:33:17.881Z"
   },
   {
    "duration": 4,
    "start_time": "2022-11-29T18:33:20.434Z"
   },
   {
    "duration": 6,
    "start_time": "2022-11-29T18:33:21.369Z"
   },
   {
    "duration": 4,
    "start_time": "2022-11-29T18:33:23.596Z"
   },
   {
    "duration": 35,
    "start_time": "2022-11-29T18:33:25.002Z"
   },
   {
    "duration": 480,
    "start_time": "2022-11-29T18:34:10.481Z"
   },
   {
    "duration": 22,
    "start_time": "2022-11-29T18:34:10.963Z"
   },
   {
    "duration": 50,
    "start_time": "2022-11-29T18:34:10.986Z"
   },
   {
    "duration": 9,
    "start_time": "2022-11-29T18:34:11.038Z"
   },
   {
    "duration": 33,
    "start_time": "2022-11-29T18:34:11.049Z"
   },
   {
    "duration": 4,
    "start_time": "2022-11-29T18:34:11.104Z"
   },
   {
    "duration": 13,
    "start_time": "2022-11-29T18:34:11.110Z"
   },
   {
    "duration": 4,
    "start_time": "2022-11-29T18:34:11.125Z"
   },
   {
    "duration": 12,
    "start_time": "2022-11-29T18:34:11.130Z"
   },
   {
    "duration": 9,
    "start_time": "2022-11-29T18:34:11.145Z"
   },
   {
    "duration": 51,
    "start_time": "2022-11-29T18:34:11.155Z"
   },
   {
    "duration": 9,
    "start_time": "2022-11-29T18:34:11.207Z"
   },
   {
    "duration": 6,
    "start_time": "2022-11-29T18:34:11.218Z"
   },
   {
    "duration": 20,
    "start_time": "2022-11-29T18:34:11.226Z"
   },
   {
    "duration": 24,
    "start_time": "2022-11-29T18:34:11.248Z"
   },
   {
    "duration": 17,
    "start_time": "2022-11-29T18:34:11.273Z"
   },
   {
    "duration": 13,
    "start_time": "2022-11-29T18:34:11.292Z"
   },
   {
    "duration": 21,
    "start_time": "2022-11-29T18:34:11.306Z"
   },
   {
    "duration": 12,
    "start_time": "2022-11-29T18:34:11.329Z"
   },
   {
    "duration": 4,
    "start_time": "2022-11-29T18:34:11.343Z"
   },
   {
    "duration": 13,
    "start_time": "2022-11-29T18:34:11.349Z"
   },
   {
    "duration": 15,
    "start_time": "2022-11-29T18:34:11.363Z"
   },
   {
    "duration": 7,
    "start_time": "2022-11-29T18:34:11.380Z"
   },
   {
    "duration": 20,
    "start_time": "2022-11-29T18:34:11.388Z"
   },
   {
    "duration": 7,
    "start_time": "2022-11-29T18:34:11.410Z"
   },
   {
    "duration": 17,
    "start_time": "2022-11-29T18:36:28.868Z"
   },
   {
    "duration": 61,
    "start_time": "2022-11-29T18:38:32.603Z"
   },
   {
    "duration": 7,
    "start_time": "2022-11-29T18:39:59.991Z"
   },
   {
    "duration": 67,
    "start_time": "2022-11-29T18:40:55.087Z"
   },
   {
    "duration": 87,
    "start_time": "2022-11-29T18:41:09.001Z"
   },
   {
    "duration": 74,
    "start_time": "2022-11-29T18:41:18.639Z"
   },
   {
    "duration": 71,
    "start_time": "2022-11-29T18:41:21.938Z"
   },
   {
    "duration": 75,
    "start_time": "2022-11-29T18:41:24.880Z"
   },
   {
    "duration": 69,
    "start_time": "2022-11-29T18:42:20.474Z"
   },
   {
    "duration": 450,
    "start_time": "2022-11-29T18:43:15.429Z"
   },
   {
    "duration": 20,
    "start_time": "2022-11-29T18:43:15.881Z"
   },
   {
    "duration": 51,
    "start_time": "2022-11-29T18:43:15.902Z"
   },
   {
    "duration": 9,
    "start_time": "2022-11-29T18:43:15.954Z"
   },
   {
    "duration": 42,
    "start_time": "2022-11-29T18:43:15.964Z"
   },
   {
    "duration": 5,
    "start_time": "2022-11-29T18:43:16.008Z"
   },
   {
    "duration": 24,
    "start_time": "2022-11-29T18:43:16.015Z"
   },
   {
    "duration": 4,
    "start_time": "2022-11-29T18:43:16.041Z"
   },
   {
    "duration": 11,
    "start_time": "2022-11-29T18:43:16.046Z"
   },
   {
    "duration": 7,
    "start_time": "2022-11-29T18:43:16.059Z"
   },
   {
    "duration": 46,
    "start_time": "2022-11-29T18:43:16.068Z"
   },
   {
    "duration": 15,
    "start_time": "2022-11-29T18:43:16.117Z"
   },
   {
    "duration": 4,
    "start_time": "2022-11-29T18:43:16.133Z"
   },
   {
    "duration": 22,
    "start_time": "2022-11-29T18:43:16.139Z"
   },
   {
    "duration": 20,
    "start_time": "2022-11-29T18:43:16.162Z"
   },
   {
    "duration": 45,
    "start_time": "2022-11-29T18:43:16.184Z"
   },
   {
    "duration": 9,
    "start_time": "2022-11-29T18:43:16.230Z"
   },
   {
    "duration": 13,
    "start_time": "2022-11-29T18:43:16.241Z"
   },
   {
    "duration": 9,
    "start_time": "2022-11-29T18:43:16.256Z"
   },
   {
    "duration": 4,
    "start_time": "2022-11-29T18:43:16.266Z"
   },
   {
    "duration": 12,
    "start_time": "2022-11-29T18:43:16.271Z"
   },
   {
    "duration": 22,
    "start_time": "2022-11-29T18:43:16.285Z"
   },
   {
    "duration": 12,
    "start_time": "2022-11-29T18:43:16.310Z"
   },
   {
    "duration": 10,
    "start_time": "2022-11-29T18:43:16.323Z"
   },
   {
    "duration": 8,
    "start_time": "2022-11-29T18:43:16.334Z"
   },
   {
    "duration": 7,
    "start_time": "2022-11-29T18:43:27.710Z"
   },
   {
    "duration": 19,
    "start_time": "2022-11-29T18:43:37.540Z"
   },
   {
    "duration": 17,
    "start_time": "2022-11-29T18:43:54.217Z"
   },
   {
    "duration": 20,
    "start_time": "2022-11-29T18:44:45.663Z"
   },
   {
    "duration": 31,
    "start_time": "2022-11-29T18:48:48.248Z"
   },
   {
    "duration": 30,
    "start_time": "2022-11-29T18:49:07.446Z"
   },
   {
    "duration": 20,
    "start_time": "2022-11-29T18:52:12.018Z"
   },
   {
    "duration": 109,
    "start_time": "2022-11-29T18:56:35.073Z"
   },
   {
    "duration": 43,
    "start_time": "2022-11-29T18:56:43.779Z"
   },
   {
    "duration": 9,
    "start_time": "2022-11-29T18:58:13.584Z"
   },
   {
    "duration": 67,
    "start_time": "2022-11-29T19:03:09.996Z"
   },
   {
    "duration": 65,
    "start_time": "2022-11-29T19:08:33.702Z"
   },
   {
    "duration": 80,
    "start_time": "2022-11-29T19:09:07.322Z"
   },
   {
    "duration": 127,
    "start_time": "2022-11-29T19:09:32.070Z"
   },
   {
    "duration": 4,
    "start_time": "2022-11-29T19:10:18.999Z"
   },
   {
    "duration": 10,
    "start_time": "2022-11-29T19:10:23.415Z"
   },
   {
    "duration": 60,
    "start_time": "2022-11-29T19:12:19.675Z"
   },
   {
    "duration": 3,
    "start_time": "2022-11-29T19:12:21.321Z"
   },
   {
    "duration": 8,
    "start_time": "2022-11-29T19:12:22.296Z"
   },
   {
    "duration": 26,
    "start_time": "2022-11-29T19:12:29.442Z"
   },
   {
    "duration": 11,
    "start_time": "2022-11-29T19:13:05.788Z"
   },
   {
    "duration": 17,
    "start_time": "2022-11-29T19:19:32.966Z"
   },
   {
    "duration": 470,
    "start_time": "2022-11-29T19:19:45.426Z"
   },
   {
    "duration": 21,
    "start_time": "2022-11-29T19:19:45.897Z"
   },
   {
    "duration": 42,
    "start_time": "2022-11-29T19:19:45.919Z"
   },
   {
    "duration": 9,
    "start_time": "2022-11-29T19:19:45.963Z"
   },
   {
    "duration": 54,
    "start_time": "2022-11-29T19:19:45.973Z"
   },
   {
    "duration": 3,
    "start_time": "2022-11-29T19:19:46.029Z"
   },
   {
    "duration": 21,
    "start_time": "2022-11-29T19:19:46.033Z"
   },
   {
    "duration": 16,
    "start_time": "2022-11-29T19:19:46.055Z"
   },
   {
    "duration": 17,
    "start_time": "2022-11-29T19:19:46.072Z"
   },
   {
    "duration": 8,
    "start_time": "2022-11-29T19:19:46.090Z"
   },
   {
    "duration": 40,
    "start_time": "2022-11-29T19:19:46.099Z"
   },
   {
    "duration": 10,
    "start_time": "2022-11-29T19:19:46.141Z"
   },
   {
    "duration": 37,
    "start_time": "2022-11-29T19:19:46.152Z"
   },
   {
    "duration": 20,
    "start_time": "2022-11-29T19:19:46.191Z"
   },
   {
    "duration": 36,
    "start_time": "2022-11-29T19:19:46.214Z"
   },
   {
    "duration": 15,
    "start_time": "2022-11-29T19:19:46.251Z"
   },
   {
    "duration": 3,
    "start_time": "2022-11-29T19:19:46.268Z"
   },
   {
    "duration": 19,
    "start_time": "2022-11-29T19:19:46.272Z"
   },
   {
    "duration": 5,
    "start_time": "2022-11-29T19:19:46.293Z"
   },
   {
    "duration": 10,
    "start_time": "2022-11-29T19:19:46.299Z"
   },
   {
    "duration": 15,
    "start_time": "2022-11-29T19:19:46.310Z"
   },
   {
    "duration": 9,
    "start_time": "2022-11-29T19:19:46.326Z"
   },
   {
    "duration": 5,
    "start_time": "2022-11-29T19:19:46.336Z"
   },
   {
    "duration": 19,
    "start_time": "2022-11-29T19:19:46.342Z"
   },
   {
    "duration": 7,
    "start_time": "2022-11-29T19:19:46.362Z"
   },
   {
    "duration": 21,
    "start_time": "2022-11-29T19:19:46.370Z"
   },
   {
    "duration": 14,
    "start_time": "2022-11-29T19:19:46.393Z"
   },
   {
    "duration": 74,
    "start_time": "2022-11-29T19:22:01.262Z"
   },
   {
    "duration": 13,
    "start_time": "2022-11-29T19:25:48.525Z"
   },
   {
    "duration": 11,
    "start_time": "2022-11-29T19:30:01.073Z"
   }
  ],
  "colab": {
   "name": "dpp_template_part2.ipynb",
   "provenance": []
  },
  "kernelspec": {
   "display_name": "Python 3 (ipykernel)",
   "language": "python",
   "name": "python3"
  },
  "language_info": {
   "codemirror_mode": {
    "name": "ipython",
    "version": 3
   },
   "file_extension": ".py",
   "mimetype": "text/x-python",
   "name": "python",
   "nbconvert_exporter": "python",
   "pygments_lexer": "ipython3",
   "version": "3.9.5"
  },
  "toc": {
   "base_numbering": 1,
   "nav_menu": {},
   "number_sections": true,
   "sideBar": true,
   "skip_h1_title": true,
   "title_cell": "Table of Contents",
   "title_sidebar": "Contents",
   "toc_cell": false,
   "toc_position": {},
   "toc_section_display": true,
   "toc_window_display": false
  }
 },
 "nbformat": 4,
 "nbformat_minor": 5
}
