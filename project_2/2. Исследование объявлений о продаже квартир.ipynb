{
 "cells": [
  {
   "cell_type": "markdown",
   "metadata": {},
   "source": [
    "### Откроем файл с данными и изучим общую информацию. "
   ]
  },
  {
   "cell_type": "code",
   "execution_count": 1,
   "metadata": {},
   "outputs": [],
   "source": [
    "import pandas as pd\n",
    "import numpy as np"
   ]
  },
  {
   "cell_type": "code",
   "execution_count": 2,
   "metadata": {
    "scrolled": false
   },
   "outputs": [
    {
     "name": "stdout",
     "output_type": "stream",
     "text": [
      "   total_images  last_price  total_area first_day_exposition  rooms  \\\n",
      "0            20  13000000.0      108.00  2019-03-07T00:00:00      3   \n",
      "1             7   3350000.0       40.40  2018-12-04T00:00:00      1   \n",
      "2            10   5196000.0       56.00  2015-08-20T00:00:00      2   \n",
      "3             0  64900000.0      159.00  2015-07-24T00:00:00      3   \n",
      "4             2  10000000.0      100.00  2018-06-19T00:00:00      2   \n",
      "5            10   2890000.0       30.40  2018-09-10T00:00:00      1   \n",
      "6             6   3700000.0       37.30  2017-11-02T00:00:00      1   \n",
      "7             5   7915000.0       71.60  2019-04-18T00:00:00      2   \n",
      "8            20   2900000.0       33.16  2018-05-23T00:00:00      1   \n",
      "9            18   5400000.0       61.00  2017-02-26T00:00:00      3   \n",
      "\n",
      "   ceiling_height  floors_total  living_area  floor is_apartment  ...  \\\n",
      "0            2.70          16.0        51.00      8          NaN  ...   \n",
      "1             NaN          11.0        18.60      1          NaN  ...   \n",
      "2             NaN           5.0        34.30      4          NaN  ...   \n",
      "3             NaN          14.0          NaN      9          NaN  ...   \n",
      "4            3.03          14.0        32.00     13          NaN  ...   \n",
      "5             NaN          12.0        14.40      5          NaN  ...   \n",
      "6             NaN          26.0        10.60      6          NaN  ...   \n",
      "7             NaN          24.0          NaN     22          NaN  ...   \n",
      "8             NaN          27.0        15.43     26          NaN  ...   \n",
      "9            2.50           9.0        43.60      7          NaN  ...   \n",
      "\n",
      "   kitchen_area  balcony              locality_name  airports_nearest  \\\n",
      "0         25.00      NaN            Санкт-Петербург           18863.0   \n",
      "1         11.00      2.0             посёлок Шушары           12817.0   \n",
      "2          8.30      0.0            Санкт-Петербург           21741.0   \n",
      "3           NaN      0.0            Санкт-Петербург           28098.0   \n",
      "4         41.00      NaN            Санкт-Петербург           31856.0   \n",
      "5          9.10      NaN  городской посёлок Янино-1               NaN   \n",
      "6         14.40      1.0          посёлок Парголово           52996.0   \n",
      "7         18.90      2.0            Санкт-Петербург           23982.0   \n",
      "8          8.81      NaN             посёлок Мурино               NaN   \n",
      "9          6.50      2.0            Санкт-Петербург           50898.0   \n",
      "\n",
      "  cityCenters_nearest  parks_around3000  parks_nearest  ponds_around3000  \\\n",
      "0             16028.0               1.0          482.0               2.0   \n",
      "1             18603.0               0.0            NaN               0.0   \n",
      "2             13933.0               1.0           90.0               2.0   \n",
      "3              6800.0               2.0           84.0               3.0   \n",
      "4              8098.0               2.0          112.0               1.0   \n",
      "5                 NaN               NaN            NaN               NaN   \n",
      "6             19143.0               0.0            NaN               0.0   \n",
      "7             11634.0               0.0            NaN               0.0   \n",
      "8                 NaN               NaN            NaN               NaN   \n",
      "9             15008.0               0.0            NaN               0.0   \n",
      "\n",
      "   ponds_nearest  days_exposition  \n",
      "0          755.0              NaN  \n",
      "1            NaN             81.0  \n",
      "2          574.0            558.0  \n",
      "3          234.0            424.0  \n",
      "4           48.0            121.0  \n",
      "5            NaN             55.0  \n",
      "6            NaN            155.0  \n",
      "7            NaN              NaN  \n",
      "8            NaN            189.0  \n",
      "9            NaN            289.0  \n",
      "\n",
      "[10 rows x 22 columns]\n"
     ]
    }
   ],
   "source": [
    "df = pd.read_csv('/datasets/real_estate_data.csv',sep = '\\t')\n",
    "print(df.head(10))\n"
   ]
  },
  {
   "cell_type": "code",
   "execution_count": 3,
   "metadata": {},
   "outputs": [
    {
     "data": {
      "text/html": [
       "<div>\n",
       "<style scoped>\n",
       "    .dataframe tbody tr th:only-of-type {\n",
       "        vertical-align: middle;\n",
       "    }\n",
       "\n",
       "    .dataframe tbody tr th {\n",
       "        vertical-align: top;\n",
       "    }\n",
       "\n",
       "    .dataframe thead th {\n",
       "        text-align: right;\n",
       "    }\n",
       "</style>\n",
       "<table border=\"1\" class=\"dataframe\">\n",
       "  <thead>\n",
       "    <tr style=\"text-align: right;\">\n",
       "      <th></th>\n",
       "      <th>total_images</th>\n",
       "      <th>last_price</th>\n",
       "      <th>total_area</th>\n",
       "      <th>rooms</th>\n",
       "      <th>ceiling_height</th>\n",
       "      <th>floors_total</th>\n",
       "      <th>living_area</th>\n",
       "      <th>floor</th>\n",
       "      <th>kitchen_area</th>\n",
       "      <th>balcony</th>\n",
       "      <th>airports_nearest</th>\n",
       "      <th>cityCenters_nearest</th>\n",
       "      <th>parks_around3000</th>\n",
       "      <th>parks_nearest</th>\n",
       "      <th>ponds_around3000</th>\n",
       "      <th>ponds_nearest</th>\n",
       "      <th>days_exposition</th>\n",
       "    </tr>\n",
       "  </thead>\n",
       "  <tbody>\n",
       "    <tr>\n",
       "      <th>count</th>\n",
       "      <td>23699.000000</td>\n",
       "      <td>2.369900e+04</td>\n",
       "      <td>23699.000000</td>\n",
       "      <td>23699.000000</td>\n",
       "      <td>14504.000000</td>\n",
       "      <td>23613.000000</td>\n",
       "      <td>21796.000000</td>\n",
       "      <td>23699.000000</td>\n",
       "      <td>21421.000000</td>\n",
       "      <td>12180.000000</td>\n",
       "      <td>18157.000000</td>\n",
       "      <td>18180.000000</td>\n",
       "      <td>18181.000000</td>\n",
       "      <td>8079.000000</td>\n",
       "      <td>18181.000000</td>\n",
       "      <td>9110.000000</td>\n",
       "      <td>20518.000000</td>\n",
       "    </tr>\n",
       "    <tr>\n",
       "      <th>mean</th>\n",
       "      <td>9.858475</td>\n",
       "      <td>6.541549e+06</td>\n",
       "      <td>60.348651</td>\n",
       "      <td>2.070636</td>\n",
       "      <td>2.771499</td>\n",
       "      <td>10.673824</td>\n",
       "      <td>34.457852</td>\n",
       "      <td>5.892358</td>\n",
       "      <td>10.569807</td>\n",
       "      <td>1.150082</td>\n",
       "      <td>28793.672193</td>\n",
       "      <td>14191.277833</td>\n",
       "      <td>0.611408</td>\n",
       "      <td>490.804555</td>\n",
       "      <td>0.770255</td>\n",
       "      <td>517.980900</td>\n",
       "      <td>180.888634</td>\n",
       "    </tr>\n",
       "    <tr>\n",
       "      <th>std</th>\n",
       "      <td>5.682529</td>\n",
       "      <td>1.088701e+07</td>\n",
       "      <td>35.654083</td>\n",
       "      <td>1.078405</td>\n",
       "      <td>1.261056</td>\n",
       "      <td>6.597173</td>\n",
       "      <td>22.030445</td>\n",
       "      <td>4.885249</td>\n",
       "      <td>5.905438</td>\n",
       "      <td>1.071300</td>\n",
       "      <td>12630.880622</td>\n",
       "      <td>8608.386210</td>\n",
       "      <td>0.802074</td>\n",
       "      <td>342.317995</td>\n",
       "      <td>0.938346</td>\n",
       "      <td>277.720643</td>\n",
       "      <td>219.727988</td>\n",
       "    </tr>\n",
       "    <tr>\n",
       "      <th>min</th>\n",
       "      <td>0.000000</td>\n",
       "      <td>1.219000e+04</td>\n",
       "      <td>12.000000</td>\n",
       "      <td>0.000000</td>\n",
       "      <td>1.000000</td>\n",
       "      <td>1.000000</td>\n",
       "      <td>2.000000</td>\n",
       "      <td>1.000000</td>\n",
       "      <td>1.300000</td>\n",
       "      <td>0.000000</td>\n",
       "      <td>0.000000</td>\n",
       "      <td>181.000000</td>\n",
       "      <td>0.000000</td>\n",
       "      <td>1.000000</td>\n",
       "      <td>0.000000</td>\n",
       "      <td>13.000000</td>\n",
       "      <td>1.000000</td>\n",
       "    </tr>\n",
       "    <tr>\n",
       "      <th>25%</th>\n",
       "      <td>6.000000</td>\n",
       "      <td>3.400000e+06</td>\n",
       "      <td>40.000000</td>\n",
       "      <td>1.000000</td>\n",
       "      <td>2.520000</td>\n",
       "      <td>5.000000</td>\n",
       "      <td>18.600000</td>\n",
       "      <td>2.000000</td>\n",
       "      <td>7.000000</td>\n",
       "      <td>0.000000</td>\n",
       "      <td>18585.000000</td>\n",
       "      <td>9238.000000</td>\n",
       "      <td>0.000000</td>\n",
       "      <td>288.000000</td>\n",
       "      <td>0.000000</td>\n",
       "      <td>294.000000</td>\n",
       "      <td>45.000000</td>\n",
       "    </tr>\n",
       "    <tr>\n",
       "      <th>50%</th>\n",
       "      <td>9.000000</td>\n",
       "      <td>4.650000e+06</td>\n",
       "      <td>52.000000</td>\n",
       "      <td>2.000000</td>\n",
       "      <td>2.650000</td>\n",
       "      <td>9.000000</td>\n",
       "      <td>30.000000</td>\n",
       "      <td>4.000000</td>\n",
       "      <td>9.100000</td>\n",
       "      <td>1.000000</td>\n",
       "      <td>26726.000000</td>\n",
       "      <td>13098.500000</td>\n",
       "      <td>0.000000</td>\n",
       "      <td>455.000000</td>\n",
       "      <td>1.000000</td>\n",
       "      <td>502.000000</td>\n",
       "      <td>95.000000</td>\n",
       "    </tr>\n",
       "    <tr>\n",
       "      <th>75%</th>\n",
       "      <td>14.000000</td>\n",
       "      <td>6.800000e+06</td>\n",
       "      <td>69.900000</td>\n",
       "      <td>3.000000</td>\n",
       "      <td>2.800000</td>\n",
       "      <td>16.000000</td>\n",
       "      <td>42.300000</td>\n",
       "      <td>8.000000</td>\n",
       "      <td>12.000000</td>\n",
       "      <td>2.000000</td>\n",
       "      <td>37273.000000</td>\n",
       "      <td>16293.000000</td>\n",
       "      <td>1.000000</td>\n",
       "      <td>612.000000</td>\n",
       "      <td>1.000000</td>\n",
       "      <td>729.000000</td>\n",
       "      <td>232.000000</td>\n",
       "    </tr>\n",
       "    <tr>\n",
       "      <th>max</th>\n",
       "      <td>50.000000</td>\n",
       "      <td>7.630000e+08</td>\n",
       "      <td>900.000000</td>\n",
       "      <td>19.000000</td>\n",
       "      <td>100.000000</td>\n",
       "      <td>60.000000</td>\n",
       "      <td>409.700000</td>\n",
       "      <td>33.000000</td>\n",
       "      <td>112.000000</td>\n",
       "      <td>5.000000</td>\n",
       "      <td>84869.000000</td>\n",
       "      <td>65968.000000</td>\n",
       "      <td>3.000000</td>\n",
       "      <td>3190.000000</td>\n",
       "      <td>3.000000</td>\n",
       "      <td>1344.000000</td>\n",
       "      <td>1580.000000</td>\n",
       "    </tr>\n",
       "  </tbody>\n",
       "</table>\n",
       "</div>"
      ],
      "text/plain": [
       "       total_images    last_price    total_area         rooms  ceiling_height  \\\n",
       "count  23699.000000  2.369900e+04  23699.000000  23699.000000    14504.000000   \n",
       "mean       9.858475  6.541549e+06     60.348651      2.070636        2.771499   \n",
       "std        5.682529  1.088701e+07     35.654083      1.078405        1.261056   \n",
       "min        0.000000  1.219000e+04     12.000000      0.000000        1.000000   \n",
       "25%        6.000000  3.400000e+06     40.000000      1.000000        2.520000   \n",
       "50%        9.000000  4.650000e+06     52.000000      2.000000        2.650000   \n",
       "75%       14.000000  6.800000e+06     69.900000      3.000000        2.800000   \n",
       "max       50.000000  7.630000e+08    900.000000     19.000000      100.000000   \n",
       "\n",
       "       floors_total   living_area         floor  kitchen_area       balcony  \\\n",
       "count  23613.000000  21796.000000  23699.000000  21421.000000  12180.000000   \n",
       "mean      10.673824     34.457852      5.892358     10.569807      1.150082   \n",
       "std        6.597173     22.030445      4.885249      5.905438      1.071300   \n",
       "min        1.000000      2.000000      1.000000      1.300000      0.000000   \n",
       "25%        5.000000     18.600000      2.000000      7.000000      0.000000   \n",
       "50%        9.000000     30.000000      4.000000      9.100000      1.000000   \n",
       "75%       16.000000     42.300000      8.000000     12.000000      2.000000   \n",
       "max       60.000000    409.700000     33.000000    112.000000      5.000000   \n",
       "\n",
       "       airports_nearest  cityCenters_nearest  parks_around3000  parks_nearest  \\\n",
       "count      18157.000000         18180.000000      18181.000000    8079.000000   \n",
       "mean       28793.672193         14191.277833          0.611408     490.804555   \n",
       "std        12630.880622          8608.386210          0.802074     342.317995   \n",
       "min            0.000000           181.000000          0.000000       1.000000   \n",
       "25%        18585.000000          9238.000000          0.000000     288.000000   \n",
       "50%        26726.000000         13098.500000          0.000000     455.000000   \n",
       "75%        37273.000000         16293.000000          1.000000     612.000000   \n",
       "max        84869.000000         65968.000000          3.000000    3190.000000   \n",
       "\n",
       "       ponds_around3000  ponds_nearest  days_exposition  \n",
       "count      18181.000000    9110.000000     20518.000000  \n",
       "mean           0.770255     517.980900       180.888634  \n",
       "std            0.938346     277.720643       219.727988  \n",
       "min            0.000000      13.000000         1.000000  \n",
       "25%            0.000000     294.000000        45.000000  \n",
       "50%            1.000000     502.000000        95.000000  \n",
       "75%            1.000000     729.000000       232.000000  \n",
       "max            3.000000    1344.000000      1580.000000  "
      ]
     },
     "metadata": {},
     "output_type": "display_data"
    }
   ],
   "source": [
    "display(df.describe())"
   ]
  },
  {
   "cell_type": "code",
   "execution_count": 4,
   "metadata": {},
   "outputs": [
    {
     "name": "stdout",
     "output_type": "stream",
     "text": [
      "<class 'pandas.core.frame.DataFrame'>\n",
      "RangeIndex: 23699 entries, 0 to 23698\n",
      "Data columns (total 22 columns):\n",
      " #   Column                Non-Null Count  Dtype  \n",
      "---  ------                --------------  -----  \n",
      " 0   total_images          23699 non-null  int64  \n",
      " 1   last_price            23699 non-null  float64\n",
      " 2   total_area            23699 non-null  float64\n",
      " 3   first_day_exposition  23699 non-null  object \n",
      " 4   rooms                 23699 non-null  int64  \n",
      " 5   ceiling_height        14504 non-null  float64\n",
      " 6   floors_total          23613 non-null  float64\n",
      " 7   living_area           21796 non-null  float64\n",
      " 8   floor                 23699 non-null  int64  \n",
      " 9   is_apartment          2775 non-null   object \n",
      " 10  studio                23699 non-null  bool   \n",
      " 11  open_plan             23699 non-null  bool   \n",
      " 12  kitchen_area          21421 non-null  float64\n",
      " 13  balcony               12180 non-null  float64\n",
      " 14  locality_name         23650 non-null  object \n",
      " 15  airports_nearest      18157 non-null  float64\n",
      " 16  cityCenters_nearest   18180 non-null  float64\n",
      " 17  parks_around3000      18181 non-null  float64\n",
      " 18  parks_nearest         8079 non-null   float64\n",
      " 19  ponds_around3000      18181 non-null  float64\n",
      " 20  ponds_nearest         9110 non-null   float64\n",
      " 21  days_exposition       20518 non-null  float64\n",
      "dtypes: bool(2), float64(14), int64(3), object(3)\n",
      "memory usage: 3.7+ MB\n"
     ]
    },
    {
     "data": {
      "text/plain": [
       "None"
      ]
     },
     "metadata": {},
     "output_type": "display_data"
    }
   ],
   "source": [
    "display(df.info())"
   ]
  },
  {
   "cell_type": "code",
   "execution_count": 5,
   "metadata": {},
   "outputs": [
    {
     "data": {
      "image/png": "[encoded data removed]",
      "text/plain": [
       "<Figure size 1080x1440 with 20 Axes>"
      ]
     },
     "metadata": {
      "needs_background": "light"
     },
     "output_type": "display_data"
    }
   ],
   "source": [
    "df.hist(figsize=(15, 20));"
   ]
  },
  {
   "cell_type": "markdown",
   "metadata": {},
   "source": [
    "Распределение на гистограммах кажется вполне нормальным. За исключением гистограммы \"балконы\", там присутствуют аномальные значения."
   ]
  },
  {
   "cell_type": "markdown",
   "metadata": {},
   "source": [
    "#### Промежуточный вывод\n",
    "Из полученных данных методом info, видно,что у нас есть пропущенные данные в следующих позициях:\n",
    " * ceiling_height- высота потолков (м).\n",
    " * floors_total- всего этажей в доме.\n",
    " * living_area- жилая площадь в квадратных метрах (м²).\n",
    " * kitchen_area- площадь кухни в квадратных метрах (м²).\n",
    "\n",
    "\n",
    "Здесь можно заполнить пропуски медианой. Среднее будет не совсем корректно,так как ,глядя на вывод метода describe, можно заметить,что есть кваритры с аномальными значениями в данных колонках.\n",
    "\n",
    "\n",
    "* is_apartment- апартаменты (булев тип).\n",
    "* balcony- число балконов.\n",
    "\n",
    "\n",
    "Если пользвователь не указал апартаменты и количество балконов. Вероятнее всего в его квартире попросту нет балконов и она не является апартаментами. Поэтому заполним пропуски исходя из данного вывода.\n",
    "\n",
    "\n",
    "* locality_name- название населённого пункта.\n",
    "\n",
    "\n",
    "Пропущенных значений не так много 300 из почти 24000 (~1,26%). Оставим так как есть.\n",
    "\n",
    "\n",
    "* airports_nearest- расстояние до ближайшего аэропорта в метрах (м).\n",
    "\n",
    "\n",
    " В Питере один гражданский аэропорт.Можно сгруппировать пропущенные данные с колонкой расстояние до центра. У столбоцов с пропущенными значениями, что максимально близко к центру, укажем расстояние до аэропорта, как расстояние от центра до Пулково. \n",
    " \n",
    " \n",
    "* parks_around3000- число парков в радиусе 3 км.\n",
    "* ponds_around3000- число водоёмов в радиусе 3 км.\n",
    "\n",
    "\n",
    "Максимальным в данных столбцах является число 3, можно преположить, что пропущенные значения, те, где больше трех парков и водоемов, но нет подтверждений этому, поэтому оставим так как есть.\n",
    " \n",
    " \n",
    "* parks_nearest- расстояние до ближайшего парка (м).\n",
    "* ponds_nearest- расстояние до ближайшего водоёма (м).\n",
    " \n",
    " \n",
    " Заполненных значений в parks_around3000/ponds_around3000 около 18 000, а в parks_nearest/ponds_nearest около 9000. Что-то не сходится. Можно заполнить пропущенные значения расстоянием 3000, если данные присутствуют в колонке количетсва парков/водоёмов.\n",
    "\n",
    "\n",
    "* days_exposition- сколько дней было размещено объявление (от публикации до снятия).\n",
    "\n",
    "\n",
    "Пропущенные значения объясняются тем, что объявление еще не сняли.\n",
    "\n",
    "\n",
    "\n",
    " Также предстоит разобраться с дубликатами и привести в порядок типы данных- где-то он не подходящий, где-то изменение необходимо для оптимизации.\n"
   ]
  },
  {
   "cell_type": "markdown",
   "metadata": {},
   "source": [
    "### Предобработка данных"
   ]
  },
  {
   "cell_type": "markdown",
   "metadata": {},
   "source": [
    "#### Пропуски\n",
    "Преобразуем пропуски:"
   ]
  },
  {
   "cell_type": "code",
   "execution_count": 6,
   "metadata": {},
   "outputs": [],
   "source": [
    "df['ceiling_height'] = df['ceiling_height'].fillna(df['ceiling_height'].median())\n",
    "#df['floors_total'] = df['floors_total'].fillna(df['floors_total'].median())\n",
    "#df['living_area'] = df['living_area'].fillna(df['living_area'].median())\n",
    "#df['kitchen_area'] = df['kitchen_area'].fillna(df['kitchen_area'].median())\n",
    "df['is_apartment'] = df['is_apartment'].fillna(0)\n",
    "df['balcony'] = df['balcony'].fillna(0)\n",
    "#damn = df[df['cityCenters_nearest']<3000]\n",
    "#damn[damn['airports_nearest'].isnull() == True]- теория с заполнением пропусков для квартир находящихся близко к центру провалилась.\n",
    "\n",
    "df['parks_nearest'] = df[df['parks_around3000'] != 0]['parks_nearest'].fillna(3000)#добавляем расстояние 3000 м для позиций где парк есть в предлах до 3 км, но нет значения в колонке расстояние до парка..\n",
    "df['ponds_around3000'] = df[df['ponds_around3000'] != 0]['ponds_nearest'].fillna(3000)#аналогично для водоемов.\n",
    "#df.info()\n"
   ]
  },
  {
   "cell_type": "markdown",
   "metadata": {},
   "source": [
    "#### Дубликаты\n",
    "Теперь займемся дубликатами:\n",
    "* посмотрим присутствуют ли явные дубликаты в датасете\n",
    "* проработаем столбец locality_name"
   ]
  },
  {
   "cell_type": "code",
   "execution_count": 7,
   "metadata": {},
   "outputs": [
    {
     "name": "stdout",
     "output_type": "stream",
     "text": [
      "0\n"
     ]
    }
   ],
   "source": [
    "print(df.duplicated().sum())# проверим DataFrame на явные дубликаты\n",
    "df['locality_name'] = df['locality_name'].str.lower()# приведем все значение к нижнему регистру\n",
    "df['locality_name'] = df['locality_name'].str.replace('посёлок','поселок')\n",
    "df['locality_name'] = df['locality_name'].str.replace('посёлок','поселок')\n",
    "df['locality_name'] = df['locality_name'].str.replace('городской посёлок','поселок')\n",
    "df['locality_name'] = df['locality_name'].str.replace('городской поселок','поселок')\n",
    "df['locality_name'] = df['locality_name'].str.replace('посёлок городского типа','поселок')\n",
    "df['locality_name'] = df['locality_name'].str.replace('поселок городского типа','поселок')\n",
    "#len(df['locality_name'].unique()) 323 строки вместо 365. Методом replace мы избавились от тавтоогии в столбце locality_name\n",
    "#df['locality_name'].unique()"
   ]
  },
  {
   "cell_type": "markdown",
   "metadata": {},
   "source": [
    "#### Типы данных\n",
    "Произведем обработку типов данных:\n",
    "* во-первых поменяем тип с float на int, где это возможно. Так как int затрачивает меньше памяти.\n",
    "* во-вторых поменяем is_apartment на тип данных bool и first_day_exposition на datatime."
   ]
  },
  {
   "cell_type": "code",
   "execution_count": 8,
   "metadata": {},
   "outputs": [],
   "source": [
    "df = df.astype({ \"is_apartment\": \"bool\", \"first_day_exposition\": \"datetime64\"})\n",
    "name = ['last_price','floor','balcony']\n",
    "for i in name:\n",
    "    df[i] = df[i].astype('int64')\n",
    "#df['floors_total'] = df['floors_total'].astype('int64')\n",
    "\n",
    "#df.info() #удалось сократить размер  затрачиваемой памяти с 3.7 до 3.5 Mb"
   ]
  },
  {
   "cell_type": "markdown",
   "metadata": {},
   "source": [
    "#### Аномальные значения"
   ]
  },
  {
   "cell_type": "markdown",
   "metadata": {},
   "source": [
    "Попытаемся выявить аномальные значения по каждому столбцу:\n",
    "* удалим аномально большие значения высот потолков\n",
    "* в питере максимальная этажность жилых зданий равна 37, удалим все значения больше указанного\n",
    "* с помощью правила 3 сигм избавимся от аномальных значений в колонках rooms,total_area,last_price\n"
   ]
  },
  {
   "cell_type": "code",
   "execution_count": 9,
   "metadata": {},
   "outputs": [
    {
     "name": "stdout",
     "output_type": "stream",
     "text": [
      "По правилу трех сигм 99% всех значений rooms находятся в инервале:  до 5.305968 комнат\n",
      "По правилу трех сигм 99% всех значений total_area находятся в инервале:  до 149.497183 кв.м\n",
      "По правилу трех сигм 99% всех значений last_price находятся в инервале:  до 19156996.0 млн.руб\n",
      "0.95835267310857\n"
     ]
    },
    {
     "data": {
      "text/html": [
       "<div>\n",
       "<style scoped>\n",
       "    .dataframe tbody tr th:only-of-type {\n",
       "        vertical-align: middle;\n",
       "    }\n",
       "\n",
       "    .dataframe tbody tr th {\n",
       "        vertical-align: top;\n",
       "    }\n",
       "\n",
       "    .dataframe thead th {\n",
       "        text-align: right;\n",
       "    }\n",
       "</style>\n",
       "<table border=\"1\" class=\"dataframe\">\n",
       "  <thead>\n",
       "    <tr style=\"text-align: right;\">\n",
       "      <th></th>\n",
       "      <th>total_images</th>\n",
       "      <th>last_price</th>\n",
       "      <th>total_area</th>\n",
       "      <th>first_day_exposition</th>\n",
       "      <th>rooms</th>\n",
       "      <th>ceiling_height</th>\n",
       "      <th>floors_total</th>\n",
       "      <th>living_area</th>\n",
       "      <th>floor</th>\n",
       "      <th>is_apartment</th>\n",
       "      <th>...</th>\n",
       "      <th>kitchen_area</th>\n",
       "      <th>balcony</th>\n",
       "      <th>locality_name</th>\n",
       "      <th>airports_nearest</th>\n",
       "      <th>cityCenters_nearest</th>\n",
       "      <th>parks_around3000</th>\n",
       "      <th>parks_nearest</th>\n",
       "      <th>ponds_around3000</th>\n",
       "      <th>ponds_nearest</th>\n",
       "      <th>days_exposition</th>\n",
       "    </tr>\n",
       "  </thead>\n",
       "  <tbody>\n",
       "    <tr>\n",
       "      <th>0</th>\n",
       "      <td>20</td>\n",
       "      <td>13000000</td>\n",
       "      <td>108.00</td>\n",
       "      <td>2019-03-07</td>\n",
       "      <td>3</td>\n",
       "      <td>2.70</td>\n",
       "      <td>16.0</td>\n",
       "      <td>51.0</td>\n",
       "      <td>8</td>\n",
       "      <td>False</td>\n",
       "      <td>...</td>\n",
       "      <td>25.00</td>\n",
       "      <td>0</td>\n",
       "      <td>санкт-петербург</td>\n",
       "      <td>18863.0</td>\n",
       "      <td>16028.0</td>\n",
       "      <td>1.0</td>\n",
       "      <td>482.0</td>\n",
       "      <td>755.0</td>\n",
       "      <td>755.0</td>\n",
       "      <td>NaN</td>\n",
       "    </tr>\n",
       "    <tr>\n",
       "      <th>1</th>\n",
       "      <td>7</td>\n",
       "      <td>3350000</td>\n",
       "      <td>40.40</td>\n",
       "      <td>2018-12-04</td>\n",
       "      <td>1</td>\n",
       "      <td>2.65</td>\n",
       "      <td>11.0</td>\n",
       "      <td>18.6</td>\n",
       "      <td>1</td>\n",
       "      <td>False</td>\n",
       "      <td>...</td>\n",
       "      <td>11.00</td>\n",
       "      <td>2</td>\n",
       "      <td>поселок шушары</td>\n",
       "      <td>12817.0</td>\n",
       "      <td>18603.0</td>\n",
       "      <td>0.0</td>\n",
       "      <td>NaN</td>\n",
       "      <td>NaN</td>\n",
       "      <td>NaN</td>\n",
       "      <td>81.0</td>\n",
       "    </tr>\n",
       "    <tr>\n",
       "      <th>2</th>\n",
       "      <td>10</td>\n",
       "      <td>5196000</td>\n",
       "      <td>56.00</td>\n",
       "      <td>2015-08-20</td>\n",
       "      <td>2</td>\n",
       "      <td>2.65</td>\n",
       "      <td>5.0</td>\n",
       "      <td>34.3</td>\n",
       "      <td>4</td>\n",
       "      <td>False</td>\n",
       "      <td>...</td>\n",
       "      <td>8.30</td>\n",
       "      <td>0</td>\n",
       "      <td>санкт-петербург</td>\n",
       "      <td>21741.0</td>\n",
       "      <td>13933.0</td>\n",
       "      <td>1.0</td>\n",
       "      <td>90.0</td>\n",
       "      <td>574.0</td>\n",
       "      <td>574.0</td>\n",
       "      <td>558.0</td>\n",
       "    </tr>\n",
       "    <tr>\n",
       "      <th>3</th>\n",
       "      <td>2</td>\n",
       "      <td>10000000</td>\n",
       "      <td>100.00</td>\n",
       "      <td>2018-06-19</td>\n",
       "      <td>2</td>\n",
       "      <td>3.03</td>\n",
       "      <td>14.0</td>\n",
       "      <td>32.0</td>\n",
       "      <td>13</td>\n",
       "      <td>False</td>\n",
       "      <td>...</td>\n",
       "      <td>41.00</td>\n",
       "      <td>0</td>\n",
       "      <td>санкт-петербург</td>\n",
       "      <td>31856.0</td>\n",
       "      <td>8098.0</td>\n",
       "      <td>2.0</td>\n",
       "      <td>112.0</td>\n",
       "      <td>48.0</td>\n",
       "      <td>48.0</td>\n",
       "      <td>121.0</td>\n",
       "    </tr>\n",
       "    <tr>\n",
       "      <th>4</th>\n",
       "      <td>10</td>\n",
       "      <td>2890000</td>\n",
       "      <td>30.40</td>\n",
       "      <td>2018-09-10</td>\n",
       "      <td>1</td>\n",
       "      <td>2.65</td>\n",
       "      <td>12.0</td>\n",
       "      <td>14.4</td>\n",
       "      <td>5</td>\n",
       "      <td>False</td>\n",
       "      <td>...</td>\n",
       "      <td>9.10</td>\n",
       "      <td>0</td>\n",
       "      <td>поселок янино-1</td>\n",
       "      <td>NaN</td>\n",
       "      <td>NaN</td>\n",
       "      <td>NaN</td>\n",
       "      <td>3000.0</td>\n",
       "      <td>3000.0</td>\n",
       "      <td>NaN</td>\n",
       "      <td>55.0</td>\n",
       "    </tr>\n",
       "    <tr>\n",
       "      <th>...</th>\n",
       "      <td>...</td>\n",
       "      <td>...</td>\n",
       "      <td>...</td>\n",
       "      <td>...</td>\n",
       "      <td>...</td>\n",
       "      <td>...</td>\n",
       "      <td>...</td>\n",
       "      <td>...</td>\n",
       "      <td>...</td>\n",
       "      <td>...</td>\n",
       "      <td>...</td>\n",
       "      <td>...</td>\n",
       "      <td>...</td>\n",
       "      <td>...</td>\n",
       "      <td>...</td>\n",
       "      <td>...</td>\n",
       "      <td>...</td>\n",
       "      <td>...</td>\n",
       "      <td>...</td>\n",
       "      <td>...</td>\n",
       "      <td>...</td>\n",
       "    </tr>\n",
       "    <tr>\n",
       "      <th>22707</th>\n",
       "      <td>9</td>\n",
       "      <td>9700000</td>\n",
       "      <td>133.81</td>\n",
       "      <td>2017-03-21</td>\n",
       "      <td>3</td>\n",
       "      <td>3.70</td>\n",
       "      <td>5.0</td>\n",
       "      <td>73.3</td>\n",
       "      <td>3</td>\n",
       "      <td>False</td>\n",
       "      <td>...</td>\n",
       "      <td>13.83</td>\n",
       "      <td>0</td>\n",
       "      <td>санкт-петербург</td>\n",
       "      <td>24665.0</td>\n",
       "      <td>4232.0</td>\n",
       "      <td>1.0</td>\n",
       "      <td>796.0</td>\n",
       "      <td>381.0</td>\n",
       "      <td>381.0</td>\n",
       "      <td>NaN</td>\n",
       "    </tr>\n",
       "    <tr>\n",
       "      <th>22708</th>\n",
       "      <td>14</td>\n",
       "      <td>3100000</td>\n",
       "      <td>59.00</td>\n",
       "      <td>2018-01-15</td>\n",
       "      <td>3</td>\n",
       "      <td>2.65</td>\n",
       "      <td>5.0</td>\n",
       "      <td>38.0</td>\n",
       "      <td>4</td>\n",
       "      <td>False</td>\n",
       "      <td>...</td>\n",
       "      <td>8.50</td>\n",
       "      <td>0</td>\n",
       "      <td>тосно</td>\n",
       "      <td>NaN</td>\n",
       "      <td>NaN</td>\n",
       "      <td>NaN</td>\n",
       "      <td>3000.0</td>\n",
       "      <td>3000.0</td>\n",
       "      <td>NaN</td>\n",
       "      <td>45.0</td>\n",
       "    </tr>\n",
       "    <tr>\n",
       "      <th>22709</th>\n",
       "      <td>18</td>\n",
       "      <td>2500000</td>\n",
       "      <td>56.70</td>\n",
       "      <td>2018-02-11</td>\n",
       "      <td>2</td>\n",
       "      <td>2.65</td>\n",
       "      <td>3.0</td>\n",
       "      <td>29.7</td>\n",
       "      <td>1</td>\n",
       "      <td>False</td>\n",
       "      <td>...</td>\n",
       "      <td>NaN</td>\n",
       "      <td>0</td>\n",
       "      <td>село рождествено</td>\n",
       "      <td>NaN</td>\n",
       "      <td>NaN</td>\n",
       "      <td>NaN</td>\n",
       "      <td>3000.0</td>\n",
       "      <td>3000.0</td>\n",
       "      <td>NaN</td>\n",
       "      <td>NaN</td>\n",
       "    </tr>\n",
       "    <tr>\n",
       "      <th>22710</th>\n",
       "      <td>13</td>\n",
       "      <td>11475000</td>\n",
       "      <td>76.75</td>\n",
       "      <td>2017-03-28</td>\n",
       "      <td>2</td>\n",
       "      <td>3.00</td>\n",
       "      <td>17.0</td>\n",
       "      <td>NaN</td>\n",
       "      <td>12</td>\n",
       "      <td>False</td>\n",
       "      <td>...</td>\n",
       "      <td>23.30</td>\n",
       "      <td>2</td>\n",
       "      <td>санкт-петербург</td>\n",
       "      <td>39140.0</td>\n",
       "      <td>10364.0</td>\n",
       "      <td>2.0</td>\n",
       "      <td>173.0</td>\n",
       "      <td>196.0</td>\n",
       "      <td>196.0</td>\n",
       "      <td>602.0</td>\n",
       "    </tr>\n",
       "    <tr>\n",
       "      <th>22711</th>\n",
       "      <td>4</td>\n",
       "      <td>1350000</td>\n",
       "      <td>32.30</td>\n",
       "      <td>2017-07-21</td>\n",
       "      <td>1</td>\n",
       "      <td>2.50</td>\n",
       "      <td>5.0</td>\n",
       "      <td>12.3</td>\n",
       "      <td>1</td>\n",
       "      <td>False</td>\n",
       "      <td>...</td>\n",
       "      <td>9.00</td>\n",
       "      <td>0</td>\n",
       "      <td>поселок новый учхоз</td>\n",
       "      <td>NaN</td>\n",
       "      <td>NaN</td>\n",
       "      <td>NaN</td>\n",
       "      <td>3000.0</td>\n",
       "      <td>3000.0</td>\n",
       "      <td>NaN</td>\n",
       "      <td>NaN</td>\n",
       "    </tr>\n",
       "  </tbody>\n",
       "</table>\n",
       "<p>22712 rows × 22 columns</p>\n",
       "</div>"
      ],
      "text/plain": [
       "       total_images  last_price  total_area first_day_exposition  rooms  \\\n",
       "0                20    13000000      108.00           2019-03-07      3   \n",
       "1                 7     3350000       40.40           2018-12-04      1   \n",
       "2                10     5196000       56.00           2015-08-20      2   \n",
       "3                 2    10000000      100.00           2018-06-19      2   \n",
       "4                10     2890000       30.40           2018-09-10      1   \n",
       "...             ...         ...         ...                  ...    ...   \n",
       "22707             9     9700000      133.81           2017-03-21      3   \n",
       "22708            14     3100000       59.00           2018-01-15      3   \n",
       "22709            18     2500000       56.70           2018-02-11      2   \n",
       "22710            13    11475000       76.75           2017-03-28      2   \n",
       "22711             4     1350000       32.30           2017-07-21      1   \n",
       "\n",
       "       ceiling_height  floors_total  living_area  floor  is_apartment  ...  \\\n",
       "0                2.70          16.0         51.0      8         False  ...   \n",
       "1                2.65          11.0         18.6      1         False  ...   \n",
       "2                2.65           5.0         34.3      4         False  ...   \n",
       "3                3.03          14.0         32.0     13         False  ...   \n",
       "4                2.65          12.0         14.4      5         False  ...   \n",
       "...               ...           ...          ...    ...           ...  ...   \n",
       "22707            3.70           5.0         73.3      3         False  ...   \n",
       "22708            2.65           5.0         38.0      4         False  ...   \n",
       "22709            2.65           3.0         29.7      1         False  ...   \n",
       "22710            3.00          17.0          NaN     12         False  ...   \n",
       "22711            2.50           5.0         12.3      1         False  ...   \n",
       "\n",
       "       kitchen_area  balcony        locality_name  airports_nearest  \\\n",
       "0             25.00        0      санкт-петербург           18863.0   \n",
       "1             11.00        2       поселок шушары           12817.0   \n",
       "2              8.30        0      санкт-петербург           21741.0   \n",
       "3             41.00        0      санкт-петербург           31856.0   \n",
       "4              9.10        0      поселок янино-1               NaN   \n",
       "...             ...      ...                  ...               ...   \n",
       "22707         13.83        0      санкт-петербург           24665.0   \n",
       "22708          8.50        0                тосно               NaN   \n",
       "22709           NaN        0     село рождествено               NaN   \n",
       "22710         23.30        2      санкт-петербург           39140.0   \n",
       "22711          9.00        0  поселок новый учхоз               NaN   \n",
       "\n",
       "      cityCenters_nearest  parks_around3000  parks_nearest  ponds_around3000  \\\n",
       "0                 16028.0               1.0          482.0             755.0   \n",
       "1                 18603.0               0.0            NaN               NaN   \n",
       "2                 13933.0               1.0           90.0             574.0   \n",
       "3                  8098.0               2.0          112.0              48.0   \n",
       "4                     NaN               NaN         3000.0            3000.0   \n",
       "...                   ...               ...            ...               ...   \n",
       "22707              4232.0               1.0          796.0             381.0   \n",
       "22708                 NaN               NaN         3000.0            3000.0   \n",
       "22709                 NaN               NaN         3000.0            3000.0   \n",
       "22710             10364.0               2.0          173.0             196.0   \n",
       "22711                 NaN               NaN         3000.0            3000.0   \n",
       "\n",
       "       ponds_nearest  days_exposition  \n",
       "0              755.0              NaN  \n",
       "1                NaN             81.0  \n",
       "2              574.0            558.0  \n",
       "3               48.0            121.0  \n",
       "4                NaN             55.0  \n",
       "...              ...              ...  \n",
       "22707          381.0              NaN  \n",
       "22708            NaN             45.0  \n",
       "22709            NaN              NaN  \n",
       "22710          196.0            602.0  \n",
       "22711            NaN              NaN  \n",
       "\n",
       "[22712 rows x 22 columns]"
      ]
     },
     "execution_count": 9,
     "metadata": {},
     "output_type": "execute_result"
    }
   ],
   "source": [
    "df_new = df.loc[df['ceiling_height'] > 10, 'ceiling_height'] = df['ceiling_height']/10\n",
    "df_new = df.drop(df[df['floors_total'] > 37].index)\n",
    "df_new['rooms'].describe()\n",
    "print(f'По правилу трех сигм 99% всех значений rooms находятся в инервале:  до {2.070684+3*1.078428} комнат')\n",
    "df_new = df_new[df_new['rooms']<6]\n",
    "df_new['total_area'].describe()\n",
    "print(f'По правилу трех сигм 99% всех значений total_area находятся в инервале:  до {58.881943+3*30.205080} кв.м')\n",
    "df_new = df_new[df_new['total_area']<150]\n",
    "df_new['last_price'].describe()\n",
    "print(f'По правилу трех сигм 99% всех значений last_price находятся в инервале:  до {5.675278e+06+3*4.493906e+06} млн.руб')\n",
    "df_new = df_new[df_new['last_price']<19160000]\n",
    "print(df_new.shape[0]/df.shape[0]) # меньше 5 %- все отлично\n",
    "df_new.reset_index(drop=True)\n"
   ]
  },
  {
   "cell_type": "markdown",
   "metadata": {},
   "source": [
    "### Посчитаем и добавим в таблицу новые столбцы"
   ]
  },
  {
   "cell_type": "markdown",
   "metadata": {},
   "source": [
    "Добавим в таблицу новые столбцы со следующими параметрами:\n",
    "* new_price- цена одного квадратного метра;\n",
    "* week_day- день недели публикации объявления (0 — понедельник, 1 — вторник и так далее);\n",
    "* month_exposition- месяц публикации объявления;\n",
    "* year_exposition- год публикации объявления;\n",
    "* type_floor- тип этажа квартиры (значения — «первый», «последний», «другой»);\n",
    "* cityCenters_km- расстояние до центра города в километрах (переведем из м в км и округлим до целых значений).\n"
   ]
  },
  {
   "cell_type": "code",
   "execution_count": 10,
   "metadata": {},
   "outputs": [
    {
     "data": {
      "text/html": [
       "<div>\n",
       "<style scoped>\n",
       "    .dataframe tbody tr th:only-of-type {\n",
       "        vertical-align: middle;\n",
       "    }\n",
       "\n",
       "    .dataframe tbody tr th {\n",
       "        vertical-align: top;\n",
       "    }\n",
       "\n",
       "    .dataframe thead th {\n",
       "        text-align: right;\n",
       "    }\n",
       "</style>\n",
       "<table border=\"1\" class=\"dataframe\">\n",
       "  <thead>\n",
       "    <tr style=\"text-align: right;\">\n",
       "      <th></th>\n",
       "      <th>total_images</th>\n",
       "      <th>last_price</th>\n",
       "      <th>total_area</th>\n",
       "      <th>first_day_exposition</th>\n",
       "      <th>rooms</th>\n",
       "      <th>ceiling_height</th>\n",
       "      <th>floors_total</th>\n",
       "      <th>living_area</th>\n",
       "      <th>floor</th>\n",
       "      <th>is_apartment</th>\n",
       "      <th>...</th>\n",
       "      <th>parks_nearest</th>\n",
       "      <th>ponds_around3000</th>\n",
       "      <th>ponds_nearest</th>\n",
       "      <th>days_exposition</th>\n",
       "      <th>new_price</th>\n",
       "      <th>week_day</th>\n",
       "      <th>month_exposition</th>\n",
       "      <th>year_exposition</th>\n",
       "      <th>type_floor</th>\n",
       "      <th>cityCenters_km</th>\n",
       "    </tr>\n",
       "  </thead>\n",
       "  <tbody>\n",
       "    <tr>\n",
       "      <th>0</th>\n",
       "      <td>20</td>\n",
       "      <td>13000000</td>\n",
       "      <td>108.00</td>\n",
       "      <td>2019-03-07</td>\n",
       "      <td>3</td>\n",
       "      <td>2.70</td>\n",
       "      <td>16.0</td>\n",
       "      <td>51.0</td>\n",
       "      <td>8</td>\n",
       "      <td>False</td>\n",
       "      <td>...</td>\n",
       "      <td>482.0</td>\n",
       "      <td>755.0</td>\n",
       "      <td>755.0</td>\n",
       "      <td>NaN</td>\n",
       "      <td>120370.370370</td>\n",
       "      <td>3</td>\n",
       "      <td>3</td>\n",
       "      <td>2019</td>\n",
       "      <td>другой</td>\n",
       "      <td>16.0</td>\n",
       "    </tr>\n",
       "    <tr>\n",
       "      <th>1</th>\n",
       "      <td>7</td>\n",
       "      <td>3350000</td>\n",
       "      <td>40.40</td>\n",
       "      <td>2018-12-04</td>\n",
       "      <td>1</td>\n",
       "      <td>2.65</td>\n",
       "      <td>11.0</td>\n",
       "      <td>18.6</td>\n",
       "      <td>1</td>\n",
       "      <td>False</td>\n",
       "      <td>...</td>\n",
       "      <td>NaN</td>\n",
       "      <td>NaN</td>\n",
       "      <td>NaN</td>\n",
       "      <td>81.0</td>\n",
       "      <td>82920.792079</td>\n",
       "      <td>1</td>\n",
       "      <td>12</td>\n",
       "      <td>2018</td>\n",
       "      <td>первый</td>\n",
       "      <td>19.0</td>\n",
       "    </tr>\n",
       "    <tr>\n",
       "      <th>2</th>\n",
       "      <td>10</td>\n",
       "      <td>5196000</td>\n",
       "      <td>56.00</td>\n",
       "      <td>2015-08-20</td>\n",
       "      <td>2</td>\n",
       "      <td>2.65</td>\n",
       "      <td>5.0</td>\n",
       "      <td>34.3</td>\n",
       "      <td>4</td>\n",
       "      <td>False</td>\n",
       "      <td>...</td>\n",
       "      <td>90.0</td>\n",
       "      <td>574.0</td>\n",
       "      <td>574.0</td>\n",
       "      <td>558.0</td>\n",
       "      <td>92785.714286</td>\n",
       "      <td>3</td>\n",
       "      <td>8</td>\n",
       "      <td>2015</td>\n",
       "      <td>другой</td>\n",
       "      <td>14.0</td>\n",
       "    </tr>\n",
       "    <tr>\n",
       "      <th>4</th>\n",
       "      <td>2</td>\n",
       "      <td>10000000</td>\n",
       "      <td>100.00</td>\n",
       "      <td>2018-06-19</td>\n",
       "      <td>2</td>\n",
       "      <td>3.03</td>\n",
       "      <td>14.0</td>\n",
       "      <td>32.0</td>\n",
       "      <td>13</td>\n",
       "      <td>False</td>\n",
       "      <td>...</td>\n",
       "      <td>112.0</td>\n",
       "      <td>48.0</td>\n",
       "      <td>48.0</td>\n",
       "      <td>121.0</td>\n",
       "      <td>100000.000000</td>\n",
       "      <td>1</td>\n",
       "      <td>6</td>\n",
       "      <td>2018</td>\n",
       "      <td>другой</td>\n",
       "      <td>8.0</td>\n",
       "    </tr>\n",
       "    <tr>\n",
       "      <th>5</th>\n",
       "      <td>10</td>\n",
       "      <td>2890000</td>\n",
       "      <td>30.40</td>\n",
       "      <td>2018-09-10</td>\n",
       "      <td>1</td>\n",
       "      <td>2.65</td>\n",
       "      <td>12.0</td>\n",
       "      <td>14.4</td>\n",
       "      <td>5</td>\n",
       "      <td>False</td>\n",
       "      <td>...</td>\n",
       "      <td>3000.0</td>\n",
       "      <td>3000.0</td>\n",
       "      <td>NaN</td>\n",
       "      <td>55.0</td>\n",
       "      <td>95065.789474</td>\n",
       "      <td>0</td>\n",
       "      <td>9</td>\n",
       "      <td>2018</td>\n",
       "      <td>другой</td>\n",
       "      <td>NaN</td>\n",
       "    </tr>\n",
       "    <tr>\n",
       "      <th>...</th>\n",
       "      <td>...</td>\n",
       "      <td>...</td>\n",
       "      <td>...</td>\n",
       "      <td>...</td>\n",
       "      <td>...</td>\n",
       "      <td>...</td>\n",
       "      <td>...</td>\n",
       "      <td>...</td>\n",
       "      <td>...</td>\n",
       "      <td>...</td>\n",
       "      <td>...</td>\n",
       "      <td>...</td>\n",
       "      <td>...</td>\n",
       "      <td>...</td>\n",
       "      <td>...</td>\n",
       "      <td>...</td>\n",
       "      <td>...</td>\n",
       "      <td>...</td>\n",
       "      <td>...</td>\n",
       "      <td>...</td>\n",
       "      <td>...</td>\n",
       "    </tr>\n",
       "    <tr>\n",
       "      <th>23694</th>\n",
       "      <td>9</td>\n",
       "      <td>9700000</td>\n",
       "      <td>133.81</td>\n",
       "      <td>2017-03-21</td>\n",
       "      <td>3</td>\n",
       "      <td>3.70</td>\n",
       "      <td>5.0</td>\n",
       "      <td>73.3</td>\n",
       "      <td>3</td>\n",
       "      <td>False</td>\n",
       "      <td>...</td>\n",
       "      <td>796.0</td>\n",
       "      <td>381.0</td>\n",
       "      <td>381.0</td>\n",
       "      <td>NaN</td>\n",
       "      <td>72490.845228</td>\n",
       "      <td>1</td>\n",
       "      <td>3</td>\n",
       "      <td>2017</td>\n",
       "      <td>другой</td>\n",
       "      <td>4.0</td>\n",
       "    </tr>\n",
       "    <tr>\n",
       "      <th>23695</th>\n",
       "      <td>14</td>\n",
       "      <td>3100000</td>\n",
       "      <td>59.00</td>\n",
       "      <td>2018-01-15</td>\n",
       "      <td>3</td>\n",
       "      <td>2.65</td>\n",
       "      <td>5.0</td>\n",
       "      <td>38.0</td>\n",
       "      <td>4</td>\n",
       "      <td>False</td>\n",
       "      <td>...</td>\n",
       "      <td>3000.0</td>\n",
       "      <td>3000.0</td>\n",
       "      <td>NaN</td>\n",
       "      <td>45.0</td>\n",
       "      <td>52542.372881</td>\n",
       "      <td>0</td>\n",
       "      <td>1</td>\n",
       "      <td>2018</td>\n",
       "      <td>другой</td>\n",
       "      <td>NaN</td>\n",
       "    </tr>\n",
       "    <tr>\n",
       "      <th>23696</th>\n",
       "      <td>18</td>\n",
       "      <td>2500000</td>\n",
       "      <td>56.70</td>\n",
       "      <td>2018-02-11</td>\n",
       "      <td>2</td>\n",
       "      <td>2.65</td>\n",
       "      <td>3.0</td>\n",
       "      <td>29.7</td>\n",
       "      <td>1</td>\n",
       "      <td>False</td>\n",
       "      <td>...</td>\n",
       "      <td>3000.0</td>\n",
       "      <td>3000.0</td>\n",
       "      <td>NaN</td>\n",
       "      <td>NaN</td>\n",
       "      <td>44091.710758</td>\n",
       "      <td>6</td>\n",
       "      <td>2</td>\n",
       "      <td>2018</td>\n",
       "      <td>первый</td>\n",
       "      <td>NaN</td>\n",
       "    </tr>\n",
       "    <tr>\n",
       "      <th>23697</th>\n",
       "      <td>13</td>\n",
       "      <td>11475000</td>\n",
       "      <td>76.75</td>\n",
       "      <td>2017-03-28</td>\n",
       "      <td>2</td>\n",
       "      <td>3.00</td>\n",
       "      <td>17.0</td>\n",
       "      <td>NaN</td>\n",
       "      <td>12</td>\n",
       "      <td>False</td>\n",
       "      <td>...</td>\n",
       "      <td>173.0</td>\n",
       "      <td>196.0</td>\n",
       "      <td>196.0</td>\n",
       "      <td>602.0</td>\n",
       "      <td>149511.400651</td>\n",
       "      <td>1</td>\n",
       "      <td>3</td>\n",
       "      <td>2017</td>\n",
       "      <td>другой</td>\n",
       "      <td>10.0</td>\n",
       "    </tr>\n",
       "    <tr>\n",
       "      <th>23698</th>\n",
       "      <td>4</td>\n",
       "      <td>1350000</td>\n",
       "      <td>32.30</td>\n",
       "      <td>2017-07-21</td>\n",
       "      <td>1</td>\n",
       "      <td>2.50</td>\n",
       "      <td>5.0</td>\n",
       "      <td>12.3</td>\n",
       "      <td>1</td>\n",
       "      <td>False</td>\n",
       "      <td>...</td>\n",
       "      <td>3000.0</td>\n",
       "      <td>3000.0</td>\n",
       "      <td>NaN</td>\n",
       "      <td>NaN</td>\n",
       "      <td>41795.665635</td>\n",
       "      <td>4</td>\n",
       "      <td>7</td>\n",
       "      <td>2017</td>\n",
       "      <td>первый</td>\n",
       "      <td>NaN</td>\n",
       "    </tr>\n",
       "  </tbody>\n",
       "</table>\n",
       "<p>22712 rows × 28 columns</p>\n",
       "</div>"
      ],
      "text/plain": [
       "       total_images  last_price  total_area first_day_exposition  rooms  \\\n",
       "0                20    13000000      108.00           2019-03-07      3   \n",
       "1                 7     3350000       40.40           2018-12-04      1   \n",
       "2                10     5196000       56.00           2015-08-20      2   \n",
       "4                 2    10000000      100.00           2018-06-19      2   \n",
       "5                10     2890000       30.40           2018-09-10      1   \n",
       "...             ...         ...         ...                  ...    ...   \n",
       "23694             9     9700000      133.81           2017-03-21      3   \n",
       "23695            14     3100000       59.00           2018-01-15      3   \n",
       "23696            18     2500000       56.70           2018-02-11      2   \n",
       "23697            13    11475000       76.75           2017-03-28      2   \n",
       "23698             4     1350000       32.30           2017-07-21      1   \n",
       "\n",
       "       ceiling_height  floors_total  living_area  floor  is_apartment  ...  \\\n",
       "0                2.70          16.0         51.0      8         False  ...   \n",
       "1                2.65          11.0         18.6      1         False  ...   \n",
       "2                2.65           5.0         34.3      4         False  ...   \n",
       "4                3.03          14.0         32.0     13         False  ...   \n",
       "5                2.65          12.0         14.4      5         False  ...   \n",
       "...               ...           ...          ...    ...           ...  ...   \n",
       "23694            3.70           5.0         73.3      3         False  ...   \n",
       "23695            2.65           5.0         38.0      4         False  ...   \n",
       "23696            2.65           3.0         29.7      1         False  ...   \n",
       "23697            3.00          17.0          NaN     12         False  ...   \n",
       "23698            2.50           5.0         12.3      1         False  ...   \n",
       "\n",
       "       parks_nearest  ponds_around3000  ponds_nearest  days_exposition  \\\n",
       "0              482.0             755.0          755.0              NaN   \n",
       "1                NaN               NaN            NaN             81.0   \n",
       "2               90.0             574.0          574.0            558.0   \n",
       "4              112.0              48.0           48.0            121.0   \n",
       "5             3000.0            3000.0            NaN             55.0   \n",
       "...              ...               ...            ...              ...   \n",
       "23694          796.0             381.0          381.0              NaN   \n",
       "23695         3000.0            3000.0            NaN             45.0   \n",
       "23696         3000.0            3000.0            NaN              NaN   \n",
       "23697          173.0             196.0          196.0            602.0   \n",
       "23698         3000.0            3000.0            NaN              NaN   \n",
       "\n",
       "           new_price  week_day  month_exposition  year_exposition  type_floor  \\\n",
       "0      120370.370370         3                 3             2019      другой   \n",
       "1       82920.792079         1                12             2018      первый   \n",
       "2       92785.714286         3                 8             2015      другой   \n",
       "4      100000.000000         1                 6             2018      другой   \n",
       "5       95065.789474         0                 9             2018      другой   \n",
       "...              ...       ...               ...              ...         ...   \n",
       "23694   72490.845228         1                 3             2017      другой   \n",
       "23695   52542.372881         0                 1             2018      другой   \n",
       "23696   44091.710758         6                 2             2018      первый   \n",
       "23697  149511.400651         1                 3             2017      другой   \n",
       "23698   41795.665635         4                 7             2017      первый   \n",
       "\n",
       "       cityCenters_km  \n",
       "0                16.0  \n",
       "1                19.0  \n",
       "2                14.0  \n",
       "4                 8.0  \n",
       "5                 NaN  \n",
       "...               ...  \n",
       "23694             4.0  \n",
       "23695             NaN  \n",
       "23696             NaN  \n",
       "23697            10.0  \n",
       "23698             NaN  \n",
       "\n",
       "[22712 rows x 28 columns]"
      ]
     },
     "metadata": {},
     "output_type": "display_data"
    }
   ],
   "source": [
    "df_new['new_price'] = df_new['last_price']/df_new['total_area']\n",
    "df_new['week_day'] = df_new['first_day_exposition'].dt.weekday\n",
    "df_new['month_exposition'] = df_new['first_day_exposition'].dt.month\n",
    "df_new['year_exposition'] = df_new['first_day_exposition'].dt.year\n",
    "\n",
    "def type_f (row): # создадим функцию которая разобьет нам этажность на категории\n",
    "    if row['floor'] == 1:\n",
    "        return 'первый'\n",
    "    elif row['floor'] == row['floors_total']:\n",
    "        return 'последний'\n",
    "    else:\n",
    "        return 'другой'\n",
    "    \n",
    "df_new['type_floor'] = df_new.apply(type_f,axis=1)#добавим новый столбец с категориями в зависимости от этажа\n",
    "df_new['cityCenters_km'] = df_new['cityCenters_nearest']/1000\n",
    "df_new['cityCenters_km'] = df_new['cityCenters_km'].round(decimals=0)\n",
    "display(df_new)"
   ]
  },
  {
   "cell_type": "markdown",
   "metadata": {},
   "source": [
    "### Исследовательский анализ данных"
   ]
  },
  {
   "cell_type": "markdown",
   "metadata": {},
   "source": [
    "#### Анализ гистограмм по столбцам\n",
    "Построим отдельные гистограммы для каждого из параметров указанных ниже и опишем наблюдения.\n",
    "Параметры объектов для изучения:\n",
    "\n",
    "* общая площадь;\n",
    "* жилая площадь;\n",
    "* площадь кухни;\n",
    "* цена объекта;\n",
    "* количество комнат;\n",
    "* высота потолков;\n",
    "* этаж квартиры;\n",
    "* тип этажа квартиры («первый», «последний», «другой»);\n",
    "* общее количество этажей в доме;\n",
    "* расстояние до центра города в метрах;\n",
    "* расстояние до ближайшего аэропорта;\n",
    "* расстояние до ближайшего парка;\n",
    "* день и месяц публикации объявления.\n"
   ]
  },
  {
   "cell_type": "code",
   "execution_count": 11,
   "metadata": {},
   "outputs": [
    {
     "data": {
      "text/plain": [
       "count    22712.000000\n",
       "mean        55.436288\n",
       "std         21.414425\n",
       "min         12.000000\n",
       "25%         39.600000\n",
       "50%         50.700000\n",
       "75%         66.300000\n",
       "max        149.200000\n",
       "Name: total_area, dtype: float64"
      ]
     },
     "metadata": {},
     "output_type": "display_data"
    },
    {
     "data": {
      "image/png": "[encoded data removed]",
      "text/plain": [
       "<Figure size 576x576 with 1 Axes>"
      ]
     },
     "metadata": {
      "needs_background": "light"
     },
     "output_type": "display_data"
    }
   ],
   "source": [
    "display(df_new['total_area'].describe())\n",
    "df_new.hist('total_area',bins=50,grid=True,figsize=(8,8));"
   ]
  },
  {
   "cell_type": "markdown",
   "metadata": {},
   "source": [
    "Теперь датасет гораздо лучше очищен от аномалий. Пик графика приходится на 40  с небольшим квадратов. Основная масса квартир сосредоточена в промежутке от 30 до 120 кв.м. Распределение предсталено со смещением."
   ]
  },
  {
   "cell_type": "code",
   "execution_count": 12,
   "metadata": {},
   "outputs": [
    {
     "data": {
      "text/plain": [
       "count    20927.000000\n",
       "mean        31.752608\n",
       "std         14.685165\n",
       "min          2.000000\n",
       "25%         18.400000\n",
       "50%         30.000000\n",
       "75%         41.000000\n",
       "max        128.000000\n",
       "Name: living_area, dtype: float64"
      ]
     },
     "metadata": {},
     "output_type": "display_data"
    },
    {
     "data": {
      "image/png": "[encoded data removed]",
      "text/plain": [
       "<Figure size 576x576 with 1 Axes>"
      ]
     },
     "metadata": {
      "needs_background": "light"
     },
     "output_type": "display_data"
    }
   ],
   "source": [
    "display(df_new['living_area'].describe())\n",
    "df_new.hist('living_area',bins=50,range=(0,100),grid=True,figsize=(8,8));"
   ]
  },
  {
   "cell_type": "markdown",
   "metadata": {},
   "source": [
    "Та же картина, гистограмма кажется необычной. Связано это с тем, что застройщик в большинстве своем строит студии с жилой площадью на 18 кв (бюджетный вариант для одиноких) и 34 кв (типовая однушка)."
   ]
  },
  {
   "cell_type": "code",
   "execution_count": 13,
   "metadata": {},
   "outputs": [
    {
     "data": {
      "text/plain": [
       "count    20543.000000\n",
       "mean        10.003117\n",
       "std          4.504856\n",
       "min          1.300000\n",
       "25%          7.000000\n",
       "50%          9.000000\n",
       "75%         11.400000\n",
       "max         64.000000\n",
       "Name: kitchen_area, dtype: float64"
      ]
     },
     "metadata": {},
     "output_type": "display_data"
    },
    {
     "data": {
      "image/png": "[encoded data removed]",
      "text/plain": [
       "<Figure size 576x576 with 1 Axes>"
      ]
     },
     "metadata": {
      "needs_background": "light"
     },
     "output_type": "display_data"
    }
   ],
   "source": [
    "display(df_new['kitchen_area'].describe())\n",
    "df_new.hist('kitchen_area',bins=50,range=(0,40),grid=True,figsize=(8,8));"
   ]
  },
  {
   "cell_type": "markdown",
   "metadata": {},
   "source": [
    "Стандартное распределение по площади кухни с пиком в районе 9 км.м."
   ]
  },
  {
   "cell_type": "code",
   "execution_count": 14,
   "metadata": {},
   "outputs": [
    {
     "data": {
      "text/plain": [
       "count    2.271200e+04\n",
       "mean     5.295924e+06\n",
       "std      3.000591e+06\n",
       "min      1.219000e+04\n",
       "25%      3.390000e+06\n",
       "50%      4.500000e+06\n",
       "75%      6.400000e+06\n",
       "max      1.915000e+07\n",
       "Name: last_price, dtype: float64"
      ]
     },
     "metadata": {},
     "output_type": "display_data"
    },
    {
     "data": {
      "image/png": "[encoded data removed]",
      "text/plain": [
       "<Figure size 576x576 with 1 Axes>"
      ]
     },
     "metadata": {
      "needs_background": "light"
     },
     "output_type": "display_data"
    }
   ],
   "source": [
    "display(df_new['last_price'].describe())\n",
    "df_new.hist('last_price',bins=50,grid=True,figsize=(8,8));#возьмем третий квартиль в качестве предела цены для того, чтобы график был более читаем"
   ]
  },
  {
   "cell_type": "markdown",
   "metadata": {},
   "source": [
    "В большинстве своем цена на квартиры варьируется в диапазоне от 2 до 6,8 млн.руб"
   ]
  },
  {
   "cell_type": "code",
   "execution_count": 15,
   "metadata": {},
   "outputs": [
    {
     "data": {
      "text/plain": [
       "count    22712.000000\n",
       "mean         1.977457\n",
       "std          0.929425\n",
       "min          0.000000\n",
       "25%          1.000000\n",
       "50%          2.000000\n",
       "75%          3.000000\n",
       "max          5.000000\n",
       "Name: rooms, dtype: float64"
      ]
     },
     "metadata": {},
     "output_type": "display_data"
    },
    {
     "data": {
      "image/png": "[encoded data removed]",
      "text/plain": [
       "<Figure size 576x576 with 1 Axes>"
      ]
     },
     "metadata": {
      "needs_background": "light"
     },
     "output_type": "display_data"
    }
   ],
   "source": [
    "display(df_new['rooms'].describe())\n",
    "df_new.hist('rooms',bins=19,grid=True,figsize=(8,8));"
   ]
  },
  {
   "cell_type": "markdown",
   "metadata": {},
   "source": [
    "Количество комнат преобладает в пределах от 1 до 5. Странно, что есть квартиры где 0 комнат, либо это аномалия от которой надо избавиться, либо таким образом учитываются студии. Видно, что на 4,5-комнатные квартиры приходится всего лишь ~1000 объявлений."
   ]
  },
  {
   "cell_type": "code",
   "execution_count": 16,
   "metadata": {},
   "outputs": [
    {
     "data": {
      "text/plain": [
       "count    22712.000000\n",
       "mean         2.683943\n",
       "std          0.215770\n",
       "min          1.000000\n",
       "25%          2.600000\n",
       "50%          2.650000\n",
       "75%          2.700000\n",
       "max         10.000000\n",
       "Name: ceiling_height, dtype: float64"
      ]
     },
     "metadata": {},
     "output_type": "display_data"
    },
    {
     "data": {
      "image/png": "[encoded data removed]",
      "text/plain": [
       "<Figure size 576x576 with 1 Axes>"
      ]
     },
     "metadata": {
      "needs_background": "light"
     },
     "output_type": "display_data"
    }
   ],
   "source": [
    "display(df_new['ceiling_height'].describe())\n",
    "df_new.hist('ceiling_height',bins=10,grid=True,figsize=(8,8));"
   ]
  },
  {
   "cell_type": "markdown",
   "metadata": {},
   "source": [
    "С высотой потолков все довольно понятно, в основном они от 2 до 3 метров."
   ]
  },
  {
   "cell_type": "code",
   "execution_count": 17,
   "metadata": {},
   "outputs": [
    {
     "data": {
      "text/plain": [
       "count    22712.000000\n",
       "mean         5.905424\n",
       "std          4.909030\n",
       "min          1.000000\n",
       "25%          2.000000\n",
       "50%          4.000000\n",
       "75%          8.000000\n",
       "max         33.000000\n",
       "Name: floor, dtype: float64"
      ]
     },
     "metadata": {},
     "output_type": "display_data"
    },
    {
     "data": {
      "image/png": "[encoded data removed]",
      "text/plain": [
       "<Figure size 576x576 with 1 Axes>"
      ]
     },
     "metadata": {
      "needs_background": "light"
     },
     "output_type": "display_data"
    }
   ],
   "source": [
    "display(df_new['floor'].describe())\n",
    "df_new.hist('floor',bins=33,grid=True,figsize=(8,8));"
   ]
  },
  {
   "cell_type": "markdown",
   "metadata": {},
   "source": [
    "Этажность описывается распределением Пуасссона."
   ]
  },
  {
   "cell_type": "code",
   "execution_count": 18,
   "metadata": {},
   "outputs": [
    {
     "data": {
      "image/png": "[encoded data removed]",
      "text/plain": [
       "<Figure size 864x864 with 4 Axes>"
      ]
     },
     "metadata": {
      "needs_background": "light"
     },
     "output_type": "display_data"
    }
   ],
   "source": [
    "df_new.hist(column='floor', by='type_floor',bins=20,figsize=(12,12),grid=True);"
   ]
  },
  {
   "cell_type": "markdown",
   "metadata": {},
   "source": [
    "Квартир на первом этаже свыше 2,5 тысяч, последний это в основном 5 и 8 этажи."
   ]
  },
  {
   "cell_type": "code",
   "execution_count": 19,
   "metadata": {},
   "outputs": [
    {
     "data": {
      "text/plain": [
       "count    22630.000000\n",
       "mean        10.767521\n",
       "std          6.625904\n",
       "min          1.000000\n",
       "25%          5.000000\n",
       "50%          9.000000\n",
       "75%         16.000000\n",
       "max         37.000000\n",
       "Name: floors_total, dtype: float64"
      ]
     },
     "metadata": {},
     "output_type": "display_data"
    },
    {
     "data": {
      "text/plain": [
       "floors_total\n",
       "37.0       1\n",
       "34.0       1\n",
       "33.0       1\n",
       "29.0       1\n",
       "36.0       3\n",
       "28.0      21\n",
       "35.0      24\n",
       "1.0       25\n",
       "26.0     123\n",
       "21.0     157\n",
       "27.0     164\n",
       "11.0     186\n",
       "13.0     214\n",
       "20.0     257\n",
       "22.0     285\n",
       "8.0      301\n",
       "19.0     327\n",
       "15.0     345\n",
       "23.0     346\n",
       "2.0      366\n",
       "24.0     464\n",
       "7.0      493\n",
       "18.0     494\n",
       "14.0     547\n",
       "3.0      626\n",
       "6.0      771\n",
       "17.0     813\n",
       "25.0    1058\n",
       "4.0     1111\n",
       "10.0    1131\n",
       "12.0    1326\n",
       "16.0    1334\n",
       "9.0     3709\n",
       "5.0     5605\n",
       "Name: floors_total, dtype: int64"
      ]
     },
     "execution_count": 19,
     "metadata": {},
     "output_type": "execute_result"
    },
    {
     "data": {
      "image/png": "[encoded data removed]",
      "text/plain": [
       "<Figure size 576x576 with 1 Axes>"
      ]
     },
     "metadata": {
      "needs_background": "light"
     },
     "output_type": "display_data"
    }
   ],
   "source": [
    "display(df_new['floors_total'].describe())\n",
    "df_new.hist('floors_total',bins=37,grid=True,figsize=(8,8));\n",
    "df_new.groupby('floors_total')['floors_total'].count().sort_values()"
   ]
  },
  {
   "cell_type": "markdown",
   "metadata": {},
   "source": [
    "В Питере в основном строят дома с этажностью 4,5,9,10,12,16,25"
   ]
  },
  {
   "cell_type": "code",
   "execution_count": 20,
   "metadata": {},
   "outputs": [
    {
     "data": {
      "text/plain": [
       "count    17218.000000\n",
       "mean     14588.403415\n",
       "std       8539.092975\n",
       "min        208.000000\n",
       "25%      10001.500000\n",
       "50%      13335.000000\n",
       "75%      16503.000000\n",
       "max      65968.000000\n",
       "Name: cityCenters_nearest, dtype: float64"
      ]
     },
     "metadata": {},
     "output_type": "display_data"
    },
    {
     "data": {
      "image/png": "[encoded data removed]",
      "text/plain": [
       "<Figure size 576x576 with 1 Axes>"
      ]
     },
     "metadata": {
      "needs_background": "light"
     },
     "output_type": "display_data"
    }
   ],
   "source": [
    "display(df_new['cityCenters_nearest'].describe())\n",
    "df_new.hist('cityCenters_nearest',bins=100,grid=True,figsize=(8,8));"
   ]
  },
  {
   "cell_type": "markdown",
   "metadata": {},
   "source": [
    "Судя по гистограмме на удалении в 50 км от центра много жилой недвижмости."
   ]
  },
  {
   "cell_type": "code",
   "execution_count": 21,
   "metadata": {},
   "outputs": [
    {
     "data": {
      "text/plain": [
       "count    17201.000000\n",
       "mean     28885.527411\n",
       "std      12824.888016\n",
       "min          0.000000\n",
       "25%      18365.000000\n",
       "50%      26944.000000\n",
       "75%      37434.000000\n",
       "max      84869.000000\n",
       "Name: airports_nearest, dtype: float64"
      ]
     },
     "metadata": {},
     "output_type": "display_data"
    },
    {
     "data": {
      "image/png": "[encoded data removed]",
      "text/plain": [
       "<Figure size 576x576 with 1 Axes>"
      ]
     },
     "metadata": {
      "needs_background": "light"
     },
     "output_type": "display_data"
    }
   ],
   "source": [
    "display(df_new['airports_nearest'].describe())\n",
    "df_new.hist('airports_nearest',bins=50,grid=True,figsize=(8,8));"
   ]
  },
  {
   "cell_type": "markdown",
   "metadata": {},
   "source": [
    "А вот квартиру рядом с аэропортом вряд ли получится купить."
   ]
  },
  {
   "cell_type": "code",
   "execution_count": 22,
   "metadata": {},
   "outputs": [
    {
     "data": {
      "text/plain": [
       "count    12888.000000\n",
       "mean      1561.580618\n",
       "std       1265.816165\n",
       "min          1.000000\n",
       "25%        418.000000\n",
       "50%        724.000000\n",
       "75%       3000.000000\n",
       "max       3000.000000\n",
       "Name: parks_nearest, dtype: float64"
      ]
     },
     "metadata": {},
     "output_type": "display_data"
    },
    {
     "data": {
      "image/png": "[encoded data removed]",
      "text/plain": [
       "<Figure size 576x576 with 1 Axes>"
      ]
     },
     "metadata": {
      "needs_background": "light"
     },
     "output_type": "display_data"
    }
   ],
   "source": [
    "#df_new = df_new[df_new['parks_nearest']<3000]# решение добавить расстояние для парков исходя из их присутсвтивия в радиусе 3 км было не лучшим\n",
    "display(df_new['parks_nearest'].describe())\n",
    "df_new.hist('parks_nearest',bins=50,grid=True,figsize=(8,8));"
   ]
  },
  {
   "cell_type": "markdown",
   "metadata": {},
   "source": [
    "Аномалия в области 3км связана с тем,что мы добавили парки где не было указано расстояние, но они присутствовали в столбце parks_pounds3000. в целом распределение нормальное, наблюдается пик в районе 500 м."
   ]
  },
  {
   "cell_type": "code",
   "execution_count": 23,
   "metadata": {},
   "outputs": [
    {
     "data": {
      "image/png": "[encoded data removed]",
      "text/plain": [
       "<Figure size 864x864 with 2 Axes>"
      ]
     },
     "metadata": {
      "needs_background": "light"
     },
     "output_type": "display_data"
    }
   ],
   "source": [
    "df_new.hist(column=['week_day','month_exposition'],bins=12,figsize=(12,12),grid=True);"
   ]
  },
  {
   "cell_type": "markdown",
   "metadata": {},
   "source": [
    "В срезе недели меньше всего квартиры выставляют по выходным.Если смотреть в разрезе месяцев, то пик появления новых объявлений приходится на периоды: февраль-май, сентябрь-ноябрь."
   ]
  },
  {
   "cell_type": "markdown",
   "metadata": {},
   "source": [
    "#### Изучим, как быстро продавались квартиры (столбец days_exposition). Этот параметр показывает, сколько дней было размещено каждое объявление. \n",
    " \n",
    "* Построим гистограмму.\n",
    "* Посчитем среднее и медиану.\n"
   ]
  },
  {
   "cell_type": "code",
   "execution_count": 24,
   "metadata": {},
   "outputs": [
    {
     "data": {
      "text/plain": [
       "count    19799.000000\n",
       "mean       176.927572\n",
       "std        215.684614\n",
       "min          1.000000\n",
       "25%         44.000000\n",
       "50%         93.000000\n",
       "75%        225.000000\n",
       "max       1580.000000\n",
       "Name: days_exposition, dtype: float64"
      ]
     },
     "metadata": {},
     "output_type": "display_data"
    },
    {
     "data": {
      "image/png": "[encoded data removed]",
      "text/plain": [
       "<Figure size 648x648 with 1 Axes>"
      ]
     },
     "metadata": {
      "needs_background": "light"
     },
     "output_type": "display_data"
    }
   ],
   "source": [
    "display(df_new['days_exposition'].describe())\n",
    "df_new.hist('days_exposition',grid=True,range=(0,250),figsize=(9,9),bins=100);"
   ]
  },
  {
   "cell_type": "markdown",
   "metadata": {},
   "source": [
    "На гистограмме прослеживается прямая отрицательная корреляция между количеством дней и вероятностью продажи квартиры(чем дней больше, тем меньше вероятность). Как видим из метода describe среднее количество дней, которое объявление висит на сайте - 180, медиана-95, такая разница в показателях обусловлена, на мой взгялд, неликвидными квартирами, которые продаются очень долго. На гистограмме также присутствуют пиковые значения, не понятно чем они обусловлены. Можно сказать что продажа является быстрой если она прошла в течение трех месяцев.Долгими же, являются, те что продовались больше 232 дней- таких 25% от общего количества."
   ]
  },
  {
   "cell_type": "markdown",
   "metadata": {},
   "source": [
    "Среднее теперь 176 дней, медиана-93.Долгими же, являются, те что продовались больше 225 дней- таких 25% от общего количества.\n"
   ]
  },
  {
   "cell_type": "markdown",
   "metadata": {},
   "source": [
    "#### Факторы больше всего влияющие на общую (полную) стоимость объекта\n",
    " Изучим, зависит ли цена от:\n",
    "* общей площади;\n",
    "* жилой площади;\n",
    "* площади кухни;\n",
    "* количества комнат;\n",
    "* этажа, на котором расположена квартира (первый, последний, другой);\n",
    "* даты размещения (день недели, месяц, год).\n",
    " \n",
    " \n",
    " Построим графики, которые покажут зависимость цены от указанных выше параметров. Для подготовки данных перед визуализацией будем использовать сводные таблицы."
   ]
  },
  {
   "cell_type": "code",
   "execution_count": 25,
   "metadata": {},
   "outputs": [
    {
     "data": {
      "image/png": "[encoded data removed]",
      "text/plain": [
       "<Figure size 432x288 with 1 Axes>"
      ]
     },
     "metadata": {
      "needs_background": "light"
     },
     "output_type": "display_data"
    }
   ],
   "source": [
    "df_new.pivot_table(index='total_area',values='last_price',aggfunc='mean').plot(style='o');"
   ]
  },
  {
   "cell_type": "markdown",
   "metadata": {},
   "source": [
    "На графике показана средняя цена жилья в зависимости от ее квадратуры. График напоминает квадратичную функцию,зависимость есть. С увелчением площади возрастает цена."
   ]
  },
  {
   "cell_type": "markdown",
   "metadata": {},
   "source": [
    "После очистки от аномалий изменился масштаб, сам график хоть и поменялся внешне, вывод остается корректным. Связь между ценой и площадью стала послеживаться еще четче.\n"
   ]
  },
  {
   "cell_type": "code",
   "execution_count": 26,
   "metadata": {},
   "outputs": [
    {
     "data": {
      "image/png": "[encoded data removed]",
      "text/plain": [
       "<Figure size 432x288 with 1 Axes>"
      ]
     },
     "metadata": {
      "needs_background": "light"
     },
     "output_type": "display_data"
    }
   ],
   "source": [
    "df_new.pivot_table(index='living_area',values='last_price',aggfunc='mean').plot(style='o');"
   ]
  },
  {
   "cell_type": "code",
   "execution_count": 27,
   "metadata": {
    "scrolled": true
   },
   "outputs": [
    {
     "data": {
      "image/png": "[encoded data removed]",
      "text/plain": [
       "<Figure size 432x288 with 1 Axes>"
      ]
     },
     "metadata": {
      "needs_background": "light"
     },
     "output_type": "display_data"
    }
   ],
   "source": [
    "df_new.pivot_table(index='kitchen_area',values='last_price',aggfunc='mean').plot(style='o');\n"
   ]
  },
  {
   "cell_type": "markdown",
   "metadata": {},
   "source": [
    "Все то же. Но выбивающихся значении практически нет. "
   ]
  },
  {
   "cell_type": "code",
   "execution_count": 28,
   "metadata": {},
   "outputs": [
    {
     "data": {
      "image/png": "[encoded data removed]",
      "text/plain": [
       "<Figure size 1080x432 with 1 Axes>"
      ]
     },
     "metadata": {
      "needs_background": "light"
     },
     "output_type": "display_data"
    }
   ],
   "source": [
    "df_new.pivot_table(index='rooms',values='last_price',aggfunc='mean').plot(grid=True,figsize=(15,6));\n"
   ]
  },
  {
   "cell_type": "markdown",
   "metadata": {},
   "source": [
    "Зависимость цены от числа комнат после роста, идет на спад от двух и более комнат. Далее наблюдается рост цен на квартиру от 10 комнат."
   ]
  },
  {
   "cell_type": "code",
   "execution_count": 29,
   "metadata": {},
   "outputs": [
    {
     "data": {
      "text/plain": [
       "0.7583096010231826"
      ]
     },
     "metadata": {},
     "output_type": "display_data"
    },
    {
     "data": {
      "text/plain": [
       "0.6342669587622686"
      ]
     },
     "metadata": {},
     "output_type": "display_data"
    },
    {
     "data": {
      "text/plain": [
       "0.5599646486514059"
      ]
     },
     "metadata": {},
     "output_type": "display_data"
    },
    {
     "data": {
      "text/plain": [
       "0.4727406584557463"
      ]
     },
     "metadata": {},
     "output_type": "display_data"
    }
   ],
   "source": [
    "display(df_new['last_price'].corr(df_new['total_area']))\n",
    "display(df_new['last_price'].corr(df_new['living_area']))\n",
    "display(df_new['last_price'].corr(df_new['kitchen_area']))\n",
    "display(df_new['last_price'].corr(df_new['rooms']))"
   ]
  },
  {
   "cell_type": "code",
   "execution_count": 30,
   "metadata": {},
   "outputs": [
    {
     "data": {
      "image/png": "[encoded data removed]",
      "text/plain": [
       "<Figure size 1080x648 with 1 Axes>"
      ]
     },
     "metadata": {
      "needs_background": "light"
     },
     "output_type": "display_data"
    }
   ],
   "source": [
    "df_new.groupby('type_floor')['last_price'].mean().plot(figsize=(15,9),legend=True);"
   ]
  },
  {
   "cell_type": "markdown",
   "metadata": {},
   "source": [
    "Самый дешевый ценник на квартиры первого этажа."
   ]
  },
  {
   "cell_type": "code",
   "execution_count": 31,
   "metadata": {},
   "outputs": [
    {
     "name": "stdout",
     "output_type": "stream",
     "text": [
      "<class 'pandas.core.frame.DataFrame'>\n",
      "Int64Index: 22712 entries, 0 to 23698\n",
      "Data columns (total 28 columns):\n",
      " #   Column                Non-Null Count  Dtype         \n",
      "---  ------                --------------  -----         \n",
      " 0   total_images          22712 non-null  int64         \n",
      " 1   last_price            22712 non-null  int64         \n",
      " 2   total_area            22712 non-null  float64       \n",
      " 3   first_day_exposition  22712 non-null  datetime64[ns]\n",
      " 4   rooms                 22712 non-null  int64         \n",
      " 5   ceiling_height        22712 non-null  float64       \n",
      " 6   floors_total          22630 non-null  float64       \n",
      " 7   living_area           20927 non-null  float64       \n",
      " 8   floor                 22712 non-null  int64         \n",
      " 9   is_apartment          22712 non-null  bool          \n",
      " 10  studio                22712 non-null  bool          \n",
      " 11  open_plan             22712 non-null  bool          \n",
      " 12  kitchen_area          20543 non-null  float64       \n",
      " 13  balcony               22712 non-null  int64         \n",
      " 14  locality_name         22666 non-null  object        \n",
      " 15  airports_nearest      17201 non-null  float64       \n",
      " 16  cityCenters_nearest   17218 non-null  float64       \n",
      " 17  parks_around3000      17219 non-null  float64       \n",
      " 18  parks_nearest         12888 non-null  float64       \n",
      " 19  ponds_around3000      13915 non-null  float64       \n",
      " 20  ponds_nearest         8422 non-null   float64       \n",
      " 21  days_exposition       19799 non-null  float64       \n",
      " 22  new_price             22712 non-null  float64       \n",
      " 23  week_day              22712 non-null  int64         \n",
      " 24  month_exposition      22712 non-null  int64         \n",
      " 25  year_exposition       22712 non-null  int64         \n",
      " 26  type_floor            22712 non-null  object        \n",
      " 27  cityCenters_km        17218 non-null  float64       \n",
      "dtypes: bool(3), datetime64[ns](1), float64(14), int64(8), object(2)\n",
      "memory usage: 4.6+ MB\n"
     ]
    },
    {
     "data": {
      "image/png": "[encoded data removed]",
      "text/plain": [
       "<Figure size 1080x360 with 1 Axes>"
      ]
     },
     "metadata": {
      "needs_background": "light"
     },
     "output_type": "display_data"
    },
    {
     "data": {
      "image/png": "[encoded data removed]",
      "text/plain": [
       "<Figure size 1080x360 with 1 Axes>"
      ]
     },
     "metadata": {
      "needs_background": "light"
     },
     "output_type": "display_data"
    },
    {
     "data": {
      "image/png": "[encoded data removed]",
      "text/plain": [
       "<Figure size 1080x360 with 1 Axes>"
      ]
     },
     "metadata": {
      "needs_background": "light"
     },
     "output_type": "display_data"
    }
   ],
   "source": [
    "df_new.info()\n",
    "df_new.pivot_table(index='week_day',values='last_price',aggfunc='mean').plot(grid=True,figsize=(15,5));\n",
    "df_new.pivot_table(index='month_exposition',values='last_price',aggfunc='mean').plot(grid=True,figsize=(15,5));\n",
    "df_new.pivot_table(index='year_exposition',values='last_price',aggfunc='mean').plot(grid=True,figsize=(15,5));"
   ]
  },
  {
   "cell_type": "markdown",
   "metadata": {},
   "source": [
    "**Week:** квартиры с наименьшим ценником выставлялись в воскресенье. Выставленные квартиры после чт идут на спад в цене.\n",
    "\n",
    "**Month:** в феврале, июне и октябре наблюдаюстся просадки по стоимости выкладываемых квартир.  \n",
    "\n",
    "**Year:** с 2014 года цены на квартиры стремително падали, далее шла стагнация в период 2016-2018. Затем поледовал незначительный рост."
   ]
  },
  {
   "cell_type": "markdown",
   "metadata": {},
   "source": [
    "#### Расчет средней стоимости квадратного метра\n",
    "Посчитаем среднюю цену одного квадратного метра в 10 населённых пунктах с наибольшим числом объявлений. \n",
    "Выделим населённые пункты с самой высокой и низкой стоимостью квадратного метра. "
   ]
  },
  {
   "cell_type": "code",
   "execution_count": 32,
   "metadata": {},
   "outputs": [
    {
     "data": {
      "text/html": [
       "<div>\n",
       "<style scoped>\n",
       "    .dataframe tbody tr th:only-of-type {\n",
       "        vertical-align: middle;\n",
       "    }\n",
       "\n",
       "    .dataframe tbody tr th {\n",
       "        vertical-align: top;\n",
       "    }\n",
       "\n",
       "    .dataframe thead th {\n",
       "        text-align: right;\n",
       "    }\n",
       "</style>\n",
       "<table border=\"1\" class=\"dataframe\">\n",
       "  <thead>\n",
       "    <tr style=\"text-align: right;\">\n",
       "      <th></th>\n",
       "      <th>index1</th>\n",
       "      <th>locality_name</th>\n",
       "      <th>price_1m</th>\n",
       "    </tr>\n",
       "  </thead>\n",
       "  <tbody>\n",
       "    <tr>\n",
       "      <th>4</th>\n",
       "      <td>выборг</td>\n",
       "      <td>235</td>\n",
       "      <td>58075.893731</td>\n",
       "    </tr>\n",
       "    <tr>\n",
       "      <th>43</th>\n",
       "      <td>деревня кудрово</td>\n",
       "      <td>299</td>\n",
       "      <td>92473.547576</td>\n",
       "    </tr>\n",
       "    <tr>\n",
       "      <th>6</th>\n",
       "      <td>гатчина</td>\n",
       "      <td>307</td>\n",
       "      <td>68746.146763</td>\n",
       "    </tr>\n",
       "    <tr>\n",
       "      <th>218</th>\n",
       "      <td>поселок парголово</td>\n",
       "      <td>326</td>\n",
       "      <td>90332.263023</td>\n",
       "    </tr>\n",
       "    <tr>\n",
       "      <th>118</th>\n",
       "      <td>колпино</td>\n",
       "      <td>337</td>\n",
       "      <td>75333.295801</td>\n",
       "    </tr>\n",
       "    <tr>\n",
       "      <th>296</th>\n",
       "      <td>пушкин</td>\n",
       "      <td>355</td>\n",
       "      <td>101948.681398</td>\n",
       "    </tr>\n",
       "    <tr>\n",
       "      <th>3</th>\n",
       "      <td>всеволожск</td>\n",
       "      <td>396</td>\n",
       "      <td>67259.384320</td>\n",
       "    </tr>\n",
       "    <tr>\n",
       "      <th>291</th>\n",
       "      <td>поселок шушары</td>\n",
       "      <td>440</td>\n",
       "      <td>78677.364217</td>\n",
       "    </tr>\n",
       "    <tr>\n",
       "      <th>207</th>\n",
       "      <td>поселок мурино</td>\n",
       "      <td>556</td>\n",
       "      <td>85681.762601</td>\n",
       "    </tr>\n",
       "    <tr>\n",
       "      <th>302</th>\n",
       "      <td>санкт-петербург</td>\n",
       "      <td>14781</td>\n",
       "      <td>108657.633095</td>\n",
       "    </tr>\n",
       "  </tbody>\n",
       "</table>\n",
       "</div>"
      ],
      "text/plain": [
       "                index1  locality_name       price_1m\n",
       "4               выборг            235   58075.893731\n",
       "43     деревня кудрово            299   92473.547576\n",
       "6              гатчина            307   68746.146763\n",
       "218  поселок парголово            326   90332.263023\n",
       "118            колпино            337   75333.295801\n",
       "296             пушкин            355  101948.681398\n",
       "3           всеволожск            396   67259.384320\n",
       "291     поселок шушары            440   78677.364217\n",
       "207     поселок мурино            556   85681.762601\n",
       "302    санкт-петербург          14781  108657.633095"
      ]
     },
     "metadata": {},
     "output_type": "display_data"
    },
    {
     "data": {
      "text/plain": [
       "index1           бокситогорск\n",
       "locality_name               1\n",
       "price_1m         11206.221198\n",
       "dtype: object"
      ]
     },
     "metadata": {},
     "output_type": "display_data"
    },
    {
     "data": {
      "text/plain": [
       "index1            шлиссельбург\n",
       "locality_name            14781\n",
       "price_1m         108657.633095\n",
       "dtype: object"
      ]
     },
     "metadata": {},
     "output_type": "display_data"
    }
   ],
   "source": [
    "df_new['price_1m'] = df_new['last_price']/df_new['total_area']\n",
    "df_new_grouped = df_new.groupby(['locality_name']).agg({'locality_name':'count','price_1m':'mean'})\n",
    "df_new_grouped = df_new_grouped.rename_axis('index1').reset_index()\n",
    "display(df_new_grouped.sort_values(by='locality_name').tail(10))\n",
    "display(df_new_grouped.min())\n",
    "display(df_new_grouped.max())"
   ]
  },
  {
   "cell_type": "markdown",
   "metadata": {},
   "source": [
    "\n",
    "В таблице представлены топ-10 населенных пунктов по количеству объявлений и средняя цена одного квадрата жилой недвижимости по этим населенным пунктам. Самая высокая цена во всем датасете в Сестрорецке- средняя стоимость одного квадрата 112 тыс.руб. Самая дешевая в Зеленогорске- 67 тыс.руб\n"
   ]
  },
  {
   "cell_type": "markdown",
   "metadata": {},
   "source": [
    "#### Расчет средней цены каждого километра\n",
    "Ранее мы посчитали расстояние до центра в километрах. Теперь выделим квартиры в Санкт-Петербурге с помощью столбца locality_name и вычислим среднюю цену каждого километра. Сделаем вывод, как стоимость объектов зависит от расстояния до центра города."
   ]
  },
  {
   "cell_type": "code",
   "execution_count": 33,
   "metadata": {},
   "outputs": [
    {
     "data": {
      "text/html": [
       "<div>\n",
       "<style scoped>\n",
       "    .dataframe tbody tr th:only-of-type {\n",
       "        vertical-align: middle;\n",
       "    }\n",
       "\n",
       "    .dataframe tbody tr th {\n",
       "        vertical-align: top;\n",
       "    }\n",
       "\n",
       "    .dataframe thead th {\n",
       "        text-align: right;\n",
       "    }\n",
       "</style>\n",
       "<table border=\"1\" class=\"dataframe\">\n",
       "  <thead>\n",
       "    <tr style=\"text-align: right;\">\n",
       "      <th></th>\n",
       "      <th>last_price</th>\n",
       "    </tr>\n",
       "    <tr>\n",
       "      <th>cityCenters_km</th>\n",
       "      <th></th>\n",
       "    </tr>\n",
       "  </thead>\n",
       "  <tbody>\n",
       "    <tr>\n",
       "      <th>0.0</th>\n",
       "      <td>9.248333e+06</td>\n",
       "    </tr>\n",
       "    <tr>\n",
       "      <th>1.0</th>\n",
       "      <td>1.006116e+07</td>\n",
       "    </tr>\n",
       "    <tr>\n",
       "      <th>2.0</th>\n",
       "      <td>9.419922e+06</td>\n",
       "    </tr>\n",
       "    <tr>\n",
       "      <th>3.0</th>\n",
       "      <td>8.495561e+06</td>\n",
       "    </tr>\n",
       "    <tr>\n",
       "      <th>4.0</th>\n",
       "      <td>9.005219e+06</td>\n",
       "    </tr>\n",
       "    <tr>\n",
       "      <th>5.0</th>\n",
       "      <td>8.943187e+06</td>\n",
       "    </tr>\n",
       "    <tr>\n",
       "      <th>6.0</th>\n",
       "      <td>8.271108e+06</td>\n",
       "    </tr>\n",
       "    <tr>\n",
       "      <th>7.0</th>\n",
       "      <td>7.677916e+06</td>\n",
       "    </tr>\n",
       "    <tr>\n",
       "      <th>8.0</th>\n",
       "      <td>7.765472e+06</td>\n",
       "    </tr>\n",
       "    <tr>\n",
       "      <th>9.0</th>\n",
       "      <td>6.365226e+06</td>\n",
       "    </tr>\n",
       "    <tr>\n",
       "      <th>10.0</th>\n",
       "      <td>5.957705e+06</td>\n",
       "    </tr>\n",
       "    <tr>\n",
       "      <th>11.0</th>\n",
       "      <td>5.845480e+06</td>\n",
       "    </tr>\n",
       "    <tr>\n",
       "      <th>12.0</th>\n",
       "      <td>5.647909e+06</td>\n",
       "    </tr>\n",
       "    <tr>\n",
       "      <th>13.0</th>\n",
       "      <td>5.887304e+06</td>\n",
       "    </tr>\n",
       "    <tr>\n",
       "      <th>14.0</th>\n",
       "      <td>5.523667e+06</td>\n",
       "    </tr>\n",
       "    <tr>\n",
       "      <th>15.0</th>\n",
       "      <td>5.670307e+06</td>\n",
       "    </tr>\n",
       "    <tr>\n",
       "      <th>16.0</th>\n",
       "      <td>5.255140e+06</td>\n",
       "    </tr>\n",
       "    <tr>\n",
       "      <th>17.0</th>\n",
       "      <td>5.107646e+06</td>\n",
       "    </tr>\n",
       "    <tr>\n",
       "      <th>18.0</th>\n",
       "      <td>4.768795e+06</td>\n",
       "    </tr>\n",
       "    <tr>\n",
       "      <th>19.0</th>\n",
       "      <td>5.037675e+06</td>\n",
       "    </tr>\n",
       "    <tr>\n",
       "      <th>20.0</th>\n",
       "      <td>5.951465e+06</td>\n",
       "    </tr>\n",
       "    <tr>\n",
       "      <th>21.0</th>\n",
       "      <td>5.493469e+06</td>\n",
       "    </tr>\n",
       "    <tr>\n",
       "      <th>22.0</th>\n",
       "      <td>5.314640e+06</td>\n",
       "    </tr>\n",
       "    <tr>\n",
       "      <th>23.0</th>\n",
       "      <td>4.689843e+06</td>\n",
       "    </tr>\n",
       "    <tr>\n",
       "      <th>24.0</th>\n",
       "      <td>3.854430e+06</td>\n",
       "    </tr>\n",
       "    <tr>\n",
       "      <th>25.0</th>\n",
       "      <td>4.052840e+06</td>\n",
       "    </tr>\n",
       "    <tr>\n",
       "      <th>26.0</th>\n",
       "      <td>3.973013e+06</td>\n",
       "    </tr>\n",
       "    <tr>\n",
       "      <th>27.0</th>\n",
       "      <td>8.300000e+06</td>\n",
       "    </tr>\n",
       "    <tr>\n",
       "      <th>28.0</th>\n",
       "      <td>5.026429e+06</td>\n",
       "    </tr>\n",
       "    <tr>\n",
       "      <th>29.0</th>\n",
       "      <td>4.236667e+06</td>\n",
       "    </tr>\n",
       "  </tbody>\n",
       "</table>\n",
       "</div>"
      ],
      "text/plain": [
       "                  last_price\n",
       "cityCenters_km              \n",
       "0.0             9.248333e+06\n",
       "1.0             1.006116e+07\n",
       "2.0             9.419922e+06\n",
       "3.0             8.495561e+06\n",
       "4.0             9.005219e+06\n",
       "5.0             8.943187e+06\n",
       "6.0             8.271108e+06\n",
       "7.0             7.677916e+06\n",
       "8.0             7.765472e+06\n",
       "9.0             6.365226e+06\n",
       "10.0            5.957705e+06\n",
       "11.0            5.845480e+06\n",
       "12.0            5.647909e+06\n",
       "13.0            5.887304e+06\n",
       "14.0            5.523667e+06\n",
       "15.0            5.670307e+06\n",
       "16.0            5.255140e+06\n",
       "17.0            5.107646e+06\n",
       "18.0            4.768795e+06\n",
       "19.0            5.037675e+06\n",
       "20.0            5.951465e+06\n",
       "21.0            5.493469e+06\n",
       "22.0            5.314640e+06\n",
       "23.0            4.689843e+06\n",
       "24.0            3.854430e+06\n",
       "25.0            4.052840e+06\n",
       "26.0            3.973013e+06\n",
       "27.0            8.300000e+06\n",
       "28.0            5.026429e+06\n",
       "29.0            4.236667e+06"
      ]
     },
     "execution_count": 33,
     "metadata": {},
     "output_type": "execute_result"
    },
    {
     "data": {
      "image/png": "[encoded data removed]",
      "text/plain": [
       "<Figure size 432x288 with 1 Axes>"
      ]
     },
     "metadata": {
      "needs_background": "light"
     },
     "output_type": "display_data"
    }
   ],
   "source": [
    "df_new.query('locality_name==\"санкт-петербург\"').pivot_table(index='cityCenters_km',values='last_price',aggfunc='mean').plot()\n",
    "df_new.query('locality_name==\"санкт-петербург\"').pivot_table(index='cityCenters_km',values='last_price',aggfunc='mean')"
   ]
  },
  {
   "cell_type": "markdown",
   "metadata": {},
   "source": [
    "Ценник на квадратный метр падает с удалением от центра столицы. Также наблюдается подъем цены на удалении 4-6 км и 27-29 км. .Возможно на этом удалении от центра стоят премиальные ЖК.Резкий спад на 8 км можно связать с облилием предложений"
   ]
  },
  {
   "cell_type": "markdown",
   "metadata": {},
   "source": [
    ">Ценник показывает спад с удалением от центра, ярко выражены пики на 20 и 27 км. связать это можно все с тем же- прем. ЖК.\n"
   ]
  },
  {
   "cell_type": "markdown",
   "metadata": {},
   "source": [
    "### Общий вывод"
   ]
  },
  {
   "cell_type": "markdown",
   "metadata": {},
   "source": [
    "**В проекте мы проанализировани следующие параметры объектов:**\n",
    " \n",
    "* общая площадь-  Пик квартир приходится на 40  с небольшим квадратов. Основная масса недвижиости сосредоточена в промежутке от 30 до 120 кв.м. Распределение предсталено со смещением.\n",
    "* жилая площадь- были обнаружены пики в районе ~18 и ~34 кв.м\n",
    "* площадь кухни- 75% квартир имеют площадь кухни до 11 кв.м\n",
    "* цена объекта- медианный ценник на квартиры-4.5 млн, средний-5.2 млн. Средний ценник с аномалиями составлял 6.5 млн. Разница говорит сама за себя. Большинство квартир в диапозоне от 2,5 до 17,5 млн.\n",
    "    \n",
    "* количество комнат- Основной костяк недвижимости это 1-3 комнатные квартиры. На 4,5-комнатные квартиры приходится всего лишь ~1000 объявлений.\n",
    "* высота потолков- ~2.6 м стандарт высоты питерских потолков.\n",
    "* этаж квартиры - 75% квартир расположены в пределах 8 этажей.\n",
    "* тип этажа квартиры- квартир на первом этаже свыше 2,5 тысяч, последний этаж- это в основном 5, таких квартир свыше 1.2 тыс.\n",
    "* общее количество этажей-  4,5,9,12,16. Это первая пятерка по колчисетву объявлений, их больше 13 тыс.\n",
    "* расстояние до центра города -средняя удаленность 14 км.\n",
    "* расстояние до ближайшего аэропорта- вы наврятли найдете квартиру вблизи аэропорта и на удаленности 60 км это гораздо труднее сделать.\n",
    "* расстояние до ближайшего парка- большинство квартир находится в радиусе 600 м от парка\n",
    "* день и месяц публикации объявления-  меньше всего квартиры выставлялись по выходным.Пик появления новых объявлений приходится на периоды: февраль-середина апреля, сентябрь-ноябрь.\n",
    "\n",
    "**Подтвердили гипотезу- чем дольше квартира находится в продаже, тем меньше вероятности,что ее купят**\n",
    "\n",
    "Гистограмма показала прямую зависимость \"вероятность покупки/количество дней в продаже\".\n",
    "Среднее количество дней, которое объявление висит на сайте - 176, медиана-93, такая разница в показателях обусловлена, на мой взгялд, неликвидными квартирами, которые продаются очень долго. Можно сказать что продажа является быстрой, если она прошла в течение трех месяцев.Долгими же, являются, те что продавались больше 225 дней- таких менее 25% от общего количества.\n",
    "\n",
    "**Рассмотрели какие факторы больше всего влияют на общую (полную) стоимость объекта**\n",
    "* общей площади\n",
    "* жилой площади\n",
    "* площади кухни\n",
    "* количества комнат\n",
    "Зависимость присутствует- цена растет с ростом площади. Но проявяется эта зависимость с каждым параметром все слабее- об этом свидетельствуют коэф.корреляции Пирсона:\n",
    "1. общей площади 0.76\n",
    "2. жилой площади 0.63\n",
    "3. площади кухни 0.56\n",
    "4. количества комнат 0.47\n",
    "Тем самым большее влияние на ценник среди этих 4 параметров, составляет общая площадь.\n",
    "\n",
    "* этажа, на котором расположена квартира (первый, последний, другой)\n",
    "\n",
    "Самый дешевый ценник на квартиры первого этажа.\n",
    "\n",
    "* даты размещения (день недели, месяц, год)\n",
    "\n",
    "Week: Вторник,пятница,воскресенье- в эти дни публиковались квартиры с наименьшей ценой.\n",
    "\n",
    "Month: Март, Июнь, Август Октябрь- цены постоянно колеблются, но в эти месяцы публиковались самые дешевые квартиры. К концу года наблюдается резкий подъем цен.\n",
    "\n",
    "Year: с 2014 цены на квартиры падали, после 2008 наблюдается слабый рост цен.\n",
    "\n",
    "**Посчитали среднюю цену одного квадратного метра в 10 населённых пунктах с наибольшим числом объявлений**"
   ]
  },
  {
   "attachments": {
    "2022-12-29_18-07-54.png": {
     "image/png": "[encoded data removed]"
    }
   },
   "cell_type": "markdown",
   "metadata": {},
   "source": [
    "![2022-12-29_18-07-54.png](attachment:2022-12-29_18-07-54.png)"
   ]
  },
  {
   "cell_type": "markdown",
   "metadata": {},
   "source": [
    " Самым дорогим во всем датасете оказался Шлиссельбург- средняя стоимость одного квадрата 115 тыс.руб. Самый дешевый в Бокситогорск- цена за квадратный метр обойдется в 11 тыс.руб\n",
    "\n",
    "**Цены на каждый километр в срезе Санкт-Петербурга**\n",
    "\n",
    " Также мы сделали вывод, ценник показывает спад с удалением от центра, ярко выражены пики на 20 и 27 км. Связать это можно все с премиальными ЖК на данном удалении."
   ]
  }
 ],
 "metadata": {
  "ExecuteTimeLog": [
   {
    "duration": 465,
    "start_time": "2022-12-23T20:40:04.815Z"
   },
   {
    "duration": 150,
    "start_time": "2022-12-23T20:40:18.757Z"
   },
   {
    "duration": 153,
    "start_time": "2022-12-23T20:40:32.850Z"
   },
   {
    "duration": 51,
    "start_time": "2022-12-23T20:46:23.764Z"
   },
   {
    "duration": 161,
    "start_time": "2022-12-23T20:46:32.080Z"
   },
   {
    "duration": 169,
    "start_time": "2022-12-23T20:46:53.577Z"
   },
   {
    "duration": 2768,
    "start_time": "2022-12-23T22:02:06.855Z"
   },
   {
    "duration": 3547,
    "start_time": "2022-12-24T11:57:06.665Z"
   },
   {
    "duration": 2520,
    "start_time": "2022-12-24T11:57:47.443Z"
   },
   {
    "duration": 2495,
    "start_time": "2022-12-24T11:58:18.353Z"
   },
   {
    "duration": 2475,
    "start_time": "2022-12-24T12:48:38.264Z"
   },
   {
    "duration": 2418,
    "start_time": "2022-12-24T12:48:55.841Z"
   },
   {
    "duration": 2474,
    "start_time": "2022-12-24T14:59:54.610Z"
   },
   {
    "duration": 83,
    "start_time": "2022-12-24T15:02:50.931Z"
   },
   {
    "duration": 16,
    "start_time": "2022-12-24T15:02:55.315Z"
   },
   {
    "duration": 19,
    "start_time": "2022-12-24T15:03:13.566Z"
   },
   {
    "duration": 17,
    "start_time": "2022-12-24T15:03:20.113Z"
   },
   {
    "duration": 5,
    "start_time": "2022-12-24T15:03:38.369Z"
   },
   {
    "duration": 21,
    "start_time": "2022-12-24T15:03:41.235Z"
   },
   {
    "duration": 10,
    "start_time": "2022-12-24T15:04:44.882Z"
   },
   {
    "duration": 103,
    "start_time": "2022-12-24T16:41:40.201Z"
   },
   {
    "duration": 1730,
    "start_time": "2022-12-24T16:41:57.289Z"
   },
   {
    "duration": 2025,
    "start_time": "2022-12-24T16:42:24.103Z"
   },
   {
    "duration": 1757,
    "start_time": "2022-12-24T16:42:26.277Z"
   },
   {
    "duration": 1619,
    "start_time": "2022-12-24T16:42:35.937Z"
   },
   {
    "duration": 1373,
    "start_time": "2022-12-24T16:43:05.362Z"
   },
   {
    "duration": 1423,
    "start_time": "2022-12-24T16:43:17.397Z"
   },
   {
    "duration": 84,
    "start_time": "2022-12-24T16:43:34.845Z"
   },
   {
    "duration": 14,
    "start_time": "2022-12-24T16:44:00.800Z"
   },
   {
    "duration": 2852,
    "start_time": "2022-12-24T16:45:49.209Z"
   },
   {
    "duration": 25,
    "start_time": "2022-12-24T16:45:54.179Z"
   },
   {
    "duration": 254,
    "start_time": "2022-12-24T16:48:43.418Z"
   },
   {
    "duration": 16,
    "start_time": "2022-12-24T16:50:53.552Z"
   },
   {
    "duration": 11,
    "start_time": "2022-12-24T16:52:14.280Z"
   },
   {
    "duration": 32,
    "start_time": "2022-12-24T16:53:00.013Z"
   },
   {
    "duration": 25,
    "start_time": "2022-12-24T16:53:14.124Z"
   },
   {
    "duration": 1632,
    "start_time": "2022-12-24T16:53:45.200Z"
   },
   {
    "duration": 1399,
    "start_time": "2022-12-24T16:55:00.679Z"
   },
   {
    "duration": 3629,
    "start_time": "2022-12-24T17:37:11.592Z"
   },
   {
    "duration": 4151,
    "start_time": "2022-12-24T17:37:27.452Z"
   },
   {
    "duration": 3453,
    "start_time": "2022-12-24T17:47:38.011Z"
   },
   {
    "duration": 11,
    "start_time": "2022-12-24T17:48:57.380Z"
   },
   {
    "duration": 3747,
    "start_time": "2022-12-24T17:49:10.420Z"
   },
   {
    "duration": 31,
    "start_time": "2022-12-24T17:49:27.274Z"
   },
   {
    "duration": 23,
    "start_time": "2022-12-24T17:53:31.707Z"
   },
   {
    "duration": 39,
    "start_time": "2022-12-24T17:53:51.621Z"
   },
   {
    "duration": 54,
    "start_time": "2022-12-24T17:53:58.418Z"
   },
   {
    "duration": 104,
    "start_time": "2022-12-24T17:55:54.616Z"
   },
   {
    "duration": 44,
    "start_time": "2022-12-24T17:57:55.529Z"
   },
   {
    "duration": 39,
    "start_time": "2022-12-24T17:58:00.975Z"
   },
   {
    "duration": 36,
    "start_time": "2022-12-24T17:58:08.472Z"
   },
   {
    "duration": 43,
    "start_time": "2022-12-24T17:58:21.564Z"
   },
   {
    "duration": 44,
    "start_time": "2022-12-24T17:58:31.748Z"
   },
   {
    "duration": 35,
    "start_time": "2022-12-24T17:59:02.938Z"
   },
   {
    "duration": 55,
    "start_time": "2022-12-24T17:59:16.249Z"
   },
   {
    "duration": 30,
    "start_time": "2022-12-24T17:59:47.513Z"
   },
   {
    "duration": 47,
    "start_time": "2022-12-24T17:59:58.786Z"
   },
   {
    "duration": 47,
    "start_time": "2022-12-24T18:00:14.831Z"
   },
   {
    "duration": 52,
    "start_time": "2022-12-24T18:00:32.083Z"
   },
   {
    "duration": 23,
    "start_time": "2022-12-24T18:01:33.121Z"
   },
   {
    "duration": 29,
    "start_time": "2022-12-24T18:01:41.485Z"
   },
   {
    "duration": 54,
    "start_time": "2022-12-24T23:21:44.477Z"
   },
   {
    "duration": 3861,
    "start_time": "2022-12-24T23:21:57.388Z"
   },
   {
    "duration": 18,
    "start_time": "2022-12-24T23:22:02.697Z"
   },
   {
    "duration": 1561,
    "start_time": "2022-12-24T23:23:45.810Z"
   },
   {
    "duration": 76,
    "start_time": "2022-12-24T23:24:54.049Z"
   },
   {
    "duration": 53,
    "start_time": "2022-12-24T23:26:02.485Z"
   },
   {
    "duration": 30,
    "start_time": "2022-12-24T23:26:08.480Z"
   },
   {
    "duration": 34,
    "start_time": "2022-12-24T23:29:28.029Z"
   },
   {
    "duration": 43,
    "start_time": "2022-12-24T23:30:35.177Z"
   },
   {
    "duration": 18,
    "start_time": "2022-12-24T23:30:59.989Z"
   },
   {
    "duration": 44,
    "start_time": "2022-12-24T23:31:10.827Z"
   },
   {
    "duration": 37,
    "start_time": "2022-12-24T23:31:20.672Z"
   },
   {
    "duration": 33,
    "start_time": "2022-12-24T23:31:27.108Z"
   },
   {
    "duration": 47,
    "start_time": "2022-12-24T23:31:30.178Z"
   },
   {
    "duration": 29,
    "start_time": "2022-12-24T23:31:44.380Z"
   },
   {
    "duration": 32,
    "start_time": "2022-12-24T23:31:47.804Z"
   },
   {
    "duration": 31,
    "start_time": "2022-12-24T23:34:31.888Z"
   },
   {
    "duration": 32,
    "start_time": "2022-12-24T23:36:07.972Z"
   },
   {
    "duration": 41,
    "start_time": "2022-12-24T23:36:21.034Z"
   },
   {
    "duration": 51,
    "start_time": "2022-12-24T23:36:54.044Z"
   },
   {
    "duration": 39,
    "start_time": "2022-12-24T23:37:34.782Z"
   },
   {
    "duration": 25,
    "start_time": "2022-12-24T23:37:44.878Z"
   },
   {
    "duration": 29,
    "start_time": "2022-12-24T23:39:20.107Z"
   },
   {
    "duration": 39,
    "start_time": "2022-12-24T23:43:07.381Z"
   },
   {
    "duration": 37,
    "start_time": "2022-12-24T23:43:24.912Z"
   },
   {
    "duration": 63,
    "start_time": "2022-12-24T23:43:43.136Z"
   },
   {
    "duration": 27,
    "start_time": "2022-12-25T12:27:08.592Z"
   },
   {
    "duration": 35,
    "start_time": "2022-12-25T12:28:12.551Z"
   },
   {
    "duration": 20,
    "start_time": "2022-12-25T12:29:18.274Z"
   },
   {
    "duration": 2263,
    "start_time": "2022-12-25T12:44:56.489Z"
   },
   {
    "duration": 2622,
    "start_time": "2022-12-25T12:47:29.508Z"
   },
   {
    "duration": 2557,
    "start_time": "2022-12-25T12:48:41.333Z"
   },
   {
    "duration": 34,
    "start_time": "2022-12-25T12:57:47.775Z"
   },
   {
    "duration": 5,
    "start_time": "2022-12-25T12:58:27.200Z"
   },
   {
    "duration": 6,
    "start_time": "2022-12-25T12:59:08.964Z"
   },
   {
    "duration": 34,
    "start_time": "2022-12-25T12:59:37.318Z"
   },
   {
    "duration": 38,
    "start_time": "2022-12-25T13:00:16.604Z"
   },
   {
    "duration": 57,
    "start_time": "2022-12-25T13:00:25.024Z"
   },
   {
    "duration": 30,
    "start_time": "2022-12-25T13:01:05.204Z"
   },
   {
    "duration": 50,
    "start_time": "2022-12-25T13:01:57.774Z"
   },
   {
    "duration": 3112,
    "start_time": "2022-12-25T13:02:13.129Z"
   },
   {
    "duration": 35,
    "start_time": "2022-12-25T13:02:33.300Z"
   },
   {
    "duration": 45,
    "start_time": "2022-12-25T13:02:43.099Z"
   },
   {
    "duration": 38,
    "start_time": "2022-12-25T13:02:58.361Z"
   },
   {
    "duration": 1126,
    "start_time": "2022-12-25T13:05:50.285Z"
   },
   {
    "duration": 23,
    "start_time": "2022-12-25T13:17:06.218Z"
   },
   {
    "duration": 60,
    "start_time": "2022-12-25T13:20:05.354Z"
   },
   {
    "duration": 26,
    "start_time": "2022-12-25T13:21:04.646Z"
   },
   {
    "duration": 31,
    "start_time": "2022-12-25T13:23:29.794Z"
   },
   {
    "duration": 23,
    "start_time": "2022-12-25T13:23:56.313Z"
   },
   {
    "duration": 31,
    "start_time": "2022-12-25T13:32:27.546Z"
   },
   {
    "duration": 30,
    "start_time": "2022-12-25T13:32:41.848Z"
   },
   {
    "duration": 27,
    "start_time": "2022-12-25T13:32:55.822Z"
   },
   {
    "duration": 36,
    "start_time": "2022-12-25T13:33:09.727Z"
   },
   {
    "duration": 26,
    "start_time": "2022-12-25T13:33:16.173Z"
   },
   {
    "duration": 27,
    "start_time": "2022-12-25T17:01:16.488Z"
   },
   {
    "duration": 29,
    "start_time": "2022-12-25T17:03:02.240Z"
   },
   {
    "duration": 30,
    "start_time": "2022-12-25T17:03:28.229Z"
   },
   {
    "duration": 39,
    "start_time": "2022-12-25T17:03:40.701Z"
   },
   {
    "duration": 3050,
    "start_time": "2022-12-25T17:03:58.931Z"
   },
   {
    "duration": 16,
    "start_time": "2022-12-25T17:04:01.983Z"
   },
   {
    "duration": 1190,
    "start_time": "2022-12-25T17:04:02.001Z"
   },
   {
    "duration": 0,
    "start_time": "2022-12-25T17:04:03.193Z"
   },
   {
    "duration": 0,
    "start_time": "2022-12-25T17:04:03.194Z"
   },
   {
    "duration": 42,
    "start_time": "2022-12-25T17:04:08.576Z"
   },
   {
    "duration": 36,
    "start_time": "2022-12-25T17:04:53.998Z"
   },
   {
    "duration": 3378,
    "start_time": "2022-12-26T12:14:05.055Z"
   },
   {
    "duration": 77,
    "start_time": "2022-12-26T12:15:56.558Z"
   },
   {
    "duration": 1265,
    "start_time": "2022-12-26T12:16:03.290Z"
   },
   {
    "duration": 1197,
    "start_time": "2022-12-26T12:21:18.358Z"
   },
   {
    "duration": 36,
    "start_time": "2022-12-26T12:23:39.749Z"
   },
   {
    "duration": 51,
    "start_time": "2022-12-26T12:23:50.249Z"
   },
   {
    "duration": 10,
    "start_time": "2022-12-26T12:31:46.076Z"
   },
   {
    "duration": 17,
    "start_time": "2022-12-26T12:35:07.021Z"
   },
   {
    "duration": 7,
    "start_time": "2022-12-26T12:49:55.640Z"
   },
   {
    "duration": 2312,
    "start_time": "2022-12-26T12:50:34.201Z"
   },
   {
    "duration": 15,
    "start_time": "2022-12-26T12:50:42.536Z"
   },
   {
    "duration": 58,
    "start_time": "2022-12-26T12:50:46.413Z"
   },
   {
    "duration": 4,
    "start_time": "2022-12-26T12:52:42.561Z"
   },
   {
    "duration": 6,
    "start_time": "2022-12-26T12:55:23.147Z"
   },
   {
    "duration": 6,
    "start_time": "2022-12-26T12:55:30.763Z"
   },
   {
    "duration": 6,
    "start_time": "2022-12-26T12:55:38.472Z"
   },
   {
    "duration": 2207,
    "start_time": "2022-12-26T12:55:50.063Z"
   },
   {
    "duration": 45,
    "start_time": "2022-12-26T12:55:55.409Z"
   },
   {
    "duration": 54,
    "start_time": "2022-12-26T12:56:26.800Z"
   },
   {
    "duration": 10,
    "start_time": "2022-12-26T13:03:27.723Z"
   },
   {
    "duration": 9,
    "start_time": "2022-12-26T13:04:49.592Z"
   },
   {
    "duration": 15,
    "start_time": "2022-12-26T13:04:57.081Z"
   },
   {
    "duration": 4,
    "start_time": "2022-12-26T13:06:08.180Z"
   },
   {
    "duration": 11,
    "start_time": "2022-12-26T13:06:21.847Z"
   },
   {
    "duration": 11,
    "start_time": "2022-12-26T13:06:34.605Z"
   },
   {
    "duration": 3044,
    "start_time": "2022-12-26T13:07:06.817Z"
   },
   {
    "duration": 5,
    "start_time": "2022-12-26T13:07:09.864Z"
   },
   {
    "duration": 83,
    "start_time": "2022-12-26T13:07:09.871Z"
   },
   {
    "duration": 0,
    "start_time": "2022-12-26T13:07:09.956Z"
   },
   {
    "duration": 2316,
    "start_time": "2022-12-26T13:07:11.929Z"
   },
   {
    "duration": 5,
    "start_time": "2022-12-26T13:07:16.248Z"
   },
   {
    "duration": 10,
    "start_time": "2022-12-26T13:07:26.995Z"
   },
   {
    "duration": 11,
    "start_time": "2022-12-26T13:08:04.569Z"
   },
   {
    "duration": 13,
    "start_time": "2022-12-26T13:09:20.489Z"
   },
   {
    "duration": 15,
    "start_time": "2022-12-26T13:10:00.888Z"
   },
   {
    "duration": 13,
    "start_time": "2022-12-26T13:10:07.084Z"
   },
   {
    "duration": 2256,
    "start_time": "2022-12-26T13:10:51.660Z"
   },
   {
    "duration": 31,
    "start_time": "2022-12-26T13:11:16.469Z"
   },
   {
    "duration": 25,
    "start_time": "2022-12-26T13:11:23.031Z"
   },
   {
    "duration": 45,
    "start_time": "2022-12-26T13:12:47.512Z"
   },
   {
    "duration": 50,
    "start_time": "2022-12-26T13:27:48.684Z"
   },
   {
    "duration": 50,
    "start_time": "2022-12-26T13:28:04.071Z"
   },
   {
    "duration": 49,
    "start_time": "2022-12-26T13:28:12.423Z"
   },
   {
    "duration": 44,
    "start_time": "2022-12-26T13:28:27.805Z"
   },
   {
    "duration": 3068,
    "start_time": "2022-12-26T13:28:46.453Z"
   },
   {
    "duration": 31,
    "start_time": "2022-12-26T13:28:49.523Z"
   },
   {
    "duration": 56,
    "start_time": "2022-12-26T13:28:49.555Z"
   },
   {
    "duration": 2240,
    "start_time": "2022-12-26T13:28:51.569Z"
   },
   {
    "duration": 28,
    "start_time": "2022-12-26T13:28:56.573Z"
   },
   {
    "duration": 40,
    "start_time": "2022-12-26T13:28:57.816Z"
   },
   {
    "duration": 122,
    "start_time": "2022-12-26T13:29:08.926Z"
   },
   {
    "duration": 53,
    "start_time": "2022-12-26T13:29:17.502Z"
   },
   {
    "duration": 52,
    "start_time": "2022-12-26T13:46:59.960Z"
   },
   {
    "duration": 44,
    "start_time": "2022-12-26T15:20:45.534Z"
   },
   {
    "duration": 40,
    "start_time": "2022-12-26T15:26:57.131Z"
   },
   {
    "duration": 53,
    "start_time": "2022-12-26T15:27:01.649Z"
   },
   {
    "duration": 59,
    "start_time": "2022-12-26T15:27:12.583Z"
   },
   {
    "duration": 105,
    "start_time": "2022-12-26T15:29:50.508Z"
   },
   {
    "duration": 14,
    "start_time": "2022-12-26T15:30:21.586Z"
   },
   {
    "duration": 106,
    "start_time": "2022-12-26T15:30:47.395Z"
   },
   {
    "duration": 10,
    "start_time": "2022-12-26T15:30:48.591Z"
   },
   {
    "duration": 192,
    "start_time": "2022-12-26T15:31:30.508Z"
   },
   {
    "duration": 14,
    "start_time": "2022-12-26T15:31:31.531Z"
   },
   {
    "duration": 7,
    "start_time": "2022-12-26T15:32:21.355Z"
   },
   {
    "duration": 15,
    "start_time": "2022-12-26T15:32:33.464Z"
   },
   {
    "duration": 9,
    "start_time": "2022-12-26T15:32:50.992Z"
   },
   {
    "duration": 26,
    "start_time": "2022-12-26T15:33:07.789Z"
   },
   {
    "duration": 7,
    "start_time": "2022-12-26T15:33:10.606Z"
   },
   {
    "duration": 7,
    "start_time": "2022-12-26T15:33:16.546Z"
   },
   {
    "duration": 12,
    "start_time": "2022-12-26T15:33:27.541Z"
   },
   {
    "duration": 3312,
    "start_time": "2022-12-26T15:33:37.841Z"
   },
   {
    "duration": 34,
    "start_time": "2022-12-26T15:33:41.155Z"
   },
   {
    "duration": 28,
    "start_time": "2022-12-26T15:33:41.190Z"
   },
   {
    "duration": 31,
    "start_time": "2022-12-26T15:33:41.220Z"
   },
   {
    "duration": 2395,
    "start_time": "2022-12-26T15:33:43.665Z"
   },
   {
    "duration": 37,
    "start_time": "2022-12-26T15:33:47.675Z"
   },
   {
    "duration": 26,
    "start_time": "2022-12-26T15:33:48.402Z"
   },
   {
    "duration": 9,
    "start_time": "2022-12-26T15:33:50.466Z"
   },
   {
    "duration": 5,
    "start_time": "2022-12-26T15:33:58.242Z"
   },
   {
    "duration": 7,
    "start_time": "2022-12-26T15:34:09.603Z"
   },
   {
    "duration": 127,
    "start_time": "2022-12-26T15:34:38.867Z"
   },
   {
    "duration": 9,
    "start_time": "2022-12-26T15:34:40.893Z"
   },
   {
    "duration": 7,
    "start_time": "2022-12-26T15:34:53.663Z"
   },
   {
    "duration": 3305,
    "start_time": "2022-12-26T15:35:09.420Z"
   },
   {
    "duration": 32,
    "start_time": "2022-12-26T15:35:12.727Z"
   },
   {
    "duration": 162,
    "start_time": "2022-12-26T15:35:12.761Z"
   },
   {
    "duration": 8,
    "start_time": "2022-12-26T15:35:12.925Z"
   },
   {
    "duration": 2358,
    "start_time": "2022-12-26T15:35:13.667Z"
   },
   {
    "duration": 39,
    "start_time": "2022-12-26T15:35:16.028Z"
   },
   {
    "duration": 133,
    "start_time": "2022-12-26T15:35:16.455Z"
   },
   {
    "duration": 8,
    "start_time": "2022-12-26T15:35:18.570Z"
   },
   {
    "duration": 117,
    "start_time": "2022-12-26T15:35:25.778Z"
   },
   {
    "duration": 7,
    "start_time": "2022-12-26T15:35:26.685Z"
   },
   {
    "duration": 9,
    "start_time": "2022-12-26T15:35:45.588Z"
   },
   {
    "duration": 120,
    "start_time": "2022-12-26T15:38:48.075Z"
   },
   {
    "duration": 17,
    "start_time": "2022-12-26T15:39:52.299Z"
   },
   {
    "duration": 77,
    "start_time": "2022-12-26T15:52:23.451Z"
   },
   {
    "duration": 12,
    "start_time": "2022-12-26T15:52:42.057Z"
   },
   {
    "duration": 13,
    "start_time": "2022-12-26T15:52:51.250Z"
   },
   {
    "duration": 2981,
    "start_time": "2022-12-26T15:53:10.175Z"
   },
   {
    "duration": 30,
    "start_time": "2022-12-26T15:53:13.159Z"
   },
   {
    "duration": 137,
    "start_time": "2022-12-26T15:53:13.191Z"
   },
   {
    "duration": 28,
    "start_time": "2022-12-26T15:53:13.330Z"
   },
   {
    "duration": 2305,
    "start_time": "2022-12-26T15:53:15.270Z"
   },
   {
    "duration": 28,
    "start_time": "2022-12-26T15:53:18.676Z"
   },
   {
    "duration": 151,
    "start_time": "2022-12-26T15:53:19.516Z"
   },
   {
    "duration": 18,
    "start_time": "2022-12-26T15:53:21.310Z"
   },
   {
    "duration": 5,
    "start_time": "2022-12-26T15:55:47.194Z"
   },
   {
    "duration": 17,
    "start_time": "2022-12-26T15:55:56.996Z"
   },
   {
    "duration": 19,
    "start_time": "2022-12-26T15:56:35.466Z"
   },
   {
    "duration": 84,
    "start_time": "2022-12-26T15:57:22.811Z"
   },
   {
    "duration": 25,
    "start_time": "2022-12-26T15:58:16.704Z"
   },
   {
    "duration": 21,
    "start_time": "2022-12-26T15:59:43.439Z"
   },
   {
    "duration": 19,
    "start_time": "2022-12-26T16:02:18.047Z"
   },
   {
    "duration": 20,
    "start_time": "2022-12-26T16:02:37.193Z"
   },
   {
    "duration": 18,
    "start_time": "2022-12-26T16:02:42.986Z"
   },
   {
    "duration": 18,
    "start_time": "2022-12-26T16:03:21.458Z"
   },
   {
    "duration": 18,
    "start_time": "2022-12-26T16:03:31.490Z"
   },
   {
    "duration": 17,
    "start_time": "2022-12-26T16:03:36.709Z"
   },
   {
    "duration": 18,
    "start_time": "2022-12-26T16:03:43.645Z"
   },
   {
    "duration": 26,
    "start_time": "2022-12-26T16:03:57.336Z"
   },
   {
    "duration": 20,
    "start_time": "2022-12-26T16:04:12.485Z"
   },
   {
    "duration": 115,
    "start_time": "2022-12-26T16:28:38.489Z"
   },
   {
    "duration": 8,
    "start_time": "2022-12-26T16:29:57.600Z"
   },
   {
    "duration": 8,
    "start_time": "2022-12-26T16:36:23.637Z"
   },
   {
    "duration": 8,
    "start_time": "2022-12-26T16:36:30.050Z"
   },
   {
    "duration": 28,
    "start_time": "2022-12-26T17:02:29.568Z"
   },
   {
    "duration": 23,
    "start_time": "2022-12-26T17:02:34.349Z"
   },
   {
    "duration": 23,
    "start_time": "2022-12-26T17:02:40.293Z"
   },
   {
    "duration": 9,
    "start_time": "2022-12-26T17:03:22.173Z"
   },
   {
    "duration": 11,
    "start_time": "2022-12-26T17:04:57.460Z"
   },
   {
    "duration": 9,
    "start_time": "2022-12-26T17:06:03.889Z"
   },
   {
    "duration": 3112,
    "start_time": "2022-12-26T17:09:10.036Z"
   },
   {
    "duration": 33,
    "start_time": "2022-12-26T17:09:13.151Z"
   },
   {
    "duration": 138,
    "start_time": "2022-12-26T17:09:13.186Z"
   },
   {
    "duration": 35,
    "start_time": "2022-12-26T17:09:13.327Z"
   },
   {
    "duration": 12,
    "start_time": "2022-12-26T17:09:13.364Z"
   },
   {
    "duration": 2330,
    "start_time": "2022-12-26T17:09:14.444Z"
   },
   {
    "duration": 32,
    "start_time": "2022-12-26T17:09:18.148Z"
   },
   {
    "duration": 124,
    "start_time": "2022-12-26T17:09:19.246Z"
   },
   {
    "duration": 17,
    "start_time": "2022-12-26T17:09:20.286Z"
   },
   {
    "duration": 10,
    "start_time": "2022-12-26T17:09:24.191Z"
   },
   {
    "duration": 10,
    "start_time": "2022-12-26T17:09:30.265Z"
   },
   {
    "duration": 79,
    "start_time": "2022-12-26T17:09:59.407Z"
   },
   {
    "duration": 3011,
    "start_time": "2022-12-26T17:10:12.982Z"
   },
   {
    "duration": 31,
    "start_time": "2022-12-26T17:10:15.995Z"
   },
   {
    "duration": 118,
    "start_time": "2022-12-26T17:10:16.028Z"
   },
   {
    "duration": 16,
    "start_time": "2022-12-26T17:10:16.151Z"
   },
   {
    "duration": 98,
    "start_time": "2022-12-26T17:10:16.169Z"
   },
   {
    "duration": 2390,
    "start_time": "2022-12-26T17:10:17.155Z"
   },
   {
    "duration": 38,
    "start_time": "2022-12-26T17:10:19.572Z"
   },
   {
    "duration": 116,
    "start_time": "2022-12-26T17:10:20.355Z"
   },
   {
    "duration": 17,
    "start_time": "2022-12-26T17:10:21.269Z"
   },
   {
    "duration": 12,
    "start_time": "2022-12-26T17:10:22.782Z"
   },
   {
    "duration": 158,
    "start_time": "2022-12-26T17:12:07.373Z"
   },
   {
    "duration": 10,
    "start_time": "2022-12-26T17:22:06.061Z"
   },
   {
    "duration": 3088,
    "start_time": "2022-12-26T17:23:52.244Z"
   },
   {
    "duration": 31,
    "start_time": "2022-12-26T17:23:55.335Z"
   },
   {
    "duration": 172,
    "start_time": "2022-12-26T17:23:55.368Z"
   },
   {
    "duration": 21,
    "start_time": "2022-12-26T17:23:55.542Z"
   },
   {
    "duration": 10,
    "start_time": "2022-12-26T17:23:55.565Z"
   },
   {
    "duration": 2494,
    "start_time": "2022-12-26T17:23:57.473Z"
   },
   {
    "duration": 28,
    "start_time": "2022-12-26T17:24:11.456Z"
   },
   {
    "duration": 179,
    "start_time": "2022-12-26T17:24:14.118Z"
   },
   {
    "duration": 17,
    "start_time": "2022-12-26T17:24:17.963Z"
   },
   {
    "duration": 12,
    "start_time": "2022-12-26T17:24:19.179Z"
   },
   {
    "duration": 10,
    "start_time": "2022-12-26T17:24:43.948Z"
   },
   {
    "duration": 10,
    "start_time": "2022-12-26T17:25:25.974Z"
   },
   {
    "duration": 3187,
    "start_time": "2022-12-26T17:26:26.805Z"
   },
   {
    "duration": 32,
    "start_time": "2022-12-26T17:26:29.994Z"
   },
   {
    "duration": 185,
    "start_time": "2022-12-26T17:26:30.027Z"
   },
   {
    "duration": 19,
    "start_time": "2022-12-26T17:26:30.215Z"
   },
   {
    "duration": 22,
    "start_time": "2022-12-26T17:26:30.236Z"
   },
   {
    "duration": 2404,
    "start_time": "2022-12-26T17:26:49.402Z"
   },
   {
    "duration": 27,
    "start_time": "2022-12-26T17:26:53.557Z"
   },
   {
    "duration": 174,
    "start_time": "2022-12-26T17:26:56.896Z"
   },
   {
    "duration": 20,
    "start_time": "2022-12-26T17:26:59.124Z"
   },
   {
    "duration": 7,
    "start_time": "2022-12-26T17:27:00.597Z"
   },
   {
    "duration": 10,
    "start_time": "2022-12-26T17:27:06.123Z"
   },
   {
    "duration": 11,
    "start_time": "2022-12-26T17:27:12.111Z"
   },
   {
    "duration": 9,
    "start_time": "2022-12-26T17:27:32.110Z"
   },
   {
    "duration": 9,
    "start_time": "2022-12-26T17:28:08.349Z"
   },
   {
    "duration": 10,
    "start_time": "2022-12-26T17:28:14.879Z"
   },
   {
    "duration": 10,
    "start_time": "2022-12-26T17:28:22.604Z"
   },
   {
    "duration": 10,
    "start_time": "2022-12-26T17:28:30.540Z"
   },
   {
    "duration": 9,
    "start_time": "2022-12-26T17:28:38.640Z"
   },
   {
    "duration": 10,
    "start_time": "2022-12-26T17:29:12.552Z"
   },
   {
    "duration": 11,
    "start_time": "2022-12-26T17:29:28.111Z"
   },
   {
    "duration": 10,
    "start_time": "2022-12-26T17:30:03.735Z"
   },
   {
    "duration": 11,
    "start_time": "2022-12-26T17:30:18.207Z"
   },
   {
    "duration": 14,
    "start_time": "2022-12-26T17:34:59.594Z"
   },
   {
    "duration": 3160,
    "start_time": "2022-12-26T17:44:18.797Z"
   },
   {
    "duration": 32,
    "start_time": "2022-12-26T17:44:21.960Z"
   },
   {
    "duration": 187,
    "start_time": "2022-12-26T17:44:21.994Z"
   },
   {
    "duration": 17,
    "start_time": "2022-12-26T17:44:22.184Z"
   },
   {
    "duration": 11,
    "start_time": "2022-12-26T17:44:22.203Z"
   },
   {
    "duration": 2294,
    "start_time": "2022-12-26T17:44:24.027Z"
   },
   {
    "duration": 27,
    "start_time": "2022-12-26T17:44:26.421Z"
   },
   {
    "duration": 168,
    "start_time": "2022-12-26T17:44:26.769Z"
   },
   {
    "duration": 18,
    "start_time": "2022-12-26T17:44:27.412Z"
   },
   {
    "duration": 11,
    "start_time": "2022-12-26T17:44:29.007Z"
   },
   {
    "duration": 3,
    "start_time": "2022-12-26T17:51:47.753Z"
   },
   {
    "duration": 79,
    "start_time": "2022-12-26T17:51:51.415Z"
   },
   {
    "duration": 10,
    "start_time": "2022-12-26T17:52:08.065Z"
   },
   {
    "duration": 13,
    "start_time": "2022-12-26T17:53:06.823Z"
   },
   {
    "duration": 13,
    "start_time": "2022-12-26T17:53:19.444Z"
   },
   {
    "duration": 13,
    "start_time": "2022-12-26T17:53:27.577Z"
   },
   {
    "duration": 8,
    "start_time": "2022-12-26T17:53:57.156Z"
   },
   {
    "duration": 85,
    "start_time": "2022-12-26T17:56:16.662Z"
   },
   {
    "duration": 5,
    "start_time": "2022-12-26T17:57:20.585Z"
   },
   {
    "duration": 8,
    "start_time": "2022-12-26T17:57:43.652Z"
   },
   {
    "duration": 5,
    "start_time": "2022-12-26T17:59:17.467Z"
   },
   {
    "duration": 21,
    "start_time": "2022-12-26T17:59:29.582Z"
   },
   {
    "duration": 6,
    "start_time": "2022-12-26T17:59:39.147Z"
   },
   {
    "duration": 6,
    "start_time": "2022-12-26T18:01:23.803Z"
   },
   {
    "duration": 5,
    "start_time": "2022-12-26T18:03:01.866Z"
   },
   {
    "duration": 94,
    "start_time": "2022-12-26T18:12:18.828Z"
   },
   {
    "duration": 29,
    "start_time": "2022-12-26T18:12:29.552Z"
   },
   {
    "duration": 19,
    "start_time": "2022-12-26T18:12:48.372Z"
   },
   {
    "duration": 10,
    "start_time": "2022-12-26T18:14:27.075Z"
   },
   {
    "duration": 6,
    "start_time": "2022-12-26T18:14:35.774Z"
   },
   {
    "duration": 5,
    "start_time": "2022-12-26T18:14:57.326Z"
   },
   {
    "duration": 23,
    "start_time": "2022-12-26T18:15:20.434Z"
   },
   {
    "duration": 6,
    "start_time": "2022-12-26T18:15:36.268Z"
   },
   {
    "duration": 20,
    "start_time": "2022-12-26T18:16:44.206Z"
   },
   {
    "duration": 60,
    "start_time": "2022-12-26T18:19:18.589Z"
   },
   {
    "duration": 2564,
    "start_time": "2022-12-26T18:24:53.797Z"
   },
   {
    "duration": 29,
    "start_time": "2022-12-26T18:25:00.892Z"
   },
   {
    "duration": 124,
    "start_time": "2022-12-26T18:25:02.395Z"
   },
   {
    "duration": 18,
    "start_time": "2022-12-26T18:25:04.746Z"
   },
   {
    "duration": 59,
    "start_time": "2022-12-26T18:25:06.361Z"
   },
   {
    "duration": 6,
    "start_time": "2022-12-26T19:01:51.242Z"
   },
   {
    "duration": 75,
    "start_time": "2022-12-26T19:02:25.086Z"
   },
   {
    "duration": 20,
    "start_time": "2022-12-26T19:02:30.188Z"
   },
   {
    "duration": 5,
    "start_time": "2022-12-26T19:02:42.723Z"
   },
   {
    "duration": 47,
    "start_time": "2022-12-26T19:02:55.647Z"
   },
   {
    "duration": 2573,
    "start_time": "2022-12-26T19:03:25.225Z"
   },
   {
    "duration": 2468,
    "start_time": "2022-12-26T19:03:49.442Z"
   },
   {
    "duration": 61,
    "start_time": "2022-12-26T19:05:57.483Z"
   },
   {
    "duration": 15,
    "start_time": "2022-12-26T19:06:09.933Z"
   },
   {
    "duration": 13,
    "start_time": "2022-12-26T19:06:27.737Z"
   },
   {
    "duration": 71,
    "start_time": "2022-12-26T19:06:58.445Z"
   },
   {
    "duration": 2443,
    "start_time": "2022-12-26T19:07:06.157Z"
   },
   {
    "duration": 29,
    "start_time": "2022-12-26T19:07:08.815Z"
   },
   {
    "duration": 178,
    "start_time": "2022-12-26T19:07:09.725Z"
   },
   {
    "duration": 18,
    "start_time": "2022-12-26T19:07:10.750Z"
   },
   {
    "duration": 56,
    "start_time": "2022-12-26T19:07:12.247Z"
   },
   {
    "duration": 61,
    "start_time": "2022-12-26T19:07:17.304Z"
   },
   {
    "duration": 50,
    "start_time": "2022-12-26T19:07:27.856Z"
   },
   {
    "duration": 15,
    "start_time": "2022-12-26T19:08:50.496Z"
   },
   {
    "duration": 51,
    "start_time": "2022-12-26T19:08:57.665Z"
   },
   {
    "duration": 51,
    "start_time": "2022-12-26T19:09:31.708Z"
   },
   {
    "duration": 16,
    "start_time": "2022-12-26T19:09:44.119Z"
   },
   {
    "duration": 53,
    "start_time": "2022-12-26T19:10:25.463Z"
   },
   {
    "duration": 72,
    "start_time": "2022-12-26T19:49:53.207Z"
   },
   {
    "duration": 313,
    "start_time": "2022-12-26T19:50:11.069Z"
   },
   {
    "duration": 311,
    "start_time": "2022-12-26T19:51:48.744Z"
   },
   {
    "duration": 309,
    "start_time": "2022-12-26T19:52:19.247Z"
   },
   {
    "duration": 148,
    "start_time": "2022-12-26T20:09:02.780Z"
   },
   {
    "duration": 3106,
    "start_time": "2022-12-26T20:10:46.675Z"
   },
   {
    "duration": 37,
    "start_time": "2022-12-26T20:10:49.784Z"
   },
   {
    "duration": 147,
    "start_time": "2022-12-26T20:10:49.823Z"
   },
   {
    "duration": 18,
    "start_time": "2022-12-26T20:10:49.973Z"
   },
   {
    "duration": 83,
    "start_time": "2022-12-26T20:10:49.992Z"
   },
   {
    "duration": 202,
    "start_time": "2022-12-26T20:10:50.077Z"
   },
   {
    "duration": 2311,
    "start_time": "2022-12-26T20:10:54.575Z"
   },
   {
    "duration": 27,
    "start_time": "2022-12-26T20:10:57.771Z"
   },
   {
    "duration": 128,
    "start_time": "2022-12-26T20:10:59.053Z"
   },
   {
    "duration": 17,
    "start_time": "2022-12-26T20:11:00.178Z"
   },
   {
    "duration": 54,
    "start_time": "2022-12-26T20:11:02.252Z"
   },
   {
    "duration": 121,
    "start_time": "2022-12-26T20:11:15.853Z"
   },
   {
    "duration": 531,
    "start_time": "2022-12-26T20:14:30.063Z"
   },
   {
    "duration": 416,
    "start_time": "2022-12-26T20:14:42.595Z"
   },
   {
    "duration": 351,
    "start_time": "2022-12-26T20:15:03.822Z"
   },
   {
    "duration": 356,
    "start_time": "2022-12-26T20:23:26.602Z"
   },
   {
    "duration": 452,
    "start_time": "2022-12-26T20:24:05.394Z"
   },
   {
    "duration": 378,
    "start_time": "2022-12-26T20:24:28.451Z"
   },
   {
    "duration": 445,
    "start_time": "2022-12-26T20:24:39.708Z"
   },
   {
    "duration": 265,
    "start_time": "2022-12-26T21:05:18.583Z"
   },
   {
    "duration": 426,
    "start_time": "2022-12-26T21:05:37.392Z"
   },
   {
    "duration": 437,
    "start_time": "2022-12-26T21:05:46.199Z"
   },
   {
    "duration": 191,
    "start_time": "2022-12-26T21:06:02.601Z"
   },
   {
    "duration": 1617,
    "start_time": "2022-12-26T21:06:09.841Z"
   },
   {
    "duration": 451,
    "start_time": "2022-12-26T21:06:20.975Z"
   },
   {
    "duration": 334,
    "start_time": "2022-12-26T21:06:29.793Z"
   },
   {
    "duration": 76,
    "start_time": "2022-12-26T21:18:16.461Z"
   },
   {
    "duration": 14,
    "start_time": "2022-12-26T21:18:29.153Z"
   },
   {
    "duration": 276,
    "start_time": "2022-12-26T21:18:41.167Z"
   },
   {
    "duration": 212,
    "start_time": "2022-12-26T21:19:00.165Z"
   },
   {
    "duration": 438,
    "start_time": "2022-12-26T21:19:40.225Z"
   },
   {
    "duration": 256,
    "start_time": "2022-12-26T21:20:01.876Z"
   },
   {
    "duration": 11,
    "start_time": "2022-12-26T21:20:41.986Z"
   },
   {
    "duration": 10,
    "start_time": "2022-12-26T21:21:02.572Z"
   },
   {
    "duration": 11,
    "start_time": "2022-12-26T21:21:18.968Z"
   },
   {
    "duration": 334,
    "start_time": "2022-12-26T21:25:43.522Z"
   },
   {
    "duration": 260,
    "start_time": "2022-12-26T21:26:00.113Z"
   },
   {
    "duration": 261,
    "start_time": "2022-12-26T21:27:13.430Z"
   },
   {
    "duration": 249,
    "start_time": "2022-12-26T21:27:25.369Z"
   },
   {
    "duration": 256,
    "start_time": "2022-12-26T21:28:52.541Z"
   },
   {
    "duration": 247,
    "start_time": "2022-12-26T21:29:31.414Z"
   },
   {
    "duration": 263,
    "start_time": "2022-12-26T21:29:43.201Z"
   },
   {
    "duration": 489,
    "start_time": "2022-12-26T21:29:50.945Z"
   },
   {
    "duration": 309,
    "start_time": "2022-12-26T21:30:01.048Z"
   },
   {
    "duration": 412,
    "start_time": "2022-12-26T21:30:11.041Z"
   },
   {
    "duration": 276,
    "start_time": "2022-12-26T21:30:20.309Z"
   },
   {
    "duration": 247,
    "start_time": "2022-12-26T21:30:27.023Z"
   },
   {
    "duration": 291,
    "start_time": "2022-12-26T21:30:33.400Z"
   },
   {
    "duration": 208,
    "start_time": "2022-12-26T21:32:10.033Z"
   },
   {
    "duration": 318,
    "start_time": "2022-12-26T21:32:21.722Z"
   },
   {
    "duration": 1108,
    "start_time": "2022-12-26T21:33:23.102Z"
   },
   {
    "duration": 251,
    "start_time": "2022-12-26T21:33:33.402Z"
   },
   {
    "duration": 325,
    "start_time": "2022-12-26T21:33:41.828Z"
   },
   {
    "duration": 412,
    "start_time": "2022-12-26T21:34:19.503Z"
   },
   {
    "duration": 352,
    "start_time": "2022-12-26T21:34:32.263Z"
   },
   {
    "duration": 1247,
    "start_time": "2022-12-26T22:31:48.298Z"
   },
   {
    "duration": 1204,
    "start_time": "2022-12-26T22:32:14.557Z"
   },
   {
    "duration": 3059,
    "start_time": "2022-12-26T22:32:33.878Z"
   },
   {
    "duration": 40,
    "start_time": "2022-12-26T22:32:36.939Z"
   },
   {
    "duration": 130,
    "start_time": "2022-12-26T22:32:36.981Z"
   },
   {
    "duration": 21,
    "start_time": "2022-12-26T22:32:37.114Z"
   },
   {
    "duration": 64,
    "start_time": "2022-12-26T22:32:37.153Z"
   },
   {
    "duration": 421,
    "start_time": "2022-12-26T22:32:37.218Z"
   },
   {
    "duration": 363,
    "start_time": "2022-12-26T22:32:37.640Z"
   },
   {
    "duration": 1305,
    "start_time": "2022-12-26T22:32:38.005Z"
   },
   {
    "duration": 0,
    "start_time": "2022-12-26T22:32:39.312Z"
   },
   {
    "duration": 27,
    "start_time": "2022-12-26T22:32:41.244Z"
   },
   {
    "duration": 151,
    "start_time": "2022-12-26T22:32:41.871Z"
   },
   {
    "duration": 9,
    "start_time": "2022-12-26T22:32:42.427Z"
   },
   {
    "duration": 58,
    "start_time": "2022-12-26T22:32:43.229Z"
   },
   {
    "duration": 467,
    "start_time": "2022-12-26T22:32:44.268Z"
   },
   {
    "duration": 360,
    "start_time": "2022-12-26T22:32:45.976Z"
   },
   {
    "duration": 1252,
    "start_time": "2022-12-26T22:32:49.435Z"
   },
   {
    "duration": 386,
    "start_time": "2022-12-26T22:33:26.726Z"
   },
   {
    "duration": 553,
    "start_time": "2022-12-26T22:35:00.339Z"
   },
   {
    "duration": 638,
    "start_time": "2022-12-26T22:35:39.204Z"
   },
   {
    "duration": 284,
    "start_time": "2022-12-26T22:35:55.033Z"
   },
   {
    "duration": 245,
    "start_time": "2022-12-26T22:36:13.564Z"
   },
   {
    "duration": 249,
    "start_time": "2022-12-26T22:36:24.181Z"
   },
   {
    "duration": 219,
    "start_time": "2022-12-26T22:37:57.770Z"
   },
   {
    "duration": 241,
    "start_time": "2022-12-26T22:39:33.185Z"
   },
   {
    "duration": 332,
    "start_time": "2022-12-26T22:39:50.063Z"
   },
   {
    "duration": 433,
    "start_time": "2022-12-26T22:40:47.226Z"
   },
   {
    "duration": 364,
    "start_time": "2022-12-26T22:41:50.058Z"
   },
   {
    "duration": 265,
    "start_time": "2022-12-26T22:42:03.048Z"
   },
   {
    "duration": 256,
    "start_time": "2022-12-26T22:45:08.981Z"
   },
   {
    "duration": 229,
    "start_time": "2022-12-26T22:45:40.066Z"
   },
   {
    "duration": 200,
    "start_time": "2022-12-26T22:45:54.173Z"
   },
   {
    "duration": 188,
    "start_time": "2022-12-26T22:46:01.189Z"
   },
   {
    "duration": 195,
    "start_time": "2022-12-26T22:46:23.424Z"
   },
   {
    "duration": 199,
    "start_time": "2022-12-26T22:46:37.315Z"
   },
   {
    "duration": 2258,
    "start_time": "2022-12-26T22:47:20.113Z"
   },
   {
    "duration": 26,
    "start_time": "2022-12-26T22:47:27.820Z"
   },
   {
    "duration": 112,
    "start_time": "2022-12-26T22:47:29.857Z"
   },
   {
    "duration": 15,
    "start_time": "2022-12-26T22:47:30.783Z"
   },
   {
    "duration": 50,
    "start_time": "2022-12-26T22:47:31.572Z"
   },
   {
    "duration": 406,
    "start_time": "2022-12-26T22:47:32.118Z"
   },
   {
    "duration": 207,
    "start_time": "2022-12-26T22:47:33.294Z"
   },
   {
    "duration": 224,
    "start_time": "2022-12-26T22:47:34.643Z"
   },
   {
    "duration": 204,
    "start_time": "2022-12-26T22:47:35.878Z"
   },
   {
    "duration": 251,
    "start_time": "2022-12-26T22:47:37.477Z"
   },
   {
    "duration": 202,
    "start_time": "2022-12-26T22:47:39.165Z"
   },
   {
    "duration": 418,
    "start_time": "2022-12-26T22:48:22.289Z"
   },
   {
    "duration": 176,
    "start_time": "2022-12-26T22:48:31.989Z"
   },
   {
    "duration": 234,
    "start_time": "2022-12-26T22:49:36.494Z"
   },
   {
    "duration": 235,
    "start_time": "2022-12-26T22:49:46.777Z"
   },
   {
    "duration": 22,
    "start_time": "2022-12-26T22:50:53.763Z"
   },
   {
    "duration": 200,
    "start_time": "2022-12-26T22:51:16.612Z"
   },
   {
    "duration": 174,
    "start_time": "2022-12-26T22:51:27.164Z"
   },
   {
    "duration": 24,
    "start_time": "2022-12-26T22:51:38.155Z"
   },
   {
    "duration": 1299,
    "start_time": "2022-12-26T22:54:44.824Z"
   },
   {
    "duration": 30,
    "start_time": "2022-12-26T22:55:05.763Z"
   },
   {
    "duration": 35,
    "start_time": "2022-12-26T22:55:19.855Z"
   },
   {
    "duration": 21,
    "start_time": "2022-12-26T22:55:56.866Z"
   },
   {
    "duration": 85,
    "start_time": "2022-12-26T22:56:43.141Z"
   },
   {
    "duration": 71,
    "start_time": "2022-12-26T22:56:50.476Z"
   },
   {
    "duration": 30,
    "start_time": "2022-12-26T22:59:06.463Z"
   },
   {
    "duration": 33,
    "start_time": "2022-12-26T22:59:13.131Z"
   },
   {
    "duration": 321,
    "start_time": "2022-12-26T23:01:01.796Z"
   },
   {
    "duration": 415,
    "start_time": "2022-12-26T23:01:37.413Z"
   },
   {
    "duration": 428,
    "start_time": "2022-12-26T23:01:57.915Z"
   },
   {
    "duration": 458,
    "start_time": "2022-12-26T23:02:14.505Z"
   },
   {
    "duration": 484,
    "start_time": "2022-12-26T23:02:39.251Z"
   },
   {
    "duration": 3186,
    "start_time": "2022-12-26T23:03:48.965Z"
   },
   {
    "duration": 771,
    "start_time": "2022-12-26T23:04:08.559Z"
   },
   {
    "duration": 10,
    "start_time": "2022-12-26T23:05:08.680Z"
   },
   {
    "duration": 1282,
    "start_time": "2022-12-26T23:05:13.194Z"
   },
   {
    "duration": 1157,
    "start_time": "2022-12-26T23:05:20.998Z"
   },
   {
    "duration": 211,
    "start_time": "2022-12-26T23:05:54.281Z"
   },
   {
    "duration": 259,
    "start_time": "2022-12-26T23:06:04.641Z"
   },
   {
    "duration": 238,
    "start_time": "2022-12-26T23:06:23.760Z"
   },
   {
    "duration": 330,
    "start_time": "2022-12-26T23:06:43.695Z"
   },
   {
    "duration": 276,
    "start_time": "2022-12-26T23:06:49.371Z"
   },
   {
    "duration": 316,
    "start_time": "2022-12-26T23:07:00.498Z"
   },
   {
    "duration": 308,
    "start_time": "2022-12-26T23:07:13.378Z"
   },
   {
    "duration": 250,
    "start_time": "2022-12-26T23:07:20.685Z"
   },
   {
    "duration": 203,
    "start_time": "2022-12-26T23:07:53.820Z"
   },
   {
    "duration": 247,
    "start_time": "2022-12-26T23:08:07.618Z"
   },
   {
    "duration": 318,
    "start_time": "2022-12-26T23:08:15.242Z"
   },
   {
    "duration": 230,
    "start_time": "2022-12-26T23:08:24.568Z"
   },
   {
    "duration": 191,
    "start_time": "2022-12-26T23:08:36.100Z"
   },
   {
    "duration": 199,
    "start_time": "2022-12-26T23:08:45.785Z"
   },
   {
    "duration": 224,
    "start_time": "2022-12-26T23:08:52.139Z"
   },
   {
    "duration": 218,
    "start_time": "2022-12-26T23:09:00.665Z"
   },
   {
    "duration": 227,
    "start_time": "2022-12-26T23:10:30.500Z"
   },
   {
    "duration": 290,
    "start_time": "2022-12-26T23:10:39.564Z"
   },
   {
    "duration": 212,
    "start_time": "2022-12-26T23:11:36.233Z"
   },
   {
    "duration": 531,
    "start_time": "2022-12-26T23:12:24.314Z"
   },
   {
    "duration": 1155,
    "start_time": "2022-12-26T23:14:33.150Z"
   },
   {
    "duration": 315,
    "start_time": "2022-12-26T23:19:59.219Z"
   },
   {
    "duration": 288,
    "start_time": "2022-12-26T23:20:18.185Z"
   },
   {
    "duration": 287,
    "start_time": "2022-12-26T23:20:37.247Z"
   },
   {
    "duration": 261,
    "start_time": "2022-12-26T23:20:57.009Z"
   },
   {
    "duration": 286,
    "start_time": "2022-12-26T23:21:06.973Z"
   },
   {
    "duration": 489,
    "start_time": "2022-12-26T23:29:28.039Z"
   },
   {
    "duration": 243,
    "start_time": "2022-12-26T23:29:37.337Z"
   },
   {
    "duration": 232,
    "start_time": "2022-12-26T23:29:50.206Z"
   },
   {
    "duration": 2753,
    "start_time": "2022-12-26T23:31:11.055Z"
   },
   {
    "duration": 29,
    "start_time": "2022-12-26T23:31:13.810Z"
   },
   {
    "duration": 128,
    "start_time": "2022-12-26T23:31:13.854Z"
   },
   {
    "duration": 16,
    "start_time": "2022-12-26T23:31:13.983Z"
   },
   {
    "duration": 69,
    "start_time": "2022-12-26T23:31:14.001Z"
   },
   {
    "duration": 406,
    "start_time": "2022-12-26T23:31:14.072Z"
   },
   {
    "duration": 212,
    "start_time": "2022-12-26T23:31:14.480Z"
   },
   {
    "duration": 240,
    "start_time": "2022-12-26T23:31:14.694Z"
   },
   {
    "duration": 379,
    "start_time": "2022-12-26T23:31:14.937Z"
   },
   {
    "duration": 255,
    "start_time": "2022-12-26T23:31:15.318Z"
   },
   {
    "duration": 199,
    "start_time": "2022-12-26T23:31:15.575Z"
   },
   {
    "duration": 182,
    "start_time": "2022-12-26T23:31:15.776Z"
   },
   {
    "duration": 213,
    "start_time": "2022-12-26T23:31:15.959Z"
   },
   {
    "duration": 447,
    "start_time": "2022-12-26T23:31:16.174Z"
   },
   {
    "duration": 213,
    "start_time": "2022-12-26T23:31:16.623Z"
   },
   {
    "duration": 248,
    "start_time": "2022-12-26T23:31:16.838Z"
   },
   {
    "duration": 310,
    "start_time": "2022-12-26T23:31:17.088Z"
   },
   {
    "duration": 234,
    "start_time": "2022-12-26T23:31:17.400Z"
   },
   {
    "duration": 308,
    "start_time": "2022-12-26T23:31:17.636Z"
   },
   {
    "duration": 2297,
    "start_time": "2022-12-26T23:31:17.946Z"
   },
   {
    "duration": 26,
    "start_time": "2022-12-26T23:31:20.250Z"
   },
   {
    "duration": 121,
    "start_time": "2022-12-26T23:31:20.278Z"
   },
   {
    "duration": 17,
    "start_time": "2022-12-26T23:31:20.401Z"
   },
   {
    "duration": 73,
    "start_time": "2022-12-26T23:31:20.421Z"
   },
   {
    "duration": 396,
    "start_time": "2022-12-26T23:31:20.496Z"
   },
   {
    "duration": 202,
    "start_time": "2022-12-26T23:31:20.893Z"
   },
   {
    "duration": 227,
    "start_time": "2022-12-26T23:31:21.097Z"
   },
   {
    "duration": 274,
    "start_time": "2022-12-26T23:31:23.451Z"
   },
   {
    "duration": 226,
    "start_time": "2022-12-26T23:31:26.188Z"
   },
   {
    "duration": 184,
    "start_time": "2022-12-26T23:31:27.316Z"
   },
   {
    "duration": 159,
    "start_time": "2022-12-26T23:31:27.694Z"
   },
   {
    "duration": 205,
    "start_time": "2022-12-26T23:31:28.248Z"
   },
   {
    "duration": 577,
    "start_time": "2022-12-26T23:31:28.967Z"
   },
   {
    "duration": 259,
    "start_time": "2022-12-26T23:31:29.547Z"
   },
   {
    "duration": 242,
    "start_time": "2022-12-26T23:31:29.808Z"
   },
   {
    "duration": 208,
    "start_time": "2022-12-26T23:31:30.137Z"
   },
   {
    "duration": 222,
    "start_time": "2022-12-26T23:31:30.703Z"
   },
   {
    "duration": 280,
    "start_time": "2022-12-26T23:31:31.799Z"
   },
   {
    "duration": 331,
    "start_time": "2022-12-26T23:33:09.532Z"
   },
   {
    "duration": 908,
    "start_time": "2022-12-26T23:33:19.381Z"
   },
   {
    "duration": 208,
    "start_time": "2022-12-26T23:33:57.512Z"
   },
   {
    "duration": 226,
    "start_time": "2022-12-26T23:34:06.678Z"
   },
   {
    "duration": 198,
    "start_time": "2022-12-26T23:38:55.693Z"
   },
   {
    "duration": 208,
    "start_time": "2022-12-26T23:40:16.813Z"
   },
   {
    "duration": 256,
    "start_time": "2022-12-26T23:50:48.947Z"
   },
   {
    "duration": 199,
    "start_time": "2022-12-26T23:50:55.819Z"
   },
   {
    "duration": 221,
    "start_time": "2022-12-26T23:52:21.523Z"
   },
   {
    "duration": 220,
    "start_time": "2022-12-26T23:52:35.152Z"
   },
   {
    "duration": 214,
    "start_time": "2022-12-26T23:53:09.011Z"
   },
   {
    "duration": 208,
    "start_time": "2022-12-26T23:53:16.466Z"
   },
   {
    "duration": 238,
    "start_time": "2022-12-26T23:54:52.770Z"
   },
   {
    "duration": 282,
    "start_time": "2022-12-26T23:56:11.324Z"
   },
   {
    "duration": 213,
    "start_time": "2022-12-27T00:01:04.605Z"
   },
   {
    "duration": 206,
    "start_time": "2022-12-27T00:01:13.626Z"
   },
   {
    "duration": 3572,
    "start_time": "2022-12-27T11:18:39.477Z"
   },
   {
    "duration": 38,
    "start_time": "2022-12-27T11:18:53.964Z"
   },
   {
    "duration": 121,
    "start_time": "2022-12-27T11:18:57.026Z"
   },
   {
    "duration": 14,
    "start_time": "2022-12-27T11:19:08.106Z"
   },
   {
    "duration": 58,
    "start_time": "2022-12-27T11:19:13.747Z"
   },
   {
    "duration": 360,
    "start_time": "2022-12-27T11:19:34.006Z"
   },
   {
    "duration": 186,
    "start_time": "2022-12-27T11:20:10.267Z"
   },
   {
    "duration": 201,
    "start_time": "2022-12-27T11:20:13.402Z"
   },
   {
    "duration": 394,
    "start_time": "2022-12-27T11:20:14.848Z"
   },
   {
    "duration": 210,
    "start_time": "2022-12-27T11:20:16.623Z"
   },
   {
    "duration": 184,
    "start_time": "2022-12-27T11:20:17.964Z"
   },
   {
    "duration": 196,
    "start_time": "2022-12-27T11:20:19.094Z"
   },
   {
    "duration": 179,
    "start_time": "2022-12-27T11:20:20.067Z"
   },
   {
    "duration": 394,
    "start_time": "2022-12-27T11:20:21.088Z"
   },
   {
    "duration": 191,
    "start_time": "2022-12-27T11:20:22.246Z"
   },
   {
    "duration": 367,
    "start_time": "2022-12-27T11:20:24.652Z"
   },
   {
    "duration": 185,
    "start_time": "2022-12-27T11:20:28.282Z"
   },
   {
    "duration": 199,
    "start_time": "2022-12-27T11:20:29.873Z"
   },
   {
    "duration": 300,
    "start_time": "2022-12-27T11:20:36.149Z"
   },
   {
    "duration": 280,
    "start_time": "2022-12-27T11:21:16.244Z"
   },
   {
    "duration": 301,
    "start_time": "2022-12-27T11:24:07.065Z"
   },
   {
    "duration": 253,
    "start_time": "2022-12-27T11:24:37.944Z"
   },
   {
    "duration": 367,
    "start_time": "2022-12-27T11:28:51.447Z"
   },
   {
    "duration": 248,
    "start_time": "2022-12-27T11:28:58.970Z"
   },
   {
    "duration": 56,
    "start_time": "2022-12-27T11:29:44.824Z"
   },
   {
    "duration": 17,
    "start_time": "2022-12-27T12:11:53.338Z"
   },
   {
    "duration": 14,
    "start_time": "2022-12-27T12:12:35.401Z"
   },
   {
    "duration": 115,
    "start_time": "2022-12-27T12:13:40.359Z"
   },
   {
    "duration": 150,
    "start_time": "2022-12-27T12:14:14.512Z"
   },
   {
    "duration": 226,
    "start_time": "2022-12-27T12:14:57.309Z"
   },
   {
    "duration": 133,
    "start_time": "2022-12-27T12:16:10.536Z"
   },
   {
    "duration": 251,
    "start_time": "2022-12-27T12:21:05.974Z"
   },
   {
    "duration": 126,
    "start_time": "2022-12-27T12:21:21.414Z"
   },
   {
    "duration": 747,
    "start_time": "2022-12-27T12:22:49.282Z"
   },
   {
    "duration": 209,
    "start_time": "2022-12-27T12:24:23.682Z"
   },
   {
    "duration": 15,
    "start_time": "2022-12-27T12:26:07.160Z"
   },
   {
    "duration": 14,
    "start_time": "2022-12-27T12:33:39.287Z"
   },
   {
    "duration": 31,
    "start_time": "2022-12-27T12:33:56.749Z"
   },
   {
    "duration": 16,
    "start_time": "2022-12-27T12:34:13.069Z"
   },
   {
    "duration": 788,
    "start_time": "2022-12-27T12:36:23.991Z"
   },
   {
    "duration": 777,
    "start_time": "2022-12-27T12:36:38.141Z"
   },
   {
    "duration": 190,
    "start_time": "2022-12-27T12:38:10.044Z"
   },
   {
    "duration": 10,
    "start_time": "2022-12-27T12:43:05.187Z"
   },
   {
    "duration": 11,
    "start_time": "2022-12-27T12:43:17.815Z"
   },
   {
    "duration": 16,
    "start_time": "2022-12-27T12:43:28.622Z"
   },
   {
    "duration": 7,
    "start_time": "2022-12-27T12:46:35.494Z"
   },
   {
    "duration": 18,
    "start_time": "2022-12-27T12:49:07.961Z"
   },
   {
    "duration": 153,
    "start_time": "2022-12-27T12:51:05.381Z"
   },
   {
    "duration": 133,
    "start_time": "2022-12-27T12:51:34.217Z"
   },
   {
    "duration": 158,
    "start_time": "2022-12-27T12:51:48.237Z"
   },
   {
    "duration": 14,
    "start_time": "2022-12-27T12:52:37.068Z"
   },
   {
    "duration": 7,
    "start_time": "2022-12-27T12:53:24.641Z"
   },
   {
    "duration": 13,
    "start_time": "2022-12-27T12:53:28.626Z"
   },
   {
    "duration": 29,
    "start_time": "2022-12-27T12:54:16.219Z"
   },
   {
    "duration": 2694,
    "start_time": "2022-12-27T12:57:06.375Z"
   },
   {
    "duration": 42,
    "start_time": "2022-12-27T12:57:09.072Z"
   },
   {
    "duration": 120,
    "start_time": "2022-12-27T12:57:09.115Z"
   },
   {
    "duration": 15,
    "start_time": "2022-12-27T12:57:09.237Z"
   },
   {
    "duration": 71,
    "start_time": "2022-12-27T12:57:09.254Z"
   },
   {
    "duration": 435,
    "start_time": "2022-12-27T12:57:09.327Z"
   },
   {
    "duration": 209,
    "start_time": "2022-12-27T12:57:09.764Z"
   },
   {
    "duration": 220,
    "start_time": "2022-12-27T12:57:09.976Z"
   },
   {
    "duration": 230,
    "start_time": "2022-12-27T12:57:10.198Z"
   },
   {
    "duration": 295,
    "start_time": "2022-12-27T12:57:10.431Z"
   },
   {
    "duration": 191,
    "start_time": "2022-12-27T12:57:10.727Z"
   },
   {
    "duration": 161,
    "start_time": "2022-12-27T12:57:10.919Z"
   },
   {
    "duration": 199,
    "start_time": "2022-12-27T12:57:11.081Z"
   },
   {
    "duration": 432,
    "start_time": "2022-12-27T12:57:11.282Z"
   },
   {
    "duration": 212,
    "start_time": "2022-12-27T12:57:11.716Z"
   },
   {
    "duration": 277,
    "start_time": "2022-12-27T12:57:11.930Z"
   },
   {
    "duration": 213,
    "start_time": "2022-12-27T12:57:12.208Z"
   },
   {
    "duration": 307,
    "start_time": "2022-12-27T12:57:12.423Z"
   },
   {
    "duration": 300,
    "start_time": "2022-12-27T12:57:12.731Z"
   },
   {
    "duration": 258,
    "start_time": "2022-12-27T12:57:13.032Z"
   },
   {
    "duration": 96,
    "start_time": "2022-12-27T12:57:13.292Z"
   },
   {
    "duration": 0,
    "start_time": "2022-12-27T12:57:13.390Z"
   },
   {
    "duration": 0,
    "start_time": "2022-12-27T12:57:13.391Z"
   },
   {
    "duration": 0,
    "start_time": "2022-12-27T12:57:13.392Z"
   },
   {
    "duration": 0,
    "start_time": "2022-12-27T12:57:13.393Z"
   },
   {
    "duration": 0,
    "start_time": "2022-12-27T12:57:13.395Z"
   },
   {
    "duration": 0,
    "start_time": "2022-12-27T12:57:13.396Z"
   },
   {
    "duration": 199,
    "start_time": "2022-12-27T12:57:13.655Z"
   },
   {
    "duration": 204,
    "start_time": "2022-12-27T12:57:14.206Z"
   },
   {
    "duration": 265,
    "start_time": "2022-12-27T12:57:14.679Z"
   },
   {
    "duration": 220,
    "start_time": "2022-12-27T12:57:15.046Z"
   },
   {
    "duration": 186,
    "start_time": "2022-12-27T12:57:15.441Z"
   },
   {
    "duration": 159,
    "start_time": "2022-12-27T12:57:15.822Z"
   },
   {
    "duration": 275,
    "start_time": "2022-12-27T12:57:16.695Z"
   },
   {
    "duration": 408,
    "start_time": "2022-12-27T12:57:17.507Z"
   },
   {
    "duration": 213,
    "start_time": "2022-12-27T12:57:18.998Z"
   },
   {
    "duration": 281,
    "start_time": "2022-12-27T12:57:20.772Z"
   },
   {
    "duration": 191,
    "start_time": "2022-12-27T12:57:22.262Z"
   },
   {
    "duration": 192,
    "start_time": "2022-12-27T12:57:22.967Z"
   },
   {
    "duration": 253,
    "start_time": "2022-12-27T12:57:23.897Z"
   },
   {
    "duration": 230,
    "start_time": "2022-12-27T12:57:28.193Z"
   },
   {
    "duration": 35,
    "start_time": "2022-12-27T12:57:55.451Z"
   },
   {
    "duration": 916,
    "start_time": "2022-12-27T12:58:08.091Z"
   },
   {
    "duration": 728,
    "start_time": "2022-12-27T12:58:18.082Z"
   },
   {
    "duration": 44,
    "start_time": "2022-12-27T12:58:56.988Z"
   },
   {
    "duration": 174,
    "start_time": "2022-12-27T12:59:01.300Z"
   },
   {
    "duration": 843,
    "start_time": "2022-12-27T13:01:25.257Z"
   },
   {
    "duration": 764,
    "start_time": "2022-12-27T13:01:28.688Z"
   },
   {
    "duration": 821,
    "start_time": "2022-12-27T13:01:33.802Z"
   },
   {
    "duration": 52,
    "start_time": "2022-12-27T13:02:12.401Z"
   },
   {
    "duration": 51,
    "start_time": "2022-12-27T13:02:37.059Z"
   },
   {
    "duration": 18,
    "start_time": "2022-12-27T13:02:42.536Z"
   },
   {
    "duration": 18,
    "start_time": "2022-12-27T13:02:59.561Z"
   },
   {
    "duration": 13,
    "start_time": "2022-12-27T13:15:52.326Z"
   },
   {
    "duration": 224,
    "start_time": "2022-12-27T13:17:31.332Z"
   },
   {
    "duration": 17,
    "start_time": "2022-12-27T13:17:44.794Z"
   },
   {
    "duration": 815,
    "start_time": "2022-12-27T13:18:41.209Z"
   },
   {
    "duration": 133,
    "start_time": "2022-12-27T13:18:57.063Z"
   },
   {
    "duration": 178,
    "start_time": "2022-12-27T13:20:36.757Z"
   },
   {
    "duration": 68,
    "start_time": "2022-12-27T13:21:40.293Z"
   },
   {
    "duration": 180,
    "start_time": "2022-12-27T13:22:28.494Z"
   },
   {
    "duration": 49,
    "start_time": "2022-12-27T13:23:18.069Z"
   },
   {
    "duration": 1907,
    "start_time": "2022-12-27T18:35:21.901Z"
   },
   {
    "duration": 25,
    "start_time": "2022-12-27T18:35:25.694Z"
   },
   {
    "duration": 98,
    "start_time": "2022-12-27T18:35:27.039Z"
   },
   {
    "duration": 14,
    "start_time": "2022-12-27T18:35:28.500Z"
   },
   {
    "duration": 56,
    "start_time": "2022-12-27T18:35:30.113Z"
   },
   {
    "duration": 534,
    "start_time": "2022-12-27T18:35:32.545Z"
   },
   {
    "duration": 228,
    "start_time": "2022-12-27T18:35:34.749Z"
   },
   {
    "duration": 205,
    "start_time": "2022-12-27T18:35:36.743Z"
   },
   {
    "duration": 194,
    "start_time": "2022-12-27T18:35:38.810Z"
   },
   {
    "duration": 225,
    "start_time": "2022-12-27T18:35:39.720Z"
   },
   {
    "duration": 187,
    "start_time": "2022-12-27T18:35:40.140Z"
   },
   {
    "duration": 150,
    "start_time": "2022-12-27T18:35:40.810Z"
   },
   {
    "duration": 188,
    "start_time": "2022-12-27T18:35:41.450Z"
   },
   {
    "duration": 401,
    "start_time": "2022-12-27T18:35:42.026Z"
   },
   {
    "duration": 190,
    "start_time": "2022-12-27T18:35:42.786Z"
   },
   {
    "duration": 235,
    "start_time": "2022-12-27T18:35:51.690Z"
   },
   {
    "duration": 193,
    "start_time": "2022-12-27T18:35:53.435Z"
   },
   {
    "duration": 214,
    "start_time": "2022-12-27T18:35:55.089Z"
   },
   {
    "duration": 267,
    "start_time": "2022-12-27T18:35:56.548Z"
   },
   {
    "duration": 262,
    "start_time": "2022-12-27T18:36:01.693Z"
   },
   {
    "duration": 331,
    "start_time": "2022-12-27T18:39:40.093Z"
   },
   {
    "duration": 46,
    "start_time": "2022-12-27T18:43:13.993Z"
   },
   {
    "duration": 695,
    "start_time": "2022-12-27T18:43:26.952Z"
   },
   {
    "duration": 169,
    "start_time": "2022-12-27T18:44:55.573Z"
   },
   {
    "duration": 700,
    "start_time": "2022-12-27T18:45:21.957Z"
   },
   {
    "duration": 17,
    "start_time": "2022-12-27T18:46:38.307Z"
   },
   {
    "duration": 20,
    "start_time": "2022-12-27T18:48:06.356Z"
   },
   {
    "duration": 21,
    "start_time": "2022-12-27T18:51:43.323Z"
   },
   {
    "duration": 700,
    "start_time": "2022-12-27T18:53:31.027Z"
   },
   {
    "duration": 775,
    "start_time": "2022-12-27T18:53:42.000Z"
   },
   {
    "duration": 161,
    "start_time": "2022-12-27T18:53:54.458Z"
   },
   {
    "duration": 179,
    "start_time": "2022-12-27T18:54:14.153Z"
   },
   {
    "duration": 184,
    "start_time": "2022-12-27T18:54:53.168Z"
   },
   {
    "duration": 60,
    "start_time": "2022-12-27T18:55:48.269Z"
   },
   {
    "duration": 49,
    "start_time": "2022-12-27T18:55:55.274Z"
   },
   {
    "duration": 101,
    "start_time": "2022-12-27T18:56:04.180Z"
   },
   {
    "duration": 51,
    "start_time": "2022-12-27T18:56:12.399Z"
   },
   {
    "duration": 188,
    "start_time": "2022-12-27T18:56:25.244Z"
   },
   {
    "duration": 187,
    "start_time": "2022-12-27T18:58:26.754Z"
   },
   {
    "duration": 154,
    "start_time": "2022-12-27T18:58:33.814Z"
   },
   {
    "duration": 272,
    "start_time": "2022-12-27T18:58:44.593Z"
   },
   {
    "duration": 704,
    "start_time": "2022-12-27T19:00:26.509Z"
   },
   {
    "duration": 185,
    "start_time": "2022-12-27T19:00:35.774Z"
   },
   {
    "duration": 128,
    "start_time": "2022-12-27T19:17:59.183Z"
   },
   {
    "duration": 2744,
    "start_time": "2022-12-27T19:18:59.793Z"
   },
   {
    "duration": 27,
    "start_time": "2022-12-27T19:19:02.540Z"
   },
   {
    "duration": 113,
    "start_time": "2022-12-27T19:19:02.568Z"
   },
   {
    "duration": 14,
    "start_time": "2022-12-27T19:19:02.683Z"
   },
   {
    "duration": 49,
    "start_time": "2022-12-27T19:19:02.698Z"
   },
   {
    "duration": 389,
    "start_time": "2022-12-27T19:19:02.748Z"
   },
   {
    "duration": 203,
    "start_time": "2022-12-27T19:19:03.138Z"
   },
   {
    "duration": 252,
    "start_time": "2022-12-27T19:19:03.343Z"
   },
   {
    "duration": 239,
    "start_time": "2022-12-27T19:19:03.597Z"
   },
   {
    "duration": 308,
    "start_time": "2022-12-27T19:19:03.839Z"
   },
   {
    "duration": 189,
    "start_time": "2022-12-27T19:19:04.149Z"
   },
   {
    "duration": 174,
    "start_time": "2022-12-27T19:19:04.340Z"
   },
   {
    "duration": 209,
    "start_time": "2022-12-27T19:19:04.516Z"
   },
   {
    "duration": 509,
    "start_time": "2022-12-27T19:19:04.727Z"
   },
   {
    "duration": 235,
    "start_time": "2022-12-27T19:19:05.238Z"
   },
   {
    "duration": 299,
    "start_time": "2022-12-27T19:19:05.475Z"
   },
   {
    "duration": 196,
    "start_time": "2022-12-27T19:19:05.776Z"
   },
   {
    "duration": 294,
    "start_time": "2022-12-27T19:19:05.976Z"
   },
   {
    "duration": 271,
    "start_time": "2022-12-27T19:19:06.276Z"
   },
   {
    "duration": 287,
    "start_time": "2022-12-27T19:19:06.549Z"
   },
   {
    "duration": 168,
    "start_time": "2022-12-27T19:19:06.838Z"
   },
   {
    "duration": 2861,
    "start_time": "2022-12-27T19:19:35.572Z"
   },
   {
    "duration": 28,
    "start_time": "2022-12-27T19:19:38.435Z"
   },
   {
    "duration": 105,
    "start_time": "2022-12-27T19:19:38.464Z"
   },
   {
    "duration": 17,
    "start_time": "2022-12-27T19:19:38.570Z"
   },
   {
    "duration": 49,
    "start_time": "2022-12-27T19:19:38.589Z"
   },
   {
    "duration": 378,
    "start_time": "2022-12-27T19:19:38.640Z"
   },
   {
    "duration": 195,
    "start_time": "2022-12-27T19:19:39.020Z"
   },
   {
    "duration": 225,
    "start_time": "2022-12-27T19:19:39.217Z"
   },
   {
    "duration": 232,
    "start_time": "2022-12-27T19:19:39.444Z"
   },
   {
    "duration": 303,
    "start_time": "2022-12-27T19:19:39.678Z"
   },
   {
    "duration": 188,
    "start_time": "2022-12-27T19:19:39.983Z"
   },
   {
    "duration": 164,
    "start_time": "2022-12-27T19:19:40.176Z"
   },
   {
    "duration": 189,
    "start_time": "2022-12-27T19:19:40.342Z"
   },
   {
    "duration": 404,
    "start_time": "2022-12-27T19:19:40.534Z"
   },
   {
    "duration": 196,
    "start_time": "2022-12-27T19:19:40.939Z"
   },
   {
    "duration": 271,
    "start_time": "2022-12-27T19:19:41.136Z"
   },
   {
    "duration": 221,
    "start_time": "2022-12-27T19:19:41.408Z"
   },
   {
    "duration": 312,
    "start_time": "2022-12-27T19:19:41.630Z"
   },
   {
    "duration": 285,
    "start_time": "2022-12-27T19:19:41.943Z"
   },
   {
    "duration": 276,
    "start_time": "2022-12-27T19:19:42.231Z"
   },
   {
    "duration": 50,
    "start_time": "2022-12-27T19:20:09.812Z"
   },
   {
    "duration": 47,
    "start_time": "2022-12-27T19:21:01.007Z"
   },
   {
    "duration": 157,
    "start_time": "2022-12-27T19:21:08.772Z"
   },
   {
    "duration": 124,
    "start_time": "2022-12-27T19:21:20.645Z"
   },
   {
    "duration": 142,
    "start_time": "2022-12-27T19:21:31.201Z"
   },
   {
    "duration": 28,
    "start_time": "2022-12-27T19:22:09.362Z"
   },
   {
    "duration": 784,
    "start_time": "2022-12-27T19:22:21.572Z"
   },
   {
    "duration": 148,
    "start_time": "2022-12-27T19:22:28.405Z"
   },
   {
    "duration": 25,
    "start_time": "2022-12-27T19:23:01.130Z"
   },
   {
    "duration": 155,
    "start_time": "2022-12-27T19:23:23.150Z"
   },
   {
    "duration": 46,
    "start_time": "2022-12-27T19:23:38.161Z"
   },
   {
    "duration": 130,
    "start_time": "2022-12-27T19:23:50.832Z"
   },
   {
    "duration": 149,
    "start_time": "2022-12-27T19:24:08.321Z"
   },
   {
    "duration": 184,
    "start_time": "2022-12-27T19:24:41.336Z"
   },
   {
    "duration": 685,
    "start_time": "2022-12-27T19:25:29.313Z"
   },
   {
    "duration": 158,
    "start_time": "2022-12-27T19:26:10.855Z"
   },
   {
    "duration": 148,
    "start_time": "2022-12-27T19:26:36.180Z"
   },
   {
    "duration": 128,
    "start_time": "2022-12-27T19:27:06.100Z"
   },
   {
    "duration": 127,
    "start_time": "2022-12-27T19:43:46.950Z"
   },
   {
    "duration": 134,
    "start_time": "2022-12-27T19:44:23.049Z"
   },
   {
    "duration": 121,
    "start_time": "2022-12-27T19:47:22.144Z"
   },
   {
    "duration": 146,
    "start_time": "2022-12-27T19:52:23.638Z"
   },
   {
    "duration": 3358,
    "start_time": "2022-12-27T21:05:10.768Z"
   },
   {
    "duration": 31,
    "start_time": "2022-12-27T21:05:14.129Z"
   },
   {
    "duration": 667,
    "start_time": "2022-12-27T21:05:14.162Z"
   },
   {
    "duration": 1101,
    "start_time": "2022-12-27T21:05:14.831Z"
   },
   {
    "duration": 496,
    "start_time": "2022-12-27T21:05:15.935Z"
   },
   {
    "duration": 666,
    "start_time": "2022-12-27T21:05:16.432Z"
   },
   {
    "duration": 233,
    "start_time": "2022-12-27T21:05:17.100Z"
   },
   {
    "duration": 233,
    "start_time": "2022-12-27T21:05:17.334Z"
   },
   {
    "duration": 333,
    "start_time": "2022-12-27T21:05:17.569Z"
   },
   {
    "duration": 278,
    "start_time": "2022-12-27T21:05:17.905Z"
   },
   {
    "duration": 248,
    "start_time": "2022-12-27T21:05:18.184Z"
   },
   {
    "duration": 180,
    "start_time": "2022-12-27T21:05:18.434Z"
   },
   {
    "duration": 220,
    "start_time": "2022-12-27T21:05:18.616Z"
   },
   {
    "duration": 483,
    "start_time": "2022-12-27T21:05:18.838Z"
   },
   {
    "duration": 229,
    "start_time": "2022-12-27T21:05:19.323Z"
   },
   {
    "duration": 414,
    "start_time": "2022-12-27T21:05:19.554Z"
   },
   {
    "duration": 236,
    "start_time": "2022-12-27T21:05:19.969Z"
   },
   {
    "duration": 269,
    "start_time": "2022-12-27T21:05:20.207Z"
   },
   {
    "duration": 319,
    "start_time": "2022-12-27T21:05:20.478Z"
   },
   {
    "duration": 291,
    "start_time": "2022-12-27T21:05:20.799Z"
   },
   {
    "duration": 151,
    "start_time": "2022-12-27T21:05:21.091Z"
   },
   {
    "duration": 181,
    "start_time": "2022-12-27T21:05:21.245Z"
   },
   {
    "duration": 162,
    "start_time": "2022-12-27T21:05:21.428Z"
   },
   {
    "duration": 178,
    "start_time": "2022-12-27T21:05:21.797Z"
   },
   {
    "duration": 142,
    "start_time": "2022-12-27T21:05:43.910Z"
   },
   {
    "duration": 263,
    "start_time": "2022-12-27T21:06:04.729Z"
   },
   {
    "duration": 142,
    "start_time": "2022-12-27T21:06:40.699Z"
   },
   {
    "duration": 150,
    "start_time": "2022-12-27T21:06:49.435Z"
   },
   {
    "duration": 326,
    "start_time": "2022-12-27T21:07:25.939Z"
   },
   {
    "duration": 136,
    "start_time": "2022-12-27T21:07:56.886Z"
   },
   {
    "duration": 139,
    "start_time": "2022-12-27T21:08:10.518Z"
   },
   {
    "duration": 161,
    "start_time": "2022-12-27T21:09:12.933Z"
   },
   {
    "duration": 174,
    "start_time": "2022-12-27T21:09:22.650Z"
   },
   {
    "duration": 291,
    "start_time": "2022-12-27T21:11:12.710Z"
   },
   {
    "duration": 12,
    "start_time": "2022-12-27T21:13:19.406Z"
   },
   {
    "duration": 267,
    "start_time": "2022-12-27T21:13:41.711Z"
   },
   {
    "duration": 517,
    "start_time": "2022-12-27T21:14:00.504Z"
   },
   {
    "duration": 297,
    "start_time": "2022-12-27T21:16:48.672Z"
   },
   {
    "duration": 289,
    "start_time": "2022-12-27T21:17:02.207Z"
   },
   {
    "duration": 10,
    "start_time": "2022-12-27T21:17:17.925Z"
   },
   {
    "duration": 406,
    "start_time": "2022-12-27T21:17:41.987Z"
   },
   {
    "duration": 13,
    "start_time": "2022-12-27T21:17:56.078Z"
   },
   {
    "duration": 290,
    "start_time": "2022-12-27T21:18:04.913Z"
   },
   {
    "duration": 283,
    "start_time": "2022-12-27T21:18:20.189Z"
   },
   {
    "duration": 524,
    "start_time": "2022-12-27T21:19:31.318Z"
   },
   {
    "duration": 269,
    "start_time": "2022-12-27T21:19:43.659Z"
   },
   {
    "duration": 379,
    "start_time": "2022-12-27T21:20:14.500Z"
   },
   {
    "duration": 496,
    "start_time": "2022-12-27T21:20:25.372Z"
   },
   {
    "duration": 127,
    "start_time": "2022-12-27T21:23:36.627Z"
   },
   {
    "duration": 145,
    "start_time": "2022-12-27T21:23:58.577Z"
   },
   {
    "duration": 165,
    "start_time": "2022-12-27T21:24:18.795Z"
   },
   {
    "duration": 144,
    "start_time": "2022-12-27T21:24:54.143Z"
   },
   {
    "duration": 18,
    "start_time": "2022-12-27T21:32:41.953Z"
   },
   {
    "duration": 25,
    "start_time": "2022-12-27T21:32:50.965Z"
   },
   {
    "duration": 51,
    "start_time": "2022-12-27T21:33:45.602Z"
   },
   {
    "duration": 68,
    "start_time": "2022-12-27T21:34:35.431Z"
   },
   {
    "duration": 47,
    "start_time": "2022-12-27T21:35:05.291Z"
   },
   {
    "duration": 18,
    "start_time": "2022-12-27T21:39:25.727Z"
   },
   {
    "duration": 11,
    "start_time": "2022-12-27T21:42:52.966Z"
   },
   {
    "duration": 11,
    "start_time": "2022-12-27T21:43:01.008Z"
   },
   {
    "duration": 2818,
    "start_time": "2022-12-27T21:43:37.708Z"
   },
   {
    "duration": 29,
    "start_time": "2022-12-27T21:43:40.528Z"
   },
   {
    "duration": 118,
    "start_time": "2022-12-27T21:43:40.559Z"
   },
   {
    "duration": 25,
    "start_time": "2022-12-27T21:43:40.680Z"
   },
   {
    "duration": 54,
    "start_time": "2022-12-27T21:43:40.707Z"
   },
   {
    "duration": 395,
    "start_time": "2022-12-27T21:43:40.763Z"
   },
   {
    "duration": 208,
    "start_time": "2022-12-27T21:43:41.160Z"
   },
   {
    "duration": 223,
    "start_time": "2022-12-27T21:43:41.370Z"
   },
   {
    "duration": 209,
    "start_time": "2022-12-27T21:43:41.594Z"
   },
   {
    "duration": 328,
    "start_time": "2022-12-27T21:43:41.806Z"
   },
   {
    "duration": 207,
    "start_time": "2022-12-27T21:43:42.135Z"
   },
   {
    "duration": 180,
    "start_time": "2022-12-27T21:43:42.344Z"
   },
   {
    "duration": 206,
    "start_time": "2022-12-27T21:43:42.526Z"
   },
   {
    "duration": 430,
    "start_time": "2022-12-27T21:43:42.733Z"
   },
   {
    "duration": 208,
    "start_time": "2022-12-27T21:43:43.165Z"
   },
   {
    "duration": 298,
    "start_time": "2022-12-27T21:43:43.375Z"
   },
   {
    "duration": 221,
    "start_time": "2022-12-27T21:43:43.675Z"
   },
   {
    "duration": 312,
    "start_time": "2022-12-27T21:43:43.898Z"
   },
   {
    "duration": 285,
    "start_time": "2022-12-27T21:43:44.211Z"
   },
   {
    "duration": 279,
    "start_time": "2022-12-27T21:43:44.498Z"
   },
   {
    "duration": 149,
    "start_time": "2022-12-27T21:43:44.779Z"
   },
   {
    "duration": 191,
    "start_time": "2022-12-27T21:43:44.931Z"
   },
   {
    "duration": 162,
    "start_time": "2022-12-27T21:43:45.125Z"
   },
   {
    "duration": 508,
    "start_time": "2022-12-27T21:43:45.289Z"
   },
   {
    "duration": 83,
    "start_time": "2022-12-27T21:43:45.799Z"
   },
   {
    "duration": 23,
    "start_time": "2022-12-27T21:44:07.736Z"
   },
   {
    "duration": 178,
    "start_time": "2022-12-27T21:44:19.873Z"
   },
   {
    "duration": 167,
    "start_time": "2022-12-27T21:44:30.290Z"
   },
   {
    "duration": 240,
    "start_time": "2022-12-27T21:44:46.130Z"
   },
   {
    "duration": 228,
    "start_time": "2022-12-27T21:45:02.599Z"
   },
   {
    "duration": 50,
    "start_time": "2022-12-27T21:46:03.029Z"
   },
   {
    "duration": 14,
    "start_time": "2022-12-27T21:46:13.550Z"
   },
   {
    "duration": 10,
    "start_time": "2022-12-27T21:46:23.483Z"
   },
   {
    "duration": 87,
    "start_time": "2022-12-27T21:46:35.553Z"
   },
   {
    "duration": 81,
    "start_time": "2022-12-27T21:46:55.864Z"
   },
   {
    "duration": 204,
    "start_time": "2022-12-27T21:47:02.232Z"
   },
   {
    "duration": 46,
    "start_time": "2022-12-27T21:48:50.887Z"
   },
   {
    "duration": 260,
    "start_time": "2022-12-27T21:48:56.274Z"
   },
   {
    "duration": 189,
    "start_time": "2022-12-27T21:51:10.920Z"
   },
   {
    "duration": 240,
    "start_time": "2022-12-27T21:51:36.461Z"
   },
   {
    "duration": 2861,
    "start_time": "2022-12-27T21:52:28.185Z"
   },
   {
    "duration": 29,
    "start_time": "2022-12-27T21:52:31.048Z"
   },
   {
    "duration": 118,
    "start_time": "2022-12-27T21:52:31.079Z"
   },
   {
    "duration": 14,
    "start_time": "2022-12-27T21:52:31.200Z"
   },
   {
    "duration": 80,
    "start_time": "2022-12-27T21:52:31.216Z"
   },
   {
    "duration": 410,
    "start_time": "2022-12-27T21:52:31.298Z"
   },
   {
    "duration": 225,
    "start_time": "2022-12-27T21:52:31.710Z"
   },
   {
    "duration": 222,
    "start_time": "2022-12-27T21:52:31.937Z"
   },
   {
    "duration": 268,
    "start_time": "2022-12-27T21:52:32.161Z"
   },
   {
    "duration": 338,
    "start_time": "2022-12-27T21:52:32.432Z"
   },
   {
    "duration": 225,
    "start_time": "2022-12-27T21:52:32.772Z"
   },
   {
    "duration": 190,
    "start_time": "2022-12-27T21:52:32.999Z"
   },
   {
    "duration": 228,
    "start_time": "2022-12-27T21:52:33.191Z"
   },
   {
    "duration": 480,
    "start_time": "2022-12-27T21:52:33.421Z"
   },
   {
    "duration": 233,
    "start_time": "2022-12-27T21:52:33.903Z"
   },
   {
    "duration": 291,
    "start_time": "2022-12-27T21:52:34.138Z"
   },
   {
    "duration": 208,
    "start_time": "2022-12-27T21:52:34.430Z"
   },
   {
    "duration": 333,
    "start_time": "2022-12-27T21:52:34.640Z"
   },
   {
    "duration": 326,
    "start_time": "2022-12-27T21:52:34.974Z"
   },
   {
    "duration": 279,
    "start_time": "2022-12-27T21:52:35.301Z"
   },
   {
    "duration": 146,
    "start_time": "2022-12-27T21:52:35.582Z"
   },
   {
    "duration": 167,
    "start_time": "2022-12-27T21:52:35.729Z"
   },
   {
    "duration": 195,
    "start_time": "2022-12-27T21:52:35.898Z"
   },
   {
    "duration": 519,
    "start_time": "2022-12-27T21:52:36.096Z"
   },
   {
    "duration": 257,
    "start_time": "2022-12-27T21:52:36.617Z"
   },
   {
    "duration": 178,
    "start_time": "2022-12-27T21:53:31.681Z"
   },
   {
    "duration": 179,
    "start_time": "2022-12-27T21:53:40.910Z"
   },
   {
    "duration": 261,
    "start_time": "2022-12-27T21:53:51.993Z"
   },
   {
    "duration": 270,
    "start_time": "2022-12-27T21:54:05.056Z"
   },
   {
    "duration": 3,
    "start_time": "2022-12-27T21:55:20.240Z"
   },
   {
    "duration": 5,
    "start_time": "2022-12-27T21:55:23.807Z"
   },
   {
    "duration": 4,
    "start_time": "2022-12-27T21:55:41.359Z"
   },
   {
    "duration": 3,
    "start_time": "2022-12-27T21:55:47.338Z"
   },
   {
    "duration": 3,
    "start_time": "2022-12-27T21:55:56.994Z"
   },
   {
    "duration": 10,
    "start_time": "2022-12-27T21:56:20.292Z"
   },
   {
    "duration": 8,
    "start_time": "2022-12-27T21:57:40.937Z"
   },
   {
    "duration": 172,
    "start_time": "2022-12-27T21:58:09.042Z"
   },
   {
    "duration": 5,
    "start_time": "2022-12-27T21:58:23.059Z"
   },
   {
    "duration": 8,
    "start_time": "2022-12-27T21:58:30.359Z"
   },
   {
    "duration": 168,
    "start_time": "2022-12-27T21:59:52.873Z"
   },
   {
    "duration": 15,
    "start_time": "2022-12-27T22:02:49.788Z"
   },
   {
    "duration": 192,
    "start_time": "2022-12-27T22:03:31.652Z"
   },
   {
    "duration": 530,
    "start_time": "2022-12-27T22:04:25.300Z"
   },
   {
    "duration": 11,
    "start_time": "2022-12-27T23:54:09.576Z"
   },
   {
    "duration": 10,
    "start_time": "2022-12-27T23:54:54.569Z"
   },
   {
    "duration": 770,
    "start_time": "2022-12-27T23:56:26.969Z"
   },
   {
    "duration": 7,
    "start_time": "2022-12-27T23:57:39.848Z"
   },
   {
    "duration": 7,
    "start_time": "2022-12-27T23:57:45.232Z"
   },
   {
    "duration": 44,
    "start_time": "2022-12-27T23:59:25.348Z"
   },
   {
    "duration": 10,
    "start_time": "2022-12-28T00:01:03.312Z"
   },
   {
    "duration": 11,
    "start_time": "2022-12-28T00:01:20.131Z"
   },
   {
    "duration": 28,
    "start_time": "2022-12-28T00:05:57.317Z"
   },
   {
    "duration": 10,
    "start_time": "2022-12-28T00:06:19.860Z"
   },
   {
    "duration": 10,
    "start_time": "2022-12-28T00:06:28.903Z"
   },
   {
    "duration": 9,
    "start_time": "2022-12-28T00:07:21.250Z"
   },
   {
    "duration": 9,
    "start_time": "2022-12-28T00:07:59.230Z"
   },
   {
    "duration": 10,
    "start_time": "2022-12-28T00:09:59.033Z"
   },
   {
    "duration": 12,
    "start_time": "2022-12-28T00:11:24.461Z"
   },
   {
    "duration": 16,
    "start_time": "2022-12-28T00:11:37.329Z"
   },
   {
    "duration": 16,
    "start_time": "2022-12-28T00:11:48.170Z"
   },
   {
    "duration": 65,
    "start_time": "2022-12-28T00:12:09.946Z"
   },
   {
    "duration": 13,
    "start_time": "2022-12-28T00:12:16.513Z"
   },
   {
    "duration": 21,
    "start_time": "2022-12-28T00:18:07.616Z"
   },
   {
    "duration": 2865,
    "start_time": "2022-12-28T00:18:29.797Z"
   },
   {
    "duration": 33,
    "start_time": "2022-12-28T00:18:32.664Z"
   },
   {
    "duration": 123,
    "start_time": "2022-12-28T00:18:32.699Z"
   },
   {
    "duration": 15,
    "start_time": "2022-12-28T00:18:32.824Z"
   },
   {
    "duration": 69,
    "start_time": "2022-12-28T00:18:32.841Z"
   },
   {
    "duration": 374,
    "start_time": "2022-12-28T00:18:32.912Z"
   },
   {
    "duration": 197,
    "start_time": "2022-12-28T00:18:33.288Z"
   },
   {
    "duration": 216,
    "start_time": "2022-12-28T00:18:33.487Z"
   },
   {
    "duration": 242,
    "start_time": "2022-12-28T00:18:33.705Z"
   },
   {
    "duration": 305,
    "start_time": "2022-12-28T00:18:33.949Z"
   },
   {
    "duration": 191,
    "start_time": "2022-12-28T00:18:34.256Z"
   },
   {
    "duration": 166,
    "start_time": "2022-12-28T00:18:34.448Z"
   },
   {
    "duration": 192,
    "start_time": "2022-12-28T00:18:34.616Z"
   },
   {
    "duration": 454,
    "start_time": "2022-12-28T00:18:34.810Z"
   },
   {
    "duration": 208,
    "start_time": "2022-12-28T00:18:35.267Z"
   },
   {
    "duration": 273,
    "start_time": "2022-12-28T00:18:35.477Z"
   },
   {
    "duration": 235,
    "start_time": "2022-12-28T00:18:35.751Z"
   },
   {
    "duration": 319,
    "start_time": "2022-12-28T00:18:35.988Z"
   },
   {
    "duration": 282,
    "start_time": "2022-12-28T00:18:36.309Z"
   },
   {
    "duration": 257,
    "start_time": "2022-12-28T00:18:36.596Z"
   },
   {
    "duration": 144,
    "start_time": "2022-12-28T00:18:36.855Z"
   },
   {
    "duration": 176,
    "start_time": "2022-12-28T00:18:37.000Z"
   },
   {
    "duration": 145,
    "start_time": "2022-12-28T00:18:37.178Z"
   },
   {
    "duration": 495,
    "start_time": "2022-12-28T00:18:37.324Z"
   },
   {
    "duration": 179,
    "start_time": "2022-12-28T00:18:37.821Z"
   },
   {
    "duration": 529,
    "start_time": "2022-12-28T00:18:38.002Z"
   },
   {
    "duration": 22,
    "start_time": "2022-12-28T00:18:38.533Z"
   },
   {
    "duration": 30,
    "start_time": "2022-12-28T00:18:51.855Z"
   },
   {
    "duration": 89,
    "start_time": "2022-12-28T00:19:30.824Z"
   },
   {
    "duration": 31,
    "start_time": "2022-12-28T00:19:50.779Z"
   },
   {
    "duration": 28,
    "start_time": "2022-12-28T00:20:17.430Z"
   },
   {
    "duration": 17,
    "start_time": "2022-12-28T00:20:45.759Z"
   },
   {
    "duration": 16,
    "start_time": "2022-12-28T00:21:21.281Z"
   },
   {
    "duration": 18,
    "start_time": "2022-12-28T00:21:31.702Z"
   },
   {
    "duration": 16,
    "start_time": "2022-12-28T00:21:39.718Z"
   },
   {
    "duration": 18,
    "start_time": "2022-12-28T00:22:13.315Z"
   },
   {
    "duration": 17,
    "start_time": "2022-12-28T00:23:57.438Z"
   },
   {
    "duration": 16,
    "start_time": "2022-12-28T00:24:17.162Z"
   },
   {
    "duration": 18,
    "start_time": "2022-12-28T00:25:51.902Z"
   },
   {
    "duration": 15,
    "start_time": "2022-12-28T00:28:18.085Z"
   },
   {
    "duration": 16,
    "start_time": "2022-12-28T00:37:51.861Z"
   },
   {
    "duration": 25,
    "start_time": "2022-12-28T00:38:35.967Z"
   },
   {
    "duration": 17,
    "start_time": "2022-12-28T00:39:30.237Z"
   },
   {
    "duration": 17,
    "start_time": "2022-12-28T00:39:37.249Z"
   },
   {
    "duration": 18,
    "start_time": "2022-12-28T00:40:17.342Z"
   },
   {
    "duration": 23,
    "start_time": "2022-12-28T00:42:15.852Z"
   },
   {
    "duration": 28,
    "start_time": "2022-12-28T00:42:29.640Z"
   },
   {
    "duration": 22,
    "start_time": "2022-12-28T00:43:47.033Z"
   },
   {
    "duration": 33,
    "start_time": "2022-12-28T00:44:05.885Z"
   },
   {
    "duration": 25,
    "start_time": "2022-12-28T00:44:27.981Z"
   },
   {
    "duration": 15,
    "start_time": "2022-12-28T00:53:46.742Z"
   },
   {
    "duration": 23,
    "start_time": "2022-12-28T00:54:19.716Z"
   },
   {
    "duration": 8,
    "start_time": "2022-12-28T01:08:31.799Z"
   },
   {
    "duration": 10,
    "start_time": "2022-12-28T01:08:41.549Z"
   },
   {
    "duration": 40,
    "start_time": "2022-12-28T01:09:13.813Z"
   },
   {
    "duration": 11,
    "start_time": "2022-12-28T01:09:56.001Z"
   },
   {
    "duration": 6,
    "start_time": "2022-12-28T01:10:15.669Z"
   },
   {
    "duration": 11,
    "start_time": "2022-12-28T01:10:47.776Z"
   },
   {
    "duration": 40,
    "start_time": "2022-12-28T01:10:58.405Z"
   },
   {
    "duration": 6,
    "start_time": "2022-12-28T01:11:44.154Z"
   },
   {
    "duration": 684,
    "start_time": "2022-12-28T01:13:24.093Z"
   },
   {
    "duration": 16,
    "start_time": "2022-12-28T01:14:22.208Z"
   },
   {
    "duration": 47,
    "start_time": "2022-12-28T01:15:07.708Z"
   },
   {
    "duration": 237,
    "start_time": "2022-12-28T01:15:20.400Z"
   },
   {
    "duration": 171,
    "start_time": "2022-12-28T01:15:41.147Z"
   },
   {
    "duration": 203,
    "start_time": "2022-12-28T01:16:06.765Z"
   },
   {
    "duration": 205,
    "start_time": "2022-12-28T01:18:31.588Z"
   },
   {
    "duration": 4,
    "start_time": "2022-12-28T01:19:10.389Z"
   },
   {
    "duration": 140,
    "start_time": "2022-12-28T01:23:35.650Z"
   },
   {
    "duration": 151,
    "start_time": "2022-12-28T01:25:02.750Z"
   },
   {
    "duration": 173,
    "start_time": "2022-12-28T01:30:25.099Z"
   },
   {
    "duration": 2768,
    "start_time": "2022-12-28T13:19:39.463Z"
   },
   {
    "duration": 26,
    "start_time": "2022-12-28T13:19:42.233Z"
   },
   {
    "duration": 103,
    "start_time": "2022-12-28T13:19:42.261Z"
   },
   {
    "duration": 14,
    "start_time": "2022-12-28T13:19:42.366Z"
   },
   {
    "duration": 80,
    "start_time": "2022-12-28T13:19:42.382Z"
   },
   {
    "duration": 362,
    "start_time": "2022-12-28T13:19:42.464Z"
   },
   {
    "duration": 193,
    "start_time": "2022-12-28T13:19:42.828Z"
   },
   {
    "duration": 202,
    "start_time": "2022-12-28T13:19:43.023Z"
   },
   {
    "duration": 282,
    "start_time": "2022-12-28T13:19:43.227Z"
   },
   {
    "duration": 215,
    "start_time": "2022-12-28T13:19:43.512Z"
   },
   {
    "duration": 176,
    "start_time": "2022-12-28T13:19:43.729Z"
   },
   {
    "duration": 170,
    "start_time": "2022-12-28T13:19:43.907Z"
   },
   {
    "duration": 194,
    "start_time": "2022-12-28T13:19:44.079Z"
   },
   {
    "duration": 424,
    "start_time": "2022-12-28T13:19:44.275Z"
   },
   {
    "duration": 201,
    "start_time": "2022-12-28T13:19:44.701Z"
   },
   {
    "duration": 364,
    "start_time": "2022-12-28T13:19:44.903Z"
   },
   {
    "duration": 196,
    "start_time": "2022-12-28T13:19:45.269Z"
   },
   {
    "duration": 202,
    "start_time": "2022-12-28T13:19:45.467Z"
   },
   {
    "duration": 270,
    "start_time": "2022-12-28T13:19:45.670Z"
   },
   {
    "duration": 267,
    "start_time": "2022-12-28T13:19:45.951Z"
   },
   {
    "duration": 152,
    "start_time": "2022-12-28T13:19:46.219Z"
   },
   {
    "duration": 164,
    "start_time": "2022-12-28T13:19:46.373Z"
   },
   {
    "duration": 156,
    "start_time": "2022-12-28T13:19:46.538Z"
   },
   {
    "duration": 507,
    "start_time": "2022-12-28T13:19:46.696Z"
   },
   {
    "duration": 195,
    "start_time": "2022-12-28T13:19:47.205Z"
   },
   {
    "duration": 565,
    "start_time": "2022-12-28T13:19:47.402Z"
   },
   {
    "duration": 25,
    "start_time": "2022-12-28T13:19:47.968Z"
   },
   {
    "duration": 195,
    "start_time": "2022-12-28T13:19:47.995Z"
   },
   {
    "duration": 214,
    "start_time": "2022-12-28T15:26:11.403Z"
   },
   {
    "duration": 3083,
    "start_time": "2022-12-28T16:02:22.548Z"
   },
   {
    "duration": 34,
    "start_time": "2022-12-28T16:02:25.644Z"
   },
   {
    "duration": 121,
    "start_time": "2022-12-28T16:02:25.680Z"
   },
   {
    "duration": 22,
    "start_time": "2022-12-28T16:02:25.804Z"
   },
   {
    "duration": 59,
    "start_time": "2022-12-28T16:02:25.828Z"
   },
   {
    "duration": 417,
    "start_time": "2022-12-28T16:02:25.888Z"
   },
   {
    "duration": 214,
    "start_time": "2022-12-28T16:02:26.307Z"
   },
   {
    "duration": 217,
    "start_time": "2022-12-28T16:02:26.526Z"
   },
   {
    "duration": 301,
    "start_time": "2022-12-28T16:02:26.746Z"
   },
   {
    "duration": 253,
    "start_time": "2022-12-28T16:02:27.050Z"
   },
   {
    "duration": 186,
    "start_time": "2022-12-28T16:02:27.305Z"
   },
   {
    "duration": 181,
    "start_time": "2022-12-28T16:02:27.493Z"
   },
   {
    "duration": 231,
    "start_time": "2022-12-28T16:02:27.676Z"
   },
   {
    "duration": 446,
    "start_time": "2022-12-28T16:02:27.908Z"
   },
   {
    "duration": 215,
    "start_time": "2022-12-28T16:02:28.355Z"
   },
   {
    "duration": 390,
    "start_time": "2022-12-28T16:02:28.571Z"
   },
   {
    "duration": 216,
    "start_time": "2022-12-28T16:02:28.962Z"
   },
   {
    "duration": 233,
    "start_time": "2022-12-28T16:02:29.180Z"
   },
   {
    "duration": 286,
    "start_time": "2022-12-28T16:02:29.415Z"
   },
   {
    "duration": 279,
    "start_time": "2022-12-28T16:02:29.703Z"
   },
   {
    "duration": 169,
    "start_time": "2022-12-28T16:02:29.984Z"
   },
   {
    "duration": 191,
    "start_time": "2022-12-28T16:02:30.155Z"
   },
   {
    "duration": 154,
    "start_time": "2022-12-28T16:02:30.347Z"
   },
   {
    "duration": 373,
    "start_time": "2022-12-28T16:02:30.502Z"
   },
   {
    "duration": 175,
    "start_time": "2022-12-28T16:02:30.877Z"
   },
   {
    "duration": 532,
    "start_time": "2022-12-28T16:02:31.054Z"
   },
   {
    "duration": 48,
    "start_time": "2022-12-28T16:02:31.588Z"
   },
   {
    "duration": 185,
    "start_time": "2022-12-28T16:02:31.649Z"
   },
   {
    "duration": 5,
    "start_time": "2022-12-28T18:06:36.876Z"
   },
   {
    "duration": 2756,
    "start_time": "2022-12-28T18:06:52.303Z"
   },
   {
    "duration": 23,
    "start_time": "2022-12-28T18:06:55.061Z"
   },
   {
    "duration": 116,
    "start_time": "2022-12-28T18:06:55.086Z"
   },
   {
    "duration": 7,
    "start_time": "2022-12-28T18:06:55.204Z"
   },
   {
    "duration": 29,
    "start_time": "2022-12-28T18:06:55.212Z"
   },
   {
    "duration": 61,
    "start_time": "2022-12-28T18:06:55.243Z"
   },
   {
    "duration": 450,
    "start_time": "2022-12-28T18:06:55.305Z"
   },
   {
    "duration": 199,
    "start_time": "2022-12-28T18:06:55.760Z"
   },
   {
    "duration": 212,
    "start_time": "2022-12-28T18:06:55.961Z"
   },
   {
    "duration": 222,
    "start_time": "2022-12-28T18:06:56.176Z"
   },
   {
    "duration": 296,
    "start_time": "2022-12-28T18:06:56.400Z"
   },
   {
    "duration": 202,
    "start_time": "2022-12-28T18:06:56.698Z"
   },
   {
    "duration": 170,
    "start_time": "2022-12-28T18:06:56.902Z"
   },
   {
    "duration": 197,
    "start_time": "2022-12-28T18:06:57.074Z"
   },
   {
    "duration": 444,
    "start_time": "2022-12-28T18:06:57.273Z"
   },
   {
    "duration": 204,
    "start_time": "2022-12-28T18:06:57.718Z"
   },
   {
    "duration": 270,
    "start_time": "2022-12-28T18:06:57.926Z"
   },
   {
    "duration": 238,
    "start_time": "2022-12-28T18:06:58.198Z"
   },
   {
    "duration": 324,
    "start_time": "2022-12-28T18:06:58.438Z"
   },
   {
    "duration": 294,
    "start_time": "2022-12-28T18:06:58.763Z"
   },
   {
    "duration": 253,
    "start_time": "2022-12-28T18:06:59.059Z"
   },
   {
    "duration": 182,
    "start_time": "2022-12-28T18:06:59.315Z"
   },
   {
    "duration": 170,
    "start_time": "2022-12-28T18:06:59.499Z"
   },
   {
    "duration": 135,
    "start_time": "2022-12-28T18:06:59.670Z"
   },
   {
    "duration": 282,
    "start_time": "2022-12-28T18:06:59.807Z"
   },
   {
    "duration": 172,
    "start_time": "2022-12-28T18:07:00.091Z"
   },
   {
    "duration": 631,
    "start_time": "2022-12-28T18:07:00.264Z"
   },
   {
    "duration": 39,
    "start_time": "2022-12-28T18:07:00.898Z"
   },
   {
    "duration": 214,
    "start_time": "2022-12-28T18:07:00.944Z"
   },
   {
    "duration": 15,
    "start_time": "2022-12-28T18:10:05.774Z"
   },
   {
    "duration": 3337,
    "start_time": "2022-12-28T18:10:12.824Z"
   },
   {
    "duration": 30,
    "start_time": "2022-12-28T18:10:16.164Z"
   },
   {
    "duration": 131,
    "start_time": "2022-12-28T18:10:16.195Z"
   },
   {
    "duration": 22,
    "start_time": "2022-12-28T18:10:16.332Z"
   },
   {
    "duration": 50,
    "start_time": "2022-12-28T18:10:16.355Z"
   },
   {
    "duration": 25,
    "start_time": "2022-12-28T18:10:16.407Z"
   },
   {
    "duration": 404,
    "start_time": "2022-12-28T18:10:16.440Z"
   },
   {
    "duration": 228,
    "start_time": "2022-12-28T18:10:16.848Z"
   },
   {
    "duration": 228,
    "start_time": "2022-12-28T18:10:17.078Z"
   },
   {
    "duration": 247,
    "start_time": "2022-12-28T18:10:17.309Z"
   },
   {
    "duration": 334,
    "start_time": "2022-12-28T18:10:17.558Z"
   },
   {
    "duration": 191,
    "start_time": "2022-12-28T18:10:17.893Z"
   },
   {
    "duration": 173,
    "start_time": "2022-12-28T18:10:18.086Z"
   },
   {
    "duration": 224,
    "start_time": "2022-12-28T18:10:18.261Z"
   },
   {
    "duration": 421,
    "start_time": "2022-12-28T18:10:18.487Z"
   },
   {
    "duration": 228,
    "start_time": "2022-12-28T18:10:18.910Z"
   },
   {
    "duration": 273,
    "start_time": "2022-12-28T18:10:19.145Z"
   },
   {
    "duration": 224,
    "start_time": "2022-12-28T18:10:19.419Z"
   },
   {
    "duration": 322,
    "start_time": "2022-12-28T18:10:19.647Z"
   },
   {
    "duration": 327,
    "start_time": "2022-12-28T18:10:19.971Z"
   },
   {
    "duration": 264,
    "start_time": "2022-12-28T18:10:20.300Z"
   },
   {
    "duration": 154,
    "start_time": "2022-12-28T18:10:20.566Z"
   },
   {
    "duration": 179,
    "start_time": "2022-12-28T18:10:20.722Z"
   },
   {
    "duration": 162,
    "start_time": "2022-12-28T18:10:20.903Z"
   },
   {
    "duration": 248,
    "start_time": "2022-12-28T18:10:21.067Z"
   },
   {
    "duration": 193,
    "start_time": "2022-12-28T18:10:21.317Z"
   },
   {
    "duration": 699,
    "start_time": "2022-12-28T18:10:21.511Z"
   },
   {
    "duration": 43,
    "start_time": "2022-12-28T18:10:22.213Z"
   },
   {
    "duration": 161,
    "start_time": "2022-12-28T18:10:22.258Z"
   },
   {
    "duration": 2695,
    "start_time": "2022-12-28T18:10:26.996Z"
   },
   {
    "duration": 37,
    "start_time": "2022-12-28T18:10:29.694Z"
   },
   {
    "duration": 135,
    "start_time": "2022-12-28T18:10:29.733Z"
   },
   {
    "duration": 14,
    "start_time": "2022-12-28T18:10:29.870Z"
   },
   {
    "duration": 57,
    "start_time": "2022-12-28T18:10:29.885Z"
   },
   {
    "duration": 76,
    "start_time": "2022-12-28T18:10:29.945Z"
   },
   {
    "duration": 409,
    "start_time": "2022-12-28T18:10:30.022Z"
   },
   {
    "duration": 203,
    "start_time": "2022-12-28T18:10:30.440Z"
   },
   {
    "duration": 235,
    "start_time": "2022-12-28T18:10:30.645Z"
   },
   {
    "duration": 217,
    "start_time": "2022-12-28T18:10:30.883Z"
   },
   {
    "duration": 347,
    "start_time": "2022-12-28T18:10:31.102Z"
   },
   {
    "duration": 228,
    "start_time": "2022-12-28T18:10:31.455Z"
   },
   {
    "duration": 199,
    "start_time": "2022-12-28T18:10:31.685Z"
   },
   {
    "duration": 205,
    "start_time": "2022-12-28T18:10:31.885Z"
   },
   {
    "duration": 434,
    "start_time": "2022-12-28T18:10:32.092Z"
   },
   {
    "duration": 221,
    "start_time": "2022-12-28T18:10:32.528Z"
   },
   {
    "duration": 285,
    "start_time": "2022-12-28T18:10:32.752Z"
   },
   {
    "duration": 220,
    "start_time": "2022-12-28T18:10:33.039Z"
   },
   {
    "duration": 342,
    "start_time": "2022-12-28T18:10:33.262Z"
   },
   {
    "duration": 298,
    "start_time": "2022-12-28T18:10:33.606Z"
   },
   {
    "duration": 277,
    "start_time": "2022-12-28T18:10:33.905Z"
   },
   {
    "duration": 162,
    "start_time": "2022-12-28T18:10:34.184Z"
   },
   {
    "duration": 174,
    "start_time": "2022-12-28T18:10:34.348Z"
   },
   {
    "duration": 142,
    "start_time": "2022-12-28T18:10:34.524Z"
   },
   {
    "duration": 286,
    "start_time": "2022-12-28T18:10:34.668Z"
   },
   {
    "duration": 181,
    "start_time": "2022-12-28T18:10:34.955Z"
   },
   {
    "duration": 718,
    "start_time": "2022-12-28T18:10:35.138Z"
   },
   {
    "duration": 26,
    "start_time": "2022-12-28T18:10:35.860Z"
   },
   {
    "duration": 169,
    "start_time": "2022-12-28T18:10:35.887Z"
   },
   {
    "duration": 6,
    "start_time": "2022-12-28T18:10:47.378Z"
   },
   {
    "duration": 3059,
    "start_time": "2022-12-28T18:13:40.676Z"
   },
   {
    "duration": 40,
    "start_time": "2022-12-28T18:13:43.740Z"
   },
   {
    "duration": 136,
    "start_time": "2022-12-28T18:13:43.782Z"
   },
   {
    "duration": 38,
    "start_time": "2022-12-28T18:13:43.921Z"
   },
   {
    "duration": 97,
    "start_time": "2022-12-28T18:13:43.961Z"
   },
   {
    "duration": 415,
    "start_time": "2022-12-28T18:13:44.060Z"
   },
   {
    "duration": 217,
    "start_time": "2022-12-28T18:13:44.477Z"
   },
   {
    "duration": 280,
    "start_time": "2022-12-28T18:13:44.696Z"
   },
   {
    "duration": 282,
    "start_time": "2022-12-28T18:13:44.978Z"
   },
   {
    "duration": 388,
    "start_time": "2022-12-28T18:13:45.264Z"
   },
   {
    "duration": 256,
    "start_time": "2022-12-28T18:13:45.662Z"
   },
   {
    "duration": 187,
    "start_time": "2022-12-28T18:13:45.919Z"
   },
   {
    "duration": 215,
    "start_time": "2022-12-28T18:13:46.107Z"
   },
   {
    "duration": 471,
    "start_time": "2022-12-28T18:13:46.324Z"
   },
   {
    "duration": 223,
    "start_time": "2022-12-28T18:13:46.797Z"
   },
   {
    "duration": 277,
    "start_time": "2022-12-28T18:13:47.022Z"
   },
   {
    "duration": 211,
    "start_time": "2022-12-28T18:13:47.301Z"
   },
   {
    "duration": 351,
    "start_time": "2022-12-28T18:13:47.513Z"
   },
   {
    "duration": 329,
    "start_time": "2022-12-28T18:13:47.865Z"
   },
   {
    "duration": 289,
    "start_time": "2022-12-28T18:13:48.196Z"
   },
   {
    "duration": 12,
    "start_time": "2022-12-28T18:13:48.487Z"
   },
   {
    "duration": 182,
    "start_time": "2022-12-28T18:13:48.501Z"
   },
   {
    "duration": 173,
    "start_time": "2022-12-28T18:13:48.685Z"
   },
   {
    "duration": 153,
    "start_time": "2022-12-28T18:13:48.859Z"
   },
   {
    "duration": 314,
    "start_time": "2022-12-28T18:13:49.014Z"
   },
   {
    "duration": 176,
    "start_time": "2022-12-28T18:13:49.336Z"
   },
   {
    "duration": 686,
    "start_time": "2022-12-28T18:13:49.514Z"
   },
   {
    "duration": 30,
    "start_time": "2022-12-28T18:13:50.203Z"
   },
   {
    "duration": 174,
    "start_time": "2022-12-28T18:13:50.235Z"
   },
   {
    "duration": 3119,
    "start_time": "2022-12-28T18:14:15.352Z"
   },
   {
    "duration": 26,
    "start_time": "2022-12-28T18:14:18.473Z"
   },
   {
    "duration": 114,
    "start_time": "2022-12-28T18:14:18.501Z"
   },
   {
    "duration": 35,
    "start_time": "2022-12-28T18:14:18.617Z"
   },
   {
    "duration": 53,
    "start_time": "2022-12-28T18:14:18.654Z"
   },
   {
    "duration": 445,
    "start_time": "2022-12-28T18:14:18.709Z"
   },
   {
    "duration": 230,
    "start_time": "2022-12-28T18:14:19.156Z"
   },
   {
    "duration": 237,
    "start_time": "2022-12-28T18:14:19.388Z"
   },
   {
    "duration": 242,
    "start_time": "2022-12-28T18:14:19.631Z"
   },
   {
    "duration": 342,
    "start_time": "2022-12-28T18:14:19.876Z"
   },
   {
    "duration": 215,
    "start_time": "2022-12-28T18:14:20.220Z"
   },
   {
    "duration": 179,
    "start_time": "2022-12-28T18:14:20.437Z"
   },
   {
    "duration": 213,
    "start_time": "2022-12-28T18:14:20.617Z"
   },
   {
    "duration": 457,
    "start_time": "2022-12-28T18:14:20.832Z"
   },
   {
    "duration": 217,
    "start_time": "2022-12-28T18:14:21.291Z"
   },
   {
    "duration": 337,
    "start_time": "2022-12-28T18:14:21.510Z"
   },
   {
    "duration": 214,
    "start_time": "2022-12-28T18:14:21.851Z"
   },
   {
    "duration": 344,
    "start_time": "2022-12-28T18:14:22.066Z"
   },
   {
    "duration": 292,
    "start_time": "2022-12-28T18:14:22.412Z"
   },
   {
    "duration": 12,
    "start_time": "2022-12-28T18:14:22.706Z"
   },
   {
    "duration": 290,
    "start_time": "2022-12-28T18:14:22.726Z"
   },
   {
    "duration": 181,
    "start_time": "2022-12-28T18:14:23.018Z"
   },
   {
    "duration": 190,
    "start_time": "2022-12-28T18:14:23.201Z"
   },
   {
    "duration": 154,
    "start_time": "2022-12-28T18:14:23.393Z"
   },
   {
    "duration": 304,
    "start_time": "2022-12-28T18:14:23.549Z"
   },
   {
    "duration": 222,
    "start_time": "2022-12-28T18:14:23.856Z"
   },
   {
    "duration": 626,
    "start_time": "2022-12-28T18:14:24.080Z"
   },
   {
    "duration": 27,
    "start_time": "2022-12-28T18:14:24.709Z"
   },
   {
    "duration": 178,
    "start_time": "2022-12-28T18:14:24.738Z"
   },
   {
    "duration": 1059,
    "start_time": "2022-12-28T22:57:46.689Z"
   },
   {
    "duration": 82,
    "start_time": "2022-12-28T22:57:49.103Z"
   },
   {
    "duration": 15,
    "start_time": "2022-12-28T22:57:50.195Z"
   },
   {
    "duration": 2408,
    "start_time": "2022-12-28T22:57:53.578Z"
   },
   {
    "duration": 3,
    "start_time": "2022-12-28T22:59:07.744Z"
   },
   {
    "duration": 96,
    "start_time": "2022-12-28T22:59:08.305Z"
   },
   {
    "duration": 76,
    "start_time": "2022-12-28T22:59:08.862Z"
   },
   {
    "duration": 17,
    "start_time": "2022-12-28T22:59:09.824Z"
   },
   {
    "duration": 2005,
    "start_time": "2022-12-28T22:59:10.491Z"
   },
   {
    "duration": 119,
    "start_time": "2022-12-28T22:59:45.525Z"
   },
   {
    "duration": 2073,
    "start_time": "2022-12-28T23:01:00.496Z"
   },
   {
    "duration": 78,
    "start_time": "2022-12-28T23:18:52.261Z"
   },
   {
    "duration": 692,
    "start_time": "2022-12-28T23:19:05.063Z"
   },
   {
    "duration": 10,
    "start_time": "2022-12-28T23:19:16.856Z"
   },
   {
    "duration": 23,
    "start_time": "2022-12-28T23:19:23.041Z"
   },
   {
    "duration": 15,
    "start_time": "2022-12-28T23:21:37.180Z"
   },
   {
    "duration": 15,
    "start_time": "2022-12-28T23:21:52.009Z"
   },
   {
    "duration": 16,
    "start_time": "2022-12-28T23:21:57.141Z"
   },
   {
    "duration": 682,
    "start_time": "2022-12-28T23:22:41.383Z"
   },
   {
    "duration": 39,
    "start_time": "2022-12-28T23:24:56.330Z"
   },
   {
    "duration": 74,
    "start_time": "2022-12-28T23:25:11.641Z"
   },
   {
    "duration": 431,
    "start_time": "2022-12-28T23:25:29.295Z"
   },
   {
    "duration": 105,
    "start_time": "2022-12-28T23:25:29.728Z"
   },
   {
    "duration": 92,
    "start_time": "2022-12-28T23:25:29.835Z"
   },
   {
    "duration": 19,
    "start_time": "2022-12-28T23:25:29.930Z"
   },
   {
    "duration": 2323,
    "start_time": "2022-12-28T23:25:29.951Z"
   },
   {
    "duration": 26,
    "start_time": "2022-12-28T23:25:32.275Z"
   },
   {
    "duration": 118,
    "start_time": "2022-12-28T23:25:32.302Z"
   },
   {
    "duration": 51,
    "start_time": "2022-12-28T23:25:32.422Z"
   },
   {
    "duration": 0,
    "start_time": "2022-12-28T23:25:32.475Z"
   },
   {
    "duration": 0,
    "start_time": "2022-12-28T23:25:32.476Z"
   },
   {
    "duration": 0,
    "start_time": "2022-12-28T23:25:32.478Z"
   },
   {
    "duration": 0,
    "start_time": "2022-12-28T23:25:32.479Z"
   },
   {
    "duration": 0,
    "start_time": "2022-12-28T23:25:32.480Z"
   },
   {
    "duration": 0,
    "start_time": "2022-12-28T23:25:32.481Z"
   },
   {
    "duration": 0,
    "start_time": "2022-12-28T23:25:32.482Z"
   },
   {
    "duration": 0,
    "start_time": "2022-12-28T23:25:32.484Z"
   },
   {
    "duration": 0,
    "start_time": "2022-12-28T23:25:32.485Z"
   },
   {
    "duration": 0,
    "start_time": "2022-12-28T23:25:32.486Z"
   },
   {
    "duration": 0,
    "start_time": "2022-12-28T23:25:32.487Z"
   },
   {
    "duration": 0,
    "start_time": "2022-12-28T23:25:32.488Z"
   },
   {
    "duration": 0,
    "start_time": "2022-12-28T23:25:32.489Z"
   },
   {
    "duration": 0,
    "start_time": "2022-12-28T23:25:32.490Z"
   },
   {
    "duration": 0,
    "start_time": "2022-12-28T23:25:32.492Z"
   },
   {
    "duration": 0,
    "start_time": "2022-12-28T23:25:32.493Z"
   },
   {
    "duration": 0,
    "start_time": "2022-12-28T23:25:32.494Z"
   },
   {
    "duration": 0,
    "start_time": "2022-12-28T23:25:32.495Z"
   },
   {
    "duration": 0,
    "start_time": "2022-12-28T23:25:32.496Z"
   },
   {
    "duration": 0,
    "start_time": "2022-12-28T23:25:32.497Z"
   },
   {
    "duration": 0,
    "start_time": "2022-12-28T23:25:32.498Z"
   },
   {
    "duration": 0,
    "start_time": "2022-12-28T23:25:32.499Z"
   },
   {
    "duration": 0,
    "start_time": "2022-12-28T23:25:32.500Z"
   },
   {
    "duration": 0,
    "start_time": "2022-12-28T23:25:32.501Z"
   },
   {
    "duration": 47,
    "start_time": "2022-12-28T23:26:23.432Z"
   },
   {
    "duration": 43,
    "start_time": "2022-12-28T23:27:07.580Z"
   },
   {
    "duration": 53,
    "start_time": "2022-12-28T23:27:40.326Z"
   },
   {
    "duration": 57,
    "start_time": "2022-12-28T23:30:13.203Z"
   },
   {
    "duration": 3,
    "start_time": "2022-12-28T23:30:35.286Z"
   },
   {
    "duration": 105,
    "start_time": "2022-12-28T23:30:36.659Z"
   },
   {
    "duration": 76,
    "start_time": "2022-12-28T23:30:37.058Z"
   },
   {
    "duration": 18,
    "start_time": "2022-12-28T23:30:37.324Z"
   },
   {
    "duration": 1976,
    "start_time": "2022-12-28T23:30:37.535Z"
   },
   {
    "duration": 22,
    "start_time": "2022-12-28T23:30:40.144Z"
   },
   {
    "duration": 104,
    "start_time": "2022-12-28T23:30:42.366Z"
   },
   {
    "duration": 48,
    "start_time": "2022-12-28T23:30:45.175Z"
   },
   {
    "duration": 76,
    "start_time": "2022-12-28T23:30:55.377Z"
   },
   {
    "duration": 13,
    "start_time": "2022-12-28T23:31:23.286Z"
   },
   {
    "duration": 60,
    "start_time": "2022-12-28T23:33:00.002Z"
   },
   {
    "duration": 20,
    "start_time": "2022-12-28T23:33:05.769Z"
   },
   {
    "duration": 15,
    "start_time": "2022-12-28T23:33:24.071Z"
   },
   {
    "duration": 15,
    "start_time": "2022-12-28T23:33:31.029Z"
   },
   {
    "duration": 17,
    "start_time": "2022-12-28T23:33:34.566Z"
   },
   {
    "duration": 18,
    "start_time": "2022-12-28T23:33:39.793Z"
   },
   {
    "duration": 18,
    "start_time": "2022-12-28T23:34:22.605Z"
   },
   {
    "duration": 18,
    "start_time": "2022-12-28T23:34:24.991Z"
   },
   {
    "duration": 18,
    "start_time": "2022-12-28T23:34:27.373Z"
   },
   {
    "duration": 15,
    "start_time": "2022-12-28T23:34:33.145Z"
   },
   {
    "duration": 18,
    "start_time": "2022-12-28T23:35:03.970Z"
   },
   {
    "duration": 27,
    "start_time": "2022-12-28T23:36:35.482Z"
   },
   {
    "duration": 21,
    "start_time": "2022-12-28T23:38:17.941Z"
   },
   {
    "duration": 23,
    "start_time": "2022-12-28T23:39:30.701Z"
   },
   {
    "duration": 51,
    "start_time": "2022-12-28T23:41:04.749Z"
   },
   {
    "duration": 14,
    "start_time": "2022-12-28T23:58:19.082Z"
   },
   {
    "duration": 17,
    "start_time": "2022-12-28T23:58:29.500Z"
   },
   {
    "duration": 444,
    "start_time": "2022-12-29T12:14:22.343Z"
   },
   {
    "duration": 86,
    "start_time": "2022-12-29T12:16:51.612Z"
   },
   {
    "duration": 12,
    "start_time": "2022-12-29T12:17:28.754Z"
   },
   {
    "duration": 8,
    "start_time": "2022-12-29T12:17:39.029Z"
   },
   {
    "duration": 2,
    "start_time": "2022-12-29T12:17:44.931Z"
   },
   {
    "duration": 186,
    "start_time": "2022-12-29T12:17:45.691Z"
   },
   {
    "duration": 87,
    "start_time": "2022-12-29T12:17:46.482Z"
   },
   {
    "duration": 19,
    "start_time": "2022-12-29T12:17:47.333Z"
   },
   {
    "duration": 2799,
    "start_time": "2022-12-29T12:17:47.905Z"
   },
   {
    "duration": 2117,
    "start_time": "2022-12-29T12:17:53.460Z"
   },
   {
    "duration": 30,
    "start_time": "2022-12-29T12:18:03.761Z"
   },
   {
    "duration": 131,
    "start_time": "2022-12-29T12:18:09.292Z"
   },
   {
    "duration": 28,
    "start_time": "2022-12-29T12:18:14.115Z"
   },
   {
    "duration": 19,
    "start_time": "2022-12-29T12:18:30.122Z"
   },
   {
    "duration": 26,
    "start_time": "2022-12-29T12:18:35.241Z"
   },
   {
    "duration": 22,
    "start_time": "2022-12-29T12:18:41.564Z"
   },
   {
    "duration": 24,
    "start_time": "2022-12-29T12:19:02.955Z"
   },
   {
    "duration": 19,
    "start_time": "2022-12-29T12:19:22.440Z"
   },
   {
    "duration": 84,
    "start_time": "2022-12-29T12:19:37.995Z"
   },
   {
    "duration": 53,
    "start_time": "2022-12-29T12:19:55.993Z"
   },
   {
    "duration": 13,
    "start_time": "2022-12-29T12:20:15.349Z"
   },
   {
    "duration": 1170,
    "start_time": "2022-12-29T12:21:15.360Z"
   },
   {
    "duration": 25,
    "start_time": "2022-12-29T12:21:24.156Z"
   },
   {
    "duration": 18,
    "start_time": "2022-12-29T12:21:30.040Z"
   },
   {
    "duration": 15,
    "start_time": "2022-12-29T12:23:47.036Z"
   },
   {
    "duration": 23,
    "start_time": "2022-12-29T12:24:20.443Z"
   },
   {
    "duration": 15,
    "start_time": "2022-12-29T12:24:25.895Z"
   },
   {
    "duration": 13,
    "start_time": "2022-12-29T12:24:43.981Z"
   },
   {
    "duration": 5,
    "start_time": "2022-12-29T12:25:36.178Z"
   },
   {
    "duration": 17,
    "start_time": "2022-12-29T12:25:41.677Z"
   },
   {
    "duration": 176,
    "start_time": "2022-12-29T12:27:02.997Z"
   },
   {
    "duration": 21,
    "start_time": "2022-12-29T12:27:38.056Z"
   },
   {
    "duration": 19,
    "start_time": "2022-12-29T12:29:22.918Z"
   },
   {
    "duration": 39,
    "start_time": "2022-12-29T12:29:31.533Z"
   },
   {
    "duration": 38,
    "start_time": "2022-12-29T12:29:37.766Z"
   },
   {
    "duration": 27,
    "start_time": "2022-12-29T12:30:55.025Z"
   },
   {
    "duration": 20,
    "start_time": "2022-12-29T12:31:11.758Z"
   },
   {
    "duration": 19,
    "start_time": "2022-12-29T12:31:54.347Z"
   },
   {
    "duration": 89,
    "start_time": "2022-12-29T12:32:05.426Z"
   },
   {
    "duration": 188,
    "start_time": "2022-12-29T12:32:13.760Z"
   },
   {
    "duration": 209,
    "start_time": "2022-12-29T12:32:41.305Z"
   },
   {
    "duration": 206,
    "start_time": "2022-12-29T12:32:50.310Z"
   },
   {
    "duration": 17,
    "start_time": "2022-12-29T12:34:01.165Z"
   },
   {
    "duration": 15,
    "start_time": "2022-12-29T12:35:05.323Z"
   },
   {
    "duration": 14,
    "start_time": "2022-12-29T12:35:19.850Z"
   },
   {
    "duration": 18,
    "start_time": "2022-12-29T12:36:18.624Z"
   },
   {
    "duration": 27,
    "start_time": "2022-12-29T12:37:35.854Z"
   },
   {
    "duration": 25,
    "start_time": "2022-12-29T12:38:23.989Z"
   },
   {
    "duration": 24,
    "start_time": "2022-12-29T12:39:10.949Z"
   },
   {
    "duration": 31,
    "start_time": "2022-12-29T12:39:24.746Z"
   },
   {
    "duration": 29,
    "start_time": "2022-12-29T12:40:21.931Z"
   },
   {
    "duration": 28,
    "start_time": "2022-12-29T12:40:36.867Z"
   },
   {
    "duration": 31,
    "start_time": "2022-12-29T12:41:47.454Z"
   },
   {
    "duration": 33,
    "start_time": "2022-12-29T12:42:45.426Z"
   },
   {
    "duration": 75,
    "start_time": "2022-12-29T12:45:51.256Z"
   },
   {
    "duration": 94,
    "start_time": "2022-12-29T12:47:30.213Z"
   },
   {
    "duration": 104,
    "start_time": "2022-12-29T12:47:39.737Z"
   },
   {
    "duration": 41,
    "start_time": "2022-12-29T12:48:06.289Z"
   },
   {
    "duration": 365,
    "start_time": "2022-12-29T12:51:13.485Z"
   },
   {
    "duration": 355,
    "start_time": "2022-12-29T12:51:29.766Z"
   },
   {
    "duration": 214,
    "start_time": "2022-12-29T12:51:49.362Z"
   },
   {
    "duration": 221,
    "start_time": "2022-12-29T12:51:52.477Z"
   },
   {
    "duration": 241,
    "start_time": "2022-12-29T12:52:06.958Z"
   },
   {
    "duration": 186,
    "start_time": "2022-12-29T12:55:42.358Z"
   },
   {
    "duration": 460,
    "start_time": "2022-12-29T12:55:49.071Z"
   },
   {
    "duration": 137,
    "start_time": "2022-12-29T12:55:49.533Z"
   },
   {
    "duration": 97,
    "start_time": "2022-12-29T12:55:49.673Z"
   },
   {
    "duration": 21,
    "start_time": "2022-12-29T12:55:49.774Z"
   },
   {
    "duration": 2436,
    "start_time": "2022-12-29T12:55:49.797Z"
   },
   {
    "duration": 29,
    "start_time": "2022-12-29T12:55:52.235Z"
   },
   {
    "duration": 127,
    "start_time": "2022-12-29T12:55:52.267Z"
   },
   {
    "duration": 22,
    "start_time": "2022-12-29T12:55:52.396Z"
   },
   {
    "duration": 111,
    "start_time": "2022-12-29T12:55:52.420Z"
   },
   {
    "duration": 378,
    "start_time": "2022-12-29T12:55:52.533Z"
   },
   {
    "duration": 249,
    "start_time": "2022-12-29T12:55:52.913Z"
   },
   {
    "duration": 226,
    "start_time": "2022-12-29T12:55:53.164Z"
   },
   {
    "duration": 246,
    "start_time": "2022-12-29T12:55:53.392Z"
   },
   {
    "duration": 339,
    "start_time": "2022-12-29T12:55:53.640Z"
   },
   {
    "duration": 197,
    "start_time": "2022-12-29T12:55:53.981Z"
   },
   {
    "duration": 199,
    "start_time": "2022-12-29T12:55:54.180Z"
   },
   {
    "duration": 204,
    "start_time": "2022-12-29T12:55:54.381Z"
   },
   {
    "duration": 442,
    "start_time": "2022-12-29T12:55:54.586Z"
   },
   {
    "duration": 238,
    "start_time": "2022-12-29T12:55:55.030Z"
   },
   {
    "duration": 284,
    "start_time": "2022-12-29T12:55:55.270Z"
   },
   {
    "duration": 225,
    "start_time": "2022-12-29T12:55:55.556Z"
   },
   {
    "duration": 323,
    "start_time": "2022-12-29T12:55:55.783Z"
   },
   {
    "duration": 392,
    "start_time": "2022-12-29T12:55:56.108Z"
   },
   {
    "duration": 299,
    "start_time": "2022-12-29T12:55:56.503Z"
   },
   {
    "duration": 173,
    "start_time": "2022-12-29T12:55:56.803Z"
   },
   {
    "duration": 174,
    "start_time": "2022-12-29T12:55:56.977Z"
   },
   {
    "duration": 174,
    "start_time": "2022-12-29T12:55:57.153Z"
   },
   {
    "duration": 271,
    "start_time": "2022-12-29T12:55:57.332Z"
   },
   {
    "duration": 206,
    "start_time": "2022-12-29T12:55:57.605Z"
   },
   {
    "duration": 668,
    "start_time": "2022-12-29T12:55:57.813Z"
   },
   {
    "duration": 31,
    "start_time": "2022-12-29T12:55:58.483Z"
   },
   {
    "duration": 204,
    "start_time": "2022-12-29T12:55:58.516Z"
   },
   {
    "duration": 219,
    "start_time": "2022-12-29T12:58:32.521Z"
   },
   {
    "duration": 399,
    "start_time": "2022-12-29T12:58:52.248Z"
   },
   {
    "duration": 271,
    "start_time": "2022-12-29T13:06:09.625Z"
   },
   {
    "duration": 429,
    "start_time": "2022-12-29T13:06:35.885Z"
   },
   {
    "duration": 207,
    "start_time": "2022-12-29T13:08:57.519Z"
   },
   {
    "duration": 620,
    "start_time": "2022-12-29T13:09:19.343Z"
   },
   {
    "duration": 217,
    "start_time": "2022-12-29T13:09:42.917Z"
   },
   {
    "duration": 75,
    "start_time": "2022-12-29T13:10:48.703Z"
   },
   {
    "duration": 432,
    "start_time": "2022-12-29T13:11:34.410Z"
   },
   {
    "duration": 449,
    "start_time": "2022-12-29T13:12:18.662Z"
   },
   {
    "duration": 265,
    "start_time": "2022-12-29T13:17:50.230Z"
   },
   {
    "duration": 316,
    "start_time": "2022-12-29T13:18:15.490Z"
   },
   {
    "duration": 19,
    "start_time": "2022-12-29T13:18:28.171Z"
   },
   {
    "duration": 3,
    "start_time": "2022-12-29T13:18:55.997Z"
   },
   {
    "duration": 119,
    "start_time": "2022-12-29T13:18:56.627Z"
   },
   {
    "duration": 82,
    "start_time": "2022-12-29T13:18:57.084Z"
   },
   {
    "duration": 17,
    "start_time": "2022-12-29T13:18:57.699Z"
   },
   {
    "duration": 2621,
    "start_time": "2022-12-29T13:18:58.237Z"
   },
   {
    "duration": 22,
    "start_time": "2022-12-29T13:19:05.598Z"
   },
   {
    "duration": 152,
    "start_time": "2022-12-29T13:19:09.445Z"
   },
   {
    "duration": 23,
    "start_time": "2022-12-29T13:19:11.368Z"
   },
   {
    "duration": 79,
    "start_time": "2022-12-29T13:19:13.639Z"
   },
   {
    "duration": 406,
    "start_time": "2022-12-29T13:19:16.393Z"
   },
   {
    "duration": 249,
    "start_time": "2022-12-29T13:19:18.149Z"
   },
   {
    "duration": 219,
    "start_time": "2022-12-29T13:19:20.183Z"
   },
   {
    "duration": 238,
    "start_time": "2022-12-29T13:19:21.593Z"
   },
   {
    "duration": 439,
    "start_time": "2022-12-29T13:19:23.063Z"
   },
   {
    "duration": 190,
    "start_time": "2022-12-29T13:19:25.222Z"
   },
   {
    "duration": 435,
    "start_time": "2022-12-29T13:19:37.498Z"
   },
   {
    "duration": 105,
    "start_time": "2022-12-29T13:20:47.418Z"
   },
   {
    "duration": 187,
    "start_time": "2022-12-29T13:21:04.434Z"
   },
   {
    "duration": 358,
    "start_time": "2022-12-29T13:23:14.518Z"
   },
   {
    "duration": 179,
    "start_time": "2022-12-29T13:23:27.267Z"
   },
   {
    "duration": 471,
    "start_time": "2022-12-29T13:23:48.067Z"
   },
   {
    "duration": 214,
    "start_time": "2022-12-29T13:24:01.011Z"
   },
   {
    "duration": 525,
    "start_time": "2022-12-29T13:24:20.022Z"
   },
   {
    "duration": 691,
    "start_time": "2022-12-29T13:24:38.970Z"
   },
   {
    "duration": 15,
    "start_time": "2022-12-29T13:25:11.168Z"
   },
   {
    "duration": 609,
    "start_time": "2022-12-29T13:25:23.068Z"
   },
   {
    "duration": 24,
    "start_time": "2022-12-29T13:25:40.741Z"
   },
   {
    "duration": 534,
    "start_time": "2022-12-29T13:25:52.633Z"
   },
   {
    "duration": 4,
    "start_time": "2022-12-29T13:26:00.134Z"
   },
   {
    "duration": 128,
    "start_time": "2022-12-29T13:26:00.691Z"
   },
   {
    "duration": 99,
    "start_time": "2022-12-29T13:26:01.198Z"
   },
   {
    "duration": 24,
    "start_time": "2022-12-29T13:26:01.713Z"
   },
   {
    "duration": 2761,
    "start_time": "2022-12-29T13:26:02.269Z"
   },
   {
    "duration": 36,
    "start_time": "2022-12-29T13:26:08.388Z"
   },
   {
    "duration": 147,
    "start_time": "2022-12-29T13:26:11.069Z"
   },
   {
    "duration": 26,
    "start_time": "2022-12-29T13:26:12.414Z"
   },
   {
    "duration": 105,
    "start_time": "2022-12-29T13:26:14.135Z"
   },
   {
    "duration": 436,
    "start_time": "2022-12-29T13:26:17.695Z"
   },
   {
    "duration": 308,
    "start_time": "2022-12-29T13:26:20.368Z"
   },
   {
    "duration": 276,
    "start_time": "2022-12-29T13:26:22.213Z"
   },
   {
    "duration": 285,
    "start_time": "2022-12-29T13:26:23.728Z"
   },
   {
    "duration": 294,
    "start_time": "2022-12-29T13:26:25.092Z"
   },
   {
    "duration": 237,
    "start_time": "2022-12-29T13:26:26.774Z"
   },
   {
    "duration": 219,
    "start_time": "2022-12-29T13:26:28.089Z"
   },
   {
    "duration": 302,
    "start_time": "2022-12-29T13:26:29.083Z"
   },
   {
    "duration": 565,
    "start_time": "2022-12-29T13:26:29.874Z"
   },
   {
    "duration": 256,
    "start_time": "2022-12-29T13:26:30.994Z"
   },
   {
    "duration": 24,
    "start_time": "2022-12-29T13:26:50.653Z"
   },
   {
    "duration": 550,
    "start_time": "2022-12-29T13:27:02.911Z"
   },
   {
    "duration": 728,
    "start_time": "2022-12-29T13:27:13.294Z"
   },
   {
    "duration": 541,
    "start_time": "2022-12-29T13:27:24.835Z"
   },
   {
    "duration": 509,
    "start_time": "2022-12-29T13:27:38.811Z"
   },
   {
    "duration": 219,
    "start_time": "2022-12-29T13:29:03.608Z"
   },
   {
    "duration": 280,
    "start_time": "2022-12-29T13:29:43.275Z"
   },
   {
    "duration": 590,
    "start_time": "2022-12-29T13:30:47.915Z"
   },
   {
    "duration": 430,
    "start_time": "2022-12-29T13:31:28.657Z"
   },
   {
    "duration": 224,
    "start_time": "2022-12-29T13:31:36.924Z"
   },
   {
    "duration": 235,
    "start_time": "2022-12-29T13:32:14.163Z"
   },
   {
    "duration": 741,
    "start_time": "2022-12-29T13:32:29.793Z"
   },
   {
    "duration": 304,
    "start_time": "2022-12-29T13:32:39.422Z"
   },
   {
    "duration": 24,
    "start_time": "2022-12-29T13:34:18.964Z"
   },
   {
    "duration": 406,
    "start_time": "2022-12-29T13:34:43.116Z"
   },
   {
    "duration": 334,
    "start_time": "2022-12-29T13:34:55.906Z"
   },
   {
    "duration": 594,
    "start_time": "2022-12-29T13:40:41.973Z"
   },
   {
    "duration": 295,
    "start_time": "2022-12-29T13:40:55.747Z"
   },
   {
    "duration": 177,
    "start_time": "2022-12-29T13:41:12.321Z"
   },
   {
    "duration": 250,
    "start_time": "2022-12-29T13:41:32.310Z"
   },
   {
    "duration": 224,
    "start_time": "2022-12-29T13:41:38.766Z"
   },
   {
    "duration": 234,
    "start_time": "2022-12-29T13:41:43.880Z"
   },
   {
    "duration": 293,
    "start_time": "2022-12-29T13:41:49.503Z"
   },
   {
    "duration": 194,
    "start_time": "2022-12-29T13:41:53.681Z"
   },
   {
    "duration": 185,
    "start_time": "2022-12-29T13:41:58.210Z"
   },
   {
    "duration": 215,
    "start_time": "2022-12-29T13:42:02.289Z"
   },
   {
    "duration": 453,
    "start_time": "2022-12-29T13:42:07.173Z"
   },
   {
    "duration": 549,
    "start_time": "2022-12-29T13:42:15.543Z"
   },
   {
    "duration": 290,
    "start_time": "2022-12-29T13:42:28.000Z"
   },
   {
    "duration": 224,
    "start_time": "2022-12-29T13:42:33.889Z"
   },
   {
    "duration": 228,
    "start_time": "2022-12-29T13:42:38.990Z"
   },
   {
    "duration": 310,
    "start_time": "2022-12-29T13:42:44.702Z"
   },
   {
    "duration": 287,
    "start_time": "2022-12-29T13:42:52.617Z"
   },
   {
    "duration": 322,
    "start_time": "2022-12-29T13:43:07.104Z"
   },
   {
    "duration": 169,
    "start_time": "2022-12-29T13:46:49.428Z"
   },
   {
    "duration": 309,
    "start_time": "2022-12-29T13:47:06.270Z"
   },
   {
    "duration": 167,
    "start_time": "2022-12-29T13:50:12.508Z"
   },
   {
    "duration": 311,
    "start_time": "2022-12-29T13:50:27.952Z"
   },
   {
    "duration": 75,
    "start_time": "2022-12-29T13:51:45.884Z"
   },
   {
    "duration": 160,
    "start_time": "2022-12-29T13:52:11.682Z"
   },
   {
    "duration": 164,
    "start_time": "2022-12-29T13:52:16.270Z"
   },
   {
    "duration": 186,
    "start_time": "2022-12-29T13:53:39.835Z"
   },
   {
    "duration": 76,
    "start_time": "2022-12-29T13:55:27.942Z"
   },
   {
    "duration": 353,
    "start_time": "2022-12-29T13:55:58.832Z"
   },
   {
    "duration": 185,
    "start_time": "2022-12-29T13:56:20.393Z"
   },
   {
    "duration": 163,
    "start_time": "2022-12-29T13:56:57.711Z"
   },
   {
    "duration": 155,
    "start_time": "2022-12-29T13:57:12.011Z"
   },
   {
    "duration": 272,
    "start_time": "2022-12-29T13:57:44.442Z"
   },
   {
    "duration": 206,
    "start_time": "2022-12-29T13:59:00.617Z"
   },
   {
    "duration": 263,
    "start_time": "2022-12-29T13:59:09.620Z"
   },
   {
    "duration": 545,
    "start_time": "2022-12-29T13:59:51.334Z"
   },
   {
    "duration": 14,
    "start_time": "2022-12-29T14:09:14.725Z"
   },
   {
    "duration": 7,
    "start_time": "2022-12-29T14:10:19.236Z"
   },
   {
    "duration": 6,
    "start_time": "2022-12-29T14:10:42.914Z"
   },
   {
    "duration": 9,
    "start_time": "2022-12-29T14:11:41.539Z"
   },
   {
    "duration": 15,
    "start_time": "2022-12-29T14:12:29.296Z"
   },
   {
    "duration": 298,
    "start_time": "2022-12-29T14:13:53.806Z"
   },
   {
    "duration": 207,
    "start_time": "2022-12-29T14:14:04.273Z"
   },
   {
    "duration": 113,
    "start_time": "2022-12-29T14:25:39.731Z"
   },
   {
    "duration": 38,
    "start_time": "2022-12-29T14:26:05.276Z"
   },
   {
    "duration": 49,
    "start_time": "2022-12-29T14:26:24.822Z"
   },
   {
    "duration": 438,
    "start_time": "2022-12-29T14:26:32.504Z"
   },
   {
    "duration": 162,
    "start_time": "2022-12-29T14:26:32.944Z"
   },
   {
    "duration": 129,
    "start_time": "2022-12-29T14:26:33.107Z"
   },
   {
    "duration": 27,
    "start_time": "2022-12-29T14:26:33.239Z"
   },
   {
    "duration": 2992,
    "start_time": "2022-12-29T14:26:33.268Z"
   },
   {
    "duration": 51,
    "start_time": "2022-12-29T14:26:36.263Z"
   },
   {
    "duration": 175,
    "start_time": "2022-12-29T14:26:36.317Z"
   },
   {
    "duration": 27,
    "start_time": "2022-12-29T14:26:36.496Z"
   },
   {
    "duration": 120,
    "start_time": "2022-12-29T14:26:36.526Z"
   },
   {
    "duration": 498,
    "start_time": "2022-12-29T14:26:36.655Z"
   },
   {
    "duration": 318,
    "start_time": "2022-12-29T14:26:37.155Z"
   },
   {
    "duration": 271,
    "start_time": "2022-12-29T14:26:37.476Z"
   },
   {
    "duration": 261,
    "start_time": "2022-12-29T14:26:37.751Z"
   },
   {
    "duration": 444,
    "start_time": "2022-12-29T14:26:38.015Z"
   },
   {
    "duration": 220,
    "start_time": "2022-12-29T14:26:38.462Z"
   },
   {
    "duration": 203,
    "start_time": "2022-12-29T14:26:38.686Z"
   },
   {
    "duration": 232,
    "start_time": "2022-12-29T14:26:38.892Z"
   },
   {
    "duration": 612,
    "start_time": "2022-12-29T14:26:39.126Z"
   },
   {
    "duration": 323,
    "start_time": "2022-12-29T14:26:39.740Z"
   },
   {
    "duration": 414,
    "start_time": "2022-12-29T14:26:40.065Z"
   },
   {
    "duration": 310,
    "start_time": "2022-12-29T14:26:40.481Z"
   },
   {
    "duration": 397,
    "start_time": "2022-12-29T14:26:40.794Z"
   },
   {
    "duration": 377,
    "start_time": "2022-12-29T14:26:41.193Z"
   },
   {
    "duration": 335,
    "start_time": "2022-12-29T14:26:41.573Z"
   },
   {
    "duration": 239,
    "start_time": "2022-12-29T14:26:41.911Z"
   },
   {
    "duration": 210,
    "start_time": "2022-12-29T14:26:42.153Z"
   },
   {
    "duration": 212,
    "start_time": "2022-12-29T14:26:42.366Z"
   },
   {
    "duration": 220,
    "start_time": "2022-12-29T14:26:42.583Z"
   },
   {
    "duration": 14,
    "start_time": "2022-12-29T14:26:42.805Z"
   },
   {
    "duration": 283,
    "start_time": "2022-12-29T14:26:42.821Z"
   },
   {
    "duration": 807,
    "start_time": "2022-12-29T14:26:43.106Z"
   },
   {
    "duration": 65,
    "start_time": "2022-12-29T14:26:43.915Z"
   },
   {
    "duration": 235,
    "start_time": "2022-12-29T14:26:43.982Z"
   },
   {
    "duration": 42,
    "start_time": "2022-12-29T14:41:13.465Z"
   },
   {
    "duration": 519,
    "start_time": "2022-12-29T14:41:36.833Z"
   },
   {
    "duration": 154,
    "start_time": "2022-12-29T14:41:37.354Z"
   },
   {
    "duration": 126,
    "start_time": "2022-12-29T14:41:37.511Z"
   },
   {
    "duration": 42,
    "start_time": "2022-12-29T14:41:37.640Z"
   },
   {
    "duration": 3137,
    "start_time": "2022-12-29T14:41:37.684Z"
   },
   {
    "duration": 42,
    "start_time": "2022-12-29T14:41:40.824Z"
   },
   {
    "duration": 226,
    "start_time": "2022-12-29T14:41:40.869Z"
   },
   {
    "duration": 30,
    "start_time": "2022-12-29T14:41:41.098Z"
   },
   {
    "duration": 140,
    "start_time": "2022-12-29T14:41:41.130Z"
   },
   {
    "duration": 495,
    "start_time": "2022-12-29T14:41:41.274Z"
   },
   {
    "duration": 413,
    "start_time": "2022-12-29T14:41:41.771Z"
   },
   {
    "duration": 395,
    "start_time": "2022-12-29T14:41:42.187Z"
   },
   {
    "duration": 392,
    "start_time": "2022-12-29T14:41:42.585Z"
   },
   {
    "duration": 594,
    "start_time": "2022-12-29T14:41:42.980Z"
   },
   {
    "duration": 217,
    "start_time": "2022-12-29T14:41:43.576Z"
   },
   {
    "duration": 233,
    "start_time": "2022-12-29T14:41:43.795Z"
   },
   {
    "duration": 258,
    "start_time": "2022-12-29T14:41:44.030Z"
   },
   {
    "duration": 508,
    "start_time": "2022-12-29T14:41:44.290Z"
   },
   {
    "duration": 251,
    "start_time": "2022-12-29T14:41:44.801Z"
   },
   {
    "duration": 341,
    "start_time": "2022-12-29T14:41:45.060Z"
   },
   {
    "duration": 268,
    "start_time": "2022-12-29T14:41:45.403Z"
   },
   {
    "duration": 517,
    "start_time": "2022-12-29T14:41:45.673Z"
   },
   {
    "duration": 497,
    "start_time": "2022-12-29T14:41:46.195Z"
   },
   {
    "duration": 476,
    "start_time": "2022-12-29T14:41:46.695Z"
   },
   {
    "duration": 276,
    "start_time": "2022-12-29T14:41:47.173Z"
   },
   {
    "duration": 254,
    "start_time": "2022-12-29T14:41:47.455Z"
   },
   {
    "duration": 288,
    "start_time": "2022-12-29T14:41:47.711Z"
   },
   {
    "duration": 318,
    "start_time": "2022-12-29T14:41:48.005Z"
   },
   {
    "duration": 34,
    "start_time": "2022-12-29T14:41:48.326Z"
   },
   {
    "duration": 307,
    "start_time": "2022-12-29T14:41:48.362Z"
   },
   {
    "duration": 950,
    "start_time": "2022-12-29T14:41:48.671Z"
   },
   {
    "duration": 51,
    "start_time": "2022-12-29T14:41:49.624Z"
   },
   {
    "duration": 318,
    "start_time": "2022-12-29T14:41:49.682Z"
   },
   {
    "duration": 46,
    "start_time": "2022-12-29T14:43:00.950Z"
   },
   {
    "duration": 32,
    "start_time": "2022-12-29T14:44:30.404Z"
   },
   {
    "duration": 35,
    "start_time": "2022-12-29T14:45:18.600Z"
   },
   {
    "duration": 130,
    "start_time": "2022-12-29T14:46:56.546Z"
   },
   {
    "duration": 222,
    "start_time": "2022-12-29T14:47:55.094Z"
   },
   {
    "duration": 80,
    "start_time": "2022-12-29T14:50:59.283Z"
   },
   {
    "duration": 91,
    "start_time": "2022-12-29T14:51:21.348Z"
   },
   {
    "duration": 431,
    "start_time": "2022-12-29T14:51:23.368Z"
   },
   {
    "duration": 257,
    "start_time": "2022-12-29T14:51:24.133Z"
   },
   {
    "duration": 216,
    "start_time": "2022-12-29T14:51:24.685Z"
   },
   {
    "duration": 233,
    "start_time": "2022-12-29T14:51:25.381Z"
   },
   {
    "duration": 258,
    "start_time": "2022-12-29T14:51:25.879Z"
   },
   {
    "duration": 279,
    "start_time": "2022-12-29T14:51:26.585Z"
   },
   {
    "duration": 172,
    "start_time": "2022-12-29T14:51:27.095Z"
   },
   {
    "duration": 249,
    "start_time": "2022-12-29T14:51:27.493Z"
   },
   {
    "duration": 505,
    "start_time": "2022-12-29T14:51:27.829Z"
   },
   {
    "duration": 250,
    "start_time": "2022-12-29T14:51:28.335Z"
   },
   {
    "duration": 303,
    "start_time": "2022-12-29T14:51:28.910Z"
   },
   {
    "duration": 257,
    "start_time": "2022-12-29T14:51:29.608Z"
   },
   {
    "duration": 249,
    "start_time": "2022-12-29T14:51:30.484Z"
   },
   {
    "duration": 470,
    "start_time": "2022-12-29T14:51:32.007Z"
   },
   {
    "duration": 344,
    "start_time": "2022-12-29T14:51:34.015Z"
   },
   {
    "duration": 204,
    "start_time": "2022-12-29T14:51:35.581Z"
   },
   {
    "duration": 193,
    "start_time": "2022-12-29T14:51:37.292Z"
   },
   {
    "duration": 202,
    "start_time": "2022-12-29T14:51:38.023Z"
   },
   {
    "duration": 317,
    "start_time": "2022-12-29T14:51:39.696Z"
   },
   {
    "duration": 13,
    "start_time": "2022-12-29T14:51:41.699Z"
   },
   {
    "duration": 223,
    "start_time": "2022-12-29T14:51:42.796Z"
   },
   {
    "duration": 622,
    "start_time": "2022-12-29T14:51:43.405Z"
   },
   {
    "duration": 28,
    "start_time": "2022-12-29T14:51:46.837Z"
   },
   {
    "duration": 697,
    "start_time": "2022-12-29T15:07:25.246Z"
   },
   {
    "duration": 104,
    "start_time": "2022-12-29T15:24:19.297Z"
   },
   {
    "duration": 573,
    "start_time": "2022-12-29T15:24:33.250Z"
   },
   {
    "duration": 179,
    "start_time": "2022-12-29T15:24:33.826Z"
   },
   {
    "duration": 105,
    "start_time": "2022-12-29T15:24:34.007Z"
   },
   {
    "duration": 20,
    "start_time": "2022-12-29T15:24:34.115Z"
   },
   {
    "duration": 3162,
    "start_time": "2022-12-29T15:24:34.163Z"
   },
   {
    "duration": 42,
    "start_time": "2022-12-29T15:24:37.327Z"
   },
   {
    "duration": 204,
    "start_time": "2022-12-29T15:24:37.372Z"
   },
   {
    "duration": 32,
    "start_time": "2022-12-29T15:24:37.582Z"
   },
   {
    "duration": 110,
    "start_time": "2022-12-29T15:24:37.616Z"
   },
   {
    "duration": 627,
    "start_time": "2022-12-29T15:24:37.730Z"
   },
   {
    "duration": 281,
    "start_time": "2022-12-29T15:24:38.359Z"
   },
   {
    "duration": 287,
    "start_time": "2022-12-29T15:24:38.641Z"
   },
   {
    "duration": 324,
    "start_time": "2022-12-29T15:24:38.930Z"
   },
   {
    "duration": 482,
    "start_time": "2022-12-29T15:24:39.256Z"
   },
   {
    "duration": 275,
    "start_time": "2022-12-29T15:24:39.740Z"
   },
   {
    "duration": 276,
    "start_time": "2022-12-29T15:24:40.026Z"
   },
   {
    "duration": 315,
    "start_time": "2022-12-29T15:24:40.305Z"
   },
   {
    "duration": 697,
    "start_time": "2022-12-29T15:24:40.623Z"
   },
   {
    "duration": 329,
    "start_time": "2022-12-29T15:24:41.322Z"
   },
   {
    "duration": 480,
    "start_time": "2022-12-29T15:24:41.653Z"
   },
   {
    "duration": 346,
    "start_time": "2022-12-29T15:24:42.136Z"
   },
   {
    "duration": 458,
    "start_time": "2022-12-29T15:24:42.485Z"
   },
   {
    "duration": 455,
    "start_time": "2022-12-29T15:24:42.946Z"
   },
   {
    "duration": 388,
    "start_time": "2022-12-29T15:24:43.403Z"
   },
   {
    "duration": 218,
    "start_time": "2022-12-29T15:24:43.795Z"
   },
   {
    "duration": 237,
    "start_time": "2022-12-29T15:24:44.016Z"
   },
   {
    "duration": 246,
    "start_time": "2022-12-29T15:24:44.263Z"
   },
   {
    "duration": 276,
    "start_time": "2022-12-29T15:24:44.512Z"
   },
   {
    "duration": 19,
    "start_time": "2022-12-29T15:24:44.790Z"
   },
   {
    "duration": 306,
    "start_time": "2022-12-29T15:24:44.812Z"
   },
   {
    "duration": 907,
    "start_time": "2022-12-29T15:24:45.120Z"
   },
   {
    "duration": 54,
    "start_time": "2022-12-29T15:24:46.029Z"
   },
   {
    "duration": 310,
    "start_time": "2022-12-29T15:24:46.085Z"
   },
   {
    "duration": 410,
    "start_time": "2022-12-30T14:59:21.195Z"
   },
   {
    "duration": 104,
    "start_time": "2022-12-30T14:59:21.607Z"
   },
   {
    "duration": 75,
    "start_time": "2022-12-30T14:59:21.713Z"
   },
   {
    "duration": 30,
    "start_time": "2022-12-30T14:59:21.789Z"
   },
   {
    "duration": 2119,
    "start_time": "2022-12-30T14:59:21.821Z"
   },
   {
    "duration": 23,
    "start_time": "2022-12-30T14:59:23.942Z"
   },
   {
    "duration": 102,
    "start_time": "2022-12-30T14:59:23.967Z"
   },
   {
    "duration": 17,
    "start_time": "2022-12-30T14:59:24.071Z"
   },
   {
    "duration": 78,
    "start_time": "2022-12-30T14:59:24.089Z"
   },
   {
    "duration": 367,
    "start_time": "2022-12-30T14:59:24.169Z"
   },
   {
    "duration": 248,
    "start_time": "2022-12-30T14:59:24.538Z"
   },
   {
    "duration": 228,
    "start_time": "2022-12-30T14:59:24.788Z"
   },
   {
    "duration": 215,
    "start_time": "2022-12-30T14:59:25.018Z"
   },
   {
    "duration": 324,
    "start_time": "2022-12-30T14:59:25.236Z"
   },
   {
    "duration": 181,
    "start_time": "2022-12-30T14:59:25.562Z"
   },
   {
    "duration": 168,
    "start_time": "2022-12-30T14:59:25.744Z"
   },
   {
    "duration": 186,
    "start_time": "2022-12-30T14:59:25.913Z"
   },
   {
    "duration": 482,
    "start_time": "2022-12-30T14:59:26.101Z"
   },
   {
    "duration": 190,
    "start_time": "2022-12-30T14:59:26.585Z"
   },
   {
    "duration": 274,
    "start_time": "2022-12-30T14:59:26.777Z"
   },
   {
    "duration": 276,
    "start_time": "2022-12-30T14:59:27.052Z"
   },
   {
    "duration": 229,
    "start_time": "2022-12-30T14:59:27.329Z"
   },
   {
    "duration": 295,
    "start_time": "2022-12-30T14:59:27.560Z"
   },
   {
    "duration": 276,
    "start_time": "2022-12-30T14:59:27.857Z"
   },
   {
    "duration": 185,
    "start_time": "2022-12-30T14:59:28.135Z"
   },
   {
    "duration": 163,
    "start_time": "2022-12-30T14:59:28.322Z"
   },
   {
    "duration": 160,
    "start_time": "2022-12-30T14:59:28.487Z"
   },
   {
    "duration": 191,
    "start_time": "2022-12-30T14:59:28.649Z"
   },
   {
    "duration": 13,
    "start_time": "2022-12-30T14:59:28.842Z"
   },
   {
    "duration": 187,
    "start_time": "2022-12-30T14:59:28.857Z"
   },
   {
    "duration": 604,
    "start_time": "2022-12-30T14:59:29.045Z"
   },
   {
    "duration": 25,
    "start_time": "2022-12-30T14:59:29.651Z"
   },
   {
    "duration": 199,
    "start_time": "2022-12-30T14:59:29.677Z"
   },
   {
    "duration": 22,
    "start_time": "2022-12-30T15:02:55.179Z"
   },
   {
    "duration": 105,
    "start_time": "2022-12-30T15:02:58.835Z"
   }
  ],
  "kernelspec": {
   "display_name": "Python 3 (ipykernel)",
   "language": "python",
   "name": "python3"
  },
  "language_info": {
   "codemirror_mode": {
    "name": "ipython",
    "version": 3
   },
   "file_extension": ".py",
   "mimetype": "text/x-python",
   "name": "python",
   "nbconvert_exporter": "python",
   "pygments_lexer": "ipython3",
   "version": "3.9.5"
  },
  "toc": {
   "base_numbering": 1,
   "nav_menu": {},
   "number_sections": true,
   "sideBar": true,
   "skip_h1_title": true,
   "title_cell": "Table of Contents",
   "title_sidebar": "Contents",
   "toc_cell": false,
   "toc_position": {},
   "toc_section_display": true,
   "toc_window_display": false
  }
 },
 "nbformat": 4,
 "nbformat_minor": 2
}
