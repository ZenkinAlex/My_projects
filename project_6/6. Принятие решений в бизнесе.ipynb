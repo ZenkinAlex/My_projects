{
 "cells": [
  {
   "cell_type": "markdown",
   "metadata": {},
   "source": [
    "Вы — аналитик крупного интернет-магазина. Вместе с отделом маркетинга вы подготовили список гипотез для увеличения выручки.\n",
    "Приоритизируйте гипотезы, запустите A/B-тест и проанализируйте результаты. "
   ]
  },
  {
   "cell_type": "markdown",
   "metadata": {},
   "source": [
    "## Приоритизация гипотез."
   ]
  },
  {
   "cell_type": "markdown",
   "metadata": {},
   "source": [
    "В файле hypothesis.csv 9 гипотез по увеличению выручки интернет-магазина с указанными параметрами Reach, Impact, Confidence, Effort.\n",
    "\n",
    "Задача:\n",
    "\n",
    "* Применить фреймворк ICE для приоритизации гипотез. Отсортируйте их по убыванию приоритета.\n",
    "* Применить фреймворк RICE для приоритизации гипотез. Отсортируйте их по убыванию приоритета.\n",
    "* Указать, как изменилась приоритизация гипотез при применении RICE вместо ICE. Объяснить, почему так произошло."
   ]
  },
  {
   "cell_type": "markdown",
   "metadata": {},
   "source": [
    "### Загрузка и предобработка данных."
   ]
  },
  {
   "cell_type": "code",
   "execution_count": 1,
   "metadata": {},
   "outputs": [],
   "source": [
    "import pandas as pd\n",
    "import numpy as np\n",
    "import matplotlib.pyplot as plt\n",
    "from scipy import stats\n",
    "import datetime as dt"
   ]
  },
  {
   "cell_type": "code",
   "execution_count": 2,
   "metadata": {},
   "outputs": [],
   "source": [
    "hypothesis = pd.read_csv('/datasets/hypothesis.csv')\n",
    "orders = pd.read_csv('/datasets/orders.csv')\n",
    "visitors = pd.read_csv('/datasets/visitors.csv')"
   ]
  },
  {
   "cell_type": "code",
   "execution_count": 3,
   "metadata": {},
   "outputs": [
    {
     "data": {
      "text/html": [
       "<div>\n",
       "<style scoped>\n",
       "    .dataframe tbody tr th:only-of-type {\n",
       "        vertical-align: middle;\n",
       "    }\n",
       "\n",
       "    .dataframe tbody tr th {\n",
       "        vertical-align: top;\n",
       "    }\n",
       "\n",
       "    .dataframe thead th {\n",
       "        text-align: right;\n",
       "    }\n",
       "</style>\n",
       "<table border=\"1\" class=\"dataframe\">\n",
       "  <thead>\n",
       "    <tr style=\"text-align: right;\">\n",
       "      <th></th>\n",
       "      <th>Hypothesis</th>\n",
       "      <th>Reach</th>\n",
       "      <th>Impact</th>\n",
       "      <th>Confidence</th>\n",
       "      <th>Efforts</th>\n",
       "    </tr>\n",
       "  </thead>\n",
       "  <tbody>\n",
       "    <tr>\n",
       "      <th>0</th>\n",
       "      <td>Добавить два новых канала привлечения трафика, что позволит привлекать на 30% больше пользователей</td>\n",
       "      <td>3</td>\n",
       "      <td>10</td>\n",
       "      <td>8</td>\n",
       "      <td>6</td>\n",
       "    </tr>\n",
       "    <tr>\n",
       "      <th>1</th>\n",
       "      <td>Запустить собственную службу доставки, что сократит срок доставки заказов</td>\n",
       "      <td>2</td>\n",
       "      <td>5</td>\n",
       "      <td>4</td>\n",
       "      <td>10</td>\n",
       "    </tr>\n",
       "    <tr>\n",
       "      <th>2</th>\n",
       "      <td>Добавить блоки рекомендаций товаров на сайт интернет магазина, чтобы повысить конверсию и средний чек заказа</td>\n",
       "      <td>8</td>\n",
       "      <td>3</td>\n",
       "      <td>7</td>\n",
       "      <td>3</td>\n",
       "    </tr>\n",
       "    <tr>\n",
       "      <th>3</th>\n",
       "      <td>Изменить структура категорий, что увеличит конверсию, т.к. пользователи быстрее найдут нужный товар</td>\n",
       "      <td>8</td>\n",
       "      <td>3</td>\n",
       "      <td>3</td>\n",
       "      <td>8</td>\n",
       "    </tr>\n",
       "    <tr>\n",
       "      <th>4</th>\n",
       "      <td>Изменить цвет фона главной страницы, чтобы увеличить вовлеченность пользователей</td>\n",
       "      <td>3</td>\n",
       "      <td>1</td>\n",
       "      <td>1</td>\n",
       "      <td>1</td>\n",
       "    </tr>\n",
       "    <tr>\n",
       "      <th>5</th>\n",
       "      <td>Добавить страницу отзывов клиентов о магазине, что позволит увеличить количество заказов</td>\n",
       "      <td>3</td>\n",
       "      <td>2</td>\n",
       "      <td>2</td>\n",
       "      <td>3</td>\n",
       "    </tr>\n",
       "    <tr>\n",
       "      <th>6</th>\n",
       "      <td>Показать на главной странице баннеры с актуальными акциями и распродажами, чтобы увеличить конверсию</td>\n",
       "      <td>5</td>\n",
       "      <td>3</td>\n",
       "      <td>8</td>\n",
       "      <td>3</td>\n",
       "    </tr>\n",
       "    <tr>\n",
       "      <th>7</th>\n",
       "      <td>Добавить форму подписки на все основные страницы, чтобы собрать базу клиентов для email-рассылок</td>\n",
       "      <td>10</td>\n",
       "      <td>7</td>\n",
       "      <td>8</td>\n",
       "      <td>5</td>\n",
       "    </tr>\n",
       "    <tr>\n",
       "      <th>8</th>\n",
       "      <td>Запустить акцию, дающую скидку на товар в день рождения</td>\n",
       "      <td>1</td>\n",
       "      <td>9</td>\n",
       "      <td>9</td>\n",
       "      <td>5</td>\n",
       "    </tr>\n",
       "  </tbody>\n",
       "</table>\n",
       "</div>"
      ],
      "text/plain": [
       "                                                                                                     Hypothesis  \\\n",
       "0            Добавить два новых канала привлечения трафика, что позволит привлекать на 30% больше пользователей   \n",
       "1                                     Запустить собственную службу доставки, что сократит срок доставки заказов   \n",
       "2  Добавить блоки рекомендаций товаров на сайт интернет магазина, чтобы повысить конверсию и средний чек заказа   \n",
       "3           Изменить структура категорий, что увеличит конверсию, т.к. пользователи быстрее найдут нужный товар   \n",
       "4                              Изменить цвет фона главной страницы, чтобы увеличить вовлеченность пользователей   \n",
       "5                      Добавить страницу отзывов клиентов о магазине, что позволит увеличить количество заказов   \n",
       "6          Показать на главной странице баннеры с актуальными акциями и распродажами, чтобы увеличить конверсию   \n",
       "7              Добавить форму подписки на все основные страницы, чтобы собрать базу клиентов для email-рассылок   \n",
       "8                                                       Запустить акцию, дающую скидку на товар в день рождения   \n",
       "\n",
       "   Reach  Impact  Confidence  Efforts  \n",
       "0      3      10           8        6  \n",
       "1      2       5           4       10  \n",
       "2      8       3           7        3  \n",
       "3      8       3           3        8  \n",
       "4      3       1           1        1  \n",
       "5      3       2           2        3  \n",
       "6      5       3           8        3  \n",
       "7     10       7           8        5  \n",
       "8      1       9           9        5  "
      ]
     },
     "metadata": {},
     "output_type": "display_data"
    }
   ],
   "source": [
    "pd.options.display.max_colwidth = 150\n",
    "display(hypothesis)"
   ]
  },
  {
   "cell_type": "code",
   "execution_count": 4,
   "metadata": {},
   "outputs": [
    {
     "name": "stdout",
     "output_type": "stream",
     "text": [
      "<class 'pandas.core.frame.DataFrame'>\n",
      "RangeIndex: 9 entries, 0 to 8\n",
      "Data columns (total 5 columns):\n",
      " #   Column      Non-Null Count  Dtype \n",
      "---  ------      --------------  ----- \n",
      " 0   Hypothesis  9 non-null      object\n",
      " 1   Reach       9 non-null      int64 \n",
      " 2   Impact      9 non-null      int64 \n",
      " 3   Confidence  9 non-null      int64 \n",
      " 4   Efforts     9 non-null      int64 \n",
      "dtypes: int64(4), object(1)\n",
      "memory usage: 488.0+ bytes\n"
     ]
    }
   ],
   "source": [
    "hypothesis.info()"
   ]
  },
  {
   "cell_type": "markdown",
   "metadata": {},
   "source": [
    "Тип данных данных и название столбцов соотвествует необходимому,пропусков нет. Корректировка датасета не требуется."
   ]
  },
  {
   "cell_type": "code",
   "execution_count": 5,
   "metadata": {},
   "outputs": [
    {
     "data": {
      "text/html": [
       "<div>\n",
       "<style scoped>\n",
       "    .dataframe tbody tr th:only-of-type {\n",
       "        vertical-align: middle;\n",
       "    }\n",
       "\n",
       "    .dataframe tbody tr th {\n",
       "        vertical-align: top;\n",
       "    }\n",
       "\n",
       "    .dataframe thead th {\n",
       "        text-align: right;\n",
       "    }\n",
       "</style>\n",
       "<table border=\"1\" class=\"dataframe\">\n",
       "  <thead>\n",
       "    <tr style=\"text-align: right;\">\n",
       "      <th></th>\n",
       "      <th>transactionId</th>\n",
       "      <th>visitorId</th>\n",
       "      <th>date</th>\n",
       "      <th>revenue</th>\n",
       "      <th>group</th>\n",
       "    </tr>\n",
       "  </thead>\n",
       "  <tbody>\n",
       "    <tr>\n",
       "      <th>0</th>\n",
       "      <td>3667963787</td>\n",
       "      <td>3312258926</td>\n",
       "      <td>2019-08-15</td>\n",
       "      <td>1650</td>\n",
       "      <td>B</td>\n",
       "    </tr>\n",
       "    <tr>\n",
       "      <th>1</th>\n",
       "      <td>2804400009</td>\n",
       "      <td>3642806036</td>\n",
       "      <td>2019-08-15</td>\n",
       "      <td>730</td>\n",
       "      <td>B</td>\n",
       "    </tr>\n",
       "    <tr>\n",
       "      <th>2</th>\n",
       "      <td>2961555356</td>\n",
       "      <td>4069496402</td>\n",
       "      <td>2019-08-15</td>\n",
       "      <td>400</td>\n",
       "      <td>A</td>\n",
       "    </tr>\n",
       "    <tr>\n",
       "      <th>3</th>\n",
       "      <td>3797467345</td>\n",
       "      <td>1196621759</td>\n",
       "      <td>2019-08-15</td>\n",
       "      <td>9759</td>\n",
       "      <td>B</td>\n",
       "    </tr>\n",
       "    <tr>\n",
       "      <th>4</th>\n",
       "      <td>2282983706</td>\n",
       "      <td>2322279887</td>\n",
       "      <td>2019-08-15</td>\n",
       "      <td>2308</td>\n",
       "      <td>B</td>\n",
       "    </tr>\n",
       "    <tr>\n",
       "      <th>...</th>\n",
       "      <td>...</td>\n",
       "      <td>...</td>\n",
       "      <td>...</td>\n",
       "      <td>...</td>\n",
       "      <td>...</td>\n",
       "    </tr>\n",
       "    <tr>\n",
       "      <th>1192</th>\n",
       "      <td>2662137336</td>\n",
       "      <td>3733762160</td>\n",
       "      <td>2019-08-14</td>\n",
       "      <td>6490</td>\n",
       "      <td>B</td>\n",
       "    </tr>\n",
       "    <tr>\n",
       "      <th>1193</th>\n",
       "      <td>2203539145</td>\n",
       "      <td>370388673</td>\n",
       "      <td>2019-08-14</td>\n",
       "      <td>3190</td>\n",
       "      <td>A</td>\n",
       "    </tr>\n",
       "    <tr>\n",
       "      <th>1194</th>\n",
       "      <td>1807773912</td>\n",
       "      <td>573423106</td>\n",
       "      <td>2019-08-14</td>\n",
       "      <td>10550</td>\n",
       "      <td>A</td>\n",
       "    </tr>\n",
       "    <tr>\n",
       "      <th>1195</th>\n",
       "      <td>1947021204</td>\n",
       "      <td>1614305549</td>\n",
       "      <td>2019-08-14</td>\n",
       "      <td>100</td>\n",
       "      <td>A</td>\n",
       "    </tr>\n",
       "    <tr>\n",
       "      <th>1196</th>\n",
       "      <td>3936777065</td>\n",
       "      <td>2108080724</td>\n",
       "      <td>2019-08-15</td>\n",
       "      <td>202740</td>\n",
       "      <td>B</td>\n",
       "    </tr>\n",
       "  </tbody>\n",
       "</table>\n",
       "<p>1197 rows × 5 columns</p>\n",
       "</div>"
      ],
      "text/plain": [
       "      transactionId   visitorId        date  revenue group\n",
       "0        3667963787  3312258926  2019-08-15     1650     B\n",
       "1        2804400009  3642806036  2019-08-15      730     B\n",
       "2        2961555356  4069496402  2019-08-15      400     A\n",
       "3        3797467345  1196621759  2019-08-15     9759     B\n",
       "4        2282983706  2322279887  2019-08-15     2308     B\n",
       "...             ...         ...         ...      ...   ...\n",
       "1192     2662137336  3733762160  2019-08-14     6490     B\n",
       "1193     2203539145   370388673  2019-08-14     3190     A\n",
       "1194     1807773912   573423106  2019-08-14    10550     A\n",
       "1195     1947021204  1614305549  2019-08-14      100     A\n",
       "1196     3936777065  2108080724  2019-08-15   202740     B\n",
       "\n",
       "[1197 rows x 5 columns]"
      ]
     },
     "metadata": {},
     "output_type": "display_data"
    }
   ],
   "source": [
    "display(orders)"
   ]
  },
  {
   "cell_type": "code",
   "execution_count": 6,
   "metadata": {},
   "outputs": [
    {
     "name": "stdout",
     "output_type": "stream",
     "text": [
      "<class 'pandas.core.frame.DataFrame'>\n",
      "RangeIndex: 1197 entries, 0 to 1196\n",
      "Data columns (total 5 columns):\n",
      " #   Column         Non-Null Count  Dtype \n",
      "---  ------         --------------  ----- \n",
      " 0   transactionId  1197 non-null   int64 \n",
      " 1   visitorId      1197 non-null   int64 \n",
      " 2   date           1197 non-null   object\n",
      " 3   revenue        1197 non-null   int64 \n",
      " 4   group          1197 non-null   object\n",
      "dtypes: int64(3), object(2)\n",
      "memory usage: 46.9+ KB\n"
     ]
    }
   ],
   "source": [
    "orders.info()"
   ]
  },
  {
   "cell_type": "code",
   "execution_count": 7,
   "metadata": {
    "scrolled": true
   },
   "outputs": [
    {
     "data": {
      "text/plain": [
       "transactionId    0\n",
       "visitorId        0\n",
       "date             0\n",
       "revenue          0\n",
       "group            0\n",
       "dtype: int64"
      ]
     },
     "execution_count": 7,
     "metadata": {},
     "output_type": "execute_result"
    }
   ],
   "source": [
    "#orders.duplicated().sum()\n",
    "orders.isna().sum()\n"
   ]
  },
  {
   "cell_type": "markdown",
   "metadata": {},
   "source": [
    "Дубликатов и пропусков нет, название отображены корректно. Изменим лишь тип данных в столбце date."
   ]
  },
  {
   "cell_type": "code",
   "execution_count": 8,
   "metadata": {},
   "outputs": [],
   "source": [
    "orders['date'] = orders['date'].map(lambda x: dt.datetime.strptime(x, '%Y-%m-%d'))"
   ]
  },
  {
   "cell_type": "code",
   "execution_count": 9,
   "metadata": {},
   "outputs": [
    {
     "data": {
      "text/html": [
       "<div>\n",
       "<style scoped>\n",
       "    .dataframe tbody tr th:only-of-type {\n",
       "        vertical-align: middle;\n",
       "    }\n",
       "\n",
       "    .dataframe tbody tr th {\n",
       "        vertical-align: top;\n",
       "    }\n",
       "\n",
       "    .dataframe thead th {\n",
       "        text-align: right;\n",
       "    }\n",
       "</style>\n",
       "<table border=\"1\" class=\"dataframe\">\n",
       "  <thead>\n",
       "    <tr style=\"text-align: right;\">\n",
       "      <th></th>\n",
       "      <th>date</th>\n",
       "      <th>group</th>\n",
       "      <th>visitors</th>\n",
       "    </tr>\n",
       "  </thead>\n",
       "  <tbody>\n",
       "    <tr>\n",
       "      <th>0</th>\n",
       "      <td>2019-08-01</td>\n",
       "      <td>A</td>\n",
       "      <td>719</td>\n",
       "    </tr>\n",
       "    <tr>\n",
       "      <th>1</th>\n",
       "      <td>2019-08-02</td>\n",
       "      <td>A</td>\n",
       "      <td>619</td>\n",
       "    </tr>\n",
       "    <tr>\n",
       "      <th>2</th>\n",
       "      <td>2019-08-03</td>\n",
       "      <td>A</td>\n",
       "      <td>507</td>\n",
       "    </tr>\n",
       "    <tr>\n",
       "      <th>3</th>\n",
       "      <td>2019-08-04</td>\n",
       "      <td>A</td>\n",
       "      <td>717</td>\n",
       "    </tr>\n",
       "    <tr>\n",
       "      <th>4</th>\n",
       "      <td>2019-08-05</td>\n",
       "      <td>A</td>\n",
       "      <td>756</td>\n",
       "    </tr>\n",
       "    <tr>\n",
       "      <th>...</th>\n",
       "      <td>...</td>\n",
       "      <td>...</td>\n",
       "      <td>...</td>\n",
       "    </tr>\n",
       "    <tr>\n",
       "      <th>57</th>\n",
       "      <td>2019-08-27</td>\n",
       "      <td>B</td>\n",
       "      <td>720</td>\n",
       "    </tr>\n",
       "    <tr>\n",
       "      <th>58</th>\n",
       "      <td>2019-08-28</td>\n",
       "      <td>B</td>\n",
       "      <td>654</td>\n",
       "    </tr>\n",
       "    <tr>\n",
       "      <th>59</th>\n",
       "      <td>2019-08-29</td>\n",
       "      <td>B</td>\n",
       "      <td>531</td>\n",
       "    </tr>\n",
       "    <tr>\n",
       "      <th>60</th>\n",
       "      <td>2019-08-30</td>\n",
       "      <td>B</td>\n",
       "      <td>490</td>\n",
       "    </tr>\n",
       "    <tr>\n",
       "      <th>61</th>\n",
       "      <td>2019-08-31</td>\n",
       "      <td>B</td>\n",
       "      <td>718</td>\n",
       "    </tr>\n",
       "  </tbody>\n",
       "</table>\n",
       "<p>62 rows × 3 columns</p>\n",
       "</div>"
      ],
      "text/plain": [
       "          date group  visitors\n",
       "0   2019-08-01     A       719\n",
       "1   2019-08-02     A       619\n",
       "2   2019-08-03     A       507\n",
       "3   2019-08-04     A       717\n",
       "4   2019-08-05     A       756\n",
       "..         ...   ...       ...\n",
       "57  2019-08-27     B       720\n",
       "58  2019-08-28     B       654\n",
       "59  2019-08-29     B       531\n",
       "60  2019-08-30     B       490\n",
       "61  2019-08-31     B       718\n",
       "\n",
       "[62 rows x 3 columns]"
      ]
     },
     "metadata": {},
     "output_type": "display_data"
    }
   ],
   "source": [
    "display(visitors)"
   ]
  },
  {
   "cell_type": "code",
   "execution_count": 10,
   "metadata": {},
   "outputs": [
    {
     "name": "stdout",
     "output_type": "stream",
     "text": [
      "<class 'pandas.core.frame.DataFrame'>\n",
      "RangeIndex: 62 entries, 0 to 61\n",
      "Data columns (total 3 columns):\n",
      " #   Column    Non-Null Count  Dtype \n",
      "---  ------    --------------  ----- \n",
      " 0   date      62 non-null     object\n",
      " 1   group     62 non-null     object\n",
      " 2   visitors  62 non-null     int64 \n",
      "dtypes: int64(1), object(2)\n",
      "memory usage: 1.6+ KB\n"
     ]
    }
   ],
   "source": [
    "visitors.info()"
   ]
  },
  {
   "cell_type": "code",
   "execution_count": 11,
   "metadata": {},
   "outputs": [
    {
     "data": {
      "text/plain": [
       "date        0\n",
       "group       0\n",
       "visitors    0\n",
       "dtype: int64"
      ]
     },
     "execution_count": 11,
     "metadata": {},
     "output_type": "execute_result"
    }
   ],
   "source": [
    "#visitors.duplicated().sum()\n",
    "visitors.isna().sum()"
   ]
  },
  {
   "cell_type": "markdown",
   "metadata": {},
   "source": [
    "Тут поступим также, изменим тип данных у таблицы date, и все датасеты будут готовы к анализу."
   ]
  },
  {
   "cell_type": "code",
   "execution_count": 12,
   "metadata": {},
   "outputs": [],
   "source": [
    "visitors['date'] = visitors['date'].map(lambda x: dt.datetime.strptime(x, '%Y-%m-%d'))"
   ]
  },
  {
   "cell_type": "markdown",
   "metadata": {},
   "source": [
    "### Фреймворк ICE и RICE для приоритизации гипотез. "
   ]
  },
  {
   "cell_type": "code",
   "execution_count": 13,
   "metadata": {},
   "outputs": [],
   "source": [
    "hypothesis['ICE'] = ((hypothesis['Impact'] * hypothesis['Confidence']) / hypothesis['Efforts']).round(1)\n",
    "hypothesis['RICE'] = (hypothesis['Reach']  * hypothesis['Impact'] * hypothesis['Confidence']) / hypothesis['Efforts']"
   ]
  },
  {
   "cell_type": "code",
   "execution_count": 14,
   "metadata": {},
   "outputs": [
    {
     "data": {
      "text/html": [
       "<div>\n",
       "<style scoped>\n",
       "    .dataframe tbody tr th:only-of-type {\n",
       "        vertical-align: middle;\n",
       "    }\n",
       "\n",
       "    .dataframe tbody tr th {\n",
       "        vertical-align: top;\n",
       "    }\n",
       "\n",
       "    .dataframe thead th {\n",
       "        text-align: right;\n",
       "    }\n",
       "</style>\n",
       "<table border=\"1\" class=\"dataframe\">\n",
       "  <thead>\n",
       "    <tr style=\"text-align: right;\">\n",
       "      <th></th>\n",
       "      <th>Hypothesis</th>\n",
       "      <th>Reach</th>\n",
       "      <th>Impact</th>\n",
       "      <th>Confidence</th>\n",
       "      <th>Efforts</th>\n",
       "      <th>ICE</th>\n",
       "      <th>RICE</th>\n",
       "    </tr>\n",
       "  </thead>\n",
       "  <tbody>\n",
       "    <tr>\n",
       "      <th>0</th>\n",
       "      <td>Добавить два новых канала привлечения трафика, что позволит привлекать на 30% больше пользователей</td>\n",
       "      <td>3</td>\n",
       "      <td>10</td>\n",
       "      <td>8</td>\n",
       "      <td>6</td>\n",
       "      <td>13.3</td>\n",
       "      <td>40.0</td>\n",
       "    </tr>\n",
       "    <tr>\n",
       "      <th>1</th>\n",
       "      <td>Запустить собственную службу доставки, что сократит срок доставки заказов</td>\n",
       "      <td>2</td>\n",
       "      <td>5</td>\n",
       "      <td>4</td>\n",
       "      <td>10</td>\n",
       "      <td>2.0</td>\n",
       "      <td>4.0</td>\n",
       "    </tr>\n",
       "    <tr>\n",
       "      <th>2</th>\n",
       "      <td>Добавить блоки рекомендаций товаров на сайт интернет магазина, чтобы повысить конверсию и средний чек заказа</td>\n",
       "      <td>8</td>\n",
       "      <td>3</td>\n",
       "      <td>7</td>\n",
       "      <td>3</td>\n",
       "      <td>7.0</td>\n",
       "      <td>56.0</td>\n",
       "    </tr>\n",
       "    <tr>\n",
       "      <th>3</th>\n",
       "      <td>Изменить структура категорий, что увеличит конверсию, т.к. пользователи быстрее найдут нужный товар</td>\n",
       "      <td>8</td>\n",
       "      <td>3</td>\n",
       "      <td>3</td>\n",
       "      <td>8</td>\n",
       "      <td>1.1</td>\n",
       "      <td>9.0</td>\n",
       "    </tr>\n",
       "    <tr>\n",
       "      <th>4</th>\n",
       "      <td>Изменить цвет фона главной страницы, чтобы увеличить вовлеченность пользователей</td>\n",
       "      <td>3</td>\n",
       "      <td>1</td>\n",
       "      <td>1</td>\n",
       "      <td>1</td>\n",
       "      <td>1.0</td>\n",
       "      <td>3.0</td>\n",
       "    </tr>\n",
       "    <tr>\n",
       "      <th>5</th>\n",
       "      <td>Добавить страницу отзывов клиентов о магазине, что позволит увеличить количество заказов</td>\n",
       "      <td>3</td>\n",
       "      <td>2</td>\n",
       "      <td>2</td>\n",
       "      <td>3</td>\n",
       "      <td>1.3</td>\n",
       "      <td>4.0</td>\n",
       "    </tr>\n",
       "    <tr>\n",
       "      <th>6</th>\n",
       "      <td>Показать на главной странице баннеры с актуальными акциями и распродажами, чтобы увеличить конверсию</td>\n",
       "      <td>5</td>\n",
       "      <td>3</td>\n",
       "      <td>8</td>\n",
       "      <td>3</td>\n",
       "      <td>8.0</td>\n",
       "      <td>40.0</td>\n",
       "    </tr>\n",
       "    <tr>\n",
       "      <th>7</th>\n",
       "      <td>Добавить форму подписки на все основные страницы, чтобы собрать базу клиентов для email-рассылок</td>\n",
       "      <td>10</td>\n",
       "      <td>7</td>\n",
       "      <td>8</td>\n",
       "      <td>5</td>\n",
       "      <td>11.2</td>\n",
       "      <td>112.0</td>\n",
       "    </tr>\n",
       "    <tr>\n",
       "      <th>8</th>\n",
       "      <td>Запустить акцию, дающую скидку на товар в день рождения</td>\n",
       "      <td>1</td>\n",
       "      <td>9</td>\n",
       "      <td>9</td>\n",
       "      <td>5</td>\n",
       "      <td>16.2</td>\n",
       "      <td>16.2</td>\n",
       "    </tr>\n",
       "  </tbody>\n",
       "</table>\n",
       "</div>"
      ],
      "text/plain": [
       "                                                                                                     Hypothesis  \\\n",
       "0            Добавить два новых канала привлечения трафика, что позволит привлекать на 30% больше пользователей   \n",
       "1                                     Запустить собственную службу доставки, что сократит срок доставки заказов   \n",
       "2  Добавить блоки рекомендаций товаров на сайт интернет магазина, чтобы повысить конверсию и средний чек заказа   \n",
       "3           Изменить структура категорий, что увеличит конверсию, т.к. пользователи быстрее найдут нужный товар   \n",
       "4                              Изменить цвет фона главной страницы, чтобы увеличить вовлеченность пользователей   \n",
       "5                      Добавить страницу отзывов клиентов о магазине, что позволит увеличить количество заказов   \n",
       "6          Показать на главной странице баннеры с актуальными акциями и распродажами, чтобы увеличить конверсию   \n",
       "7              Добавить форму подписки на все основные страницы, чтобы собрать базу клиентов для email-рассылок   \n",
       "8                                                       Запустить акцию, дающую скидку на товар в день рождения   \n",
       "\n",
       "   Reach  Impact  Confidence  Efforts   ICE   RICE  \n",
       "0      3      10           8        6  13.3   40.0  \n",
       "1      2       5           4       10   2.0    4.0  \n",
       "2      8       3           7        3   7.0   56.0  \n",
       "3      8       3           3        8   1.1    9.0  \n",
       "4      3       1           1        1   1.0    3.0  \n",
       "5      3       2           2        3   1.3    4.0  \n",
       "6      5       3           8        3   8.0   40.0  \n",
       "7     10       7           8        5  11.2  112.0  \n",
       "8      1       9           9        5  16.2   16.2  "
      ]
     },
     "metadata": {},
     "output_type": "display_data"
    }
   ],
   "source": [
    "display(hypothesis)"
   ]
  },
  {
   "cell_type": "markdown",
   "metadata": {},
   "source": [
    "Фреймворки посчитаны и добавлены в таблицу, поочередно применим сортировку, и  проанализируем изменения в порядке позиций."
   ]
  },
  {
   "cell_type": "code",
   "execution_count": 15,
   "metadata": {},
   "outputs": [
    {
     "data": {
      "text/html": [
       "<div>\n",
       "<style scoped>\n",
       "    .dataframe tbody tr th:only-of-type {\n",
       "        vertical-align: middle;\n",
       "    }\n",
       "\n",
       "    .dataframe tbody tr th {\n",
       "        vertical-align: top;\n",
       "    }\n",
       "\n",
       "    .dataframe thead th {\n",
       "        text-align: right;\n",
       "    }\n",
       "</style>\n",
       "<table border=\"1\" class=\"dataframe\">\n",
       "  <thead>\n",
       "    <tr style=\"text-align: right;\">\n",
       "      <th></th>\n",
       "      <th>Hypothesis</th>\n",
       "      <th>Reach</th>\n",
       "      <th>Impact</th>\n",
       "      <th>Confidence</th>\n",
       "      <th>Efforts</th>\n",
       "      <th>ICE</th>\n",
       "      <th>RICE</th>\n",
       "    </tr>\n",
       "  </thead>\n",
       "  <tbody>\n",
       "    <tr>\n",
       "      <th>8</th>\n",
       "      <td>Запустить акцию, дающую скидку на товар в день рождения</td>\n",
       "      <td>1</td>\n",
       "      <td>9</td>\n",
       "      <td>9</td>\n",
       "      <td>5</td>\n",
       "      <td>16.2</td>\n",
       "      <td>16.2</td>\n",
       "    </tr>\n",
       "    <tr>\n",
       "      <th>0</th>\n",
       "      <td>Добавить два новых канала привлечения трафика, что позволит привлекать на 30% больше пользователей</td>\n",
       "      <td>3</td>\n",
       "      <td>10</td>\n",
       "      <td>8</td>\n",
       "      <td>6</td>\n",
       "      <td>13.3</td>\n",
       "      <td>40.0</td>\n",
       "    </tr>\n",
       "    <tr>\n",
       "      <th>7</th>\n",
       "      <td>Добавить форму подписки на все основные страницы, чтобы собрать базу клиентов для email-рассылок</td>\n",
       "      <td>10</td>\n",
       "      <td>7</td>\n",
       "      <td>8</td>\n",
       "      <td>5</td>\n",
       "      <td>11.2</td>\n",
       "      <td>112.0</td>\n",
       "    </tr>\n",
       "    <tr>\n",
       "      <th>6</th>\n",
       "      <td>Показать на главной странице баннеры с актуальными акциями и распродажами, чтобы увеличить конверсию</td>\n",
       "      <td>5</td>\n",
       "      <td>3</td>\n",
       "      <td>8</td>\n",
       "      <td>3</td>\n",
       "      <td>8.0</td>\n",
       "      <td>40.0</td>\n",
       "    </tr>\n",
       "    <tr>\n",
       "      <th>2</th>\n",
       "      <td>Добавить блоки рекомендаций товаров на сайт интернет магазина, чтобы повысить конверсию и средний чек заказа</td>\n",
       "      <td>8</td>\n",
       "      <td>3</td>\n",
       "      <td>7</td>\n",
       "      <td>3</td>\n",
       "      <td>7.0</td>\n",
       "      <td>56.0</td>\n",
       "    </tr>\n",
       "    <tr>\n",
       "      <th>1</th>\n",
       "      <td>Запустить собственную службу доставки, что сократит срок доставки заказов</td>\n",
       "      <td>2</td>\n",
       "      <td>5</td>\n",
       "      <td>4</td>\n",
       "      <td>10</td>\n",
       "      <td>2.0</td>\n",
       "      <td>4.0</td>\n",
       "    </tr>\n",
       "    <tr>\n",
       "      <th>5</th>\n",
       "      <td>Добавить страницу отзывов клиентов о магазине, что позволит увеличить количество заказов</td>\n",
       "      <td>3</td>\n",
       "      <td>2</td>\n",
       "      <td>2</td>\n",
       "      <td>3</td>\n",
       "      <td>1.3</td>\n",
       "      <td>4.0</td>\n",
       "    </tr>\n",
       "    <tr>\n",
       "      <th>3</th>\n",
       "      <td>Изменить структура категорий, что увеличит конверсию, т.к. пользователи быстрее найдут нужный товар</td>\n",
       "      <td>8</td>\n",
       "      <td>3</td>\n",
       "      <td>3</td>\n",
       "      <td>8</td>\n",
       "      <td>1.1</td>\n",
       "      <td>9.0</td>\n",
       "    </tr>\n",
       "    <tr>\n",
       "      <th>4</th>\n",
       "      <td>Изменить цвет фона главной страницы, чтобы увеличить вовлеченность пользователей</td>\n",
       "      <td>3</td>\n",
       "      <td>1</td>\n",
       "      <td>1</td>\n",
       "      <td>1</td>\n",
       "      <td>1.0</td>\n",
       "      <td>3.0</td>\n",
       "    </tr>\n",
       "  </tbody>\n",
       "</table>\n",
       "</div>"
      ],
      "text/plain": [
       "                                                                                                     Hypothesis  \\\n",
       "8                                                       Запустить акцию, дающую скидку на товар в день рождения   \n",
       "0            Добавить два новых канала привлечения трафика, что позволит привлекать на 30% больше пользователей   \n",
       "7              Добавить форму подписки на все основные страницы, чтобы собрать базу клиентов для email-рассылок   \n",
       "6          Показать на главной странице баннеры с актуальными акциями и распродажами, чтобы увеличить конверсию   \n",
       "2  Добавить блоки рекомендаций товаров на сайт интернет магазина, чтобы повысить конверсию и средний чек заказа   \n",
       "1                                     Запустить собственную службу доставки, что сократит срок доставки заказов   \n",
       "5                      Добавить страницу отзывов клиентов о магазине, что позволит увеличить количество заказов   \n",
       "3           Изменить структура категорий, что увеличит конверсию, т.к. пользователи быстрее найдут нужный товар   \n",
       "4                              Изменить цвет фона главной страницы, чтобы увеличить вовлеченность пользователей   \n",
       "\n",
       "   Reach  Impact  Confidence  Efforts   ICE   RICE  \n",
       "8      1       9           9        5  16.2   16.2  \n",
       "0      3      10           8        6  13.3   40.0  \n",
       "7     10       7           8        5  11.2  112.0  \n",
       "6      5       3           8        3   8.0   40.0  \n",
       "2      8       3           7        3   7.0   56.0  \n",
       "1      2       5           4       10   2.0    4.0  \n",
       "5      3       2           2        3   1.3    4.0  \n",
       "3      8       3           3        8   1.1    9.0  \n",
       "4      3       1           1        1   1.0    3.0  "
      ]
     },
     "execution_count": 15,
     "metadata": {},
     "output_type": "execute_result"
    }
   ],
   "source": [
    "hypothesis.sort_values(by='ICE', ascending =False)"
   ]
  },
  {
   "cell_type": "code",
   "execution_count": 16,
   "metadata": {},
   "outputs": [
    {
     "data": {
      "text/html": [
       "<div>\n",
       "<style scoped>\n",
       "    .dataframe tbody tr th:only-of-type {\n",
       "        vertical-align: middle;\n",
       "    }\n",
       "\n",
       "    .dataframe tbody tr th {\n",
       "        vertical-align: top;\n",
       "    }\n",
       "\n",
       "    .dataframe thead th {\n",
       "        text-align: right;\n",
       "    }\n",
       "</style>\n",
       "<table border=\"1\" class=\"dataframe\">\n",
       "  <thead>\n",
       "    <tr style=\"text-align: right;\">\n",
       "      <th></th>\n",
       "      <th>Hypothesis</th>\n",
       "      <th>Reach</th>\n",
       "      <th>Impact</th>\n",
       "      <th>Confidence</th>\n",
       "      <th>Efforts</th>\n",
       "      <th>ICE</th>\n",
       "      <th>RICE</th>\n",
       "    </tr>\n",
       "  </thead>\n",
       "  <tbody>\n",
       "    <tr>\n",
       "      <th>7</th>\n",
       "      <td>Добавить форму подписки на все основные страницы, чтобы собрать базу клиентов для email-рассылок</td>\n",
       "      <td>10</td>\n",
       "      <td>7</td>\n",
       "      <td>8</td>\n",
       "      <td>5</td>\n",
       "      <td>11.2</td>\n",
       "      <td>112.0</td>\n",
       "    </tr>\n",
       "    <tr>\n",
       "      <th>2</th>\n",
       "      <td>Добавить блоки рекомендаций товаров на сайт интернет магазина, чтобы повысить конверсию и средний чек заказа</td>\n",
       "      <td>8</td>\n",
       "      <td>3</td>\n",
       "      <td>7</td>\n",
       "      <td>3</td>\n",
       "      <td>7.0</td>\n",
       "      <td>56.0</td>\n",
       "    </tr>\n",
       "    <tr>\n",
       "      <th>0</th>\n",
       "      <td>Добавить два новых канала привлечения трафика, что позволит привлекать на 30% больше пользователей</td>\n",
       "      <td>3</td>\n",
       "      <td>10</td>\n",
       "      <td>8</td>\n",
       "      <td>6</td>\n",
       "      <td>13.3</td>\n",
       "      <td>40.0</td>\n",
       "    </tr>\n",
       "    <tr>\n",
       "      <th>6</th>\n",
       "      <td>Показать на главной странице баннеры с актуальными акциями и распродажами, чтобы увеличить конверсию</td>\n",
       "      <td>5</td>\n",
       "      <td>3</td>\n",
       "      <td>8</td>\n",
       "      <td>3</td>\n",
       "      <td>8.0</td>\n",
       "      <td>40.0</td>\n",
       "    </tr>\n",
       "    <tr>\n",
       "      <th>8</th>\n",
       "      <td>Запустить акцию, дающую скидку на товар в день рождения</td>\n",
       "      <td>1</td>\n",
       "      <td>9</td>\n",
       "      <td>9</td>\n",
       "      <td>5</td>\n",
       "      <td>16.2</td>\n",
       "      <td>16.2</td>\n",
       "    </tr>\n",
       "    <tr>\n",
       "      <th>3</th>\n",
       "      <td>Изменить структура категорий, что увеличит конверсию, т.к. пользователи быстрее найдут нужный товар</td>\n",
       "      <td>8</td>\n",
       "      <td>3</td>\n",
       "      <td>3</td>\n",
       "      <td>8</td>\n",
       "      <td>1.1</td>\n",
       "      <td>9.0</td>\n",
       "    </tr>\n",
       "    <tr>\n",
       "      <th>1</th>\n",
       "      <td>Запустить собственную службу доставки, что сократит срок доставки заказов</td>\n",
       "      <td>2</td>\n",
       "      <td>5</td>\n",
       "      <td>4</td>\n",
       "      <td>10</td>\n",
       "      <td>2.0</td>\n",
       "      <td>4.0</td>\n",
       "    </tr>\n",
       "    <tr>\n",
       "      <th>5</th>\n",
       "      <td>Добавить страницу отзывов клиентов о магазине, что позволит увеличить количество заказов</td>\n",
       "      <td>3</td>\n",
       "      <td>2</td>\n",
       "      <td>2</td>\n",
       "      <td>3</td>\n",
       "      <td>1.3</td>\n",
       "      <td>4.0</td>\n",
       "    </tr>\n",
       "    <tr>\n",
       "      <th>4</th>\n",
       "      <td>Изменить цвет фона главной страницы, чтобы увеличить вовлеченность пользователей</td>\n",
       "      <td>3</td>\n",
       "      <td>1</td>\n",
       "      <td>1</td>\n",
       "      <td>1</td>\n",
       "      <td>1.0</td>\n",
       "      <td>3.0</td>\n",
       "    </tr>\n",
       "  </tbody>\n",
       "</table>\n",
       "</div>"
      ],
      "text/plain": [
       "                                                                                                     Hypothesis  \\\n",
       "7              Добавить форму подписки на все основные страницы, чтобы собрать базу клиентов для email-рассылок   \n",
       "2  Добавить блоки рекомендаций товаров на сайт интернет магазина, чтобы повысить конверсию и средний чек заказа   \n",
       "0            Добавить два новых канала привлечения трафика, что позволит привлекать на 30% больше пользователей   \n",
       "6          Показать на главной странице баннеры с актуальными акциями и распродажами, чтобы увеличить конверсию   \n",
       "8                                                       Запустить акцию, дающую скидку на товар в день рождения   \n",
       "3           Изменить структура категорий, что увеличит конверсию, т.к. пользователи быстрее найдут нужный товар   \n",
       "1                                     Запустить собственную службу доставки, что сократит срок доставки заказов   \n",
       "5                      Добавить страницу отзывов клиентов о магазине, что позволит увеличить количество заказов   \n",
       "4                              Изменить цвет фона главной страницы, чтобы увеличить вовлеченность пользователей   \n",
       "\n",
       "   Reach  Impact  Confidence  Efforts   ICE   RICE  \n",
       "7     10       7           8        5  11.2  112.0  \n",
       "2      8       3           7        3   7.0   56.0  \n",
       "0      3      10           8        6  13.3   40.0  \n",
       "6      5       3           8        3   8.0   40.0  \n",
       "8      1       9           9        5  16.2   16.2  \n",
       "3      8       3           3        8   1.1    9.0  \n",
       "1      2       5           4       10   2.0    4.0  \n",
       "5      3       2           2        3   1.3    4.0  \n",
       "4      3       1           1        1   1.0    3.0  "
      ]
     },
     "execution_count": 16,
     "metadata": {},
     "output_type": "execute_result"
    }
   ],
   "source": [
    "hypothesis.sort_values(by='RICE', ascending =False)"
   ]
  },
  {
   "cell_type": "markdown",
   "metadata": {},
   "source": [
    "### Вывод"
   ]
  },
  {
   "cell_type": "markdown",
   "metadata": {},
   "source": [
    "Приоретизация заметно меняется от выбираемого параметра сортировки. Если взглянуть на формулы фреймворков, то станет ясно, что в RICE мы учитываем охват \"Reach\" он и влияет на лидерство в списке гипотез. Так по ICE лидирующими являются:\n",
    "* Запустить акцию, дающую скидку на товар в день..\n",
    "* Добавить два новых канала привлечения трафика..\n",
    "* Добавить форму подписки на все основные страни..\n",
    "\n",
    "по RICE:\n",
    "\n",
    "* Добавить форму подписки на все основные страни...\n",
    "* Добавить блоки рекомендаций товаров на сайт ин..\n",
    "* Добавить два новых канала привлечения трафика..\t"
   ]
  },
  {
   "cell_type": "markdown",
   "metadata": {},
   "source": [
    "## Анализ A/B-теста. "
   ]
  },
  {
   "cell_type": "code",
   "execution_count": 17,
   "metadata": {},
   "outputs": [
    {
     "name": "stdout",
     "output_type": "stream",
     "text": [
      "Группы учавствующие в тесте: ['A' 'B']\n"
     ]
    }
   ],
   "source": [
    "print('Группы учавствующие в тесте: {}'.format(visitors['group'].unique()))\n"
   ]
  },
  {
   "cell_type": "code",
   "execution_count": 18,
   "metadata": {},
   "outputs": [
    {
     "name": "stdout",
     "output_type": "stream",
     "text": [
      "Дата начала теста: 2019-08-01 00:00:00\n",
      "Дата окончания: 2019-08-31 00:00:00\n"
     ]
    }
   ],
   "source": [
    "print('Дата начала теста: {}\\n'\n",
    "      'Дата окончания: {}'.format(visitors['date'].min(), \n",
    "                                                 visitors['date'].max()))"
   ]
  },
  {
   "cell_type": "code",
   "execution_count": 19,
   "metadata": {},
   "outputs": [
    {
     "name": "stdout",
     "output_type": "stream",
     "text": [
      "Количество пользователей в группе А: 503\n",
      "Количество пользователей в группе В: 586\n"
     ]
    }
   ],
   "source": [
    "orders_A= orders[orders['group']=='A']\n",
    "orders_B= orders[orders['group']=='B']\n",
    "print('Количество пользователей в группе А: {}\\n'\n",
    "      'Количество пользователей в группе В: {}'.format(orders_A['visitorId'].nunique(), \n",
    "                                                 orders_B['visitorId'].nunique()))"
   ]
  },
  {
   "cell_type": "code",
   "execution_count": 20,
   "metadata": {},
   "outputs": [
    {
     "name": "stdout",
     "output_type": "stream",
     "text": [
      "Количество пользователей присутствующих в обеих группах: 58\n"
     ]
    }
   ],
   "source": [
    "orders_A= orders[orders['group'] == 'A']['visitorId']\n",
    "orders_B= orders[orders['group'] == 'B']['visitorId']\n",
    "orders_AB = orders.query('visitorId in @orders_A and visitorId in @orders_B')\n",
    "print('Количество пользователей присутствующих в обеих группах: {}'.format(orders_AB['visitorId'].nunique()))"
   ]
  },
  {
   "cell_type": "markdown",
   "metadata": {},
   "source": [
    "Предлагаю удалить данных пользователей из нашего датасета, чтобы тест показал корректный результат."
   ]
  },
  {
   "cell_type": "code",
   "execution_count": 21,
   "metadata": {},
   "outputs": [],
   "source": [
    "orders = orders.query('visitorId not in @orders_AB[\"visitorId\"]')"
   ]
  },
  {
   "cell_type": "markdown",
   "metadata": {},
   "source": [
    "Задача\n",
    "\n",
    "Проанализировать A/B-тест:\n",
    "* Построим график кумулятивной выручки по группам. Сделаем выводы и предположения.\n",
    "* Построим график кумулятивного среднего чека по группам. Сделаем выводы и предположения.\n",
    "* Построим график относительного изменения кумулятивного среднего чека группы B к группе A. Сделаем выводы и предположения.\n",
    "* Построим график кумулятивного среднего количества заказов на посетителя по группам. Сделем выводы и предположения.\n",
    "* Построим график относительного изменения кумулятивного среднего количества заказов на посетителя группы B к группе A. Сделаем выводы и предположения.\n",
    "*  точечный график количества заказов по пользователям. Сделаем выводы и предположения.\n",
    "* Посчитаем 95-й и 99-й перцентили количества заказов на пользователя. Выберем границу для определения аномальных пользователей.\n",
    "* Построим точечный график стоимостей заказов. Сделаем выводы и предположения.\n",
    "* Посчитаем 95-й и 99-й перцентили стоимости заказов. Выберем границу для определения аномальных заказов.\n",
    "* Посчитаем статистическую значимость различий в среднем количестве заказов на посетителя между группами по «сырым» данным. Сделаем выводы и предположения.\n",
    "* Посчитаем статистическую значимость различий в среднем чеке заказа между группами по «сырым» данным. Сделаем выводы и предположения.\n",
    "* Посчитаем статистическую значимость различий в среднем количестве заказов на посетителя между группами по «очищенным» данным. Сделаем выводы и предположения.\n",
    "* Посчитаем статистическую значимость различий в среднем чеке заказа между группами по «очищенным» данным. Сделаем выводы и предположения.\n"
   ]
  },
  {
   "cell_type": "markdown",
   "metadata": {},
   "source": [
    "Прежде чем строить графики создадим таблицу с накоплением, выведя все необходимые куммулятивные данные из таблиц visitors и orders."
   ]
  },
  {
   "cell_type": "code",
   "execution_count": 22,
   "metadata": {},
   "outputs": [
    {
     "data": {
      "text/html": [
       "<div>\n",
       "<style scoped>\n",
       "    .dataframe tbody tr th:only-of-type {\n",
       "        vertical-align: middle;\n",
       "    }\n",
       "\n",
       "    .dataframe tbody tr th {\n",
       "        vertical-align: top;\n",
       "    }\n",
       "\n",
       "    .dataframe thead th {\n",
       "        text-align: right;\n",
       "    }\n",
       "</style>\n",
       "<table border=\"1\" class=\"dataframe\">\n",
       "  <thead>\n",
       "    <tr style=\"text-align: right;\">\n",
       "      <th></th>\n",
       "      <th>date</th>\n",
       "      <th>group</th>\n",
       "      <th>orders</th>\n",
       "      <th>buyers</th>\n",
       "      <th>revenue</th>\n",
       "      <th>visitors</th>\n",
       "    </tr>\n",
       "  </thead>\n",
       "  <tbody>\n",
       "    <tr>\n",
       "      <th>0</th>\n",
       "      <td>2019-08-01</td>\n",
       "      <td>A</td>\n",
       "      <td>23</td>\n",
       "      <td>19</td>\n",
       "      <td>142779</td>\n",
       "      <td>719</td>\n",
       "    </tr>\n",
       "    <tr>\n",
       "      <th>1</th>\n",
       "      <td>2019-08-01</td>\n",
       "      <td>B</td>\n",
       "      <td>17</td>\n",
       "      <td>17</td>\n",
       "      <td>59758</td>\n",
       "      <td>713</td>\n",
       "    </tr>\n",
       "    <tr>\n",
       "      <th>2</th>\n",
       "      <td>2019-08-02</td>\n",
       "      <td>A</td>\n",
       "      <td>42</td>\n",
       "      <td>36</td>\n",
       "      <td>234381</td>\n",
       "      <td>1338</td>\n",
       "    </tr>\n",
       "    <tr>\n",
       "      <th>3</th>\n",
       "      <td>2019-08-02</td>\n",
       "      <td>B</td>\n",
       "      <td>40</td>\n",
       "      <td>39</td>\n",
       "      <td>221801</td>\n",
       "      <td>1294</td>\n",
       "    </tr>\n",
       "    <tr>\n",
       "      <th>4</th>\n",
       "      <td>2019-08-03</td>\n",
       "      <td>A</td>\n",
       "      <td>66</td>\n",
       "      <td>60</td>\n",
       "      <td>346854</td>\n",
       "      <td>1845</td>\n",
       "    </tr>\n",
       "    <tr>\n",
       "      <th>...</th>\n",
       "      <td>...</td>\n",
       "      <td>...</td>\n",
       "      <td>...</td>\n",
       "      <td>...</td>\n",
       "      <td>...</td>\n",
       "      <td>...</td>\n",
       "    </tr>\n",
       "    <tr>\n",
       "      <th>57</th>\n",
       "      <td>2019-08-29</td>\n",
       "      <td>B</td>\n",
       "      <td>510</td>\n",
       "      <td>490</td>\n",
       "      <td>4746610</td>\n",
       "      <td>17708</td>\n",
       "    </tr>\n",
       "    <tr>\n",
       "      <th>58</th>\n",
       "      <td>2019-08-30</td>\n",
       "      <td>A</td>\n",
       "      <td>460</td>\n",
       "      <td>437</td>\n",
       "      <td>3311413</td>\n",
       "      <td>18037</td>\n",
       "    </tr>\n",
       "    <tr>\n",
       "      <th>59</th>\n",
       "      <td>2019-08-30</td>\n",
       "      <td>B</td>\n",
       "      <td>531</td>\n",
       "      <td>511</td>\n",
       "      <td>4955833</td>\n",
       "      <td>18198</td>\n",
       "    </tr>\n",
       "    <tr>\n",
       "      <th>60</th>\n",
       "      <td>2019-08-31</td>\n",
       "      <td>A</td>\n",
       "      <td>468</td>\n",
       "      <td>445</td>\n",
       "      <td>3364656</td>\n",
       "      <td>18736</td>\n",
       "    </tr>\n",
       "    <tr>\n",
       "      <th>61</th>\n",
       "      <td>2019-08-31</td>\n",
       "      <td>B</td>\n",
       "      <td>548</td>\n",
       "      <td>528</td>\n",
       "      <td>5068972</td>\n",
       "      <td>18916</td>\n",
       "    </tr>\n",
       "  </tbody>\n",
       "</table>\n",
       "<p>62 rows × 6 columns</p>\n",
       "</div>"
      ],
      "text/plain": [
       "         date group  orders  buyers  revenue  visitors\n",
       "0  2019-08-01     A      23      19   142779       719\n",
       "1  2019-08-01     B      17      17    59758       713\n",
       "2  2019-08-02     A      42      36   234381      1338\n",
       "3  2019-08-02     B      40      39   221801      1294\n",
       "4  2019-08-03     A      66      60   346854      1845\n",
       "..        ...   ...     ...     ...      ...       ...\n",
       "57 2019-08-29     B     510     490  4746610     17708\n",
       "58 2019-08-30     A     460     437  3311413     18037\n",
       "59 2019-08-30     B     531     511  4955833     18198\n",
       "60 2019-08-31     A     468     445  3364656     18736\n",
       "61 2019-08-31     B     548     528  5068972     18916\n",
       "\n",
       "[62 rows x 6 columns]"
      ]
     },
     "metadata": {},
     "output_type": "display_data"
    }
   ],
   "source": [
    "datesGroups = orders[['date','group']].drop_duplicates()\n",
    "\n",
    "ordersCummulative = datesGroups.apply(lambda x: orders[np.logical_and(orders['date'] <= x['date'], orders['group'] == x['group'])]. \\\n",
    "                                     agg({'date' : 'max', \n",
    "                                          'group' : 'max', \n",
    "                                          'transactionId' : pd.Series.nunique, \n",
    "                                          'visitorId' : pd.Series.nunique, \n",
    "                                          'revenue' : 'sum'}), axis=1).sort_values(by=['date','group'])\n",
    "\n",
    "visitorsCummulative = datesGroups.apply(lambda x: visitors[np.logical_and(visitors['date'] <= x['date'], visitors['group'] == x['group'])]. \\\n",
    "                                       agg({'date' : 'max', \n",
    "                                            'group' : 'max', \n",
    "                                            'visitors' : 'sum'}), axis=1).sort_values(by=['date','group'])\n",
    "\n",
    "cummulativeDF = ordersCummulative.merge(visitorsCummulative, left_on=['date', 'group'], right_on=['date', 'group'])\n",
    "cummulativeDF.columns = ['date', 'group', 'orders', 'buyers', 'revenue', 'visitors']\n",
    "\n",
    "display(cummulativeDF)"
   ]
  },
  {
   "cell_type": "markdown",
   "metadata": {},
   "source": [
    "Разобъем таблицу на группы А и В."
   ]
  },
  {
   "cell_type": "code",
   "execution_count": 23,
   "metadata": {},
   "outputs": [],
   "source": [
    "cummulativeA = cummulativeDF[cummulativeDF['group']=='A']\n",
    "cummulativeB = cummulativeDF[cummulativeDF['group']=='B']"
   ]
  },
  {
   "cell_type": "markdown",
   "metadata": {},
   "source": [
    "### График кумулятивной выручки по группам."
   ]
  },
  {
   "cell_type": "code",
   "execution_count": 24,
   "metadata": {},
   "outputs": [
    {
     "data": {
      "image/png": "[encoded data removed]",
      "text/plain": [
       "<Figure size 1080x360 with 1 Axes>"
      ]
     },
     "metadata": {
      "needs_background": "light"
     },
     "output_type": "display_data"
    }
   ],
   "source": [
    "plt.figure(figsize=(15,5))\n",
    "plt.plot(cummulativeA['date'], cummulativeA['revenue'], label='группа А')\n",
    "plt.plot(cummulativeB['date'], cummulativeB['revenue'], label='Группа B')\n",
    "plt.grid()\n",
    "plt.title('График кумулятивной выручки по группам')\n",
    "plt.ylabel('Выручка')\n",
    "plt.xlabel('Дата')\n",
    "plt.legend();"
   ]
  },
  {
   "cell_type": "markdown",
   "metadata": {},
   "source": [
    "На протяжении всего наблюдения выручка обеих групп росла.Виден всплеск после середины августа в группе В. Скорее всего это связано с аномальными значениями в датасете."
   ]
  },
  {
   "cell_type": "markdown",
   "metadata": {},
   "source": [
    "### График кумулятивного среднего чека по группам."
   ]
  },
  {
   "cell_type": "code",
   "execution_count": 25,
   "metadata": {},
   "outputs": [
    {
     "data": {
      "image/png": "[encoded data removed]",
      "text/plain": [
       "<Figure size 1080x360 with 1 Axes>"
      ]
     },
     "metadata": {
      "needs_background": "light"
     },
     "output_type": "display_data"
    }
   ],
   "source": [
    "plt.figure(figsize=(15,5))\n",
    "plt.plot(cummulativeA['date'], cummulativeA['revenue']/cummulativeA['orders'], label='группа А')\n",
    "plt.plot(cummulativeB['date'], cummulativeB['revenue']/cummulativeB['orders'], label='Группа B')\n",
    "plt.grid()\n",
    "plt.title('График кумулятивного среднего чека по группам')\n",
    "plt.ylabel('Cредний чек')\n",
    "plt.xlabel('Дата')\n",
    "plt.legend();\n"
   ]
  },
  {
   "cell_type": "markdown",
   "metadata": {},
   "source": [
    "Прослеживается аналогия с предыдущем графиком. Чеки росли на протяжении всего теста, но в группе В опять же произошел всплеск в середине августа. Это наталкивает на мысль,что увеличилась не частота заказов в данной группе, а появился один или несколько аномально крупных заказов"
   ]
  },
  {
   "cell_type": "markdown",
   "metadata": {},
   "source": [
    "### График относительного изменения кумулятивного среднего чека группы B к группе A"
   ]
  },
  {
   "cell_type": "markdown",
   "metadata": {},
   "source": [
    "По аналогии с подсчетом конверсии в спринте, создадим доп. таблицы и построим график."
   ]
  },
  {
   "cell_type": "code",
   "execution_count": 26,
   "metadata": {},
   "outputs": [],
   "source": [
    "cummulativeAB = cummulativeA.merge(cummulativeB, left_on='date', right_on='date', suffixes=['A', 'B'])"
   ]
  },
  {
   "cell_type": "code",
   "execution_count": 27,
   "metadata": {},
   "outputs": [
    {
     "data": {
      "image/png": "[encoded data removed]",
      "text/plain": [
       "<Figure size 1080x360 with 1 Axes>"
      ]
     },
     "metadata": {
      "needs_background": "light"
     },
     "output_type": "display_data"
    }
   ],
   "source": [
    "plt.figure(figsize=(15,5))\n",
    "plt.plot(cummulativeAB['date'], (cummulativeAB['revenueB']/cummulativeAB['ordersB'])/ \\\n",
    "         (cummulativeAB['revenueA']/cummulativeAB['ordersA'])-1)\n",
    "\n",
    "plt.axhline(y=0, color='grey', linestyle = '--')\n",
    "plt.grid()\n",
    "plt.title('График относительного изменения кумулятивного среднего чека группы B к группе A')\n",
    "plt.xlabel('Дата')\n",
    "plt.ylabel('Относительное изменение В к А');\n"
   ]
  },
  {
   "cell_type": "markdown",
   "metadata": {},
   "source": [
    "В начале теста группа В показывала себя лучше, затем группа А начала выбиваться в лидеры.\n",
    "К середине теста  А достигает своих лучших показателей, после чего произошел аномальный отскок в пользу В.\n",
    "К концу же теста график начинает стабилизироваться и постепенно снижается."
   ]
  },
  {
   "cell_type": "markdown",
   "metadata": {},
   "source": [
    "### График кумулятивного среднего количества заказов на посетителя по группам"
   ]
  },
  {
   "cell_type": "markdown",
   "metadata": {},
   "source": [
    "Добавим новые столбцы, чтобы в дальнейшем построить график отноститльного изменения."
   ]
  },
  {
   "cell_type": "code",
   "execution_count": 28,
   "metadata": {},
   "outputs": [
    {
     "data": {
      "image/png": "[encoded data removed]",
      "text/plain": [
       "<Figure size 1080x360 with 1 Axes>"
      ]
     },
     "metadata": {
      "needs_background": "light"
     },
     "output_type": "display_data"
    }
   ],
   "source": [
    "plt.figure(figsize=(15,5))\n",
    "plt.plot(cummulativeA['date'], cummulativeA['orders']/cummulativeA['visitors'], label='группа А')\n",
    "plt.plot(cummulativeB['date'], cummulativeB['orders']/cummulativeB['visitors'], label='Группа B')\n",
    "plt.grid()\n",
    "plt.title('График кумулятивного среднего количества заказов на посетителя по группам')\n",
    "plt.ylabel('Cреднее количество заказов на посетителя')\n",
    "plt.xlabel('Дата')\n",
    "plt.legend();"
   ]
  },
  {
   "cell_type": "markdown",
   "metadata": {},
   "source": [
    "В первые 5 дней видны значительные колебания. Изначально среднее количество заказов росло, но 4 числа была заметная просадка, которую группа А так и не смогла отыграть, Зато группа В вырвалась в явные лидеры на протяжении всего теста."
   ]
  },
  {
   "cell_type": "markdown",
   "metadata": {},
   "source": [
    "### График относительного изменения кумулятивного среднего количества заказов на посетителя группы B к группе A."
   ]
  },
  {
   "cell_type": "code",
   "execution_count": 29,
   "metadata": {},
   "outputs": [
    {
     "data": {
      "image/png": "[encoded data removed]",
      "text/plain": [
       "<Figure size 1080x360 with 1 Axes>"
      ]
     },
     "metadata": {
      "needs_background": "light"
     },
     "output_type": "display_data"
    }
   ],
   "source": [
    "plt.figure(figsize=(15,5))\n",
    "plt.plot(cummulativeAB['date'], (cummulativeAB['ordersB']/cummulativeAB['visitorsB'])/ \\\n",
    "         (cummulativeAB['ordersA']/cummulativeAB['visitorsA'])-1)\n",
    "\n",
    "plt.axhline(y=0, color='grey', linestyle = '--')\n",
    "plt.grid()\n",
    "plt.title('График относительного изменения кумулятивного среднего количества заказов на посетителя группы B к группе A')\n",
    "plt.xlabel('Дата')\n",
    "plt.ylabel('Относительное изменение В к А');"
   ]
  },
  {
   "cell_type": "markdown",
   "metadata": {},
   "source": [
    "Видно что после 5 августа, когда закончились резкие колбеания, группа В явно лидировала по кум.ср.количеству заказов"
   ]
  },
  {
   "cell_type": "markdown",
   "metadata": {},
   "source": [
    "### Точечный график количества заказов по пользователям."
   ]
  },
  {
   "cell_type": "code",
   "execution_count": 30,
   "metadata": {},
   "outputs": [
    {
     "data": {
      "image/png": "[encoded data removed]",
      "text/plain": [
       "<Figure size 1080x360 with 1 Axes>"
      ]
     },
     "metadata": {
      "needs_background": "light"
     },
     "output_type": "display_data"
    }
   ],
   "source": [
    "ordersByUsers = (\n",
    "    orders.groupby('visitorId', as_index=False)\n",
    "    .agg({'transactionId': 'nunique'})\n",
    ")\n",
    "\n",
    "ordersByUsers.columns = ['visitorId', 'orders']\n",
    "\n",
    "x_values = pd.Series(range(0,len(ordersByUsers)))\n",
    "plt.figure(figsize=(15,5))\n",
    "plt.scatter(x_values, ordersByUsers['orders']) \n",
    "plt.title('Точечный график количества заказов по пользователям')\n",
    "plt.ylabel('Количество заказов')\n",
    "plt.xlabel('Число пользователей');"
   ]
  },
  {
   "cell_type": "markdown",
   "metadata": {},
   "source": [
    "Из точечного графика видно: большинство пользователей совершило 1 и 2 заказа,гораздо реже прослеживаются точки на трех заказах"
   ]
  },
  {
   "cell_type": "markdown",
   "metadata": {},
   "source": [
    "### Перцентили количества заказов на пользователя."
   ]
  },
  {
   "cell_type": "code",
   "execution_count": 31,
   "metadata": {},
   "outputs": [
    {
     "name": "stdout",
     "output_type": "stream",
     "text": [
      "[1. 2.]\n"
     ]
    }
   ],
   "source": [
    "print(np.percentile(ordersByUsers['orders'], [95, 99])) "
   ]
  },
  {
   "cell_type": "markdown",
   "metadata": {},
   "source": [
    "Менее 1 % оформило по 4 заказа, и не больше 5 % от общей массы оформляли больше двух заказов."
   ]
  },
  {
   "cell_type": "markdown",
   "metadata": {},
   "source": [
    "### Точечный график стоимостей заказов."
   ]
  },
  {
   "cell_type": "code",
   "execution_count": 32,
   "metadata": {},
   "outputs": [
    {
     "data": {
      "image/png": "[encoded data removed]",
      "text/plain": [
       "<Figure size 1080x360 with 1 Axes>"
      ]
     },
     "metadata": {
      "needs_background": "light"
     },
     "output_type": "display_data"
    }
   ],
   "source": [
    "x_values = pd.Series(range(0,len(orders['revenue'])))\n",
    "plt.figure(figsize=(15,5))\n",
    "plt.scatter(x_values, orders['revenue']) \n",
    "plt.ylabel('Стоимость заказов')\n",
    "plt.xlabel('Число пользователей')\n",
    "plt.title('Точечный график стоимостей заказов');"
   ]
  },
  {
   "cell_type": "markdown",
   "metadata": {},
   "source": [
    "На графике видны характерные выбросы по стоимости заказа(есть даже заказ на сумму больше 1 млн.), что подтверждает первоначальную теорию. "
   ]
  },
  {
   "cell_type": "markdown",
   "metadata": {},
   "source": [
    "### Перцентили стоимости заказов."
   ]
  },
  {
   "cell_type": "code",
   "execution_count": 33,
   "metadata": {},
   "outputs": [
    {
     "name": "stdout",
     "output_type": "stream",
     "text": [
      "[26785. 53904.]\n"
     ]
    }
   ],
   "source": [
    "print(np.percentile(orders['revenue'], [95, 99]))"
   ]
  },
  {
   "cell_type": "markdown",
   "metadata": {},
   "source": [
    "99% заказов на сумму меньше 58 тыс.рублей и только 5 % свыше 28 тыс. рублей."
   ]
  },
  {
   "cell_type": "markdown",
   "metadata": {},
   "source": [
    "### Статистическая значимость различий в среднем количестве заказов на посетителя между группами по «сырым» данным."
   ]
  },
  {
   "cell_type": "markdown",
   "metadata": {},
   "source": [
    "Воспользуемся U-критерием Манна — Уитни\n",
    "Проверим гипотезу:\n",
    "* H0:Среднее количество заказов на посетителя групп A и B равно, статистически значимых отличий нет \n",
    "* H1:Среднее количество заказов на посетителя групп A и B различно, статистически значимые отличия есть\n",
    " \n",
    "Применим тест U-критерий Манна — Уитни\n",
    "\n",
    "α=5% критический уровень статистической значимости."
   ]
  },
  {
   "cell_type": "markdown",
   "metadata": {},
   "source": [
    "Начнём с подготовки данных."
   ]
  },
  {
   "cell_type": "code",
   "execution_count": 34,
   "metadata": {},
   "outputs": [],
   "source": [
    "visitorsADaily = visitors[visitors['group'] == 'A'][['date', 'visitors']]\n",
    "visitorsADaily.columns = ['date', 'visitorsPerDateA']\n",
    "\n",
    "visitorsACummulative = visitorsADaily.apply(\n",
    "    lambda x: visitorsADaily[visitorsADaily['date'] <= x['date']].agg(\n",
    "        {'date': 'max', 'visitorsPerDateA': 'sum'}\n",
    "    ),\n",
    "    axis=1,\n",
    ")\n",
    "visitorsACummulative.columns = ['date', 'visitorsCummulativeA']\n",
    "\n",
    "visitorsBDaily = visitors[visitors['group'] == 'B'][['date', 'visitors']]\n",
    "visitorsBDaily.columns = ['date', 'visitorsPerDateB']\n",
    "\n",
    "visitorsBCummulative = visitorsBDaily.apply(\n",
    "    lambda x: visitorsBDaily[visitorsBDaily['date'] <= x['date']].agg(\n",
    "        {'date': 'max', 'visitorsPerDateB': 'sum'}\n",
    "    ),\n",
    "    axis=1,\n",
    ")\n",
    "visitorsBCummulative.columns = ['date', 'visitorsCummulativeB']\n",
    "\n",
    "ordersADaily = (\n",
    "    orders[orders['group'] == 'A'][['date', 'transactionId', 'visitorId', 'revenue']]\n",
    "    .groupby('date', as_index=False)\n",
    "    .agg({'transactionId': pd.Series.nunique, 'revenue': 'sum'})\n",
    ")\n",
    "ordersADaily.columns = ['date', 'ordersPerDateA', 'revenuePerDateA']\n",
    "\n",
    "ordersACummulative = ordersADaily.apply(\n",
    "    lambda x: ordersADaily[ordersADaily['date'] <= x['date']].agg(\n",
    "        {'date': 'max', 'ordersPerDateA': 'sum', 'revenuePerDateA': 'sum'}\n",
    "    ),\n",
    "    axis=1,\n",
    ").sort_values(by=['date'])\n",
    "ordersACummulative.columns = [\n",
    "    'date',\n",
    "    'ordersCummulativeA',\n",
    "    'revenueCummulativeA',\n",
    "]\n",
    "\n",
    "ordersBDaily = (\n",
    "    orders[orders['group'] == 'B'][['date', 'transactionId', 'visitorId', 'revenue']]\n",
    "    .groupby('date', as_index=False)\n",
    "    .agg({'transactionId': pd.Series.nunique, 'revenue': 'sum'})\n",
    ")\n",
    "ordersBDaily.columns = ['date', 'ordersPerDateB', 'revenuePerDateB']\n",
    "\n",
    "ordersBCummulative = ordersBDaily.apply(\n",
    "    lambda x: ordersBDaily[ordersBDaily['date'] <= x['date']].agg(\n",
    "        {'date': 'max', 'ordersPerDateB': 'sum', 'revenuePerDateB': 'sum'}\n",
    "    ),\n",
    "    axis=1,\n",
    ").sort_values(by=['date'])\n",
    "ordersBCummulative.columns = [\n",
    "    'date',\n",
    "    'ordersCummulativeB',\n",
    "    'revenueCummulativeB',\n",
    "]\n",
    "\n",
    "data = (\n",
    "    ordersADaily.merge(\n",
    "        ordersBDaily, left_on='date', right_on='date', how='left'\n",
    "    )\n",
    "    .merge(ordersACummulative, left_on='date', right_on='date', how='left')\n",
    "    .merge(ordersBCummulative, left_on='date', right_on='date', how='left')\n",
    "    .merge(visitorsADaily, left_on='date', right_on='date', how='left')\n",
    "    .merge(visitorsBDaily, left_on='date', right_on='date', how='left')\n",
    "    .merge(visitorsACummulative, left_on='date', right_on='date', how='left')\n",
    "    .merge(visitorsBCummulative, left_on='date', right_on='date', how='left')\n",
    ")"
   ]
  },
  {
   "cell_type": "markdown",
   "metadata": {},
   "source": [
    "Посчитаем статистическую значимость различия в среднем количестве  заказов на посетителя между группами.\n",
    "Создадим переменные ordersByUsersA и ordersByUsersB со столбцами ['userId', 'orders']. В них для пользователей, которые заказывали хотя бы 1 раз, укажем число совершённых заказов. "
   ]
  },
  {
   "cell_type": "code",
   "execution_count": 35,
   "metadata": {},
   "outputs": [],
   "source": [
    "ordersByUsersA = (\n",
    "    orders[orders['group'] == 'A']\n",
    "    .groupby('visitorId', as_index=False)\n",
    "    .agg({'transactionId': pd.Series.nunique})\n",
    ")\n",
    "ordersByUsersA.columns = ['userId', 'orders']\n",
    "\n",
    "ordersByUsersB = (\n",
    "    orders[orders['group'] == 'B']\n",
    "    .groupby('visitorId', as_index=False)\n",
    "    .agg({'transactionId': pd.Series.nunique})\n",
    ")\n",
    "ordersByUsersB.columns = ['userId', 'orders'] "
   ]
  },
  {
   "cell_type": "markdown",
   "metadata": {},
   "source": [
    "Объявим переменные sampleA и sampleB, в которых пользователям из разных групп будет соответствовать количество заказов. Тем, кто ничего не заказал, будут соответствовать нули. Это нужно, чтобы подготовить выборки к проверке критерием Манна-Уитни."
   ]
  },
  {
   "cell_type": "markdown",
   "metadata": {},
   "source": [
    "Список индексов создали функцией np.arange(). Она работает так же, как функция range(), только создаёт массив индексов в формате np.array, который требуется в pd.Series."
   ]
  },
  {
   "cell_type": "code",
   "execution_count": 36,
   "metadata": {},
   "outputs": [],
   "source": [
    "sampleA = pd.concat([ordersByUsersA['orders'],pd.Series(0, index=np.arange(data['visitorsPerDateA'].sum() - len(ordersByUsersA['orders'])), name='orders')],axis=0)\n",
    "sampleB = pd.concat([ordersByUsersB['orders'],pd.Series(0, index=np.arange(data['visitorsPerDateB'].sum() - len(ordersByUsersB['orders'])), name='orders')],axis=0)"
   ]
  },
  {
   "cell_type": "markdown",
   "metadata": {},
   "source": [
    "Чтобы получить среднее число заказов на пользователя, поделим сумму заказов на число пользователей — найдём среднее в выборке sampleA методом mean(). Аналогично найдём среднее группы B: SampleB.mean().\n",
    "Выведем относительный прирост среднего числа заказов группы B: среднее число заказов группы B / среднее число заказов группы A - 1.  Округлим до трёх знаков после запятой."
   ]
  },
  {
   "cell_type": "code",
   "execution_count": 37,
   "metadata": {},
   "outputs": [
    {
     "name": "stdout",
     "output_type": "stream",
     "text": [
      "p-value: 0.011\n",
      "относительная разница между сравниваемыми величинами: 0.160\n"
     ]
    }
   ],
   "source": [
    "print(\"p-value: {0:.3f}\".format(stats.mannwhitneyu(sampleA, sampleB)[1]))\n",
    "print(\"относительная разница между сравниваемыми величинами: {0:.3f}\".format(sampleB.mean() / sampleA.mean() - 1))"
   ]
  },
  {
   "cell_type": "markdown",
   "metadata": {},
   "source": [
    "Вывод: По «сырым» данным различия в среднем числе заказов  на посетителя групп A и B есть. \n",
    "Первое число — p-value = 0.017 меньше 0.05. Значит, нулевую гипотезу о том, что статистически значимых различий в среднем числе заказов  на посетителя между группами нет,  отвергаем. Относительный выйгрыш группы B равен 13.8% — второе число в выводе."
   ]
  },
  {
   "cell_type": "markdown",
   "metadata": {},
   "source": [
    "### Статистическая значимость различий в среднем чеке заказа  между группами по «сырым» данным. "
   ]
  },
  {
   "cell_type": "markdown",
   "metadata": {},
   "source": [
    "Проверим гипотезу:\n",
    "\n",
    "* H0:Средние чеки групп A и B равны, статистически значимых отличий нет \n",
    "* H1:Средние чеки групп A и B различны, статистически значимые отличия есть\n",
    " \n",
    "α=5% критический уровень статистической значимости."
   ]
  },
  {
   "cell_type": "markdown",
   "metadata": {},
   "source": [
    "Чтобы рассчитать статистическую значимость различий в среднем чеке, передадим критерию mannwhitneyu() данные о выручке с заказов. \n",
    "А ещё найдём относительные различия в среднем чеке между группами:"
   ]
  },
  {
   "cell_type": "code",
   "execution_count": 38,
   "metadata": {},
   "outputs": [
    {
     "name": "stdout",
     "output_type": "stream",
     "text": [
      "p-value: 0.829\n",
      "относительная разница между сравниваемыми величинами: 0.287\n"
     ]
    }
   ],
   "source": [
    "print('p-value: {0:.3f}'.format(stats.mannwhitneyu(orders[orders['group']=='A']['revenue'], orders[orders['group']=='B']['revenue'])[1]))\n",
    "print('относительная разница между сравниваемыми величинами: {0:.3f}'.format(orders[orders['group']=='B']['revenue'].mean()/orders[orders['group']=='A']['revenue'].mean()-1)) "
   ]
  },
  {
   "cell_type": "markdown",
   "metadata": {},
   "source": [
    "P-value значительно больше 0.05. Значит, причин отвергать нулевую гипотезу и считать, что в среднем чеке есть различия, нет. Однако средний чек группы B значительно выше среднего чека группы A."
   ]
  },
  {
   "cell_type": "markdown",
   "metadata": {},
   "source": [
    "### Статистическая значимость различий в среднем количестве заказов на посетителя между группами по «очищенным» данным. "
   ]
  },
  {
   "cell_type": "markdown",
   "metadata": {},
   "source": [
    "* H0:Среднее количество заказов  на посетителя групп A и B равно, статистически значимых отличий нет \n",
    "* H1:Среднее количество заказов  на посетителя групп A и B различно, статистически значимые отличия есть\n",
    " \n",
    "α=5% критический уровень статистической значимости."
   ]
  },
  {
   "cell_type": "markdown",
   "metadata": {},
   "source": [
    "Найденные выше 95-й и 99-й перцентили средних чеков равны 28к и 58к . А 95-й и 99-й перцентили количества заказов на одного пользователя равны 2 и 4 заказа на пользователя.\n",
    "Примем за аномальных пользователей тех, кто совершил от 2 заказов или совершил заказ дороже 28к рублей.Сделаем срезы пользователей с числом заказов больше 2 — usersWithManyOrders и пользователей, совершивших заказы дороже 28 000 — usersWithExpensiveOrders. Объединим их в таблице abnormalUsers. \n",
    "Узнаем, сколько всего аномальных пользователей атрибутом shape."
   ]
  },
  {
   "cell_type": "code",
   "execution_count": 40,
   "metadata": {},
   "outputs": [
    {
     "name": "stdout",
     "output_type": "stream",
     "text": [
      "1099    148427295\n",
      "928     204675465\n",
      "33      249864742\n",
      "684     358944393\n",
      "648     382846391\n",
      "dtype: int64\n",
      "55\n"
     ]
    }
   ],
   "source": [
    "usersWithManyOrders = pd.concat(\n",
    "    [\n",
    "        ordersByUsersA[ordersByUsersA['orders'] > 2]['userId'],\n",
    "        ordersByUsersB[ordersByUsersB['orders'] > 2]['userId'],\n",
    "    ],\n",
    "    axis=0,\n",
    ")\n",
    "usersWithExpensiveOrders = orders[orders['revenue'] > 28000]['visitorId']\n",
    "abnormalUsers = (\n",
    "    pd.concat([usersWithManyOrders, usersWithExpensiveOrders], axis=0)\n",
    "    .drop_duplicates()\n",
    "    .sort_values()\n",
    ")\n",
    "print(abnormalUsers.head(5))\n",
    "print(abnormalUsers.shape[0]) "
   ]
  },
  {
   "cell_type": "markdown",
   "metadata": {},
   "source": [
    "Всего 86 аномальных пользователей. "
   ]
  },
  {
   "cell_type": "code",
   "execution_count": 41,
   "metadata": {},
   "outputs": [
    {
     "name": "stdout",
     "output_type": "stream",
     "text": [
      "Потери в относительном выражении после очистки данных составили:5.7%\n"
     ]
    }
   ],
   "source": [
    "print('Потери в относительном выражении после очистки данных составили:{0:.1f}%'.format(100*abnormalUsers.shape[0]/orders['visitorId'].nunique()))"
   ]
  },
  {
   "cell_type": "code",
   "execution_count": 42,
   "metadata": {},
   "outputs": [],
   "source": [
    "sampleAFiltered = pd.concat(\n",
    "    [\n",
    "        ordersByUsersA[\n",
    "            np.logical_not(ordersByUsersA['userId'].isin(abnormalUsers))\n",
    "        ]['orders'],\n",
    "        pd.Series(\n",
    "            0,\n",
    "            index=np.arange(\n",
    "                data['visitorsPerDateA'].sum() - len(ordersByUsersA['orders'])\n",
    "            ),\n",
    "            name='orders',\n",
    "        ),\n",
    "    ],\n",
    "    axis=0,\n",
    ")\n",
    "\n",
    "sampleBFiltered = pd.concat(\n",
    "    [\n",
    "        ordersByUsersB[\n",
    "            np.logical_not(ordersByUsersB['userId'].isin(abnormalUsers))\n",
    "        ]['orders'],\n",
    "        pd.Series(\n",
    "            0,\n",
    "            index=np.arange(\n",
    "                data['visitorsPerDateB'].sum() - len(ordersByUsersB['orders'])\n",
    "            ),\n",
    "            name='orders',\n",
    "        ),\n",
    "    ],\n",
    "    axis=0,\n",
    ") "
   ]
  },
  {
   "cell_type": "markdown",
   "metadata": {},
   "source": [
    "Применим статистический критерий Манна-Уитни к полученным выборкам:"
   ]
  },
  {
   "cell_type": "code",
   "execution_count": 43,
   "metadata": {},
   "outputs": [
    {
     "name": "stdout",
     "output_type": "stream",
     "text": [
      "p-value: 0.009\n",
      "относительная разница между сравниваемыми величинами: 0.189\n"
     ]
    }
   ],
   "source": [
    "print('p-value: {0:.3f}'.format(stats.mannwhitneyu(sampleAFiltered, sampleBFiltered)[1]))\n",
    "print('относительная разница между сравниваемыми величинами: {0:.3f}'.format(sampleBFiltered.mean()/sampleAFiltered.mean()-1)) "
   ]
  },
  {
   "cell_type": "markdown",
   "metadata": {},
   "source": [
    "Вывод: Результаты после очистки поменялись, но не значительно. Вывод остается тем же."
   ]
  },
  {
   "cell_type": "markdown",
   "metadata": {},
   "source": [
    "### Статистическая значимость различий в среднем чеке заказа между группами по «очищенным» данным. "
   ]
  },
  {
   "cell_type": "markdown",
   "metadata": {},
   "source": [
    "* H0:Средние чеки групп A и B равны, статистически значимых отличий нет \n",
    "* H1:Средние чеки групп A и B различны, статистически значимые отличия есть\n",
    " \n",
    "α=5% критический уровень статистической значимости."
   ]
  },
  {
   "cell_type": "code",
   "execution_count": 44,
   "metadata": {},
   "outputs": [
    {
     "name": "stdout",
     "output_type": "stream",
     "text": [
      "p-value: 0.762\n",
      "относительная разница между сравниваемыми величинами: -0.022\n"
     ]
    }
   ],
   "source": [
    "print(\n",
    "    'p-value: {0:.3f}'.format(\n",
    "        stats.mannwhitneyu(\n",
    "            orders[\n",
    "                np.logical_and(\n",
    "                    orders['group'] == 'A',\n",
    "                    np.logical_not(orders['visitorId'].isin(abnormalUsers)),\n",
    "                )\n",
    "            ]['revenue'],\n",
    "            orders[\n",
    "                np.logical_and(\n",
    "                    orders['group'] == 'B',\n",
    "                    np.logical_not(orders['visitorId'].isin(abnormalUsers)),\n",
    "                )\n",
    "            ]['revenue'],\n",
    "        )[1]\n",
    "    )\n",
    ")\n",
    "\n",
    "print(\n",
    "    \"относительная разница между сравниваемыми величинами: {0:.3f}\".format(\n",
    "        orders[\n",
    "            np.logical_and(\n",
    "                orders['group'] == 'B',\n",
    "                np.logical_not(orders['visitorId'].isin(abnormalUsers)),\n",
    "            )\n",
    "        ]['revenue'].mean()\n",
    "        / orders[\n",
    "            np.logical_and(\n",
    "                orders['group'] == 'A',\n",
    "                np.logical_not(orders['visitorId'].isin(abnormalUsers)),\n",
    "            )\n",
    "        ]['revenue'].mean()\n",
    "        - 1\n",
    "    )\n",
    ") "
   ]
  },
  {
   "cell_type": "markdown",
   "metadata": {},
   "source": [
    "P-value увеличился, но и разница между сегментами сократилась с 26% практически до 0%. Это говорит о том, что статистически значимых различий по этой метрике между группами нет, а наблюдаемая на неочищенных данных разница как мы и говорили ранее была связана с выбросами."
   ]
  },
  {
   "cell_type": "markdown",
   "metadata": {},
   "source": [
    "### ВЫВОД"
   ]
  },
  {
   "cell_type": "markdown",
   "metadata": {},
   "source": [
    "Анализ показал, что статистически значимых различий в среднем чеке между группами нет, и даже аномальные заказы не смогли повлиять на тестирование. Однако среднее количество заказов на посетителя на протяжении всего теста выше на 13 % у группы В, а после очистки данных на все 15. Это дает нам возможность остановить тест и зафиксировать победу группы В."
   ]
  }
 ],
 "metadata": {
  "ExecuteTimeLog": [
   {
    "duration": 5,
    "start_time": "2023-04-17T16:04:29.801Z"
   },
   {
    "duration": 1272,
    "start_time": "2023-04-17T16:16:09.186Z"
   },
   {
    "duration": 198,
    "start_time": "2023-04-17T16:16:10.460Z"
   },
   {
    "duration": 12,
    "start_time": "2023-04-17T16:16:23.580Z"
   },
   {
    "duration": 10,
    "start_time": "2023-04-17T16:17:16.113Z"
   },
   {
    "duration": 7,
    "start_time": "2023-04-17T16:17:29.775Z"
   },
   {
    "duration": 11,
    "start_time": "2023-04-17T16:19:39.163Z"
   },
   {
    "duration": 11,
    "start_time": "2023-04-17T16:19:49.600Z"
   },
   {
    "duration": 5,
    "start_time": "2023-04-17T16:22:33.714Z"
   },
   {
    "duration": 6,
    "start_time": "2023-04-17T16:23:00.221Z"
   },
   {
    "duration": 14,
    "start_time": "2023-04-17T16:25:28.471Z"
   },
   {
    "duration": 10,
    "start_time": "2023-04-17T16:27:33.920Z"
   },
   {
    "duration": 10,
    "start_time": "2023-04-17T16:27:36.825Z"
   },
   {
    "duration": 7,
    "start_time": "2023-04-17T16:28:07.078Z"
   },
   {
    "duration": 4,
    "start_time": "2023-04-17T16:28:33.743Z"
   },
   {
    "duration": 332,
    "start_time": "2023-04-17T16:29:34.867Z"
   },
   {
    "duration": 3,
    "start_time": "2023-04-17T16:29:48.920Z"
   },
   {
    "duration": 76,
    "start_time": "2023-04-17T16:29:49.315Z"
   },
   {
    "duration": 8,
    "start_time": "2023-04-17T16:29:49.871Z"
   },
   {
    "duration": 9,
    "start_time": "2023-04-17T16:29:50.143Z"
   },
   {
    "duration": 13,
    "start_time": "2023-04-17T16:29:50.567Z"
   },
   {
    "duration": 9,
    "start_time": "2023-04-17T16:29:50.725Z"
   },
   {
    "duration": 5,
    "start_time": "2023-04-17T16:29:50.883Z"
   },
   {
    "duration": 11,
    "start_time": "2023-04-17T16:29:51.253Z"
   },
   {
    "duration": 9,
    "start_time": "2023-04-17T16:29:51.453Z"
   },
   {
    "duration": 10,
    "start_time": "2023-04-17T16:29:51.647Z"
   },
   {
    "duration": 4,
    "start_time": "2023-04-17T16:29:51.873Z"
   },
   {
    "duration": 4,
    "start_time": "2023-04-17T16:29:52.319Z"
   },
   {
    "duration": 10,
    "start_time": "2023-04-17T16:33:21.331Z"
   },
   {
    "duration": 5,
    "start_time": "2023-04-17T16:33:21.931Z"
   },
   {
    "duration": 44,
    "start_time": "2023-04-17T16:33:26.416Z"
   },
   {
    "duration": 7,
    "start_time": "2023-04-17T17:01:05.721Z"
   },
   {
    "duration": 7,
    "start_time": "2023-04-17T17:01:15.525Z"
   },
   {
    "duration": 10,
    "start_time": "2023-04-17T17:01:18.229Z"
   },
   {
    "duration": 46,
    "start_time": "2023-04-17T17:03:20.238Z"
   },
   {
    "duration": 9,
    "start_time": "2023-04-17T17:04:00.942Z"
   },
   {
    "duration": 8,
    "start_time": "2023-04-17T17:04:04.133Z"
   },
   {
    "duration": 12,
    "start_time": "2023-04-17T17:04:13.238Z"
   },
   {
    "duration": 10,
    "start_time": "2023-04-17T17:04:20.449Z"
   },
   {
    "duration": 12,
    "start_time": "2023-04-17T17:04:29.912Z"
   },
   {
    "duration": 12,
    "start_time": "2023-04-17T17:12:08.100Z"
   },
   {
    "duration": 51,
    "start_time": "2023-04-17T17:14:33.176Z"
   },
   {
    "duration": 290,
    "start_time": "2023-04-17T17:21:50.507Z"
   },
   {
    "duration": 10,
    "start_time": "2023-04-17T17:24:17.314Z"
   },
   {
    "duration": 8,
    "start_time": "2023-04-17T17:24:27.806Z"
   },
   {
    "duration": 286,
    "start_time": "2023-04-17T17:24:34.106Z"
   },
   {
    "duration": 8,
    "start_time": "2023-04-17T17:24:37.277Z"
   },
   {
    "duration": 4,
    "start_time": "2023-04-17T17:24:48.681Z"
   },
   {
    "duration": 279,
    "start_time": "2023-04-17T17:32:05.977Z"
   },
   {
    "duration": 268,
    "start_time": "2023-04-17T17:32:16.381Z"
   },
   {
    "duration": 1066,
    "start_time": "2023-04-17T17:32:54.677Z"
   },
   {
    "duration": 76,
    "start_time": "2023-04-17T17:32:55.744Z"
   },
   {
    "duration": 14,
    "start_time": "2023-04-17T17:32:55.821Z"
   },
   {
    "duration": 13,
    "start_time": "2023-04-17T17:32:55.838Z"
   },
   {
    "duration": 11,
    "start_time": "2023-04-17T17:32:55.852Z"
   },
   {
    "duration": 11,
    "start_time": "2023-04-17T17:32:55.864Z"
   },
   {
    "duration": 6,
    "start_time": "2023-04-17T17:32:55.876Z"
   },
   {
    "duration": 11,
    "start_time": "2023-04-17T17:32:55.917Z"
   },
   {
    "duration": 12,
    "start_time": "2023-04-17T17:32:55.930Z"
   },
   {
    "duration": 8,
    "start_time": "2023-04-17T17:32:55.944Z"
   },
   {
    "duration": 5,
    "start_time": "2023-04-17T17:32:55.954Z"
   },
   {
    "duration": 5,
    "start_time": "2023-04-17T17:32:55.960Z"
   },
   {
    "duration": 5,
    "start_time": "2023-04-17T17:32:55.966Z"
   },
   {
    "duration": 51,
    "start_time": "2023-04-17T17:32:55.972Z"
   },
   {
    "duration": 12,
    "start_time": "2023-04-17T17:32:56.024Z"
   },
   {
    "duration": 10,
    "start_time": "2023-04-17T17:32:56.037Z"
   },
   {
    "duration": 384,
    "start_time": "2023-04-17T17:32:56.048Z"
   },
   {
    "duration": 0,
    "start_time": "2023-04-17T17:32:56.434Z"
   },
   {
    "duration": 281,
    "start_time": "2023-04-17T17:33:51.432Z"
   },
   {
    "duration": 275,
    "start_time": "2023-04-17T17:34:13.875Z"
   },
   {
    "duration": 4,
    "start_time": "2023-04-17T17:34:58.812Z"
   },
   {
    "duration": 284,
    "start_time": "2023-04-17T17:47:26.942Z"
   },
   {
    "duration": 201,
    "start_time": "2023-04-17T17:48:13.297Z"
   },
   {
    "duration": 197,
    "start_time": "2023-04-17T17:48:18.913Z"
   },
   {
    "duration": 214,
    "start_time": "2023-04-17T17:48:51.981Z"
   },
   {
    "duration": 45,
    "start_time": "2023-04-17T17:55:36.703Z"
   },
   {
    "duration": 3,
    "start_time": "2023-04-17T17:56:12.305Z"
   },
   {
    "duration": 205,
    "start_time": "2023-04-17T18:00:56.038Z"
   },
   {
    "duration": 6,
    "start_time": "2023-04-17T18:20:13.681Z"
   },
   {
    "duration": 6,
    "start_time": "2023-04-17T18:23:06.911Z"
   },
   {
    "duration": 203,
    "start_time": "2023-04-17T18:23:52.577Z"
   },
   {
    "duration": 340,
    "start_time": "2023-04-17T18:24:23.111Z"
   },
   {
    "duration": 275,
    "start_time": "2023-04-17T18:24:39.150Z"
   },
   {
    "duration": 383,
    "start_time": "2023-04-17T18:24:46.337Z"
   },
   {
    "duration": 217,
    "start_time": "2023-04-17T19:13:05.892Z"
   },
   {
    "duration": 689,
    "start_time": "2023-04-17T19:23:06.662Z"
   },
   {
    "duration": 5,
    "start_time": "2023-04-17T19:23:15.824Z"
   },
   {
    "duration": 2,
    "start_time": "2023-04-17T19:23:32.891Z"
   },
   {
    "duration": 75,
    "start_time": "2023-04-17T19:23:33.085Z"
   },
   {
    "duration": 8,
    "start_time": "2023-04-17T19:23:33.292Z"
   },
   {
    "duration": 9,
    "start_time": "2023-04-17T19:23:33.432Z"
   },
   {
    "duration": 11,
    "start_time": "2023-04-17T19:23:33.801Z"
   },
   {
    "duration": 9,
    "start_time": "2023-04-17T19:23:33.998Z"
   },
   {
    "duration": 5,
    "start_time": "2023-04-17T19:23:34.189Z"
   },
   {
    "duration": 11,
    "start_time": "2023-04-17T19:23:34.532Z"
   },
   {
    "duration": 10,
    "start_time": "2023-04-17T19:23:34.718Z"
   },
   {
    "duration": 9,
    "start_time": "2023-04-17T19:23:34.906Z"
   },
   {
    "duration": 5,
    "start_time": "2023-04-17T19:23:35.101Z"
   },
   {
    "duration": 4,
    "start_time": "2023-04-17T19:23:35.493Z"
   },
   {
    "duration": 5,
    "start_time": "2023-04-17T19:23:36.041Z"
   },
   {
    "duration": 9,
    "start_time": "2023-04-17T19:23:36.227Z"
   },
   {
    "duration": 10,
    "start_time": "2023-04-17T19:23:36.620Z"
   },
   {
    "duration": 10,
    "start_time": "2023-04-17T19:23:36.808Z"
   },
   {
    "duration": 285,
    "start_time": "2023-04-17T19:23:38.089Z"
   },
   {
    "duration": 4,
    "start_time": "2023-04-17T19:23:38.500Z"
   },
   {
    "duration": 243,
    "start_time": "2023-04-17T19:23:39.198Z"
   },
   {
    "duration": 195,
    "start_time": "2023-04-17T19:23:40.150Z"
   },
   {
    "duration": 6,
    "start_time": "2023-04-17T19:23:40.802Z"
   },
   {
    "duration": 300,
    "start_time": "2023-04-17T19:23:41.288Z"
   },
   {
    "duration": 5,
    "start_time": "2023-04-17T19:23:46.495Z"
   },
   {
    "duration": 6,
    "start_time": "2023-04-17T19:24:06.094Z"
   },
   {
    "duration": 2,
    "start_time": "2023-04-17T19:25:46.334Z"
   },
   {
    "duration": 77,
    "start_time": "2023-04-17T19:25:46.554Z"
   },
   {
    "duration": 8,
    "start_time": "2023-04-17T19:25:47.594Z"
   },
   {
    "duration": 10,
    "start_time": "2023-04-17T19:25:48.142Z"
   },
   {
    "duration": 12,
    "start_time": "2023-04-17T19:25:49.130Z"
   },
   {
    "duration": 11,
    "start_time": "2023-04-17T19:25:49.638Z"
   },
   {
    "duration": 5,
    "start_time": "2023-04-17T19:25:50.029Z"
   },
   {
    "duration": 11,
    "start_time": "2023-04-17T19:25:50.403Z"
   },
   {
    "duration": 9,
    "start_time": "2023-04-17T19:25:50.584Z"
   },
   {
    "duration": 10,
    "start_time": "2023-04-17T19:25:51.200Z"
   },
   {
    "duration": 5,
    "start_time": "2023-04-17T19:25:51.709Z"
   },
   {
    "duration": 4,
    "start_time": "2023-04-17T19:25:52.693Z"
   },
   {
    "duration": 5,
    "start_time": "2023-04-17T19:25:54.100Z"
   },
   {
    "duration": 10,
    "start_time": "2023-04-17T19:25:54.606Z"
   },
   {
    "duration": 11,
    "start_time": "2023-04-17T19:25:55.846Z"
   },
   {
    "duration": 10,
    "start_time": "2023-04-17T19:25:56.308Z"
   },
   {
    "duration": 279,
    "start_time": "2023-04-17T19:25:58.654Z"
   },
   {
    "duration": 4,
    "start_time": "2023-04-17T19:26:01.852Z"
   },
   {
    "duration": 194,
    "start_time": "2023-04-17T19:26:03.053Z"
   },
   {
    "duration": 201,
    "start_time": "2023-04-17T19:26:04.906Z"
   },
   {
    "duration": 6,
    "start_time": "2023-04-17T19:26:08.894Z"
   },
   {
    "duration": 175,
    "start_time": "2023-04-17T19:27:44.730Z"
   },
   {
    "duration": 218,
    "start_time": "2023-04-17T19:27:50.945Z"
   },
   {
    "duration": 285,
    "start_time": "2023-04-17T19:28:56.534Z"
   },
   {
    "duration": 12,
    "start_time": "2023-04-17T19:36:36.496Z"
   },
   {
    "duration": 11,
    "start_time": "2023-04-17T19:36:50.843Z"
   },
   {
    "duration": 13,
    "start_time": "2023-04-17T19:37:25.119Z"
   },
   {
    "duration": 11,
    "start_time": "2023-04-17T19:37:32.231Z"
   },
   {
    "duration": 15,
    "start_time": "2023-04-17T19:38:13.610Z"
   },
   {
    "duration": 11,
    "start_time": "2023-04-17T19:38:31.105Z"
   },
   {
    "duration": 113,
    "start_time": "2023-04-17T19:38:49.600Z"
   },
   {
    "duration": 182,
    "start_time": "2023-04-17T19:39:15.399Z"
   },
   {
    "duration": 211,
    "start_time": "2023-04-17T19:39:24.628Z"
   },
   {
    "duration": 122,
    "start_time": "2023-04-17T19:39:30.805Z"
   },
   {
    "duration": 4,
    "start_time": "2023-04-17T19:40:54.348Z"
   },
   {
    "duration": 5,
    "start_time": "2023-04-17T19:41:46.497Z"
   },
   {
    "duration": 8,
    "start_time": "2023-04-17T19:42:48.789Z"
   },
   {
    "duration": 9,
    "start_time": "2023-04-17T19:43:14.989Z"
   },
   {
    "duration": 112,
    "start_time": "2023-04-17T19:43:21.187Z"
   },
   {
    "duration": 232,
    "start_time": "2023-04-17T19:44:19.008Z"
   },
   {
    "duration": 246,
    "start_time": "2023-04-17T19:44:31.035Z"
   },
   {
    "duration": 269,
    "start_time": "2023-04-17T19:44:41.945Z"
   },
   {
    "duration": 242,
    "start_time": "2023-04-17T19:44:48.783Z"
   },
   {
    "duration": 129,
    "start_time": "2023-04-17T19:44:56.791Z"
   },
   {
    "duration": 126,
    "start_time": "2023-04-17T19:44:59.994Z"
   },
   {
    "duration": 3,
    "start_time": "2023-04-17T19:46:30.488Z"
   },
   {
    "duration": 13,
    "start_time": "2023-04-17T19:55:38.609Z"
   },
   {
    "duration": 148,
    "start_time": "2023-04-17T19:55:51.595Z"
   },
   {
    "duration": 9,
    "start_time": "2023-04-17T19:56:05.339Z"
   },
   {
    "duration": 143,
    "start_time": "2023-04-17T19:56:45.252Z"
   },
   {
    "duration": 8,
    "start_time": "2023-04-17T19:58:03.439Z"
   },
   {
    "duration": 98,
    "start_time": "2023-04-17T20:08:18.606Z"
   },
   {
    "duration": 12,
    "start_time": "2023-04-17T20:09:12.646Z"
   },
   {
    "duration": 94,
    "start_time": "2023-04-17T20:10:12.999Z"
   },
   {
    "duration": 216,
    "start_time": "2023-04-17T20:11:51.503Z"
   },
   {
    "duration": 132,
    "start_time": "2023-04-17T20:12:34.655Z"
   },
   {
    "duration": 6,
    "start_time": "2023-04-17T20:12:40.576Z"
   },
   {
    "duration": 6,
    "start_time": "2023-04-17T20:18:19.894Z"
   },
   {
    "duration": 14,
    "start_time": "2023-04-17T20:18:49.132Z"
   },
   {
    "duration": 10,
    "start_time": "2023-04-17T20:19:11.100Z"
   },
   {
    "duration": 21,
    "start_time": "2023-04-17T20:20:03.811Z"
   },
   {
    "duration": 10,
    "start_time": "2023-04-17T20:23:36.513Z"
   },
   {
    "duration": 712,
    "start_time": "2023-04-17T20:29:54.498Z"
   },
   {
    "duration": 130,
    "start_time": "2023-04-17T20:30:03.037Z"
   },
   {
    "duration": 6,
    "start_time": "2023-04-17T20:30:04.316Z"
   },
   {
    "duration": 21,
    "start_time": "2023-04-17T20:30:04.960Z"
   },
   {
    "duration": 10,
    "start_time": "2023-04-17T20:30:06.219Z"
   },
   {
    "duration": 13,
    "start_time": "2023-04-17T20:30:23.291Z"
   },
   {
    "duration": 13,
    "start_time": "2023-04-17T20:31:27.050Z"
   },
   {
    "duration": 8,
    "start_time": "2023-04-17T20:32:38.050Z"
   },
   {
    "duration": 21,
    "start_time": "2023-04-17T20:32:54.022Z"
   },
   {
    "duration": 705,
    "start_time": "2023-04-17T20:34:40.143Z"
   },
   {
    "duration": 15,
    "start_time": "2023-04-17T20:35:09.642Z"
   },
   {
    "duration": 289,
    "start_time": "2023-04-17T20:59:45.681Z"
   },
   {
    "duration": 20,
    "start_time": "2023-04-17T21:17:53.460Z"
   },
   {
    "duration": 19,
    "start_time": "2023-04-17T21:22:52.617Z"
   },
   {
    "duration": 20,
    "start_time": "2023-04-17T21:23:55.935Z"
   },
   {
    "duration": 9,
    "start_time": "2023-04-17T21:26:14.303Z"
   },
   {
    "duration": 76,
    "start_time": "2023-04-18T16:27:42.100Z"
   },
   {
    "duration": 111,
    "start_time": "2023-04-18T16:28:50.882Z"
   },
   {
    "duration": 1449,
    "start_time": "2023-04-18T16:30:10.355Z"
   },
   {
    "duration": 287,
    "start_time": "2023-04-18T16:30:11.806Z"
   },
   {
    "duration": 113,
    "start_time": "2023-04-18T16:30:12.565Z"
   },
   {
    "duration": 14,
    "start_time": "2023-04-18T16:30:21.798Z"
   },
   {
    "duration": 9,
    "start_time": "2023-04-18T16:32:53.386Z"
   },
   {
    "duration": 11,
    "start_time": "2023-04-18T16:33:35.937Z"
   },
   {
    "duration": 186,
    "start_time": "2023-04-18T16:46:13.106Z"
   },
   {
    "duration": 78,
    "start_time": "2023-04-18T16:50:53.730Z"
   },
   {
    "duration": 8,
    "start_time": "2023-04-18T16:51:00.068Z"
   },
   {
    "duration": 6,
    "start_time": "2023-04-18T16:53:29.115Z"
   },
   {
    "duration": 4,
    "start_time": "2023-04-18T16:53:34.604Z"
   },
   {
    "duration": 29,
    "start_time": "2023-04-18T16:56:09.034Z"
   },
   {
    "duration": 11,
    "start_time": "2023-04-18T16:57:04.509Z"
   },
   {
    "duration": 10,
    "start_time": "2023-04-18T16:57:12.206Z"
   },
   {
    "duration": 8,
    "start_time": "2023-04-18T16:57:58.610Z"
   },
   {
    "duration": 7,
    "start_time": "2023-04-18T16:58:17.792Z"
   },
   {
    "duration": 8,
    "start_time": "2023-04-18T16:58:29.209Z"
   },
   {
    "duration": 9,
    "start_time": "2023-04-18T16:58:52.291Z"
   },
   {
    "duration": 17,
    "start_time": "2023-04-18T16:59:22.261Z"
   },
   {
    "duration": 9,
    "start_time": "2023-04-18T16:59:50.695Z"
   },
   {
    "duration": 11,
    "start_time": "2023-04-18T17:00:07.027Z"
   },
   {
    "duration": 20,
    "start_time": "2023-04-18T17:00:59.667Z"
   },
   {
    "duration": 19,
    "start_time": "2023-04-18T17:03:31.461Z"
   },
   {
    "duration": 5,
    "start_time": "2023-04-18T17:03:36.889Z"
   },
   {
    "duration": 17,
    "start_time": "2023-04-18T17:15:23.777Z"
   },
   {
    "duration": 9,
    "start_time": "2023-04-18T17:15:36.683Z"
   },
   {
    "duration": 13,
    "start_time": "2023-04-18T17:16:52.754Z"
   },
   {
    "duration": 196,
    "start_time": "2023-04-18T17:18:14.188Z"
   },
   {
    "duration": 3,
    "start_time": "2023-04-18T17:18:29.627Z"
   },
   {
    "duration": 19,
    "start_time": "2023-04-18T17:22:08.799Z"
   },
   {
    "duration": 8,
    "start_time": "2023-04-18T17:23:24.066Z"
   },
   {
    "duration": 8,
    "start_time": "2023-04-18T17:24:03.255Z"
   },
   {
    "duration": 22,
    "start_time": "2023-04-18T17:24:24.453Z"
   },
   {
    "duration": 5,
    "start_time": "2023-04-18T17:24:42.915Z"
   },
   {
    "duration": 8,
    "start_time": "2023-04-18T17:26:45.719Z"
   },
   {
    "duration": 47,
    "start_time": "2023-04-18T18:00:50.412Z"
   },
   {
    "duration": 39,
    "start_time": "2023-04-18T18:01:20.011Z"
   },
   {
    "duration": 7,
    "start_time": "2023-04-18T18:01:33.607Z"
   },
   {
    "duration": 1972,
    "start_time": "2023-04-18T18:01:35.420Z"
   },
   {
    "duration": 25,
    "start_time": "2023-04-18T18:01:53.732Z"
   },
   {
    "duration": 12,
    "start_time": "2023-04-18T18:03:35.415Z"
   },
   {
    "duration": 17,
    "start_time": "2023-04-18T18:03:43.227Z"
   },
   {
    "duration": 15,
    "start_time": "2023-04-18T18:06:29.414Z"
   },
   {
    "duration": 13,
    "start_time": "2023-04-18T18:06:33.206Z"
   },
   {
    "duration": 13,
    "start_time": "2023-04-18T18:06:49.405Z"
   },
   {
    "duration": 17,
    "start_time": "2023-04-18T18:07:32.139Z"
   },
   {
    "duration": 1211,
    "start_time": "2023-04-18T18:07:37.803Z"
   },
   {
    "duration": 108,
    "start_time": "2023-04-18T18:07:39.016Z"
   },
   {
    "duration": 18,
    "start_time": "2023-04-18T18:07:39.125Z"
   },
   {
    "duration": 65,
    "start_time": "2023-04-18T18:07:39.144Z"
   },
   {
    "duration": 31,
    "start_time": "2023-04-18T18:07:39.212Z"
   },
   {
    "duration": 83,
    "start_time": "2023-04-18T18:07:39.245Z"
   },
   {
    "duration": 76,
    "start_time": "2023-04-18T18:07:39.330Z"
   },
   {
    "duration": 47,
    "start_time": "2023-04-18T18:07:39.407Z"
   },
   {
    "duration": 53,
    "start_time": "2023-04-18T18:07:39.456Z"
   },
   {
    "duration": 69,
    "start_time": "2023-04-18T18:07:39.511Z"
   },
   {
    "duration": 33,
    "start_time": "2023-04-18T18:07:39.582Z"
   },
   {
    "duration": 12,
    "start_time": "2023-04-18T18:07:39.617Z"
   },
   {
    "duration": 70,
    "start_time": "2023-04-18T18:07:39.630Z"
   },
   {
    "duration": 14,
    "start_time": "2023-04-18T18:07:39.703Z"
   },
   {
    "duration": 27,
    "start_time": "2023-04-18T18:07:39.719Z"
   },
   {
    "duration": 63,
    "start_time": "2023-04-18T18:07:39.747Z"
   },
   {
    "duration": 77,
    "start_time": "2023-04-18T18:07:39.812Z"
   },
   {
    "duration": 14,
    "start_time": "2023-04-18T18:07:39.891Z"
   },
   {
    "duration": 204,
    "start_time": "2023-04-18T18:07:39.907Z"
   },
   {
    "duration": 0,
    "start_time": "2023-04-18T18:07:40.113Z"
   },
   {
    "duration": 0,
    "start_time": "2023-04-18T18:07:40.114Z"
   },
   {
    "duration": 0,
    "start_time": "2023-04-18T18:07:40.116Z"
   },
   {
    "duration": 0,
    "start_time": "2023-04-18T18:07:40.117Z"
   },
   {
    "duration": 0,
    "start_time": "2023-04-18T18:07:40.118Z"
   },
   {
    "duration": 0,
    "start_time": "2023-04-18T18:07:40.119Z"
   },
   {
    "duration": 0,
    "start_time": "2023-04-18T18:07:40.120Z"
   },
   {
    "duration": 0,
    "start_time": "2023-04-18T18:07:40.121Z"
   },
   {
    "duration": 0,
    "start_time": "2023-04-18T18:07:40.139Z"
   },
   {
    "duration": 0,
    "start_time": "2023-04-18T18:07:40.140Z"
   },
   {
    "duration": 0,
    "start_time": "2023-04-18T18:07:40.141Z"
   },
   {
    "duration": 0,
    "start_time": "2023-04-18T18:07:40.141Z"
   },
   {
    "duration": 0,
    "start_time": "2023-04-18T18:07:40.142Z"
   },
   {
    "duration": 0,
    "start_time": "2023-04-18T18:07:40.143Z"
   },
   {
    "duration": 0,
    "start_time": "2023-04-18T18:07:40.146Z"
   },
   {
    "duration": 0,
    "start_time": "2023-04-18T18:07:40.147Z"
   },
   {
    "duration": 0,
    "start_time": "2023-04-18T18:07:40.148Z"
   },
   {
    "duration": 0,
    "start_time": "2023-04-18T18:07:40.149Z"
   },
   {
    "duration": 0,
    "start_time": "2023-04-18T18:07:40.149Z"
   },
   {
    "duration": 0,
    "start_time": "2023-04-18T18:07:40.152Z"
   },
   {
    "duration": 0,
    "start_time": "2023-04-18T18:07:40.153Z"
   },
   {
    "duration": 0,
    "start_time": "2023-04-18T18:07:40.154Z"
   },
   {
    "duration": 0,
    "start_time": "2023-04-18T18:07:40.155Z"
   },
   {
    "duration": 0,
    "start_time": "2023-04-18T18:07:40.156Z"
   },
   {
    "duration": 23,
    "start_time": "2023-04-18T18:08:35.033Z"
   },
   {
    "duration": 3,
    "start_time": "2023-04-18T18:08:45.806Z"
   },
   {
    "duration": 105,
    "start_time": "2023-04-18T18:08:47.503Z"
   },
   {
    "duration": 19,
    "start_time": "2023-04-18T18:08:48.427Z"
   },
   {
    "duration": 12,
    "start_time": "2023-04-18T18:08:49.913Z"
   },
   {
    "duration": 15,
    "start_time": "2023-04-18T18:08:50.902Z"
   },
   {
    "duration": 21,
    "start_time": "2023-04-18T18:08:55.044Z"
   },
   {
    "duration": 43,
    "start_time": "2023-04-18T18:08:55.067Z"
   },
   {
    "duration": 45,
    "start_time": "2023-04-18T18:08:55.112Z"
   },
   {
    "duration": 45,
    "start_time": "2023-04-18T18:08:55.160Z"
   },
   {
    "duration": 21,
    "start_time": "2023-04-18T18:08:55.206Z"
   },
   {
    "duration": 89,
    "start_time": "2023-04-18T18:08:55.229Z"
   },
   {
    "duration": 16,
    "start_time": "2023-04-18T18:08:56.086Z"
   },
   {
    "duration": 6,
    "start_time": "2023-04-18T18:08:57.624Z"
   },
   {
    "duration": 9,
    "start_time": "2023-04-18T18:08:58.200Z"
   },
   {
    "duration": 11,
    "start_time": "2023-04-18T18:08:59.419Z"
   },
   {
    "duration": 12,
    "start_time": "2023-04-18T18:09:00.008Z"
   },
   {
    "duration": 5,
    "start_time": "2023-04-18T18:09:05.204Z"
   },
   {
    "duration": 4,
    "start_time": "2023-04-18T18:09:05.822Z"
   },
   {
    "duration": 12,
    "start_time": "2023-04-18T18:09:06.297Z"
   },
   {
    "duration": 7,
    "start_time": "2023-04-18T18:09:23.309Z"
   },
   {
    "duration": 10,
    "start_time": "2023-04-18T18:09:31.405Z"
   },
   {
    "duration": 16,
    "start_time": "2023-04-18T18:09:34.015Z"
   },
   {
    "duration": 350,
    "start_time": "2023-04-18T18:09:36.906Z"
   },
   {
    "duration": 16,
    "start_time": "2023-04-18T18:09:41.662Z"
   },
   {
    "duration": 9,
    "start_time": "2023-04-18T18:09:45.380Z"
   },
   {
    "duration": 19,
    "start_time": "2023-04-18T18:09:54.783Z"
   },
   {
    "duration": 388,
    "start_time": "2023-04-18T18:10:03.317Z"
   },
   {
    "duration": 279,
    "start_time": "2023-04-18T18:10:17.127Z"
   },
   {
    "duration": 262,
    "start_time": "2023-04-18T18:10:37.807Z"
   },
   {
    "duration": 6,
    "start_time": "2023-04-18T18:10:44.618Z"
   },
   {
    "duration": 355,
    "start_time": "2023-04-18T18:10:45.115Z"
   },
   {
    "duration": 316,
    "start_time": "2023-04-18T18:10:48.733Z"
   },
   {
    "duration": 294,
    "start_time": "2023-04-18T18:14:22.187Z"
   },
   {
    "duration": 106,
    "start_time": "2023-04-18T18:16:17.514Z"
   },
   {
    "duration": 314,
    "start_time": "2023-04-18T18:17:29.211Z"
   },
   {
    "duration": 182,
    "start_time": "2023-04-18T18:18:37.771Z"
   },
   {
    "duration": 294,
    "start_time": "2023-04-18T18:18:45.009Z"
   },
   {
    "duration": 182,
    "start_time": "2023-04-18T18:18:51.912Z"
   },
   {
    "duration": 203,
    "start_time": "2023-04-18T18:19:29.281Z"
   },
   {
    "duration": 137,
    "start_time": "2023-04-18T18:19:57.976Z"
   },
   {
    "duration": 180,
    "start_time": "2023-04-18T18:21:33.152Z"
   },
   {
    "duration": 15,
    "start_time": "2023-04-18T19:03:43.659Z"
   },
   {
    "duration": 4,
    "start_time": "2023-04-18T19:03:52.318Z"
   },
   {
    "duration": 111,
    "start_time": "2023-04-18T19:03:53.031Z"
   },
   {
    "duration": 7,
    "start_time": "2023-04-18T19:03:53.395Z"
   },
   {
    "duration": 19,
    "start_time": "2023-04-18T19:03:53.930Z"
   },
   {
    "duration": 11,
    "start_time": "2023-04-18T19:03:54.314Z"
   },
   {
    "duration": 9,
    "start_time": "2023-04-18T19:03:54.503Z"
   },
   {
    "duration": 6,
    "start_time": "2023-04-18T19:03:54.719Z"
   },
   {
    "duration": 11,
    "start_time": "2023-04-18T19:03:55.118Z"
   },
   {
    "duration": 12,
    "start_time": "2023-04-18T19:03:55.314Z"
   },
   {
    "duration": 12,
    "start_time": "2023-04-18T19:03:55.476Z"
   },
   {
    "duration": 16,
    "start_time": "2023-04-18T19:03:56.055Z"
   },
   {
    "duration": 4,
    "start_time": "2023-04-18T19:03:56.702Z"
   },
   {
    "duration": 8,
    "start_time": "2023-04-18T19:03:58.162Z"
   },
   {
    "duration": 10,
    "start_time": "2023-04-18T19:03:58.605Z"
   },
   {
    "duration": 22,
    "start_time": "2023-04-18T19:03:58.967Z"
   },
   {
    "duration": 18,
    "start_time": "2023-04-18T19:03:59.160Z"
   },
   {
    "duration": 5,
    "start_time": "2023-04-18T19:04:00.700Z"
   },
   {
    "duration": 4,
    "start_time": "2023-04-18T19:04:00.908Z"
   },
   {
    "duration": 8,
    "start_time": "2023-04-18T19:04:01.122Z"
   },
   {
    "duration": 19,
    "start_time": "2023-04-18T19:04:01.731Z"
   },
   {
    "duration": 13,
    "start_time": "2023-04-18T19:04:02.506Z"
   },
   {
    "duration": 337,
    "start_time": "2023-04-18T19:04:03.110Z"
   },
   {
    "duration": 5,
    "start_time": "2023-04-18T19:04:03.816Z"
   },
   {
    "duration": 253,
    "start_time": "2023-04-18T19:04:04.524Z"
   },
   {
    "duration": 272,
    "start_time": "2023-04-18T19:04:06.906Z"
   },
   {
    "duration": 12,
    "start_time": "2023-04-18T19:04:08.578Z"
   },
   {
    "duration": 396,
    "start_time": "2023-04-18T19:04:08.833Z"
   },
   {
    "duration": 304,
    "start_time": "2023-04-18T19:04:12.911Z"
   },
   {
    "duration": 338,
    "start_time": "2023-04-18T19:04:14.061Z"
   },
   {
    "duration": 221,
    "start_time": "2023-04-18T19:04:14.937Z"
   },
   {
    "duration": 5,
    "start_time": "2023-04-18T19:04:16.515Z"
   },
   {
    "duration": 183,
    "start_time": "2023-04-18T19:04:18.364Z"
   },
   {
    "duration": 4,
    "start_time": "2023-04-18T19:04:21.803Z"
   },
   {
    "duration": 316,
    "start_time": "2023-04-18T19:04:23.559Z"
   },
   {
    "duration": 138,
    "start_time": "2023-04-18T19:04:25.728Z"
   },
   {
    "duration": 6,
    "start_time": "2023-04-18T19:04:26.806Z"
   },
   {
    "duration": 45,
    "start_time": "2023-04-18T19:04:31.457Z"
   },
   {
    "duration": 9,
    "start_time": "2023-04-18T19:04:48.633Z"
   },
   {
    "duration": 59,
    "start_time": "2023-04-18T19:06:07.320Z"
   },
   {
    "duration": 58,
    "start_time": "2023-04-18T19:06:12.234Z"
   },
   {
    "duration": 59,
    "start_time": "2023-04-18T19:06:23.418Z"
   },
   {
    "duration": 41,
    "start_time": "2023-04-18T19:06:45.056Z"
   },
   {
    "duration": 21,
    "start_time": "2023-04-18T19:06:52.614Z"
   },
   {
    "duration": 5,
    "start_time": "2023-04-18T19:12:18.955Z"
   },
   {
    "duration": 16,
    "start_time": "2023-04-18T19:13:39.824Z"
   },
   {
    "duration": 13,
    "start_time": "2023-04-18T19:13:53.160Z"
   },
   {
    "duration": 129,
    "start_time": "2023-04-18T19:15:37.672Z"
   },
   {
    "duration": 9,
    "start_time": "2023-04-18T19:15:44.801Z"
   },
   {
    "duration": 185,
    "start_time": "2023-04-18T19:16:29.634Z"
   },
   {
    "duration": 10,
    "start_time": "2023-04-18T19:16:32.765Z"
   },
   {
    "duration": 10,
    "start_time": "2023-04-18T19:29:57.902Z"
   },
   {
    "duration": 10,
    "start_time": "2023-04-18T19:30:58.363Z"
   },
   {
    "duration": 10,
    "start_time": "2023-04-18T19:31:27.957Z"
   },
   {
    "duration": 15,
    "start_time": "2023-04-18T19:31:52.513Z"
   },
   {
    "duration": 4,
    "start_time": "2023-04-18T19:32:56.819Z"
   },
   {
    "duration": 11,
    "start_time": "2023-04-18T19:33:27.661Z"
   },
   {
    "duration": 98,
    "start_time": "2023-04-18T19:35:40.023Z"
   },
   {
    "duration": 4,
    "start_time": "2023-04-18T19:35:52.215Z"
   },
   {
    "duration": 11,
    "start_time": "2023-04-18T19:36:35.654Z"
   },
   {
    "duration": 10,
    "start_time": "2023-04-18T19:36:43.655Z"
   },
   {
    "duration": 1073,
    "start_time": "2023-04-18T19:36:59.364Z"
   },
   {
    "duration": 91,
    "start_time": "2023-04-18T19:37:00.440Z"
   },
   {
    "duration": 29,
    "start_time": "2023-04-18T19:37:00.533Z"
   },
   {
    "duration": 52,
    "start_time": "2023-04-18T19:37:00.566Z"
   },
   {
    "duration": 99,
    "start_time": "2023-04-18T19:37:00.620Z"
   },
   {
    "duration": 84,
    "start_time": "2023-04-18T19:37:00.720Z"
   },
   {
    "duration": 66,
    "start_time": "2023-04-18T19:37:00.806Z"
   },
   {
    "duration": 18,
    "start_time": "2023-04-18T19:37:00.875Z"
   },
   {
    "duration": 28,
    "start_time": "2023-04-18T19:37:00.895Z"
   },
   {
    "duration": 73,
    "start_time": "2023-04-18T19:37:00.925Z"
   },
   {
    "duration": 41,
    "start_time": "2023-04-18T19:37:01.000Z"
   },
   {
    "duration": 63,
    "start_time": "2023-04-18T19:37:01.044Z"
   },
   {
    "duration": 69,
    "start_time": "2023-04-18T19:37:01.108Z"
   },
   {
    "duration": 49,
    "start_time": "2023-04-18T19:37:01.179Z"
   },
   {
    "duration": 78,
    "start_time": "2023-04-18T19:37:01.229Z"
   },
   {
    "duration": 71,
    "start_time": "2023-04-18T19:37:01.309Z"
   },
   {
    "duration": 56,
    "start_time": "2023-04-18T19:37:01.381Z"
   },
   {
    "duration": 77,
    "start_time": "2023-04-18T19:37:01.439Z"
   },
   {
    "duration": 55,
    "start_time": "2023-04-18T19:37:01.517Z"
   },
   {
    "duration": 36,
    "start_time": "2023-04-18T19:37:01.574Z"
   },
   {
    "duration": 158,
    "start_time": "2023-04-18T19:37:01.611Z"
   },
   {
    "duration": 335,
    "start_time": "2023-04-18T19:37:01.772Z"
   },
   {
    "duration": 4,
    "start_time": "2023-04-18T19:37:02.108Z"
   },
   {
    "duration": 384,
    "start_time": "2023-04-18T19:37:02.114Z"
   },
   {
    "duration": 249,
    "start_time": "2023-04-18T19:37:02.499Z"
   },
   {
    "duration": 15,
    "start_time": "2023-04-18T19:37:02.750Z"
   },
   {
    "duration": 309,
    "start_time": "2023-04-18T19:37:02.767Z"
   },
   {
    "duration": 229,
    "start_time": "2023-04-18T19:37:03.080Z"
   },
   {
    "duration": 331,
    "start_time": "2023-04-18T19:37:03.310Z"
   },
   {
    "duration": 169,
    "start_time": "2023-04-18T19:37:03.642Z"
   },
   {
    "duration": 4,
    "start_time": "2023-04-18T19:37:03.812Z"
   },
   {
    "duration": 218,
    "start_time": "2023-04-18T19:37:03.818Z"
   },
   {
    "duration": 8,
    "start_time": "2023-04-18T19:37:04.038Z"
   },
   {
    "duration": 228,
    "start_time": "2023-04-18T19:37:04.059Z"
   },
   {
    "duration": 137,
    "start_time": "2023-04-18T19:37:04.289Z"
   },
   {
    "duration": 20,
    "start_time": "2023-04-18T19:37:04.427Z"
   },
   {
    "duration": 45,
    "start_time": "2023-04-18T19:37:04.455Z"
   },
   {
    "duration": 10,
    "start_time": "2023-04-18T19:37:04.501Z"
   },
   {
    "duration": 12,
    "start_time": "2023-04-18T19:37:04.513Z"
   },
   {
    "duration": 24,
    "start_time": "2023-04-18T19:37:04.527Z"
   },
   {
    "duration": 30,
    "start_time": "2023-04-18T19:37:04.552Z"
   },
   {
    "duration": 7,
    "start_time": "2023-04-18T19:37:04.583Z"
   },
   {
    "duration": 28,
    "start_time": "2023-04-18T19:37:04.591Z"
   },
   {
    "duration": 12,
    "start_time": "2023-04-18T19:37:04.621Z"
   },
   {
    "duration": 1069,
    "start_time": "2023-04-19T22:01:45.307Z"
   },
   {
    "duration": 85,
    "start_time": "2023-04-19T22:01:46.378Z"
   },
   {
    "duration": 15,
    "start_time": "2023-04-19T22:01:46.464Z"
   },
   {
    "duration": 32,
    "start_time": "2023-04-19T22:01:46.482Z"
   },
   {
    "duration": 19,
    "start_time": "2023-04-19T22:01:46.516Z"
   },
   {
    "duration": 10,
    "start_time": "2023-04-19T22:01:46.537Z"
   },
   {
    "duration": 17,
    "start_time": "2023-04-19T22:01:46.548Z"
   },
   {
    "duration": 12,
    "start_time": "2023-04-19T22:01:46.566Z"
   },
   {
    "duration": 11,
    "start_time": "2023-04-19T22:01:46.580Z"
   },
   {
    "duration": 10,
    "start_time": "2023-04-19T22:01:46.593Z"
   },
   {
    "duration": 16,
    "start_time": "2023-04-19T22:01:46.604Z"
   },
   {
    "duration": 6,
    "start_time": "2023-04-19T22:01:46.622Z"
   },
   {
    "duration": 7,
    "start_time": "2023-04-19T22:01:46.629Z"
   },
   {
    "duration": 10,
    "start_time": "2023-04-19T22:01:46.661Z"
   },
   {
    "duration": 12,
    "start_time": "2023-04-19T22:01:46.672Z"
   },
   {
    "duration": 12,
    "start_time": "2023-04-19T22:01:46.685Z"
   },
   {
    "duration": 9,
    "start_time": "2023-04-19T22:01:46.698Z"
   },
   {
    "duration": 9,
    "start_time": "2023-04-19T22:01:46.708Z"
   },
   {
    "duration": 9,
    "start_time": "2023-04-19T22:01:46.718Z"
   },
   {
    "duration": 31,
    "start_time": "2023-04-19T22:01:46.728Z"
   },
   {
    "duration": 124,
    "start_time": "2023-04-19T22:01:46.760Z"
   },
   {
    "duration": 291,
    "start_time": "2023-04-19T22:01:46.886Z"
   },
   {
    "duration": 4,
    "start_time": "2023-04-19T22:01:47.179Z"
   },
   {
    "duration": 293,
    "start_time": "2023-04-19T22:01:47.184Z"
   },
   {
    "duration": 238,
    "start_time": "2023-04-19T22:01:47.478Z"
   },
   {
    "duration": 7,
    "start_time": "2023-04-19T22:01:47.718Z"
   },
   {
    "duration": 351,
    "start_time": "2023-04-19T22:01:47.726Z"
   },
   {
    "duration": 258,
    "start_time": "2023-04-19T22:01:48.081Z"
   },
   {
    "duration": 325,
    "start_time": "2023-04-19T22:01:48.342Z"
   },
   {
    "duration": 198,
    "start_time": "2023-04-19T22:01:48.670Z"
   },
   {
    "duration": 6,
    "start_time": "2023-04-19T22:01:48.870Z"
   },
   {
    "duration": 212,
    "start_time": "2023-04-19T22:01:48.878Z"
   },
   {
    "duration": 5,
    "start_time": "2023-04-19T22:01:49.092Z"
   },
   {
    "duration": 265,
    "start_time": "2023-04-19T22:01:49.099Z"
   },
   {
    "duration": 157,
    "start_time": "2023-04-19T22:01:49.365Z"
   },
   {
    "duration": 7,
    "start_time": "2023-04-19T22:01:49.523Z"
   },
   {
    "duration": 39,
    "start_time": "2023-04-19T22:01:49.532Z"
   },
   {
    "duration": 10,
    "start_time": "2023-04-19T22:01:49.573Z"
   },
   {
    "duration": 14,
    "start_time": "2023-04-19T22:01:49.585Z"
   },
   {
    "duration": 14,
    "start_time": "2023-04-19T22:01:49.601Z"
   },
   {
    "duration": 6,
    "start_time": "2023-04-19T22:01:49.618Z"
   },
   {
    "duration": 37,
    "start_time": "2023-04-19T22:01:49.626Z"
   },
   {
    "duration": 28,
    "start_time": "2023-04-19T22:01:49.665Z"
   },
   {
    "duration": 15,
    "start_time": "2023-04-19T22:01:49.695Z"
   }
  ],
  "kernelspec": {
   "display_name": "Python 3 (ipykernel)",
   "language": "python",
   "name": "python3"
  },
  "language_info": {
   "codemirror_mode": {
    "name": "ipython",
    "version": 3
   },
   "file_extension": ".py",
   "mimetype": "text/x-python",
   "name": "python",
   "nbconvert_exporter": "python",
   "pygments_lexer": "ipython3",
   "version": "3.9.5"
  },
  "toc": {
   "base_numbering": 1,
   "nav_menu": {},
   "number_sections": true,
   "sideBar": true,
   "skip_h1_title": true,
   "title_cell": "Table of Contents",
   "title_sidebar": "Contents",
   "toc_cell": false,
   "toc_position": {
    "height": "calc(100% - 180px)",
    "left": "10px",
    "top": "150px",
    "width": "294.237px"
   },
   "toc_section_display": true,
   "toc_window_display": true
  }
 },
 "nbformat": 4,
 "nbformat_minor": 2
}
